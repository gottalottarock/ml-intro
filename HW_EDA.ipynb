{
 "cells": [
  {
   "cell_type": "markdown",
   "metadata": {},
   "source": [
    "## Загрузка библиотек"
   ]
  },
  {
   "cell_type": "code",
   "execution_count": 1,
   "metadata": {},
   "outputs": [],
   "source": [
    "%load_ext lab_black"
   ]
  },
  {
   "cell_type": "code",
   "execution_count": 2,
   "metadata": {},
   "outputs": [],
   "source": [
    "import pandas as pd\n",
    "import seaborn as sns\n",
    "import matplotlib.pyplot as plt\n",
    "from sklearn.preprocessing import LabelEncoder\n",
    "import numpy as np"
   ]
  },
  {
   "cell_type": "code",
   "execution_count": 3,
   "metadata": {},
   "outputs": [],
   "source": [
    "plt.rcParams[\"figure.figsize\"] = [20, 10]"
   ]
  },
  {
   "cell_type": "code",
   "execution_count": 4,
   "metadata": {},
   "outputs": [],
   "source": [
    "sns.set()"
   ]
  },
  {
   "cell_type": "markdown",
   "metadata": {},
   "source": [
    "## Загрузка данных"
   ]
  },
  {
   "cell_type": "markdown",
   "metadata": {},
   "source": [
    "### Задание 1 (0.5 балла)\n",
    "\n",
    "Для начала работы нам необходимо научиться читать набор данных. В данном домашнем задании мы поработаем с двумя наборами данных.\n",
    "\n",
    "__covid.csv__ ([источник](https://www.kaggle.com/gpreda/covid-world-vaccination-progress)) - статистика по вакцинированию от COVID19 по разным странам. Для данного датасета нет конкретной предсказательной переменной.\n",
    "\n",
    "__hr.csv__ ([источник](https://www.kaggle.com/arashnic/hr-analytics-job-change-of-data-scientists)) - набор данных большего размера. Он содержит статистику по людям, проходящим курсы по Big Data & ML. _Target_ - 1 или 0, сменил ли человек работу после прохождения курсов - или нет.\n",
    "\n",
    "Реализуйте методы `read_covid_dataset` и `read_hr_dataset`. Каждый из них принимает на вход путь к набору данных и возвращает выборку `X` и соответствующие метки `y`. В случае _covid_ датасета `y` возвращается как `None`. "
   ]
  },
  {
   "cell_type": "code",
   "execution_count": 5,
   "metadata": {},
   "outputs": [],
   "source": [
    "def read_covid_dataset(path_to_csv):\n",
    "    # Возвращает пару из X и y. X - массив векторов. y - соответствующие векторам метки\n",
    "    df = pd.read_csv(path_to_csv)\n",
    "    return list(df.values), None\n",
    "\n",
    "\n",
    "def read_hr_dataset(path_to_csv):\n",
    "    # Возвращает пару из X и y. X - массив векторов. y - соответствующие векторам метки\n",
    "    df = pd.read_csv(path_to_csv)\n",
    "    y = df.pop(\"target\")\n",
    "    return list(df.values), y.values"
   ]
  },
  {
   "cell_type": "code",
   "execution_count": 6,
   "metadata": {},
   "outputs": [],
   "source": [
    "COVID_DATA_PATH = \"./hw_EDA_data/covid.csv\"\n",
    "HR_DATA_PATH = \"./hw_EDA_data/hr.csv\""
   ]
  },
  {
   "cell_type": "code",
   "execution_count": 7,
   "metadata": {},
   "outputs": [],
   "source": [
    "X_covid, _ = read_covid_dataset(COVID_DATA_PATH)\n",
    "X_hr, y_hr = read_hr_dataset(HR_DATA_PATH)"
   ]
  },
  {
   "cell_type": "code",
   "execution_count": 8,
   "metadata": {},
   "outputs": [],
   "source": [
    "assert len(X_hr) == len(y_hr)"
   ]
  },
  {
   "cell_type": "markdown",
   "metadata": {},
   "source": [
    "## EDA\n",
    "\n",
    "### Задание 2 (3.5 балла)"
   ]
  },
  {
   "cell_type": "markdown",
   "metadata": {},
   "source": [
    "Выполните задание для датасетa _hr_.\n",
    "\n",
    "Для дальнейшей работы с данными нужно обработать пропущенные значения в датасете.\n",
    "Существуют различные стратегии обработки пропущенных данных."
   ]
  },
  {
   "cell_type": "code",
   "execution_count": 9,
   "metadata": {},
   "outputs": [],
   "source": [
    "df_hr = pd.read_csv(HR_DATA_PATH)\n",
    "hr_y = df_hr.pop(\"target\")"
   ]
  },
  {
   "cell_type": "markdown",
   "metadata": {},
   "source": [
    "#### 1. (0.5 балла)\n",
    "\n",
    "Для числовых признаков постройте распределения признаков. Для категориальных признаков выведите статистику по количеству значений признака."
   ]
  },
  {
   "cell_type": "code",
   "execution_count": 10,
   "metadata": {},
   "outputs": [
    {
     "name": "stdout",
     "output_type": "stream",
     "text": [
      "<class 'pandas.core.frame.DataFrame'>\n",
      "RangeIndex: 19158 entries, 0 to 19157\n",
      "Data columns (total 13 columns):\n",
      " #   Column                  Non-Null Count  Dtype  \n",
      "---  ------                  --------------  -----  \n",
      " 0   enrollee_id             19158 non-null  int64  \n",
      " 1   city                    19158 non-null  object \n",
      " 2   city_development_index  19158 non-null  float64\n",
      " 3   gender                  14650 non-null  object \n",
      " 4   relevent_experience     19158 non-null  object \n",
      " 5   enrolled_university     18772 non-null  object \n",
      " 6   education_level         18698 non-null  object \n",
      " 7   major_discipline        16345 non-null  object \n",
      " 8   experience              19093 non-null  object \n",
      " 9   company_size            13220 non-null  object \n",
      " 10  company_type            13018 non-null  object \n",
      " 11  last_new_job            18735 non-null  object \n",
      " 12  training_hours          19158 non-null  int64  \n",
      "dtypes: float64(1), int64(2), object(10)\n",
      "memory usage: 1.9+ MB\n"
     ]
    }
   ],
   "source": [
    "# посмотрим на non-null\n",
    "df_hr.info(null_counts=True)"
   ]
  },
  {
   "cell_type": "code",
   "execution_count": 11,
   "metadata": {},
   "outputs": [],
   "source": [
    "hr_column_types = {\n",
    "    \"numerical\": [\"training_hours\", \"city_development_index\"],\n",
    "    \"categorical\": [\n",
    "        \"city\",\n",
    "        \"gender\",\n",
    "        \"relevent_experience\",\n",
    "        \"enrolled_university\",\n",
    "        \"major_discipline\",\n",
    "        \"company_type\",\n",
    "    ],\n",
    "    \"ordinal\": [\"education_level\", \"experience\", \"company_size\", \"last_new_job\"],\n",
    "}"
   ]
  },
  {
   "cell_type": "code",
   "execution_count": 12,
   "metadata": {},
   "outputs": [],
   "source": [
    "def describe_hr(df, hr_column_types):\n",
    "    center_n = 30\n",
    "    print(f\"NUMERICAL FEATURES:\".center(center_n), \"\\n\")\n",
    "\n",
    "    f, axes = plt.subplots(1, 2)\n",
    "    axes = iter(axes)\n",
    "    for col in hr_column_types[\"numerical\"]:\n",
    "        sns.histplot(df_hr[col], ax=axes.__next__(), bins=70)\n",
    "    plt.show()\n",
    "    # categorical\n",
    "    for col_type in [\"categorical\", \"ordinal\"]:\n",
    "        print(f\"{col_type.upper()} FEATURES:\".center(center_n), \"\\n\")\n",
    "        for col in hr_column_types[col_type]:\n",
    "            print(col.center(center_n, \"-\"), \"\\n\")\n",
    "            print(df_hr[col].value_counts(dropna=False))\n",
    "            print(\"\\n\")"
   ]
  },
  {
   "cell_type": "code",
   "execution_count": 13,
   "metadata": {},
   "outputs": [
    {
     "name": "stdout",
     "output_type": "stream",
     "text": [
      "     NUMERICAL FEATURES:       \n",
      "\n"
     ]
    },
    {
     "data": {
      "image/png": "[encoded data removed]",
      "text/plain": [
       "<Figure size 1440x720 with 2 Axes>"
      ]
     },
     "metadata": {},
     "output_type": "display_data"
    },
    {
     "name": "stdout",
     "output_type": "stream",
     "text": [
      "    CATEGORICAL FEATURES:      \n",
      "\n",
      "-------------city------------- \n",
      "\n",
      "city_103    4355\n",
      "city_21     2702\n",
      "city_16     1533\n",
      "city_114    1336\n",
      "city_160     845\n",
      "            ... \n",
      "city_121       3\n",
      "city_111       3\n",
      "city_129       3\n",
      "city_140       1\n",
      "city_171       1\n",
      "Name: city, Length: 123, dtype: int64\n",
      "\n",
      "\n",
      "------------gender------------ \n",
      "\n",
      "Male      13221\n",
      "NaN        4508\n",
      "Female     1238\n",
      "Other       191\n",
      "Name: gender, dtype: int64\n",
      "\n",
      "\n",
      "-----relevent_experience------ \n",
      "\n",
      "Has relevent experience    13792\n",
      "No relevent experience      5366\n",
      "Name: relevent_experience, dtype: int64\n",
      "\n",
      "\n",
      "-----enrolled_university------ \n",
      "\n",
      "no_enrollment       13817\n",
      "Full time course     3757\n",
      "Part time course     1198\n",
      "NaN                   386\n",
      "Name: enrolled_university, dtype: int64\n",
      "\n",
      "\n",
      "-------major_discipline------- \n",
      "\n",
      "STEM               14492\n",
      "NaN                 2813\n",
      "Humanities           669\n",
      "Other                381\n",
      "Business Degree      327\n",
      "Arts                 253\n",
      "No Major             223\n",
      "Name: major_discipline, dtype: int64\n",
      "\n",
      "\n",
      "---------company_type--------- \n",
      "\n",
      "Pvt Ltd                9817\n",
      "NaN                    6140\n",
      "Funded Startup         1001\n",
      "Public Sector           955\n",
      "Early Stage Startup     603\n",
      "NGO                     521\n",
      "Other                   121\n",
      "Name: company_type, dtype: int64\n",
      "\n",
      "\n",
      "      ORDINAL FEATURES:        \n",
      "\n",
      "-------education_level-------- \n",
      "\n",
      "Graduate          11598\n",
      "Masters            4361\n",
      "High School        2017\n",
      "NaN                 460\n",
      "Phd                 414\n",
      "Primary School      308\n",
      "Name: education_level, dtype: int64\n",
      "\n",
      "\n",
      "----------experience---------- \n",
      "\n",
      ">20    3286\n",
      "5      1430\n",
      "4      1403\n",
      "3      1354\n",
      "6      1216\n",
      "2      1127\n",
      "7      1028\n",
      "10      985\n",
      "9       980\n",
      "8       802\n",
      "15      686\n",
      "11      664\n",
      "14      586\n",
      "1       549\n",
      "<1      522\n",
      "16      508\n",
      "12      494\n",
      "13      399\n",
      "17      342\n",
      "19      304\n",
      "18      280\n",
      "20      148\n",
      "NaN      65\n",
      "Name: experience, dtype: int64\n",
      "\n",
      "\n",
      "---------company_size--------- \n",
      "\n",
      "NaN          5938\n",
      "50-99        3083\n",
      "100-500      2571\n",
      "10000+       2019\n",
      "10/49        1471\n",
      "1000-4999    1328\n",
      "<10          1308\n",
      "500-999       877\n",
      "5000-9999     563\n",
      "Name: company_size, dtype: int64\n",
      "\n",
      "\n",
      "---------last_new_job--------- \n",
      "\n",
      "1        8040\n",
      ">4       3290\n",
      "2        2900\n",
      "never    2452\n",
      "4        1029\n",
      "3        1024\n",
      "NaN       423\n",
      "Name: last_new_job, dtype: int64\n",
      "\n",
      "\n"
     ]
    }
   ],
   "source": [
    "describe_hr(df_hr, hr_column_types)"
   ]
  },
  {
   "cell_type": "markdown",
   "metadata": {},
   "source": [
    "#### 2. (0.5 балла)\n",
    "Удалите все строки, где есть хотя бы одно пропущенное значение признака. Насколько сильно уменьшился размер датасета? Как изменились распределения признаков/статистика по количеству значений признаков?"
   ]
  },
  {
   "cell_type": "code",
   "execution_count": 14,
   "metadata": {},
   "outputs": [
    {
     "name": "stdout",
     "output_type": "stream",
     "text": [
      "Исходный размер датасета hr 19158\n"
     ]
    }
   ],
   "source": [
    "print(f\"Исходный размер датасета hr {df_hr.shape[0]}\")"
   ]
  },
  {
   "cell_type": "code",
   "execution_count": 15,
   "metadata": {},
   "outputs": [],
   "source": [
    "X_hr_dropna = df_hr.dropna(axis=0)"
   ]
  },
  {
   "cell_type": "code",
   "execution_count": 16,
   "metadata": {},
   "outputs": [
    {
     "name": "stdout",
     "output_type": "stream",
     "text": [
      "Pазмер датасета hr без NaN 8955\n"
     ]
    }
   ],
   "source": [
    "print(f\"Pазмер датасета hr без NaN {X_hr_dropna.shape[0]}\")"
   ]
  },
  {
   "cell_type": "markdown",
   "metadata": {},
   "source": [
    "_Ваш ответ_"
   ]
  },
  {
   "cell_type": "markdown",
   "metadata": {},
   "source": [
    "посмотрим изменения распределений"
   ]
  },
  {
   "cell_type": "code",
   "execution_count": 57,
   "metadata": {},
   "outputs": [
    {
     "data": {
      "image/png": "[encoded data removed]",
      "text/plain": [
       "<Figure size 1440x720 with 2 Axes>"
      ]
     },
     "metadata": {},
     "output_type": "display_data"
    }
   ],
   "source": [
    "f, axes = plt.subplots(1, 2)\n",
    "axes = iter(axes)\n",
    "for col in hr_column_types[\"numerical\"]:\n",
    "    ax = ax = axes.__next__()\n",
    "    sns.histplot(\n",
    "        df_hr[col], ax=ax, bins=70, label=\"with nan\", stat=\"density\", color=\"blue\"\n",
    "    )\n",
    "    sns.histplot(\n",
    "        X_hr_dropna[col],\n",
    "        ax=ax,\n",
    "        bins=70,\n",
    "        label=\"dropna\",\n",
    "        stat=\"density\",\n",
    "        color=\"orange\",\n",
    "    )\n",
    "    ax.legend()\n",
    "plt.show()"
   ]
  },
  {
   "cell_type": "code",
   "execution_count": 19,
   "metadata": {},
   "outputs": [
    {
     "name": "stdout",
     "output_type": "stream",
     "text": [
      "    CATEGORICAL FEATURES:      \n",
      "\n",
      "-------------city------------- \n",
      "\n",
      "city_1     -0.000095\n",
      "city_10    -0.001318\n",
      "city_100    0.005197\n",
      "city_101    0.001235\n",
      "city_102    0.001798\n",
      "              ...   \n",
      "city_93     0.000240\n",
      "city_94     0.000240\n",
      "city_97    -0.000155\n",
      "city_98    -0.000455\n",
      "city_99    -0.000342\n",
      "Name: city, Length: 123, dtype: float64\n",
      "\n",
      "\n",
      "------------gender------------ \n",
      "\n",
      "Male      0.000950\n",
      "Female   -0.005277\n",
      "Other     0.004327\n",
      "Name: gender, dtype: float64\n",
      "\n",
      "\n",
      "-----relevent_experience------ \n",
      "\n",
      "Has relevent experience   -0.156809\n",
      "No relevent experience     0.156809\n",
      "Name: relevent_experience, dtype: float64\n",
      "\n",
      "\n",
      "-----enrolled_university------ \n",
      "\n",
      "no_enrollment      -0.111975\n",
      "Full time course    0.107230\n",
      "Part time course    0.004745\n",
      "Name: enrolled_university, dtype: float64\n",
      "\n",
      "\n",
      "-------major_discipline------- \n",
      "\n",
      "STEM              -0.005495\n",
      "Humanities        -0.001281\n",
      "Other              0.003544\n",
      "Business Degree    0.001022\n",
      "Arts               0.001073\n",
      "No Major           0.001136\n",
      "Name: major_discipline, dtype: float64\n",
      "\n",
      "\n",
      "---------company_type--------- \n",
      "\n",
      "Pvt Ltd               -0.004573\n",
      "Funded Startup        -0.010655\n",
      "Public Sector          0.010378\n",
      "Early Stage Startup    0.003328\n",
      "NGO                    0.000267\n",
      "Other                  0.001255\n",
      "Name: company_type, dtype: float64\n",
      "\n",
      "\n",
      "      ORDINAL FEATURES:        \n",
      "\n",
      "-------education_level-------- \n",
      "\n",
      "Graduate         -0.077877\n",
      "High School            NaN\n",
      "Masters          -0.040245\n",
      "Phd              -0.006223\n",
      "Primary School         NaN\n",
      "Name: education_level, dtype: float64\n",
      "\n",
      "\n",
      "----------experience---------- \n",
      "\n",
      "1      0.015242\n",
      "10    -0.009940\n",
      "11    -0.006764\n",
      "12    -0.006846\n",
      "13    -0.005345\n",
      "14    -0.006494\n",
      "15    -0.008515\n",
      "16    -0.007341\n",
      "17    -0.005092\n",
      "18    -0.004095\n",
      "19    -0.004067\n",
      "2      0.025861\n",
      "20    -0.001852\n",
      "3      0.023122\n",
      "4      0.019881\n",
      "5      0.010687\n",
      "6      0.003945\n",
      "7     -0.000318\n",
      "8     -0.002440\n",
      "9     -0.008192\n",
      "<1     0.016508\n",
      ">20   -0.037945\n",
      "Name: experience, dtype: float64\n",
      "\n",
      "\n",
      "---------company_size--------- \n",
      "\n",
      "50-99        0.011432\n",
      "100-500     -0.008090\n",
      "10000+      -0.009086\n",
      "10/49        0.005073\n",
      "1000-4999   -0.003399\n",
      "<10          0.005139\n",
      "500-999      0.000231\n",
      "5000-9999   -0.001299\n",
      "Name: company_size, dtype: float64\n",
      "\n",
      "\n",
      "---------last_new_job--------- \n",
      "\n",
      "1        0.000556\n",
      "2       -0.020531\n",
      "3       -0.013461\n",
      "4       -0.011966\n",
      ">4      -0.043823\n",
      "never    0.089225\n",
      "Name: last_new_job, dtype: float64\n",
      "\n",
      "\n"
     ]
    }
   ],
   "source": [
    "center_n = 30\n",
    "\n",
    "for col_type in [\"categorical\", \"ordinal\"]:\n",
    "    print(f\"{col_type.upper()} FEATURES:\".center(center_n), \"\\n\")\n",
    "    for col in hr_column_types[col_type]:\n",
    "        print(col.center(center_n, \"-\"), \"\\n\")\n",
    "        print(\n",
    "            df_hr[col].value_counts(dropna=True, normalize=True)\n",
    "            - X_hr_dropna[col].value_counts(dropna=True, normalize=True)\n",
    "        )\n",
    "        print(\"\\n\")"
   ]
  },
  {
   "cell_type": "markdown",
   "metadata": {},
   "source": [
    "Давайте попробуем избежать сокращения размера датасета."
   ]
  },
  {
   "cell_type": "markdown",
   "metadata": {},
   "source": [
    "#### 3.  (1 балл)\n",
    "Для числовых признаков заполните пропущенные данные средним/медианой/модой данного признака. Объясните свой выбор. (Часть строк с NaN значениями можно удалить, если размер датасета уменьшится <15%)"
   ]
  },
  {
   "cell_type": "code",
   "execution_count": 20,
   "metadata": {},
   "outputs": [
    {
     "data": {
      "text/plain": [
       "training_hours            0\n",
       "city_development_index    0\n",
       "dtype: int64"
      ]
     },
     "execution_count": 20,
     "metadata": {},
     "output_type": "execute_result"
    }
   ],
   "source": [
    "# посмотрим наны в числовых призаках\n",
    "df_hr[hr_column_types[\"numerical\"]].isna().sum()"
   ]
  },
  {
   "cell_type": "markdown",
   "metadata": {},
   "source": [
    "нет пропусков в числовых данных"
   ]
  },
  {
   "cell_type": "markdown",
   "metadata": {},
   "source": [
    "#### 4.  (1 балл)\n",
    "Для категориальных признаков заполните пропущенные значения самой встречающейся категорией или создайте отдельную категорию пропущенных значений. Объясните свой выбор. (Часть строк с NaN значениями можно удалить, если размер датасета уменьшится <15%)"
   ]
  },
  {
   "cell_type": "markdown",
   "metadata": {},
   "source": [
    "_Ваш ответ_"
   ]
  },
  {
   "cell_type": "markdown",
   "metadata": {},
   "source": [
    "Можно заполнить умнее, тк некоторые признаки связаны: например рабочий опыт и последняя смена работы. Можно использовать что-то типа KNNImputer."
   ]
  },
  {
   "cell_type": "code",
   "execution_count": 21,
   "metadata": {},
   "outputs": [
    {
     "data": {
      "text/plain": [
       "city                      0\n",
       "gender                 4508\n",
       "relevent_experience       0\n",
       "enrolled_university     386\n",
       "major_discipline       2813\n",
       "company_type           6140\n",
       "dtype: int64"
      ]
     },
     "execution_count": 21,
     "metadata": {},
     "output_type": "execute_result"
    }
   ],
   "source": [
    "# посмотрим кличество nan\n",
    "df_hr[hr_column_types[\"categorical\"]].isnull().sum()"
   ]
  },
  {
   "cell_type": "code",
   "execution_count": 22,
   "metadata": {},
   "outputs": [
    {
     "data": {
      "text/plain": [
       "education_level     460\n",
       "experience           65\n",
       "company_size       5938\n",
       "last_new_job        423\n",
       "dtype: int64"
      ]
     },
     "execution_count": 22,
     "metadata": {},
     "output_type": "execute_result"
    }
   ],
   "source": [
    "# посмотрим кличество nan\n",
    "df_hr[hr_column_types[\"ordinal\"]].isnull().sum()"
   ]
  },
  {
   "cell_type": "markdown",
   "metadata": {},
   "source": [
    "создадим отдельную категори для Nan из признаков с большим количеством Nan, возможно пропуск несет в себе дополнительную информацию, к тому же заполнение самой частйо категорией может принести противоречие в данных. при построении модели стоило бы попробоать разные стратегии заполнения, к тому же некоторые умеют работать с nan"
   ]
  },
  {
   "cell_type": "code",
   "execution_count": 25,
   "metadata": {},
   "outputs": [],
   "source": [
    "def fill_na(X, y):\n",
    "    X_fill = X.copy()\n",
    "    for col in [\"gender\", \"company_size\", \"major_discipline\", \"company_type\"]:\n",
    "        X_fill[col].fillna(value=\"NONE\", inplace=True)\n",
    "    for col in [\"enrolled_university\", \"experience\", \"last_new_job\", \"education_level\"]:\n",
    "        X_fill[col].fillna(value=X_fill[col].mode()[0], inplace=True)\n",
    "    return X_fill, y"
   ]
  },
  {
   "cell_type": "code",
   "execution_count": 26,
   "metadata": {},
   "outputs": [],
   "source": [
    "X_hr_fill, y_hr_fill = fill_na(df_hr, y_hr)"
   ]
  },
  {
   "cell_type": "code",
   "execution_count": 27,
   "metadata": {},
   "outputs": [
    {
     "data": {
      "text/html": [
       "<div>\n",
       "<style scoped>\n",
       "    .dataframe tbody tr th:only-of-type {\n",
       "        vertical-align: middle;\n",
       "    }\n",
       "\n",
       "    .dataframe tbody tr th {\n",
       "        vertical-align: top;\n",
       "    }\n",
       "\n",
       "    .dataframe thead th {\n",
       "        text-align: right;\n",
       "    }\n",
       "</style>\n",
       "<table border=\"1\" class=\"dataframe\">\n",
       "  <thead>\n",
       "    <tr style=\"text-align: right;\">\n",
       "      <th></th>\n",
       "      <th>enrollee_id</th>\n",
       "      <th>city</th>\n",
       "      <th>city_development_index</th>\n",
       "      <th>gender</th>\n",
       "      <th>relevent_experience</th>\n",
       "      <th>enrolled_university</th>\n",
       "      <th>education_level</th>\n",
       "      <th>major_discipline</th>\n",
       "      <th>experience</th>\n",
       "      <th>company_size</th>\n",
       "      <th>company_type</th>\n",
       "      <th>last_new_job</th>\n",
       "      <th>training_hours</th>\n",
       "    </tr>\n",
       "  </thead>\n",
       "  <tbody>\n",
       "    <tr>\n",
       "      <th>0</th>\n",
       "      <td>8949</td>\n",
       "      <td>city_103</td>\n",
       "      <td>0.920</td>\n",
       "      <td>Male</td>\n",
       "      <td>Has relevent experience</td>\n",
       "      <td>no_enrollment</td>\n",
       "      <td>Graduate</td>\n",
       "      <td>STEM</td>\n",
       "      <td>&gt;20</td>\n",
       "      <td>NONE</td>\n",
       "      <td>NONE</td>\n",
       "      <td>1</td>\n",
       "      <td>36</td>\n",
       "    </tr>\n",
       "    <tr>\n",
       "      <th>1</th>\n",
       "      <td>29725</td>\n",
       "      <td>city_40</td>\n",
       "      <td>0.776</td>\n",
       "      <td>Male</td>\n",
       "      <td>No relevent experience</td>\n",
       "      <td>no_enrollment</td>\n",
       "      <td>Graduate</td>\n",
       "      <td>STEM</td>\n",
       "      <td>15</td>\n",
       "      <td>50-99</td>\n",
       "      <td>Pvt Ltd</td>\n",
       "      <td>&gt;4</td>\n",
       "      <td>47</td>\n",
       "    </tr>\n",
       "    <tr>\n",
       "      <th>2</th>\n",
       "      <td>11561</td>\n",
       "      <td>city_21</td>\n",
       "      <td>0.624</td>\n",
       "      <td>NONE</td>\n",
       "      <td>No relevent experience</td>\n",
       "      <td>Full time course</td>\n",
       "      <td>Graduate</td>\n",
       "      <td>STEM</td>\n",
       "      <td>5</td>\n",
       "      <td>NONE</td>\n",
       "      <td>NONE</td>\n",
       "      <td>never</td>\n",
       "      <td>83</td>\n",
       "    </tr>\n",
       "    <tr>\n",
       "      <th>3</th>\n",
       "      <td>33241</td>\n",
       "      <td>city_115</td>\n",
       "      <td>0.789</td>\n",
       "      <td>NONE</td>\n",
       "      <td>No relevent experience</td>\n",
       "      <td>no_enrollment</td>\n",
       "      <td>Graduate</td>\n",
       "      <td>Business Degree</td>\n",
       "      <td>&lt;1</td>\n",
       "      <td>NONE</td>\n",
       "      <td>Pvt Ltd</td>\n",
       "      <td>never</td>\n",
       "      <td>52</td>\n",
       "    </tr>\n",
       "    <tr>\n",
       "      <th>4</th>\n",
       "      <td>666</td>\n",
       "      <td>city_162</td>\n",
       "      <td>0.767</td>\n",
       "      <td>Male</td>\n",
       "      <td>Has relevent experience</td>\n",
       "      <td>no_enrollment</td>\n",
       "      <td>Masters</td>\n",
       "      <td>STEM</td>\n",
       "      <td>&gt;20</td>\n",
       "      <td>50-99</td>\n",
       "      <td>Funded Startup</td>\n",
       "      <td>4</td>\n",
       "      <td>8</td>\n",
       "    </tr>\n",
       "    <tr>\n",
       "      <th>...</th>\n",
       "      <td>...</td>\n",
       "      <td>...</td>\n",
       "      <td>...</td>\n",
       "      <td>...</td>\n",
       "      <td>...</td>\n",
       "      <td>...</td>\n",
       "      <td>...</td>\n",
       "      <td>...</td>\n",
       "      <td>...</td>\n",
       "      <td>...</td>\n",
       "      <td>...</td>\n",
       "      <td>...</td>\n",
       "      <td>...</td>\n",
       "    </tr>\n",
       "    <tr>\n",
       "      <th>19153</th>\n",
       "      <td>7386</td>\n",
       "      <td>city_173</td>\n",
       "      <td>0.878</td>\n",
       "      <td>Male</td>\n",
       "      <td>No relevent experience</td>\n",
       "      <td>no_enrollment</td>\n",
       "      <td>Graduate</td>\n",
       "      <td>Humanities</td>\n",
       "      <td>14</td>\n",
       "      <td>NONE</td>\n",
       "      <td>NONE</td>\n",
       "      <td>1</td>\n",
       "      <td>42</td>\n",
       "    </tr>\n",
       "    <tr>\n",
       "      <th>19154</th>\n",
       "      <td>31398</td>\n",
       "      <td>city_103</td>\n",
       "      <td>0.920</td>\n",
       "      <td>Male</td>\n",
       "      <td>Has relevent experience</td>\n",
       "      <td>no_enrollment</td>\n",
       "      <td>Graduate</td>\n",
       "      <td>STEM</td>\n",
       "      <td>14</td>\n",
       "      <td>NONE</td>\n",
       "      <td>NONE</td>\n",
       "      <td>4</td>\n",
       "      <td>52</td>\n",
       "    </tr>\n",
       "    <tr>\n",
       "      <th>19155</th>\n",
       "      <td>24576</td>\n",
       "      <td>city_103</td>\n",
       "      <td>0.920</td>\n",
       "      <td>Male</td>\n",
       "      <td>Has relevent experience</td>\n",
       "      <td>no_enrollment</td>\n",
       "      <td>Graduate</td>\n",
       "      <td>STEM</td>\n",
       "      <td>&gt;20</td>\n",
       "      <td>50-99</td>\n",
       "      <td>Pvt Ltd</td>\n",
       "      <td>4</td>\n",
       "      <td>44</td>\n",
       "    </tr>\n",
       "    <tr>\n",
       "      <th>19156</th>\n",
       "      <td>5756</td>\n",
       "      <td>city_65</td>\n",
       "      <td>0.802</td>\n",
       "      <td>Male</td>\n",
       "      <td>Has relevent experience</td>\n",
       "      <td>no_enrollment</td>\n",
       "      <td>High School</td>\n",
       "      <td>NONE</td>\n",
       "      <td>&lt;1</td>\n",
       "      <td>500-999</td>\n",
       "      <td>Pvt Ltd</td>\n",
       "      <td>2</td>\n",
       "      <td>97</td>\n",
       "    </tr>\n",
       "    <tr>\n",
       "      <th>19157</th>\n",
       "      <td>23834</td>\n",
       "      <td>city_67</td>\n",
       "      <td>0.855</td>\n",
       "      <td>NONE</td>\n",
       "      <td>No relevent experience</td>\n",
       "      <td>no_enrollment</td>\n",
       "      <td>Primary School</td>\n",
       "      <td>NONE</td>\n",
       "      <td>2</td>\n",
       "      <td>NONE</td>\n",
       "      <td>NONE</td>\n",
       "      <td>1</td>\n",
       "      <td>127</td>\n",
       "    </tr>\n",
       "  </tbody>\n",
       "</table>\n",
       "<p>19158 rows × 13 columns</p>\n",
       "</div>"
      ],
      "text/plain": [
       "       enrollee_id      city  city_development_index gender  \\\n",
       "0             8949  city_103                   0.920   Male   \n",
       "1            29725   city_40                   0.776   Male   \n",
       "2            11561   city_21                   0.624   NONE   \n",
       "3            33241  city_115                   0.789   NONE   \n",
       "4              666  city_162                   0.767   Male   \n",
       "...            ...       ...                     ...    ...   \n",
       "19153         7386  city_173                   0.878   Male   \n",
       "19154        31398  city_103                   0.920   Male   \n",
       "19155        24576  city_103                   0.920   Male   \n",
       "19156         5756   city_65                   0.802   Male   \n",
       "19157        23834   city_67                   0.855   NONE   \n",
       "\n",
       "           relevent_experience enrolled_university education_level  \\\n",
       "0      Has relevent experience       no_enrollment        Graduate   \n",
       "1       No relevent experience       no_enrollment        Graduate   \n",
       "2       No relevent experience    Full time course        Graduate   \n",
       "3       No relevent experience       no_enrollment        Graduate   \n",
       "4      Has relevent experience       no_enrollment         Masters   \n",
       "...                        ...                 ...             ...   \n",
       "19153   No relevent experience       no_enrollment        Graduate   \n",
       "19154  Has relevent experience       no_enrollment        Graduate   \n",
       "19155  Has relevent experience       no_enrollment        Graduate   \n",
       "19156  Has relevent experience       no_enrollment     High School   \n",
       "19157   No relevent experience       no_enrollment  Primary School   \n",
       "\n",
       "      major_discipline experience company_size    company_type last_new_job  \\\n",
       "0                 STEM        >20         NONE            NONE            1   \n",
       "1                 STEM         15        50-99         Pvt Ltd           >4   \n",
       "2                 STEM          5         NONE            NONE        never   \n",
       "3      Business Degree         <1         NONE         Pvt Ltd        never   \n",
       "4                 STEM        >20        50-99  Funded Startup            4   \n",
       "...                ...        ...          ...             ...          ...   \n",
       "19153       Humanities         14         NONE            NONE            1   \n",
       "19154             STEM         14         NONE            NONE            4   \n",
       "19155             STEM        >20        50-99         Pvt Ltd            4   \n",
       "19156             NONE         <1      500-999         Pvt Ltd            2   \n",
       "19157             NONE          2         NONE            NONE            1   \n",
       "\n",
       "       training_hours  \n",
       "0                  36  \n",
       "1                  47  \n",
       "2                  83  \n",
       "3                  52  \n",
       "4                   8  \n",
       "...               ...  \n",
       "19153              42  \n",
       "19154              52  \n",
       "19155              44  \n",
       "19156              97  \n",
       "19157             127  \n",
       "\n",
       "[19158 rows x 13 columns]"
      ]
     },
     "execution_count": 27,
     "metadata": {},
     "output_type": "execute_result"
    }
   ],
   "source": [
    "X_hr_fill"
   ]
  },
  {
   "cell_type": "markdown",
   "metadata": {},
   "source": [
    "#### 5.  (0.5 балла)\n",
    "Как изменились распределения признаков/статистика по количеству значений признаков после заполнения пропущенных данных?"
   ]
  },
  {
   "cell_type": "markdown",
   "metadata": {},
   "source": [
    "Для numerial ничего не изменилось. "
   ]
  },
  {
   "cell_type": "markdown",
   "metadata": {},
   "source": [
    "для [\"gender\", \"company_size\", \"major_discipline\", \"company_type\"] появилась колонка None"
   ]
  },
  {
   "cell_type": "code",
   "execution_count": 28,
   "metadata": {},
   "outputs": [
    {
     "name": "stdout",
     "output_type": "stream",
     "text": [
      "------------gender------------ \n",
      "\n",
      "Male      13221\n",
      "NONE       4508\n",
      "Female     1238\n",
      "Other       191\n",
      "Name: gender, dtype: int64\n",
      "\n",
      "\n",
      "---------company_size--------- \n",
      "\n",
      "NONE         5938\n",
      "50-99        3083\n",
      "100-500      2571\n",
      "10000+       2019\n",
      "10/49        1471\n",
      "1000-4999    1328\n",
      "<10          1308\n",
      "500-999       877\n",
      "5000-9999     563\n",
      "Name: company_size, dtype: int64\n",
      "\n",
      "\n",
      "-------major_discipline------- \n",
      "\n",
      "STEM               14492\n",
      "NONE                2813\n",
      "Humanities           669\n",
      "Other                381\n",
      "Business Degree      327\n",
      "Arts                 253\n",
      "No Major             223\n",
      "Name: major_discipline, dtype: int64\n",
      "\n",
      "\n",
      "---------company_type--------- \n",
      "\n",
      "Pvt Ltd                9817\n",
      "NONE                   6140\n",
      "Funded Startup         1001\n",
      "Public Sector           955\n",
      "Early Stage Startup     603\n",
      "NGO                     521\n",
      "Other                   121\n",
      "Name: company_type, dtype: int64\n",
      "\n",
      "\n"
     ]
    }
   ],
   "source": [
    "for col in [\"gender\", \"company_size\", \"major_discipline\", \"company_type\"]:\n",
    "    print(col.center(center_n, \"-\"), \"\\n\")\n",
    "    print(X_hr_fill[col].value_counts(dropna=False))\n",
    "    print(\"\\n\")"
   ]
  },
  {
   "cell_type": "markdown",
   "metadata": {},
   "source": [
    "для [\"enrolled_university\", \"experience\", \"last_new_job\", \"education_level\"] частота самого частого значения несколько увеличилась"
   ]
  },
  {
   "cell_type": "code",
   "execution_count": 29,
   "metadata": {},
   "outputs": [
    {
     "name": "stdout",
     "output_type": "stream",
     "text": [
      "-----enrolled_university------ \n",
      "\n",
      "no_enrollment       0.005318\n",
      "Full time course   -0.004032\n",
      "Part time course   -0.001286\n",
      "Name: enrolled_university, dtype: float64\n",
      "\n",
      "\n",
      "----------experience---------- \n",
      "\n",
      ">20    0.002809\n",
      "5     -0.000254\n",
      "4     -0.000249\n",
      "3     -0.000241\n",
      "6     -0.000216\n",
      "2     -0.000200\n",
      "7     -0.000183\n",
      "10    -0.000175\n",
      "9     -0.000174\n",
      "8     -0.000143\n",
      "15    -0.000122\n",
      "11    -0.000118\n",
      "14    -0.000104\n",
      "1     -0.000098\n",
      "<1    -0.000093\n",
      "16    -0.000090\n",
      "12    -0.000088\n",
      "13    -0.000071\n",
      "17    -0.000061\n",
      "19    -0.000054\n",
      "18    -0.000050\n",
      "20    -0.000026\n",
      "Name: experience, dtype: float64\n",
      "\n",
      "\n",
      "---------last_new_job--------- \n",
      "\n",
      "1        0.012604\n",
      ">4      -0.003877\n",
      "2       -0.003418\n",
      "never   -0.002890\n",
      "4       -0.001213\n",
      "3       -0.001207\n",
      "Name: last_new_job, dtype: float64\n",
      "\n",
      "\n",
      "-------education_level-------- \n",
      "\n",
      "Graduate          0.009117\n",
      "Masters          -0.005600\n",
      "High School      -0.002590\n",
      "Phd              -0.000532\n",
      "Primary School   -0.000396\n",
      "Name: education_level, dtype: float64\n",
      "\n",
      "\n"
     ]
    }
   ],
   "source": [
    "for col in [\"enrolled_university\", \"experience\", \"last_new_job\", \"education_level\"]:\n",
    "\n",
    "    print(col.center(center_n, \"-\"), \"\\n\")\n",
    "    print(\n",
    "        X_hr_fill[col].value_counts(dropna=True, normalize=True)\n",
    "        - df_hr[col].value_counts(dropna=True, normalize=True)\n",
    "    )\n",
    "    print(\"\\n\")"
   ]
  },
  {
   "cell_type": "markdown",
   "metadata": {},
   "source": [
    "_Ваш ответ_"
   ]
  },
  {
   "cell_type": "markdown",
   "metadata": {},
   "source": [
    "### Задание 3  (1 балл)\n",
    "\n",
    "Выполните задание для датасета _covid_.\n",
    "\n",
    "1. Найдите страну, для которой в датасете присутствует 46 дат со статистикой по вакцинации.\n",
    "2. Постройте для этой страны график зависимости _total_vaccinations_ от _date_.\n",
    "3. Заполните пропущенные данные о _total_vaccinations_ для этой страны. Объясните свой выбор."
   ]
  },
  {
   "cell_type": "code",
   "execution_count": 30,
   "metadata": {},
   "outputs": [],
   "source": [
    "df_covid = pd.read_csv(COVID_DATA_PATH)"
   ]
  },
  {
   "cell_type": "code",
   "execution_count": 31,
   "metadata": {},
   "outputs": [
    {
     "data": {
      "text/plain": [
       "Bahrain    46\n",
       "Name: country, dtype: int64"
      ]
     },
     "execution_count": 31,
     "metadata": {},
     "output_type": "execute_result"
    }
   ],
   "source": [
    "df_covid.country.value_counts()[df_covid.country.value_counts() == 46]"
   ]
  },
  {
   "cell_type": "markdown",
   "metadata": {},
   "source": [
    "Это Бахрейн!"
   ]
  },
  {
   "cell_type": "code",
   "execution_count": 32,
   "metadata": {},
   "outputs": [],
   "source": [
    "df_covid_bah = df_covid[df_covid.country == \"Bahrain\"]\n",
    "df_covid_bah.index = pd.to_datetime(df_covid_bah.date)"
   ]
  },
  {
   "cell_type": "code",
   "execution_count": 33,
   "metadata": {},
   "outputs": [
    {
     "data": {
      "text/plain": [
       "<AxesSubplot:xlabel='date', ylabel='total_vaccinations'>"
      ]
     },
     "execution_count": 33,
     "metadata": {},
     "output_type": "execute_result"
    },
    {
     "data": {
      "image/png": "[encoded data removed]",
      "text/plain": [
       "<Figure size 1440x720 with 1 Axes>"
      ]
     },
     "metadata": {},
     "output_type": "display_data"
    }
   ],
   "source": [
    "sns.scatterplot(data=df_covid_bah, x=df_covid_bah.index, y=\"total_vaccinations\")"
   ]
  },
  {
   "cell_type": "markdown",
   "metadata": {},
   "source": [
    "На графике не видно резких ступенек, логично предположить, что увеличение вакцинированного населения шло \"плавно\". Поэтму использую интерполяцию, полиномиальная выглядит лучше линейной."
   ]
  },
  {
   "cell_type": "markdown",
   "metadata": {},
   "source": [
    "Еще 16 января 2021 был национальный день бахрейна. Еще в то же число вышла новость о задержке постако первой дозы вакцины pfizer https://www.reuters.com/business/healthcare-pharmaceuticals/pfizer-delays-jan-vaccine-delivery-bahrain-health-ministry-2021-01-16/"
   ]
  },
  {
   "cell_type": "code",
   "execution_count": 34,
   "metadata": {},
   "outputs": [
    {
     "name": "stderr",
     "output_type": "stream",
     "text": [
      "/home/stepan/miniconda3/envs/scientific/lib/python3.7/site-packages/ipykernel_launcher.py:2: SettingWithCopyWarning: \n",
      "A value is trying to be set on a copy of a slice from a DataFrame\n",
      "\n",
      "See the caveats in the documentation: https://pandas.pydata.org/pandas-docs/stable/user_guide/indexing.html#returning-a-view-versus-a-copy\n",
      "  \n"
     ]
    }
   ],
   "source": [
    "df_covid_bah.loc[:, \"total_vaccinations\"].interpolate(\n",
    "    \"polynomial\", order=2, inplace=True\n",
    ")"
   ]
  },
  {
   "cell_type": "code",
   "execution_count": 35,
   "metadata": {},
   "outputs": [
    {
     "data": {
      "text/plain": [
       "<AxesSubplot:xlabel='date', ylabel='total_vaccinations'>"
      ]
     },
     "execution_count": 35,
     "metadata": {},
     "output_type": "execute_result"
    },
    {
     "data": {
      "image/png": "[encoded data removed]",
      "text/plain": [
       "<Figure size 1440x720 with 1 Axes>"
      ]
     },
     "metadata": {},
     "output_type": "display_data"
    }
   ],
   "source": [
    "sns.scatterplot(data=df_covid_bah[\"total_vaccinations\"])"
   ]
  },
  {
   "cell_type": "markdown",
   "metadata": {},
   "source": [
    "_Ваш ответ_"
   ]
  },
  {
   "cell_type": "markdown",
   "metadata": {},
   "source": [
    "### Задание  4 (0.5 балла)\n",
    "Выполните задание для датасета _hr_.\n",
    "\n",
    "Есть ли в данных выбросы? Если да, то скажите, какие и почему Вы считаете их выбросами?\n"
   ]
  },
  {
   "cell_type": "markdown",
   "metadata": {},
   "source": [
    "В датасете всего два числовых признака. В признаке taining_hours выбросов нет, есть длинных хвост распределения. В признаке city_development_index есть несколько маленьких значений, их можно считать выбросами, связаны с тем ,что для некоторых городов есть только одиночные объекты."
   ]
  },
  {
   "cell_type": "markdown",
   "metadata": {},
   "source": [
    "_Ваш ответ_"
   ]
  },
  {
   "cell_type": "markdown",
   "metadata": {},
   "source": [
    "### Задание  5 (1 балл)\n",
    "Выполните задание для датасета _hr_.\n",
    "\n",
    "Закодируйте категориальные признаки при помощи One-hot encoding/Label encoding/Frequency encoding. Объясните свой выбор. (Обратите внимание, что некоторые категориальные признаки предполагают ранжирование в своих значениях)\n"
   ]
  },
  {
   "cell_type": "code",
   "execution_count": 36,
   "metadata": {},
   "outputs": [
    {
     "name": "stdout",
     "output_type": "stream",
     "text": [
      "Graduate          12058\n",
      "Masters            4361\n",
      "High School        2017\n",
      "Phd                 414\n",
      "Primary School      308\n",
      "Name: education_level, dtype: int64\n",
      ">20    3351\n",
      "5      1430\n",
      "4      1403\n",
      "3      1354\n",
      "6      1216\n",
      "2      1127\n",
      "7      1028\n",
      "10      985\n",
      "9       980\n",
      "8       802\n",
      "15      686\n",
      "11      664\n",
      "14      586\n",
      "1       549\n",
      "<1      522\n",
      "16      508\n",
      "12      494\n",
      "13      399\n",
      "17      342\n",
      "19      304\n",
      "18      280\n",
      "20      148\n",
      "Name: experience, dtype: int64\n",
      "NONE         5938\n",
      "50-99        3083\n",
      "100-500      2571\n",
      "10000+       2019\n",
      "10/49        1471\n",
      "1000-4999    1328\n",
      "<10          1308\n",
      "500-999       877\n",
      "5000-9999     563\n",
      "Name: company_size, dtype: int64\n",
      "1        8463\n",
      ">4       3290\n",
      "2        2900\n",
      "never    2452\n",
      "4        1029\n",
      "3        1024\n",
      "Name: last_new_job, dtype: int64\n"
     ]
    }
   ],
   "source": [
    "for col in hr_column_types[\"ordinal\"]:\n",
    "    print(X_hr_fill[col].value_counts())"
   ]
  },
  {
   "cell_type": "code",
   "execution_count": 37,
   "metadata": {},
   "outputs": [],
   "source": [
    "hr_ordinal_label_encoding = {\n",
    "    \"company_size\": [\n",
    "        \"NONE\",\n",
    "        \"<10\",\n",
    "        \"10/49\",\n",
    "        \"50-99\",\n",
    "        \"100-500\",\n",
    "        \"500-999\",\n",
    "        \"1000-4999\",\n",
    "        \"5000-9999\",\n",
    "        \"10000+\",\n",
    "    ],\n",
    "    \"experience\": [\"<1\", *list(map(str, range(1, 21))), \">20\"],\n",
    "    \"education_level\": [\"Primary School\", \"High School\", \"Graduate\", \"Masters\", \"Phd\"],\n",
    "    \"last_new_job\": [\"never\", \"1\", \"2\", \"3\", \"4\", \">4\"],\n",
    "}"
   ]
  },
  {
   "cell_type": "code",
   "execution_count": 38,
   "metadata": {},
   "outputs": [],
   "source": [
    "def encode(X):\n",
    "    X_encode = X.copy()\n",
    "    # one_hot\n",
    "    one_hot_columns = [\n",
    "        \"gender\",\n",
    "        \"relevent_experience\",\n",
    "        \"enrolled_university\",\n",
    "        \"major_discipline\",\n",
    "        \"company_type\",\n",
    "    ]\n",
    "    for col in one_hot_columns:\n",
    "        X_encode = X_encode.join(pd.get_dummies(X_encode.pop(col), prefix=col))\n",
    "    # frequency\n",
    "    city_freq = X_encode.city.value_counts(normalize=True)\n",
    "    X_encode[\"city\"] = X_encode.pop(\"city\").map(city_freq)\n",
    "    # ordinal\n",
    "    for col, values in hr_ordinal_label_encoding.items():\n",
    "        map_d = dict(zip(values, range(len(values))))\n",
    "        X_encode[col] = X_encode.pop(col).map(map_d)\n",
    "    return X_encode"
   ]
  },
  {
   "cell_type": "code",
   "execution_count": 39,
   "metadata": {},
   "outputs": [],
   "source": [
    "X_hr_encode = encode(X_hr_fill)"
   ]
  },
  {
   "cell_type": "markdown",
   "metadata": {},
   "source": [
    "Закодировали one hot не порядковые, индекс города через frequency, ибо их много и, возможно, города откуда мало респондентов - принесет дополнительную информацию. Порядковые закодировали натуральными числами, еще имеет смысл выделить None размера компании и never смены работы в отдельные признаки."
   ]
  },
  {
   "cell_type": "markdown",
   "metadata": {},
   "source": [
    "_Ваш ответ_"
   ]
  },
  {
   "cell_type": "markdown",
   "metadata": {},
   "source": [
    "### Задание  5 (1 балл)\n",
    "Выполните задание для датасета _hr_.\n",
    "\n",
    "\n"
   ]
  },
  {
   "cell_type": "markdown",
   "metadata": {},
   "source": [
    "#### 1.  (1 балл)\n",
    "Реализуйте функцию undersampling"
   ]
  },
  {
   "cell_type": "markdown",
   "metadata": {},
   "source": [
    "#### 2.  (1 балл)\n",
    "Реализуйте функцию oversampling"
   ]
  },
  {
   "cell_type": "code",
   "execution_count": 41,
   "metadata": {},
   "outputs": [],
   "source": [
    "def undersampling(X, y):\n",
    "    X_1 = X[y == 1]\n",
    "    X_0 = X[y == 0]\n",
    "    size = min(X_1.shape[0], X_0.shape[0])\n",
    "    X_under = pd.concat(\n",
    "        [X_1.sample(size, replace=False), X_0.sample(size, replace=False)]\n",
    "    )\n",
    "    y_under = np.zeros(size * 2)\n",
    "    y_under[:size] = 1\n",
    "    return X_under, y_under\n",
    "\n",
    "\n",
    "def oversampling(X, y):\n",
    "    X_1 = X[y == 1]\n",
    "    X_0 = X[y == 0]\n",
    "    size = max(X_1.shape[0], X_0.shape[0])\n",
    "    X_over = pd.concat(\n",
    "        [\n",
    "            X_1.sample(size, replace=X_1.shape[0] < size),\n",
    "            X_0.sample(size, replace=X_0.shape[0] < size),\n",
    "        ]\n",
    "    )\n",
    "    y_over = np.zeros(size * 2)\n",
    "    y_over[:size] = 1\n",
    "    # Возвращает данные, сбалансированные методом oversampling\n",
    "    return X_over, y_over"
   ]
  },
  {
   "cell_type": "code",
   "execution_count": 42,
   "metadata": {},
   "outputs": [],
   "source": [
    "X_hr_under, y_hr_under = undersampling(X_hr_encode, y_hr_fill)\n",
    "\n",
    "X_hr_over, y_hr_over = oversampling(X_hr_encode, y_hr_fill)"
   ]
  },
  {
   "cell_type": "code",
   "execution_count": 43,
   "metadata": {},
   "outputs": [
    {
     "data": {
      "text/plain": [
       "((9554, 31), 9554.0)"
      ]
     },
     "execution_count": 43,
     "metadata": {},
     "output_type": "execute_result"
    }
   ],
   "source": [
    "X_hr_under.shape, y_hr_under.sum() * 2"
   ]
  },
  {
   "cell_type": "code",
   "execution_count": 44,
   "metadata": {},
   "outputs": [
    {
     "data": {
      "text/plain": [
       "((28762, 31), 28762.0)"
      ]
     },
     "execution_count": 44,
     "metadata": {},
     "output_type": "execute_result"
    }
   ],
   "source": [
    "X_hr_over.shape, y_hr_over.sum() * 2"
   ]
  },
  {
   "cell_type": "markdown",
   "metadata": {},
   "source": [
    "#### 3.  (1 балл)\n",
    "Используйте _SMOTE_ для балансировки датасета."
   ]
  },
  {
   "cell_type": "markdown",
   "metadata": {},
   "source": [
    "Помимо методов _undersampling_ и _oversampling_ существует подход, генерирующий элементы класса-меньшинства, похожие на уже присутствующие в выборке данных. Такой метод называется _Synthetic Minority Oversampling Technique_ (SMOTE). \n",
    "\n",
    "Метод _SMOTE_ , реализованный в библиотеке `imblearn`, генерирует синтетические примеры при помощи __k-nearest neighbor__ алгоритма (подробнее об этом алгоритме будет рассказано на лекции)."
   ]
  },
  {
   "cell_type": "code",
   "execution_count": 45,
   "metadata": {},
   "outputs": [],
   "source": [
    "# !pip install -U imbalanced-learn"
   ]
  },
  {
   "cell_type": "code",
   "execution_count": 47,
   "metadata": {},
   "outputs": [],
   "source": [
    "from imblearn.over_sampling import SMOTE\n",
    "\n",
    "smote = SMOTE(sampling_strategy=\"minority\")\n",
    "X_hr_SMOTE, y_hr_SMOTE = smote.fit_resample(X_hr_encode, y_hr_fill)"
   ]
  },
  {
   "cell_type": "code",
   "execution_count": 52,
   "metadata": {},
   "outputs": [
    {
     "data": {
      "text/plain": [
       "((28762, 31), 28762.0)"
      ]
     },
     "execution_count": 52,
     "metadata": {},
     "output_type": "execute_result"
    }
   ],
   "source": [
    "X_hr_SMOTE.shape, y_hr_SMOTE.sum() * 2"
   ]
  },
  {
   "cell_type": "markdown",
   "metadata": {},
   "source": [
    "#### 4. (0.5 балла)\n",
    "Как изменились распределения признаков при различных тактиках балансирования датасета?"
   ]
  },
  {
   "cell_type": "code",
   "execution_count": 59,
   "metadata": {},
   "outputs": [
    {
     "data": {
      "image/png": "[encoded data removed]",
      "text/plain": [
       "<Figure size 1440x720 with 2 Axes>"
      ]
     },
     "metadata": {},
     "output_type": "display_data"
    }
   ],
   "source": [
    "f, axes = plt.subplots(1, 2)\n",
    "axes = iter(axes)\n",
    "for col in hr_column_types[\"numerical\"]:\n",
    "    ax = ax = axes.__next__()\n",
    "    sns.histplot(\n",
    "        X_hr_encode[col],\n",
    "        ax=ax,\n",
    "        bins=70,\n",
    "        label=\"wo balance\",\n",
    "        stat=\"density\",\n",
    "        color=\"blue\",\n",
    "    )\n",
    "    sns.histplot(\n",
    "        X_hr_SMOTE[col],\n",
    "        ax=ax,\n",
    "        bins=70,\n",
    "        label=\"smote\",\n",
    "        stat=\"density\",\n",
    "        color=\"orange\",\n",
    "    )\n",
    "    ax.legend()\n",
    "plt.show()"
   ]
  },
  {
   "cell_type": "code",
   "execution_count": 60,
   "metadata": {},
   "outputs": [
    {
     "data": {
      "image/png": "[encoded data removed]",
      "text/plain": [
       "<Figure size 1440x720 with 2 Axes>"
      ]
     },
     "metadata": {},
     "output_type": "display_data"
    }
   ],
   "source": [
    "f, axes = plt.subplots(1, 2)\n",
    "axes = iter(axes)\n",
    "for col in hr_column_types[\"numerical\"]:\n",
    "    ax = ax = axes.__next__()\n",
    "    sns.histplot(\n",
    "        X_hr_encode[col],\n",
    "        ax=ax,\n",
    "        bins=70,\n",
    "        label=\"wo balance\",\n",
    "        stat=\"density\",\n",
    "        color=\"blue\",\n",
    "    )\n",
    "    sns.histplot(\n",
    "        X_hr_over[col],\n",
    "        ax=ax,\n",
    "        bins=70,\n",
    "        label=\"oversampling\",\n",
    "        stat=\"density\",\n",
    "        color=\"orange\",\n",
    "    )\n",
    "    ax.legend()\n",
    "plt.show()"
   ]
  },
  {
   "cell_type": "code",
   "execution_count": 61,
   "metadata": {},
   "outputs": [
    {
     "data": {
      "image/png": "[encoded data removed]",
      "text/plain": [
       "<Figure size 1440x720 with 2 Axes>"
      ]
     },
     "metadata": {},
     "output_type": "display_data"
    }
   ],
   "source": [
    "f, axes = plt.subplots(1, 2)\n",
    "axes = iter(axes)\n",
    "for col in hr_column_types[\"numerical\"]:\n",
    "    ax = ax = axes.__next__()\n",
    "    sns.histplot(\n",
    "        X_hr_encode[col],\n",
    "        ax=ax,\n",
    "        bins=70,\n",
    "        label=\"wo balance\",\n",
    "        stat=\"density\",\n",
    "        color=\"blue\",\n",
    "    )\n",
    "    sns.histplot(\n",
    "        X_hr_under[col],\n",
    "        ax=ax,\n",
    "        bins=70,\n",
    "        label=\"undersampling\",\n",
    "        stat=\"density\",\n",
    "        color=\"orange\",\n",
    "    )\n",
    "    ax.legend()\n",
    "plt.show()"
   ]
  },
  {
   "cell_type": "markdown",
   "metadata": {},
   "source": [
    "_Ваш ответ_"
   ]
  },
  {
   "cell_type": "markdown",
   "metadata": {},
   "source": [
    "для числовых признаков изминения небольшие:при любом семплировании city_development_index чут ьпоменяло распределение, видимо в классе меньше по объем city_development_index в среднем меньше. Для категоральны признаков смотреть гралами не имеет смысла, только может быть полезным найти признаки, которые чрезмерно изменились."
   ]
  },
  {
   "cell_type": "code",
   "execution_count": null,
   "metadata": {},
   "outputs": [],
   "source": []
  }
 ],
 "metadata": {
  "kernelspec": {
   "display_name": "scientific",
   "language": "python",
   "name": "scientific"
  },
  "language_info": {
   "codemirror_mode": {
    "name": "ipython",
    "version": 3
   },
   "file_extension": ".py",
   "mimetype": "text/x-python",
   "name": "python",
   "nbconvert_exporter": "python",
   "pygments_lexer": "ipython3",
   "version": "3.7.9"
  },
  "widgets": {
   "application/vnd.jupyter.widget-state+json": {
    "state": {},
    "version_major": 2,
    "version_minor": 0
   }
  }
 },
 "nbformat": 4,
 "nbformat_minor": 4
}
