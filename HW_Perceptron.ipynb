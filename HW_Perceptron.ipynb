{
 "cells": [
  {
   "cell_type": "markdown",
   "metadata": {
    "colab_type": "text",
    "id": "hgt4q-WT5tLV"
   },
   "source": [
    "# Перцептрон для восприятия цифр\n",
    "__Суммарное количество баллов: 10__\n",
    "\n",
    "В этом задании вам предстоит реализовать классический перцептрон, немного улучшить его, и протестировать результат на классической задаче определния цифр по изображениям."
   ]
  },
  {
   "cell_type": "code",
   "execution_count": 3,
   "metadata": {
    "colab": {},
    "colab_type": "code",
    "id": "HtQreA-V5tLW"
   },
   "outputs": [],
   "source": [
    "import numpy as np\n",
    "import pandas as pd\n",
    "from sklearn.datasets import make_blobs, make_moons\n",
    "from sklearn.model_selection import train_test_split\n",
    "import matplotlib.pyplot as plt\n",
    "from sklearn import datasets\n",
    "import copy\n",
    "import random"
   ]
  },
  {
   "cell_type": "markdown",
   "metadata": {
    "colab_type": "text",
    "id": "lARqtR6o5tLY"
   },
   "source": [
     "### Задание 1 (3 балла)\n",
    "Для начала реализуем простой перцептрон.\n",
    "\n",
    "#### Методы\n",
    "`predict(X)` - возвращает предсказанные метки для элементов выборки `X`\n",
    "\n",
    "`fit(X, y)` - инициализирует веса перцептрона, а затем обновляет их в течении `iterations` итераций. \n",
    "\n",
    "#### Параметры конструктора\n",
    "`iterations` - количество итераций обучения перцептрона\n",
    "\n",
    "#### Поля\n",
    "`w` - веса перцептрона размерности `X.shape[1] + 1`. `w[0]` должен соответстовать константе, `w[1:]` - коэффициентам компонент элемента `X`."
   ]
  },
  {
   "cell_type": "code",
   "metadata": {
    "colab": {},
    "colab_type": "code",
    "id": "9vOHrZ5W5tLZ",
    "pycharm": {
     "name": "#%%\n"
    }
   },
   "source": [
    "class Perceptron:\n",
    "    def __init__(self, iterations=100):\n",
    "        self.w = None\n",
    "\n",
    "    def fit(self, X, y):\n",
    "        pass\n",
    "\n",
    "    def predict(self, X):\n",
    "        pass"
   ],
   "execution_count": null,
   "outputs": []
  },
  {
   "cell_type": "markdown",
   "metadata": {
    "colab_type": "text",
    "id": "KSunHi2E5tLb"
   },
   "source": [
    "Посмотрим на то, как наш перцептрон справляется с различными наборами данных"
   ]
  },
  {
   "cell_type": "code",
   "source": [
    "def visualize(X, labels_true, labels_pred, w):\n",
    "    unique_labels = np.unique(labels_true)\n",
    "    unique_colors = dict([(l, c) for l, c in zip(unique_labels, [[0.8, 0., 0.], [0., 0., 0.8]])])\n",
    "    plt.figure(figsize=(9, 9))\n",
    "\n",
    "    if w[1] == 0:\n",
    "        plt.plot([X[:, 0].min(), X[:, 0].max()], w[0] / w[2])\n",
    "    elif w[2] == 0:\n",
    "        plt.plot(w[0] / w[1], [X[:, 1].min(), X[:, 1].max()])\n",
    "    else:\n",
    "        mins, maxs = X.min(axis=0), X.max(axis=0)\n",
    "        pts = [[mins[0], -mins[0] * w[1] / w[2] - w[0] / w[2]],\n",
    "               [maxs[0], -maxs[0] * w[1] / w[2] - w[0] / w[2]],\n",
    "               [-mins[1] * w[2] / w[1] - w[0] / w[1], mins[1]],\n",
    "               [-maxs[1] * w[2] / w[1] - w[0] / w[1], maxs[1]]]\n",
    "        pts = [(x, y) for x, y in pts if mins[0] <= x <= maxs[0] and mins[1] <= y <= maxs[1]]\n",
    "        x, y = list(zip(*pts))\n",
    "        plt.plot(x, y, c=(0.75, 0.75, 0.75), linestyle=\"--\")\n",
    "\n",
    "    colors_inner = [unique_colors[l] for l in labels_true]\n",
    "    colors_outer = [unique_colors[l] for l in labels_pred]\n",
    "    plt.scatter(X[:, 0], X[:, 1], c=colors_inner, edgecolors=colors_outer)\n",
    "    plt.show()"
   ],
   "metadata": {
    "collapsed": false,
    "pycharm": {
     "name": "#%%\n"
    }
   },
   "execution_count": null,
   "outputs": []
  },
  {
   "cell_type": "code",
   "metadata": {
    "colab": {},
    "colab_type": "code",
    "id": "Xjeekf8a5tLb",
    "pycharm": {
     "name": "#%%\n"
    }
   },
   "source": [
    "X, true_labels = make_blobs(400, 2, centers=[[0, 0], [2.5, 2.5]])\n",
    "c = Perceptron()\n",
    "c.fit(X, true_labels)\n",
    "visualize(X, true_labels, np.array(c.predict(X)), c.w)"
   ],
   "execution_count": null,
   "outputs": []
  },
  {
   "cell_type": "code",
   "metadata": {
    "colab": {},
    "colab_type": "code",
    "id": "ragnvu4i5tLd",
    "scrolled": false,
    "pycharm": {
     "name": "#%%\n"
    }
   },
   "source": [
    "X, true_labels = make_moons(400, noise=0.075)\n",
    "c = Perceptron()\n",
    "c.fit(X, true_labels)\n",
    "visualize(X, true_labels, np.array(c.predict(X)), c.w)"
   ],
   "execution_count": null,
   "outputs": []
  },
  {
   "cell_type": "markdown",
   "metadata": {
    "colab_type": "text",
    "id": "pbY9ZpRF5tLf"
   },
   "source": [
    "### Задание 2 (2 балл)\n",
    "Проблема обычной реализации перцептрона в том, что закончить его обучение мы можем с неоптимальными весами, т.к. точность разбиения в зависимости от числа итераций не растет монотонно. Чтобы этого избежать, мы можем оставлять в конце веса той итерации, на которой мы лучше всего разбивали множество `X`.\n",
    "\n",
    "Реализуем перцептрон с карманом.\n",
    "\n",
    "#### Методы\n",
    "`predict(X)` - возвращает предсказанные метки для элементов выборки `X`\n",
    "\n",
    "`fit(X, y)` - инициализирует веса перцептрона, а затем обновляет их в течении `iterations` итераций. В конце обучения оставляет лучшие веса. \n",
    "\n",
    "#### Параметры конструктора\n",
    "`iterations` - количество итераций обучения перцептрона\n",
    "\n",
    "#### Поля\n",
    "`w` - веса перцептрона размерности `X.shape[1] + 1`. `w[0]` должен соответстовать константе, `w[1:]` - коэффициентам компонент элемента `X`."
   ]
  },
  {
   "cell_type": "code",
   "metadata": {
    "colab": {},
    "colab_type": "code",
    "id": "ny1gXuuE5tLf",
    "pycharm": {
     "name": "#%%\n"
    }
   },
   "source": [
    "class PerceptronBest:\n",
    "    def __init__(self, iterations=100):\n",
    "        self.w = None\n",
    "\n",
    "    def fit(self, X, y):\n",
    "        pass\n",
    "\n",
    "    def predict(self, X):\n",
    "        pass"
   ],
   "execution_count": null,
   "outputs": []
  },
  {
   "cell_type": "markdown",
   "metadata": {
    "colab_type": "text",
    "id": "7L7zIVOo5tLj"
   },
   "source": [
    "Посмотрим на то, как наш перцептрон справляется с различными наборами данных"
   ]
  },
  {
   "cell_type": "code",
   "metadata": {
    "colab": {},
    "colab_type": "code",
    "id": "BdDhNXzN5tLj",
    "pycharm": {
     "name": "#%%\n"
    }
   },
   "source": [
    "X, true_labels = make_blobs(400, 2, centers=[[0, 0], [2.5, 2.5]])\n",
    "c = PerceptronBest()\n",
    "c.fit(X, true_labels)\n",
    "visualize(X, true_labels, np.array(c.predict(X)), c.w)"
   ],
   "execution_count": null,
   "outputs": []
  },
  {
   "cell_type": "code",
   "metadata": {
    "colab": {},
    "colab_type": "code",
    "id": "16QOP3lr5tLl",
    "pycharm": {
     "name": "#%%\n"
    }
   },
   "source": [
    "X, true_labels = make_moons(400, noise=0.075)\n",
    "c = PerceptronBest()\n",
    "c.fit(X, true_labels)\n",
    "visualize(X, true_labels, np.array(c.predict(X)), c.w)"
   ],
   "execution_count": null,
   "outputs": []
  },
  {
   "cell_type": "markdown",
   "metadata": {
    "colab_type": "text",
    "id": "xrwigZDy5tLn"
   },
   "source": [
    "### Задание 3 (1 балл)\n",
    "Реализуйте метод `transform_images(images)`, который преобразует изображения в двумерные векторы. Значение компонент векторов придумайте сами и напишите в виде комментария к методу."
   ]
  },
  {
   "cell_type": "code",
   "metadata": {
    "colab": {},
    "colab_type": "code",
    "id": "aaSoxlDE5tLo",
    "pycharm": {
     "name": "#%%\n"
    }
   },
   "source": [
    "def transform_images(images):\n",
    "    #TODO: TOUR CODE HERE\n",
    "    return np.zeros((images.shape[0], 2))\n",
    "\n",
    "def get_digits(train_image_ids, test_image_ids):\n",
    "    data = datasets.load_digits()\n",
    "    images_train, labels_train = data.images[train_image_ids['ImageId'].values], data.target[train_image_ids['ImageId'].values]\n",
    "    images_test, labels_test = data.images[test_image_ids['ImageId'].values], data.target[test_image_ids['ImageId'].values]\n",
    "    return images_train, labels_train, images_test, labels_test\n",
    "\n",
    "def get_digits_by_mask(images, labels, y0, y1):\n",
    "    mask = np.logical_or(labels == y0, labels == y1)\n",
    "    labels = labels[mask]\n",
    "    images = images[mask]\n",
    "    images /= np.max(images)\n",
    "    return images, labels\n",
    "\n",
    "def get_x_y(train_image_ids, test_image_ids, y0=1, y1=5):\n",
    "    X_train, y_train, X_test, y_test = get_digits(train_image_ids, test_image_ids)\n",
    "\n",
    "    X_train, y_train = get_digits_by_mask(X_train, y_train, y0, y1)\n",
    "    X_train = transform_images(X_train)\n",
    "\n",
    "    X_test, y_test = get_digits_by_mask(X_test, y_test, y0, y1)\n",
    "    X_test = transform_images(X_test)\n",
    "\n",
    "    return X_train, y_train, X_test, y_test"
   ],
   "execution_count": null,
   "outputs": []
  },
  {
   "cell_type": "markdown",
   "metadata": {
    "colab_type": "text",
    "id": "4c0Vkwks5tLq"
   },
   "source": [
    "### Задание 4 (4 балла)\n",
    "Теперь посмотрим на точность обычного перцептрона и перцептрона выбором лучшей итерации. Для тестирования будем использовать цифры 1 и 5. Необходимо использовать реализованное выше преобразование, т.е. только векторы из 2х признаков. \n",
    "\n",
    "Точность хотя бы одного из классификаторов на тестовой выборке должна быть больше 80%"
   ]
  },
  {
   "cell_type": "code",
   "metadata": {
    "colab": {},
    "colab_type": "code",
    "id": "_eGeIq5I5tLq",
    "pycharm": {
     "name": "#%%\n"
    }
   },
   "source": [
    "train_ids, test_ids = pd.read_csv(\"x_digits_train.csv\"), pd.read_csv(\"x_digits_test.csv\")\n",
    "X_train, y_train, X_test, y_test = get_x_y(train_ids, test_ids)"
   ],
   "execution_count": null,
   "outputs": []
  },
  {
   "cell_type": "code",
   "metadata": {
    "colab": {},
    "colab_type": "code",
    "id": "InfJDc6p5tLt",
    "pycharm": {
     "name": "#%%\n"
    }
   },
   "source": [
    "c = Perceptron(iterations=100000)\n",
    "c.fit(X_train, y_train)\n",
    "print(\"Accuracy:\", np.mean(c.predict(X_test) == y_test))"
   ],
   "execution_count": null,
   "outputs": []
  },
  {
   "cell_type": "code",
   "metadata": {
    "colab": {},
    "colab_type": "code",
    "id": "OHlaGhdq5tLu",
    "pycharm": {
     "name": "#%%\n"
    }
   },
   "source": [
    "c = PerceptronBest(iterations=100000)\n",
    "c.fit(X_train, y_train)\n",
    "print(\"Accuracy:\", np.mean(c.predict(X_test) == y_test))"
   ],
   "execution_count": null,
   "outputs": []
  },
  {
   "cell_type": "code",
   "execution_count": null,
   "outputs": [],
   "source": [
    "submission = pd.DataFrame(columns = [\"Id\", \"Expected\"])\n",
    "submission[\"Id\"] = #YOUR CODE\n",
    "submission[\"Expected\"] = #YOUR CODE\n",
    "submission.to_csv('submission.csv', index=False)"
   ],
   "metadata": {
    "collapsed": false,
    "pycharm": {
     "name": "#%%\n"
    }
   }
  },
  {
   "cell_type": "markdown",
   "metadata": {
    "colab_type": "text",
    "id": "IYbrE9JZ5tLw"
   },
   "source": [
    "А теперь посчитаем среднюю точность по всем возможным парам цифр"
   ]
  },
  {
   "cell_type": "code",
   "metadata": {
    "colab": {},
    "colab_type": "code",
    "id": "fgeo9IB75tLx",
    "scrolled": true,
    "pycharm": {
     "name": "#%%\n"
    }
   },
   "source": [
    "accs = []\n",
    "for y0, y1 in [(y0, y1) for y0 in range(9) for y1 in range(y0+1, 10)]:\n",
    "    X_train, y_train, X_test, y_test = get_x_y(train_ids, test_ids, y0, y1)\n",
    "    c = Perceptron(iterations=20000)\n",
    "    c.fit(X_train, y_train)\n",
    "    accs.append(np.mean(c.predict(X_test) == y_test))\n",
    "print(\"Mean accuracy:\", np.mean(accs))"
   ],
   "execution_count": null,
   "outputs": []
  },
  {
   "cell_type": "code",
   "metadata": {
    "colab": {},
    "colab_type": "code",
    "id": "NP-EHvDj5tLz",
    "scrolled": true,
    "pycharm": {
     "name": "#%% \n"
    }
   },
   "source": [
    "accs = []\n",
    "for y0, y1 in [(y0, y1) for y0 in range(9) for y1 in range(y0+1, 10)]:\n",
    "    X_train, y_train, X_test, y_test = get_x_y(train_ids, test_ids, y0, y1)\n",
    "    c = PerceptronBest(iterations=20000)\n",
    "    c.fit(X_train, y_train)\n",
    "    accs.append(np.mean(c.predict(X_test) == y_test))\n",
    "print(\"Mean accuracy:\", np.mean(accs))"
   ],
   "execution_count": null,
   "outputs": []
  }
 ],
 "metadata": {
  "colab": {
   "collapsed_sections": [],
   "name": "hw05_task.ipynb",
   "provenance": []
  },
  "kernelspec": {
   "display_name": "Python 3",
   "language": "python",
   "name": "python3"
  },
  "language_info": {
   "codemirror_mode": {
    "name": "ipython",
    "version": 3
   },
   "file_extension": ".py",
   "mimetype": "text/x-python",
   "name": "python",
   "nbconvert_exporter": "python",
   "pygments_lexer": "ipython3",
   "version": "3.8.5"
  }
 },
 "nbformat": 4,
 "nbformat_minor": 1
}
