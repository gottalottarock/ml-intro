{
 "cells": [
  {
   "cell_type": "markdown",
   "id": "1dcf5cc9",
   "metadata": {
    "papermill": {
     "duration": 0.010687,
     "end_time": "2022-05-29T20:09:23.102206",
     "exception": false,
     "start_time": "2022-05-29T20:09:23.091519",
     "status": "completed"
    },
    "tags": []
   },
   "source": [
    "# Деревья решений решают проблемы\n",
    "__Суммарное количество баллов: 10__\n",
    "\n",
    "Вы уже знакомы с классификацией методом KNN. В этом задании предстоит реализовать другой метод классификации - дерево решений. \n",
    "\n",
    "Одной из его особенностей является возможность объяснить в человекочитаемой форме, почему мы отнесли объект к определенному классу. Эта особенность позволяет использовать деревья решений для создания систем, которые могут подсказывать специалистам, на что именно стоит обратить внимание при принятии решений."
   ]
  },
  {
   "cell_type": "code",
   "execution_count": 1,
   "id": "ff5d8f1a",
   "metadata": {
    "execution": {
     "iopub.execute_input": "2022-05-29T20:09:23.123119Z",
     "iopub.status.busy": "2022-05-29T20:09:23.122683Z",
     "iopub.status.idle": "2022-05-29T20:09:23.132934Z",
     "shell.execute_reply": "2022-05-29T20:09:23.132155Z"
    },
    "papermill": {
     "duration": 0.023397,
     "end_time": "2022-05-29T20:09:23.135275",
     "exception": false,
     "start_time": "2022-05-29T20:09:23.111878",
     "status": "completed"
    },
    "tags": []
   },
   "outputs": [],
   "source": [
    "import numpy as np\n",
    "import pandas as pd\n",
    "import random\n",
    "import matplotlib.pyplot as plt\n",
    "import matplotlib"
   ]
  },
  {
   "cell_type": "markdown",
   "id": "7a4261f8",
   "metadata": {
    "papermill": {
     "duration": 0.009076,
     "end_time": "2022-05-29T20:09:23.153887",
     "exception": false,
     "start_time": "2022-05-29T20:09:23.144811",
     "status": "completed"
    },
    "tags": []
   },
   "source": [
    "## Задание 1 (1 балл)"
   ]
  },
  {
   "cell_type": "markdown",
   "id": "3b6a652f",
   "metadata": {
    "papermill": {
     "duration": 0.00892,
     "end_time": "2022-05-29T20:09:23.172362",
     "exception": false,
     "start_time": "2022-05-29T20:09:23.163442",
     "status": "completed"
    },
    "tags": []
   },
   "source": [
    "Во время построения дерева решений нам потребуется определить, какой из предикатов лучше всего разбивает обучающую выборку. Есть два критерия, которые позволяют это сделать: критерий Джини и энтропийный критерий. Первый для подсчета информативности разбиения использует коэффициент Джини, второй - энтропию. Реализуйте подсчет этих коэффициентов, а так же подсчет информативности разбиения. \n",
    "\n",
    "#### Описание функций\n",
    "`gini(x)` считает коэффициент Джини для массива меток\n",
    "\n",
    "`entropy(x)` считает энтропию для массива меток\n",
    "\n",
    "`gain(left_y, right_y, criterion)` считает информативность разбиения массива меток на левую `left_y` и правую `right_y` части при помощи `criterion`, который задается функцией (не строкой)."
   ]
  },
  {
   "cell_type": "code",
   "execution_count": 2,
   "id": "eb89e03b",
   "metadata": {
    "execution": {
     "iopub.execute_input": "2022-05-29T20:09:23.193147Z",
     "iopub.status.busy": "2022-05-29T20:09:23.192286Z",
     "iopub.status.idle": "2022-05-29T20:09:23.200297Z",
     "shell.execute_reply": "2022-05-29T20:09:23.199651Z"
    },
    "papermill": {
     "duration": 0.020427,
     "end_time": "2022-05-29T20:09:23.202184",
     "exception": false,
     "start_time": "2022-05-29T20:09:23.181757",
     "status": "completed"
    },
    "tags": []
   },
   "outputs": [],
   "source": [
    "def gini(x):\n",
    "    values, counts = np.unique(x, return_counts=True)\n",
    "    return 1 - ((counts / x.shape[0]) ** 2).sum()\n",
    "\n",
    "\n",
    "def entropy(x):\n",
    "    values, counts = np.unique(x, return_counts=True)\n",
    "    p = counts / x.shape[0]\n",
    "    return -(p * np.log2(p)).sum()\n",
    "\n",
    "\n",
    "def gain(left_y, right_y, criterion):\n",
    "    n = left_y.shape[0] + right_y.shape[0]\n",
    "    p_right = right_y.shape[0] / n\n",
    "    p_left = left_y.shape[0] / n\n",
    "    return (\n",
    "        1 * criterion(np.concatenate((left_y, right_y), axis=None))\n",
    "        - p_right * criterion(right_y)\n",
    "        - p_left * criterion(left_y)\n",
    "    )"
   ]
  },
  {
   "cell_type": "markdown",
   "id": "6778bd15",
   "metadata": {
    "papermill": {
     "duration": 0.009062,
     "end_time": "2022-05-29T20:09:23.220698",
     "exception": false,
     "start_time": "2022-05-29T20:09:23.211636",
     "status": "completed"
    },
    "tags": []
   },
   "source": [
    "## Задание 2 (1 балл)"
   ]
  },
  {
   "cell_type": "markdown",
   "id": "0d95ab2b",
   "metadata": {
    "papermill": {
     "duration": 0.008985,
     "end_time": "2022-05-29T20:09:23.239357",
     "exception": false,
     "start_time": "2022-05-29T20:09:23.230372",
     "status": "completed"
    },
    "tags": []
   },
   "source": [
    "Деревья решений имеют хорошую интерпретируемость, т.к. позволяют не только предсказать класс, но и объяснить, почему мы предсказали именно его. Например, мы можем его нарисовать. Чтобы сделать это, нам необходимо знать, как оно устроено внутри. Реализуйте классы, которые будут задавать структуру дерева. \n",
    "\n",
    "#### DecisionTreeLeaf\n",
    "Поля:\n",
    "1. `y` должно содержать класс, который встречается чаще всего среди элементов листа дерева\n",
    "\n",
    "#### DecisionTreeNode\n",
    "В данной домашней работе мы ограничемся порядковыми и количественными признаками, поэтому достаточно хранить измерение и значение признака, по которому разбиваем обучающую выборку.\n",
    "\n",
    "Поля:\n",
    "1. `split_dim` измерение, по которому разбиваем выборку\n",
    "2. `split_value` значение, по которому разбираем выборку\n",
    "3. `left` поддерево, отвечающее за случай `x[split_dim] < split_value`. Может быть `DecisionTreeNode` или `DecisionTreeLeaf`\n",
    "4. `right` поддерево, отвечающее за случай `x[split_dim] >= split_value`. Может быть `DecisionTreeNode` или `DecisionTreeLeaf`\n",
    "\n",
    "__Интерфейс классов можно и нужно менять при необходимости__ (например, для вычисления вероятности в следующем задании)"
   ]
  },
  {
   "cell_type": "code",
   "execution_count": 3,
   "id": "625498f5",
   "metadata": {
    "execution": {
     "iopub.execute_input": "2022-05-29T20:09:23.260045Z",
     "iopub.status.busy": "2022-05-29T20:09:23.259079Z",
     "iopub.status.idle": "2022-05-29T20:09:23.278348Z",
     "shell.execute_reply": "2022-05-29T20:09:23.277689Z"
    },
    "papermill": {
     "duration": 0.031915,
     "end_time": "2022-05-29T20:09:23.280613",
     "exception": false,
     "start_time": "2022-05-29T20:09:23.248698",
     "status": "completed"
    },
    "tags": []
   },
   "outputs": [],
   "source": [
    "class DecisionTreeLeaf:\n",
    "    def __init__(self, ys):\n",
    "        self.ys = None\n",
    "        values, counts = np.unique(ys, return_counts=True)\n",
    "        _id = counts.argmax()\n",
    "        self.p = counts[_id] / ys.shape[0]\n",
    "        self.y = values[_id]\n",
    "        self.d = {cl: cou / ys.shape[0] for cl, cou in zip(values, counts)}\n",
    "\n",
    "    def predict_proba_single(self, X):\n",
    "        return self.d\n",
    "\n",
    "\n",
    "class DecisionTreeNode:\n",
    "    def __init__(self, ys, X, depth):\n",
    "        print(ys.shape, X.shape)\n",
    "        self.ys = ys\n",
    "        self.X = X\n",
    "        self.depth = depth\n",
    "        self.left = None\n",
    "        self.right = None\n",
    "        self.value = None\n",
    "        self.dim = None\n",
    "        self.leaf = None\n",
    "        \n",
    "\n",
    "    def fit(self, max_depth, min_samples_leaf, criterion):\n",
    "        best_feature_id = None\n",
    "        best_value = None\n",
    "        max_gain = -100\n",
    "        X = self.X\n",
    "        y = self.ys\n",
    "        for feature_id in range(X.shape[1]):\n",
    "            for value in np.unique(X[:, feature_id]):\n",
    "                mask = X[:, feature_id] < value\n",
    "                left_y = y[mask]\n",
    "                right_y = y[~mask]\n",
    "                split_gain = gain(left_y, right_y, criterion)\n",
    "                if split_gain > max_gain:\n",
    "                    max_gain = split_gain\n",
    "                    best_feature_id = feature_id\n",
    "                    best_value = value\n",
    "                    # print(max_gain,mask.sum())\n",
    "        if max_gain == 0:\n",
    "            self.leaf = DecisionTreeLeaf(y)\n",
    "            return\n",
    "        self.dim = best_feature_id\n",
    "        self.value = best_value\n",
    "        mask = X[:, best_feature_id] < best_value\n",
    "        left_y = y[mask]\n",
    "        left_X = X[mask]\n",
    "        right_y = y[~mask]\n",
    "        right_X = X[~mask]\n",
    "        print(\"best gain\", max_gain)\n",
    "        print(\"left\", left_y.shape)\n",
    "        print(\"right\",right_y.shape)\n",
    "        if self.depth and self.depth >= max_depth:\n",
    "            self.left = DecisionTreeLeaf(left_y)\n",
    "            self.right = DecisionTreeLeaf(right_y)\n",
    "            return\n",
    "        \n",
    "        if left_y.shape[0] > min_samples_leaf:\n",
    "            self.left = DecisionTreeNode(left_y, left_X, self.depth + 1)\n",
    "            self.left.fit(max_depth, min_samples_leaf, criterion)\n",
    "        else:\n",
    "            self.left = DecisionTreeLeaf(left_y)\n",
    "        if right_y.shape[0] > min_samples_leaf:\n",
    "            self.right = DecisionTreeNode(right_y, right_X, self.depth + 1)\n",
    "            self.right.fit(max_depth, min_samples_leaf, criterion)\n",
    "        else:\n",
    "            self.right = DecisionTreeLeaf(right_y)\n",
    "\n",
    "    def predict_proba_single(self, X):\n",
    "        if self.leaf:\n",
    "            return self.leaf.predict_proba_single(X)\n",
    "        if X[self.dim] < self.value:\n",
    "            return self.left.predict_proba_single(X)\n",
    "        else:\n",
    "            return self.right.predict_proba_single(X)"
   ]
  },
  {
   "cell_type": "markdown",
   "id": "02dd61fb",
   "metadata": {
    "papermill": {
     "duration": 0.009243,
     "end_time": "2022-05-29T20:09:23.299407",
     "exception": false,
     "start_time": "2022-05-29T20:09:23.290164",
     "status": "completed"
    },
    "tags": []
   },
   "source": [
    "## Задание 3 (6 баллов)"
   ]
  },
  {
   "cell_type": "markdown",
   "id": "7f33fd03",
   "metadata": {
    "papermill": {
     "duration": 0.008962,
     "end_time": "2022-05-29T20:09:23.317618",
     "exception": false,
     "start_time": "2022-05-29T20:09:23.308656",
     "status": "completed"
    },
    "tags": []
   },
   "source": [
    "Теперь перейдем к самому дереву решений. Реализуйте класс `DecisionTreeClassifier`.\n",
    "\n",
    "#### Описание методов\n",
    "`fit(X, y)` строит дерево решений по обучающей выборке.\n",
    "\n",
    "`predict_proba(X)` для каждого элемента из `X` возвращает словарь `dict`, состоящий из пар `(класс, вероятность)`. Вероятности классов в листе можно определить через количество объектов соответствующего класса в листе. \n",
    "\n",
    "#### Описание параметров конструктора\n",
    "`criterion=\"gini\"` - задает критерий, который будет использоваться при построении дерева. Возможные значения: `\"gini\"`, `\"entropy\"`.\n",
    "\n",
    "`max_depth=None` - ограничение глубины дерева. Если `None` - глубина не ограничена\n",
    "\n",
    "`min_samples_leaf=1` - минимальное количество элементов в каждом листе дерева.\n",
    "\n",
    "#### Описание полей\n",
    "`root` - корень дерева. Может быть `DecisionTreeNode` или `DecisionTreeLeaf`"
   ]
  },
  {
   "cell_type": "code",
   "execution_count": 4,
   "id": "74cf0f9c",
   "metadata": {
    "execution": {
     "iopub.execute_input": "2022-05-29T20:09:23.338115Z",
     "iopub.status.busy": "2022-05-29T20:09:23.337519Z",
     "iopub.status.idle": "2022-05-29T20:09:23.345759Z",
     "shell.execute_reply": "2022-05-29T20:09:23.344969Z"
    },
    "papermill": {
     "duration": 0.020679,
     "end_time": "2022-05-29T20:09:23.347623",
     "exception": false,
     "start_time": "2022-05-29T20:09:23.326944",
     "status": "completed"
    },
    "tags": []
   },
   "outputs": [],
   "source": [
    "class DecisionTreeClassifier:\n",
    "    def __init__(self, criterion=\"gini\", max_depth=None, min_samples_leaf=2):\n",
    "        self.root = None\n",
    "        if criterion == \"gini\":\n",
    "            self.criterion = gini\n",
    "        elif criterion == \"entropy\":\n",
    "            self.criterion = entropy\n",
    "        else:\n",
    "            raise ValueError\n",
    "        self.max_depth = max_depth\n",
    "        self.min_samples_leaf = min_samples_leaf\n",
    "\n",
    "    def fit(self, X, y):\n",
    "        self.root = DecisionTreeNode(y, X, 0)\n",
    "        self.root.fit(self.max_depth, self.min_samples_leaf, self.criterion)\n",
    "\n",
    "    def predict_proba(self, X):\n",
    "        return [self.root.predict_proba_single(x_s) for x_s in X]\n",
    "\n",
    "    def predict(self, X):\n",
    "        proba = self.predict_proba(X)\n",
    "        return [max(p.keys(), key=lambda k: p[k]) for p in proba]"
   ]
  },
  {
   "cell_type": "markdown",
   "id": "ddd9bc73",
   "metadata": {
    "papermill": {
     "duration": 0.009105,
     "end_time": "2022-05-29T20:09:23.366070",
     "exception": false,
     "start_time": "2022-05-29T20:09:23.356965",
     "status": "completed"
    },
    "tags": []
   },
   "source": [
    "Построенное дерево можно нарисовать. Метод `draw_tree` рисует дерево и сохраняет его в указанный файл."
   ]
  },
  {
   "cell_type": "code",
   "execution_count": 5,
   "id": "35a4a865",
   "metadata": {
    "execution": {
     "iopub.execute_input": "2022-05-29T20:09:23.386609Z",
     "iopub.status.busy": "2022-05-29T20:09:23.386179Z",
     "iopub.status.idle": "2022-05-29T20:09:23.399306Z",
     "shell.execute_reply": "2022-05-29T20:09:23.398459Z"
    },
    "papermill": {
     "duration": 0.025925,
     "end_time": "2022-05-29T20:09:23.401318",
     "exception": false,
     "start_time": "2022-05-29T20:09:23.375393",
     "status": "completed"
    },
    "tags": []
   },
   "outputs": [],
   "source": [
    "def tree_depth(tree_root):\n",
    "    if isinstance(tree_root, DecisionTreeNode):\n",
    "        return max(tree_depth(tree_root.left), tree_depth(tree_root.right)) + 1\n",
    "    else:\n",
    "        return 1\n",
    "\n",
    "\n",
    "def draw_tree_rec(tree_root, x_left, x_right, y):\n",
    "    x_center = (x_right - x_left) / 2 + x_left\n",
    "    if isinstance(tree_root, DecisionTreeNode):\n",
    "        if not tree_root.leaf:\n",
    "            x_center = (x_right - x_left) / 2 + x_left\n",
    "            x = draw_tree_rec(tree_root.left, x_left, x_center, y - 1)\n",
    "            plt.plot((x_center, x), (y - 0.1, y - 0.9), c=(0, 0, 0))\n",
    "            x = draw_tree_rec(tree_root.right, x_center, x_right, y - 1)\n",
    "            plt.plot((x_center, x), (y - 0.1, y - 0.9), c=(0, 0, 0))\n",
    "            plt.text(\n",
    "                x_center,\n",
    "                y,\n",
    "                \"x[%i] < %f\" % (tree_root.dim, tree_root.value),\n",
    "                horizontalalignment=\"center\",\n",
    "            )\n",
    "        else:\n",
    "            plt.text(x_center, y, str(tree_root.leaf.y), horizontalalignment=\"center\")\n",
    "            \n",
    "    else:\n",
    "        plt.text(x_center, y, str(tree_root.y), horizontalalignment=\"center\")\n",
    "    return x_center\n",
    "\n",
    "\n",
    "def draw_tree(tree, save_path=None):\n",
    "    td = tree_depth(tree.root)\n",
    "    plt.figure(figsize=(0.33 * 2 ** td, 2 * td))\n",
    "    plt.xlim(-1, 1)\n",
    "    plt.ylim(0.95, td + 0.05)\n",
    "    plt.axis(\"off\")\n",
    "    draw_tree_rec(tree.root, -1, 1, td)\n",
    "    plt.tight_layout()\n",
    "    if save_path is not None:\n",
    "        plt.savefig(save_path)\n",
    "    plt.show()"
   ]
  },
  {
   "cell_type": "markdown",
   "id": "977c0d33",
   "metadata": {
    "papermill": {
     "duration": 0.009138,
     "end_time": "2022-05-29T20:09:23.420068",
     "exception": false,
     "start_time": "2022-05-29T20:09:23.410930",
     "status": "completed"
    },
    "tags": []
   },
   "source": [
    "Для двумерного набора данных дерево можно отобразить на плоскости с данными. Кроме того, как и для любого классификатора, для него можно построить roc-кривую"
   ]
  },
  {
   "cell_type": "code",
   "execution_count": 6,
   "id": "45f6f0bf",
   "metadata": {
    "execution": {
     "iopub.execute_input": "2022-05-29T20:09:23.440760Z",
     "iopub.status.busy": "2022-05-29T20:09:23.440355Z",
     "iopub.status.idle": "2022-05-29T20:09:23.463997Z",
     "shell.execute_reply": "2022-05-29T20:09:23.463031Z"
    },
    "papermill": {
     "duration": 0.036523,
     "end_time": "2022-05-29T20:09:23.465942",
     "exception": false,
     "start_time": "2022-05-29T20:09:23.429419",
     "status": "completed"
    },
    "tags": []
   },
   "outputs": [],
   "source": [
    "def plot_roc_curve(y_test, p_pred):\n",
    "    positive_samples = sum(1 for y in y_test if y == 0)\n",
    "    tpr = []\n",
    "    fpr = []\n",
    "    for w in np.arange(-0.01, 1.02, 0.01):\n",
    "        y_pred = [(0 if p.get(0, 0) > w else 1) for p in p_pred]\n",
    "        tpr.append(\n",
    "            sum(1 for yp, yt in zip(y_pred, y_test) if yp == 0 and yt == 0)\n",
    "            / positive_samples\n",
    "        )\n",
    "        fpr.append(\n",
    "            sum(1 for yp, yt in zip(y_pred, y_test) if yp == 0 and yt != 0)\n",
    "            / (len(y_test) - positive_samples)\n",
    "        )\n",
    "    plt.figure(figsize=(7, 7))\n",
    "    plt.plot(fpr, tpr)\n",
    "    plt.plot([0, 1], [0, 1], linestyle=\"--\")\n",
    "    plt.xlabel(\"False positive rate\")\n",
    "    plt.ylabel(\"True positive rate\")\n",
    "    plt.xlim(-0.01, 1.01)\n",
    "    plt.ylim(-0.01, 1.01)\n",
    "    plt.tight_layout()\n",
    "    plt.show()\n",
    "\n",
    "\n",
    "def rectangle_bounds(bounds):\n",
    "    return (\n",
    "        (bounds[0][0], bounds[0][0], bounds[0][1], bounds[0][1]),\n",
    "        (bounds[1][0], bounds[1][1], bounds[1][1], bounds[1][0]),\n",
    "    )\n",
    "\n",
    "\n",
    "def plot_2d_tree(tree_root, bounds, colors):\n",
    "    if isinstance(tree_root, DecisionTreeNode):\n",
    "        if tree_root.split_dim:\n",
    "            plot_2d_tree(\n",
    "                tree_root.left,\n",
    "                [bounds[0], [bounds[1][0], tree_root.split_value]],\n",
    "                colors,\n",
    "            )\n",
    "            plot_2d_tree(\n",
    "                tree_root.right,\n",
    "                [bounds[0], [tree_root.split_value, bounds[1][1]]],\n",
    "                colors,\n",
    "            )\n",
    "            plt.plot(\n",
    "                bounds[0], (tree_root.split_value, tree_root.split_value), c=(0, 0, 0)\n",
    "            )\n",
    "        else:\n",
    "            plot_2d_tree(\n",
    "                tree_root.left,\n",
    "                [[bounds[0][0], tree_root.split_value], bounds[1]],\n",
    "                colors,\n",
    "            )\n",
    "            plot_2d_tree(\n",
    "                tree_root.right,\n",
    "                [[tree_root.split_value, bounds[0][1]], bounds[1]],\n",
    "                colors,\n",
    "            )\n",
    "            plt.plot(\n",
    "                (tree_root.split_value, tree_root.split_value), bounds[1], c=(0, 0, 0)\n",
    "            )\n",
    "    else:\n",
    "        x, y = rectangle_bounds(bounds)\n",
    "        plt.fill(x, y, c=colors[tree_root.y] + [0.2])\n",
    "\n",
    "\n",
    "def plot_2d(tree, X, y):\n",
    "    plt.figure(figsize=(9, 9))\n",
    "    colors = dict((c, list(np.random.random(3))) for c in np.unique(y))\n",
    "    bounds = list(zip(np.min(X, axis=0), np.max(X, axis=0)))\n",
    "    plt.xlim(*bounds[0])\n",
    "    plt.ylim(*bounds[1])\n",
    "    plot_2d_tree(tree.root, list(zip(np.min(X, axis=0), np.max(X, axis=0))), colors)\n",
    "    for c in np.unique(y):\n",
    "        plt.scatter(X[y == c, 0], X[y == c, 1], c=[colors[c]], label=c)\n",
    "    plt.legend()\n",
    "    plt.tight_layout()\n",
    "    plt.show()"
   ]
  },
  {
   "cell_type": "markdown",
   "id": "b59ff03a",
   "metadata": {
    "papermill": {
     "duration": 0.009054,
     "end_time": "2022-05-29T20:09:23.484447",
     "exception": false,
     "start_time": "2022-05-29T20:09:23.475393",
     "status": "completed"
    },
    "tags": []
   },
   "source": [
    "## Задание 4 (2 балла)"
   ]
  },
  {
   "cell_type": "markdown",
   "id": "63656645",
   "metadata": {
    "papermill": {
     "duration": 0.009014,
     "end_time": "2022-05-29T20:09:23.502959",
     "exception": false,
     "start_time": "2022-05-29T20:09:23.493945",
     "status": "completed"
    },
    "tags": []
   },
   "source": [
    "Протестируйте решение на датасете spam.\n",
    "Для этой задачи используйте данные x_spam_train и y_spam_train:\n",
    "1. Выполните загрузку и предобработку файлов x_spam_train и y_spam_train.\n",
    "2. Разбейте x_spam_train и y_spam_train на x_train, y_train, x_test и y_test для оценки точности работы алгоритма.\n",
    "3. Посчитайте метрики `precision`, `recall`, `accuracy` для модели Decision Tree. Если необходимо, попробуйте разные наборы параметров для получения лучшего результата.\n",
    "4. Сравните значения метрик с результатами модели kNN из предыдущего задания (можно использовать реализацию из библиотеки `sklearn`).\n",
    "5. Ответьте на следующие вопросы:\n",
    "    - Какой нужен препроцессинг данных для моделей?\n",
    "    - Какая модель делает предсказания лучше?  Предположите, почему."
   ]
  },
  {
   "cell_type": "markdown",
   "id": "359e5406",
   "metadata": {
    "papermill": {
     "duration": 0.008978,
     "end_time": "2022-05-29T20:09:23.521191",
     "exception": false,
     "start_time": "2022-05-29T20:09:23.512213",
     "status": "completed"
    },
    "tags": []
   },
   "source": [
    "_Ваш ответ_"
   ]
  },
  {
   "cell_type": "code",
   "execution_count": 7,
   "id": "7fa04c7e",
   "metadata": {
    "execution": {
     "iopub.execute_input": "2022-05-29T20:09:23.542049Z",
     "iopub.status.busy": "2022-05-29T20:09:23.541654Z",
     "iopub.status.idle": "2022-05-29T20:09:24.842334Z",
     "shell.execute_reply": "2022-05-29T20:09:24.841616Z"
    },
    "papermill": {
     "duration": 1.313582,
     "end_time": "2022-05-29T20:09:24.844514",
     "exception": false,
     "start_time": "2022-05-29T20:09:23.530932",
     "status": "completed"
    },
    "tags": []
   },
   "outputs": [],
   "source": [
    "from sklearn.metrics import accuracy_score, recall_score, precision_score, f1_score\n",
    "\n",
    "from sklearn.neighbors import KNeighborsClassifier\n",
    "from sklearn.model_selection import train_test_split\n",
    "from pathlib import Path"
   ]
  },
  {
   "cell_type": "code",
   "execution_count": 8,
   "id": "c154e16a",
   "metadata": {
    "execution": {
     "iopub.execute_input": "2022-05-29T20:09:24.865465Z",
     "iopub.status.busy": "2022-05-29T20:09:24.864641Z",
     "iopub.status.idle": "2022-05-29T20:09:24.870235Z",
     "shell.execute_reply": "2022-05-29T20:09:24.869649Z"
    },
    "papermill": {
     "duration": 0.01798,
     "end_time": "2022-05-29T20:09:24.872064",
     "exception": false,
     "start_time": "2022-05-29T20:09:24.854084",
     "status": "completed"
    },
    "tags": []
   },
   "outputs": [],
   "source": [
    "def load_train_dataset(BASE_PATH=\"/kaggle/input/homework-decision-tree-ib-22/\"):\n",
    "    df_train = pd.read_csv(Path(BASE_PATH) / \"x_spam_train.csv\")\n",
    "    df_train = df_train.drop(columns=[\"Id\"])\n",
    "    df_test = pd.read_csv(Path(BASE_PATH) / \"y_spam_train.csv\")\n",
    "    df_test = df_test.drop(columns=[\"Id\"])\n",
    "    return df_train.values, df_test.values.reshape(df_train.values.shape[0])"
   ]
  },
  {
   "cell_type": "code",
   "execution_count": 9,
   "id": "40c6b573",
   "metadata": {
    "execution": {
     "iopub.execute_input": "2022-05-29T20:09:24.893215Z",
     "iopub.status.busy": "2022-05-29T20:09:24.892518Z",
     "iopub.status.idle": "2022-05-29T20:09:24.896983Z",
     "shell.execute_reply": "2022-05-29T20:09:24.896091Z"
    },
    "papermill": {
     "duration": 0.017266,
     "end_time": "2022-05-29T20:09:24.898979",
     "exception": false,
     "start_time": "2022-05-29T20:09:24.881713",
     "status": "completed"
    },
    "tags": []
   },
   "outputs": [],
   "source": [
    "def load_test_dataset(BASE_PATH=\"/kaggle/input/homework-decision-tree-ib-22/\"):\n",
    "    df_test = pd.read_csv(Path(BASE_PATH) / \"x_spam_test.csv\")\n",
    "    return df_test"
   ]
  },
  {
   "cell_type": "code",
   "execution_count": 10,
   "id": "f837c815",
   "metadata": {
    "execution": {
     "iopub.execute_input": "2022-05-29T20:09:24.920000Z",
     "iopub.status.busy": "2022-05-29T20:09:24.919627Z",
     "iopub.status.idle": "2022-05-29T20:09:40.321347Z",
     "shell.execute_reply": "2022-05-29T20:09:40.320423Z"
    },
    "papermill": {
     "duration": 15.415456,
     "end_time": "2022-05-29T20:09:40.324112",
     "exception": false,
     "start_time": "2022-05-29T20:09:24.908656",
     "status": "completed"
    },
    "tags": []
   },
   "outputs": [
    {
     "name": "stdout",
     "output_type": "stream",
     "text": [
      "(2576,) (2576, 57)\n",
      "best gain 0.15692494551933472\n",
      "left (1491,)\n",
      "right (1085,)\n",
      "(1491,) (1491, 57)\n",
      "best gain 0.07498430127555755\n",
      "left (1383,)\n",
      "right (108,)\n",
      "(1383,) (1383, 57)\n",
      "best gain 0.03024284946395192\n",
      "left (1328,)\n",
      "right (55,)\n",
      "(1328,) (1328, 57)\n",
      "best gain 0.013143037860431514\n",
      "left (1248,)\n",
      "right (80,)\n",
      "(1248,) (1248, 57)\n",
      "best gain 0.004972328899211231\n",
      "left (1228,)\n",
      "right (20,)\n",
      "(1228,) (1228, 57)\n",
      "best gain 0.002979137930547507\n",
      "left (1213,)\n",
      "right (15,)\n",
      "(80,) (80, 57)\n",
      "best gain 0.18137207425343016\n",
      "left (59,)\n",
      "right (21,)\n",
      "(59,) (59, 57)\n",
      "best gain 0.06568783127243344\n",
      "left (52,)\n",
      "right (7,)\n",
      "(55,) (55, 57)\n",
      "best gain 0.12429839520748598\n",
      "left (28,)\n",
      "right (27,)\n",
      "(108,) (108, 57)\n",
      "best gain 0.13193665045516903\n",
      "left (99,)\n",
      "right (9,)\n",
      "(99,) (99, 57)\n",
      "best gain 0.01828384858687894\n",
      "left (35,)\n",
      "right (64,)\n",
      "(35,) (35, 57)\n",
      "best gain 0.13224489795918346\n",
      "left (7,)\n",
      "right (28,)\n",
      "(64,) (64, 57)\n",
      "(1085,) (1085, 57)\n",
      "best gain 0.12170931431051049\n",
      "left (422,)\n",
      "right (663,)\n",
      "(422,) (422, 57)\n",
      "best gain 0.09842330658022197\n",
      "left (360,)\n",
      "right (62,)\n",
      "(360,) (360, 57)\n",
      "best gain 0.07889274691358023\n",
      "left (288,)\n",
      "right (72,)\n",
      "(288,) (288, 57)\n",
      "best gain 0.05864358281893001\n",
      "left (270,)\n",
      "right (18,)\n",
      "(270,) (270, 57)\n",
      "best gain 0.044969654599284176\n",
      "left (259,)\n",
      "right (11,)\n",
      "(72,) (72, 57)\n",
      "best gain 0.09115501549280736\n",
      "left (41,)\n",
      "right (31,)\n",
      "(41,) (41, 57)\n",
      "best gain 0.08842775658746543\n",
      "left (34,)\n",
      "right (7,)\n",
      "(31,) (31, 57)\n",
      "best gain 0.007135424409097507\n",
      "left (7,)\n",
      "right (24,)\n",
      "(62,) (62, 57)\n",
      "best gain 0.06037114117238973\n",
      "left (60,)\n",
      "right (2,)\n",
      "(60,) (60, 57)\n",
      "best gain 0.016111111111111128\n",
      "left (58,)\n",
      "right (2,)\n",
      "(58,) (58, 57)\n",
      "(663,) (663, 57)\n",
      "best gain 0.038374339836961646\n",
      "left (639,)\n",
      "right (24,)\n",
      "(639,) (639, 57)\n",
      "best gain 0.008870388568306228\n",
      "left (634,)\n",
      "right (5,)\n",
      "(634,) (634, 57)\n",
      "best gain 0.008687376100125418\n",
      "left (631,)\n",
      "right (3,)\n",
      "(631,) (631, 57)\n",
      "best gain 0.006345336834448045\n",
      "left (624,)\n",
      "right (7,)\n"
     ]
    }
   ],
   "source": [
    "x_spam_train,y_spam_train = load_train_dataset()\n",
    "X_train,X_test, y_train, y_test = train_test_split(x_spam_train,y_spam_train,train_size=0.7,random_state=42,shuffle=True)\n",
    "tree = DecisionTreeClassifier(max_depth=5, min_samples_leaf=30)\n",
    "tree.fit(X_train, y_train)"
   ]
  },
  {
   "cell_type": "code",
   "execution_count": 11,
   "id": "67f94628",
   "metadata": {
    "execution": {
     "iopub.execute_input": "2022-05-29T20:09:40.349826Z",
     "iopub.status.busy": "2022-05-29T20:09:40.349136Z",
     "iopub.status.idle": "2022-05-29T20:09:40.757263Z",
     "shell.execute_reply": "2022-05-29T20:09:40.756264Z"
    },
    "papermill": {
     "duration": 0.423318,
     "end_time": "2022-05-29T20:09:40.759973",
     "exception": false,
     "start_time": "2022-05-29T20:09:40.336655",
     "status": "completed"
    },
    "tags": []
   },
   "outputs": [
    {
     "data": {
      "image/png": "[encoded data removed]",
      "text/plain": [
       "<Figure size 504x504 with 1 Axes>"
      ]
     },
     "metadata": {
      "needs_background": "light"
     },
     "output_type": "display_data"
    }
   ],
   "source": [
    "plot_roc_curve(y_test, tree.predict_proba(X_test))\n",
    "# draw_tree(tree)"
   ]
  },
  {
   "cell_type": "code",
   "execution_count": 12,
   "id": "5881343b",
   "metadata": {
    "execution": {
     "iopub.execute_input": "2022-05-29T20:09:40.785087Z",
     "iopub.status.busy": "2022-05-29T20:09:40.784679Z",
     "iopub.status.idle": "2022-05-29T20:09:41.414987Z",
     "shell.execute_reply": "2022-05-29T20:09:41.414108Z"
    },
    "papermill": {
     "duration": 0.64627,
     "end_time": "2022-05-29T20:09:41.418161",
     "exception": false,
     "start_time": "2022-05-29T20:09:40.771891",
     "status": "completed"
    },
    "tags": []
   },
   "outputs": [
    {
     "data": {
      "image/png": "[encoded data removed]",
      "text/plain": [
       "<Figure size 3041.28x1008 with 1 Axes>"
      ]
     },
     "metadata": {
      "needs_background": "light"
     },
     "output_type": "display_data"
    }
   ],
   "source": [
    "draw_tree(tree)"
   ]
  },
  {
   "cell_type": "markdown",
   "id": "f9123f87",
   "metadata": {
    "papermill": {
     "duration": 0.013351,
     "end_time": "2022-05-29T20:09:41.445944",
     "exception": false,
     "start_time": "2022-05-29T20:09:41.432593",
     "status": "completed"
    },
    "tags": []
   },
   "source": [
    "Результаты на валидации:"
   ]
  },
  {
   "cell_type": "code",
   "execution_count": 13,
   "id": "b5959361",
   "metadata": {
    "execution": {
     "iopub.execute_input": "2022-05-29T20:09:41.475354Z",
     "iopub.status.busy": "2022-05-29T20:09:41.474450Z",
     "iopub.status.idle": "2022-05-29T20:09:41.503219Z",
     "shell.execute_reply": "2022-05-29T20:09:41.502239Z"
    },
    "papermill": {
     "duration": 0.045779,
     "end_time": "2022-05-29T20:09:41.505469",
     "exception": false,
     "start_time": "2022-05-29T20:09:41.459690",
     "status": "completed"
    },
    "tags": []
   },
   "outputs": [
    {
     "name": "stdout",
     "output_type": "stream",
     "text": [
      "precision: 0.907103825136612\n",
      "recall: 0.7830188679245284\n",
      "f1: 0.8405063291139241\n"
     ]
    }
   ],
   "source": [
    "print(f\"precision: {precision_score(y_test, tree.predict(X_test))}\")\n",
    "print(f\"recall: {recall_score(y_test, tree.predict(X_test))}\")\n",
    "print(f\"f1: {f1_score(y_test, tree.predict(X_test))}\")"
   ]
  },
  {
   "cell_type": "markdown",
   "id": "f452730c",
   "metadata": {
    "papermill": {
     "duration": 0.013474,
     "end_time": "2022-05-29T20:09:41.532820",
     "exception": false,
     "start_time": "2022-05-29T20:09:41.519346",
     "status": "completed"
    },
    "tags": []
   },
   "source": [
    "### knn"
   ]
  },
  {
   "cell_type": "code",
   "execution_count": 14,
   "id": "1ef2ed36",
   "metadata": {
    "execution": {
     "iopub.execute_input": "2022-05-29T20:09:41.562672Z",
     "iopub.status.busy": "2022-05-29T20:09:41.561607Z",
     "iopub.status.idle": "2022-05-29T20:09:41.964986Z",
     "shell.execute_reply": "2022-05-29T20:09:41.963934Z"
    },
    "papermill": {
     "duration": 0.420934,
     "end_time": "2022-05-29T20:09:41.967545",
     "exception": false,
     "start_time": "2022-05-29T20:09:41.546611",
     "status": "completed"
    },
    "tags": []
   },
   "outputs": [
    {
     "name": "stdout",
     "output_type": "stream",
     "text": [
      "precision: 0.736\n",
      "recall: 0.8679245283018868\n",
      "f1: 0.7965367965367965\n"
     ]
    }
   ],
   "source": [
    "from sklearn.neighbors import KNeighborsClassifier\n",
    "knn = KNeighborsClassifier(n_neighbors=3,metric='cosine')\n",
    "knn.fit(X_train, y_train)\n",
    "print(f\"precision: {precision_score(y_test, knn.predict(X_test))}\")\n",
    "print(f\"recall: {recall_score(y_test, knn.predict(X_test))}\")\n",
    "print(f\"f1: {f1_score(y_test, knn.predict(X_test))}\")"
   ]
  },
  {
   "cell_type": "markdown",
   "id": "3ad48ad4",
   "metadata": {
    "papermill": {
     "duration": 0.013986,
     "end_time": "2022-05-29T20:09:41.995948",
     "exception": false,
     "start_time": "2022-05-29T20:09:41.981962",
     "status": "completed"
    },
    "tags": []
   },
   "source": [
    "### Naive Bayes"
   ]
  },
  {
   "cell_type": "markdown",
   "id": "f09ba9e8",
   "metadata": {
    "papermill": {
     "duration": 0.013917,
     "end_time": "2022-05-29T20:09:42.024251",
     "exception": false,
     "start_time": "2022-05-29T20:09:42.010334",
     "status": "completed"
    },
    "tags": []
   },
   "source": [
    "Можно попробовать наивный байес, причем фичи преобразовать в булевы."
   ]
  },
  {
   "cell_type": "code",
   "execution_count": 15,
   "id": "78935048",
   "metadata": {
    "execution": {
     "iopub.execute_input": "2022-05-29T20:09:42.054626Z",
     "iopub.status.busy": "2022-05-29T20:09:42.054072Z",
     "iopub.status.idle": "2022-05-29T20:09:42.070192Z",
     "shell.execute_reply": "2022-05-29T20:09:42.069527Z"
    },
    "papermill": {
     "duration": 0.034211,
     "end_time": "2022-05-29T20:09:42.072676",
     "exception": false,
     "start_time": "2022-05-29T20:09:42.038465",
     "status": "completed"
    },
    "tags": []
   },
   "outputs": [
    {
     "name": "stdout",
     "output_type": "stream",
     "text": [
      "precision: 0.8265524625267666\n",
      "recall: 0.910377358490566\n",
      "f1: 0.866442199775533\n"
     ]
    }
   ],
   "source": [
    "from sklearn.naive_bayes import ComplementNB\n",
    "nb = ComplementNB()\n",
    "nb.fit(X_train>0,y_train)\n",
    "print(f\"precision: {precision_score(y_test, nb.predict(X_test>0))}\")\n",
    "print(f\"recall: {recall_score(y_test, nb.predict(X_test>0))}\")\n",
    "print(f\"f1: {f1_score(y_test, nb.predict(X_test>0))}\")"
   ]
  },
  {
   "cell_type": "code",
   "execution_count": 16,
   "id": "6f1cc9e7",
   "metadata": {
    "execution": {
     "iopub.execute_input": "2022-05-29T20:09:42.104074Z",
     "iopub.status.busy": "2022-05-29T20:09:42.103405Z",
     "iopub.status.idle": "2022-05-29T20:09:42.116971Z",
     "shell.execute_reply": "2022-05-29T20:09:42.116178Z"
    },
    "papermill": {
     "duration": 0.031489,
     "end_time": "2022-05-29T20:09:42.119180",
     "exception": false,
     "start_time": "2022-05-29T20:09:42.087691",
     "status": "completed"
    },
    "tags": []
   },
   "outputs": [
    {
     "name": "stdout",
     "output_type": "stream",
     "text": [
      "precision: 0.8529411764705882\n",
      "recall: 0.8891509433962265\n",
      "f1: 0.8706697459584296\n"
     ]
    }
   ],
   "source": [
    "from sklearn.naive_bayes import MultinomialNB\n",
    "nb = MultinomialNB()\n",
    "\n",
    "nb.fit(X_train>0,y_train)\n",
    "print(f\"precision: {precision_score(y_test, nb.predict(X_test>0))}\")\n",
    "print(f\"recall: {recall_score(y_test, nb.predict(X_test>0))}\")\n",
    "print(f\"f1: {f1_score(y_test, nb.predict(X_test>0))}\")"
   ]
  },
  {
   "cell_type": "markdown",
   "id": "71bace3c",
   "metadata": {
    "papermill": {
     "duration": 0.014219,
     "end_time": "2022-05-29T20:09:42.148276",
     "exception": false,
     "start_time": "2022-05-29T20:09:42.134057",
     "status": "completed"
    },
    "tags": []
   },
   "source": [
    "1. Обучите модель на всех данных из x_spam_train и y_spam_train.\n",
    "2. Сделайте submit своего решения и получите значение f1_score не менее 0.6"
   ]
  },
  {
   "cell_type": "code",
   "execution_count": 17,
   "id": "28db73d4",
   "metadata": {
    "execution": {
     "iopub.execute_input": "2022-05-29T20:09:42.179665Z",
     "iopub.status.busy": "2022-05-29T20:09:42.178997Z",
     "iopub.status.idle": "2022-05-29T20:10:03.045613Z",
     "shell.execute_reply": "2022-05-29T20:10:03.044678Z"
    },
    "papermill": {
     "duration": 20.88491,
     "end_time": "2022-05-29T20:10:03.047948",
     "exception": false,
     "start_time": "2022-05-29T20:09:42.163038",
     "status": "completed"
    },
    "tags": []
   },
   "outputs": [
    {
     "name": "stdout",
     "output_type": "stream",
     "text": [
      "(3680,) (3680, 57)\n",
      "best gain 0.15527363236315803\n",
      "left (2145,)\n",
      "right (1535,)\n",
      "(2145,) (2145, 57)\n",
      "best gain 0.0669906874334906\n",
      "left (2001,)\n",
      "right (144,)\n",
      "(2001,) (2001, 57)\n",
      "best gain 0.033227186463162195\n",
      "left (1924,)\n",
      "right (77,)\n",
      "(1924,) (1924, 57)\n",
      "best gain 0.012577078316321419\n",
      "left (1799,)\n",
      "right (125,)\n",
      "(1799,) (1799, 57)\n",
      "best gain 0.0060318305197107625\n",
      "left (1755,)\n",
      "right (44,)\n",
      "(1755,) (1755, 57)\n",
      "best gain 0.0023406197717370097\n",
      "left (1101,)\n",
      "right (654,)\n",
      "(44,) (44, 57)\n",
      "best gain 0.15619834710743802\n",
      "left (30,)\n",
      "right (14,)\n",
      "(125,) (125, 57)\n",
      "best gain 0.13637420452985577\n",
      "left (94,)\n",
      "right (31,)\n",
      "(94,) (94, 57)\n",
      "best gain 0.04436396559529204\n",
      "left (47,)\n",
      "right (47,)\n",
      "(31,) (31, 57)\n",
      "best gain 0.2084248660731488\n",
      "left (4,)\n",
      "right (27,)\n",
      "(77,) (77, 57)\n",
      "best gain 0.1003544188780005\n",
      "left (38,)\n",
      "right (39,)\n",
      "(38,) (38, 57)\n",
      "best gain 0.23335180055401672\n",
      "left (25,)\n",
      "right (13,)\n",
      "(39,) (39, 57)\n",
      "best gain 0.04996712689020377\n",
      "left (38,)\n",
      "right (1,)\n",
      "(38,) (38, 57)\n",
      "(144,) (144, 57)\n",
      "best gain 0.11679299521953032\n",
      "left (133,)\n",
      "right (11,)\n",
      "(133,) (133, 57)\n",
      "best gain 0.02527296258208514\n",
      "left (131,)\n",
      "right (2,)\n",
      "(131,) (131, 57)\n",
      "best gain 0.026454431334073353\n",
      "left (129,)\n",
      "right (2,)\n",
      "(129,) (129, 57)\n",
      "best gain 0.019198910860540284\n",
      "left (119,)\n",
      "right (10,)\n",
      "(1535,) (1535, 57)\n",
      "best gain 0.1119333057222783\n",
      "left (593,)\n",
      "right (942,)\n",
      "(593,) (593, 57)\n",
      "best gain 0.10335149952291584\n",
      "left (440,)\n",
      "right (153,)\n",
      "(440,) (440, 57)\n",
      "best gain 0.07155668785231234\n",
      "left (401,)\n",
      "right (39,)\n",
      "(401,) (401, 57)\n",
      "best gain 0.04320510949577483\n",
      "left (380,)\n",
      "right (21,)\n",
      "(380,) (380, 57)\n",
      "best gain 0.04375637848082797\n",
      "left (361,)\n",
      "right (19,)\n",
      "(39,) (39, 57)\n",
      "best gain 0.0870693178385486\n",
      "left (37,)\n",
      "right (2,)\n",
      "(37,) (37, 57)\n",
      "best gain 0.04971187403619822\n",
      "left (36,)\n",
      "right (1,)\n",
      "(153,) (153, 57)\n",
      "best gain 0.06113567431329828\n",
      "left (144,)\n",
      "right (9,)\n",
      "(144,) (144, 57)\n",
      "best gain 0.041100543478260865\n",
      "left (138,)\n",
      "right (6,)\n",
      "(138,) (138, 57)\n",
      "best gain 0.03473593316063375\n",
      "left (135,)\n",
      "right (3,)\n",
      "(942,) (942, 57)\n",
      "best gain 0.041862154760514886\n",
      "left (909,)\n",
      "right (33,)\n",
      "(909,) (909, 57)\n",
      "best gain 0.014791847110392664\n",
      "left (891,)\n",
      "right (18,)\n",
      "(891,) (891, 57)\n",
      "best gain 0.008894488399915398\n",
      "left (883,)\n",
      "right (8,)\n",
      "(883,) (883, 57)\n",
      "best gain 0.006243966854383359\n",
      "left (880,)\n",
      "right (3,)\n",
      "(33,) (33, 57)\n",
      "best gain 0.19860042430575348\n",
      "left (29,)\n",
      "right (4,)\n"
     ]
    }
   ],
   "source": [
    "x_spam_train,y_spam_train = load_train_dataset()\n",
    "final_tree = DecisionTreeClassifier(max_depth=5, min_samples_leaf=30)\n",
    "final_tree.fit(x_spam_train, y_spam_train)"
   ]
  },
  {
   "cell_type": "code",
   "execution_count": 18,
   "id": "80694174",
   "metadata": {
    "execution": {
     "iopub.execute_input": "2022-05-29T20:10:03.081608Z",
     "iopub.status.busy": "2022-05-29T20:10:03.080846Z",
     "iopub.status.idle": "2022-05-29T20:10:03.118287Z",
     "shell.execute_reply": "2022-05-29T20:10:03.117368Z"
    },
    "papermill": {
     "duration": 0.056775,
     "end_time": "2022-05-29T20:10:03.120722",
     "exception": false,
     "start_time": "2022-05-29T20:10:03.063947",
     "status": "completed"
    },
    "pycharm": {
     "name": "#%%\n"
    },
    "tags": []
   },
   "outputs": [],
   "source": [
    "x_spam_test = load_test_dataset()\n",
    "\n",
    "submission = pd.DataFrame(columns = [\"Id\", \"Expected\"])\n",
    "submission[\"Id\"] = x_spam_test.pop(\"Id\")\n",
    "submission[\"Expected\"] = final_tree.predict(x_spam_test.values)\n",
    "submission.to_csv('submission.csv', index=False)\n"
   ]
  },
  {
   "cell_type": "code",
   "execution_count": 19,
   "id": "218d1136",
   "metadata": {
    "execution": {
     "iopub.execute_input": "2022-05-29T20:10:03.154333Z",
     "iopub.status.busy": "2022-05-29T20:10:03.153943Z",
     "iopub.status.idle": "2022-05-29T20:10:03.169246Z",
     "shell.execute_reply": "2022-05-29T20:10:03.168301Z"
    },
    "papermill": {
     "duration": 0.034118,
     "end_time": "2022-05-29T20:10:03.171255",
     "exception": false,
     "start_time": "2022-05-29T20:10:03.137137",
     "status": "completed"
    },
    "tags": []
   },
   "outputs": [
    {
     "data": {
      "text/html": [
       "<div>\n",
       "<style scoped>\n",
       "    .dataframe tbody tr th:only-of-type {\n",
       "        vertical-align: middle;\n",
       "    }\n",
       "\n",
       "    .dataframe tbody tr th {\n",
       "        vertical-align: top;\n",
       "    }\n",
       "\n",
       "    .dataframe thead th {\n",
       "        text-align: right;\n",
       "    }\n",
       "</style>\n",
       "<table border=\"1\" class=\"dataframe\">\n",
       "  <thead>\n",
       "    <tr style=\"text-align: right;\">\n",
       "      <th></th>\n",
       "      <th>Id</th>\n",
       "      <th>Expected</th>\n",
       "    </tr>\n",
       "  </thead>\n",
       "  <tbody>\n",
       "    <tr>\n",
       "      <th>0</th>\n",
       "      <td>0</td>\n",
       "      <td>0</td>\n",
       "    </tr>\n",
       "    <tr>\n",
       "      <th>1</th>\n",
       "      <td>1</td>\n",
       "      <td>0</td>\n",
       "    </tr>\n",
       "    <tr>\n",
       "      <th>2</th>\n",
       "      <td>2</td>\n",
       "      <td>0</td>\n",
       "    </tr>\n",
       "    <tr>\n",
       "      <th>3</th>\n",
       "      <td>3</td>\n",
       "      <td>0</td>\n",
       "    </tr>\n",
       "    <tr>\n",
       "      <th>4</th>\n",
       "      <td>4</td>\n",
       "      <td>0</td>\n",
       "    </tr>\n",
       "    <tr>\n",
       "      <th>...</th>\n",
       "      <td>...</td>\n",
       "      <td>...</td>\n",
       "    </tr>\n",
       "    <tr>\n",
       "      <th>916</th>\n",
       "      <td>916</td>\n",
       "      <td>1</td>\n",
       "    </tr>\n",
       "    <tr>\n",
       "      <th>917</th>\n",
       "      <td>917</td>\n",
       "      <td>0</td>\n",
       "    </tr>\n",
       "    <tr>\n",
       "      <th>918</th>\n",
       "      <td>918</td>\n",
       "      <td>1</td>\n",
       "    </tr>\n",
       "    <tr>\n",
       "      <th>919</th>\n",
       "      <td>919</td>\n",
       "      <td>0</td>\n",
       "    </tr>\n",
       "    <tr>\n",
       "      <th>920</th>\n",
       "      <td>920</td>\n",
       "      <td>1</td>\n",
       "    </tr>\n",
       "  </tbody>\n",
       "</table>\n",
       "<p>921 rows × 2 columns</p>\n",
       "</div>"
      ],
      "text/plain": [
       "      Id  Expected\n",
       "0      0         0\n",
       "1      1         0\n",
       "2      2         0\n",
       "3      3         0\n",
       "4      4         0\n",
       "..   ...       ...\n",
       "916  916         1\n",
       "917  917         0\n",
       "918  918         1\n",
       "919  919         0\n",
       "920  920         1\n",
       "\n",
       "[921 rows x 2 columns]"
      ]
     },
     "execution_count": 19,
     "metadata": {},
     "output_type": "execute_result"
    }
   ],
   "source": [
    "submission"
   ]
  },
  {
   "cell_type": "markdown",
   "id": "c8201ba0",
   "metadata": {
    "papermill": {
     "duration": 0.015441,
     "end_time": "2022-05-29T20:10:03.202734",
     "exception": false,
     "start_time": "2022-05-29T20:10:03.187293",
     "status": "completed"
    },
    "tags": []
   },
   "source": [
    "Ответы:"
   ]
  },
  {
   "cell_type": "markdown",
   "id": "2972fb95",
   "metadata": {
    "execution": {
     "iopub.execute_input": "2022-05-29T19:42:41.521665Z",
     "iopub.status.busy": "2022-05-29T19:42:41.520676Z",
     "iopub.status.idle": "2022-05-29T19:42:41.556039Z",
     "shell.execute_reply": "2022-05-29T19:42:41.554696Z",
     "shell.execute_reply.started": "2022-05-29T19:42:41.521518Z"
    },
    "papermill": {
     "duration": 0.015432,
     "end_time": "2022-05-29T20:10:03.234143",
     "exception": false,
     "start_time": "2022-05-29T20:10:03.218711",
     "status": "completed"
    },
    "tags": []
   },
   "source": [
    "1. Препроцессинг для наших данных не требуется. В общем случае, в зависимости от реализации, нужно закодировать категоральные переменные.\n",
    "2. Для этих данных решающее дерево лучше, они разреженные, подготовленные с помощью TF-IDF(или чем-то подобным). Я бы еще попробовал Naive Bayes или Complement Naive Bayes. Для более подробного сравнения моделей нужно поподбирать гиперпараметры, пока видно ,что knn  хуже(подобрал только метрику и количество соседей). Наивный Байес сравнимо и/или лучше.\n"
   ]
  },
  {
   "cell_type": "code",
   "execution_count": null,
   "id": "ec10bb02",
   "metadata": {
    "papermill": {
     "duration": 0.015268,
     "end_time": "2022-05-29T20:10:03.265146",
     "exception": false,
     "start_time": "2022-05-29T20:10:03.249878",
     "status": "completed"
    },
    "tags": []
   },
   "outputs": [],
   "source": []
  }
 ],
 "metadata": {
  "kernelspec": {
   "display_name": "Python 3",
   "language": "python",
   "name": "python3"
  },
  "language_info": {
   "codemirror_mode": {
    "name": "ipython",
    "version": 3
   },
   "file_extension": ".py",
   "mimetype": "text/x-python",
   "name": "python",
   "nbconvert_exporter": "python",
   "pygments_lexer": "ipython3",
   "version": "3.7.12"
  },
  "papermill": {
   "default_parameters": {},
   "duration": 50.741444,
   "end_time": "2022-05-29T20:10:04.002145",
   "environment_variables": {},
   "exception": null,
   "input_path": "__notebook__.ipynb",
   "output_path": "__notebook__.ipynb",
   "parameters": {},
   "start_time": "2022-05-29T20:09:13.260701",
   "version": "2.3.4"
  }
 },
 "nbformat": 4,
 "nbformat_minor": 5
}
