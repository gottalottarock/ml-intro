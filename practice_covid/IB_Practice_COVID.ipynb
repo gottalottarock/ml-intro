{
 "cells": [
  {
   "cell_type": "markdown",
   "metadata": {
    "colab_type": "text",
    "id": "view-in-github"
   },
   "source": [
    "<a href=\"https://colab.research.google.com/github/gottalottarock/ml-intro/blob/main/practice_covid/IB_Practice_COVID.ipynb\" target=\"_parent\"><img src=\"https://colab.research.google.com/assets/colab-badge.svg\" alt=\"Open In Colab\"/></a>"
   ]
  },
  {
   "cell_type": "markdown",
   "metadata": {
    "id": "BfLjxv-h7nVh"
   },
   "source": [
    "# Предсказание активности молекул по отношению к таргету\n",
    "\n",
    "*При подготовке ноутбука использовались данные из соревнования [Global AI Challenge](https://codenrock.com/contests/global-ai#/)* "
   ]
  },
  {
   "cell_type": "markdown",
   "metadata": {
    "id": "4Mesk6L-WEOS"
   },
   "source": [
    "Целью данной задачи является предсказание активности молекулы лиганда по отношению к таргету - Covid 19"
   ]
  },
  {
   "cell_type": "markdown",
   "metadata": {
    "id": "VGti6b5XvgZP"
   },
   "source": [
    "![](https://cloudfront.jove.com/files/media/science-education/science-education-thumbs/11513.jpg)"
   ]
  },
  {
   "cell_type": "markdown",
   "metadata": {
    "id": "hjme9vCGPeoR"
   },
   "source": [
    "## План анализа данных:\n",
    "\n",
    "  1. Загрузить данные для обучения\n",
    "  2. Обработать данные перед обучением модели\n",
    "  3. Обучить модель на обучающей выборке\n",
    "  4. Загрузить и предобработать данные для тестирования\n",
    "  5. Провалидировать модель на тестовой выборке\n"
   ]
  },
  {
   "cell_type": "markdown",
   "metadata": {
    "id": "yLs9g1vq7nVl"
   },
   "source": [
    "# 0. Установка и импорт библиотек"
   ]
  },
  {
   "cell_type": "code",
   "execution_count": 4,
   "metadata": {
    "id": "qR-1lYPb7nVm"
   },
   "outputs": [],
   "source": [
    "# Python ≥3.5 is required\n",
    "import sys\n",
    "assert sys.version_info >= (3, 5)\n",
    "\n",
    "# Scikit-Learn ≥0.20 is required\n",
    "import sklearn\n",
    "assert sklearn.__version__ >= \"0.20\"\n",
    "\n",
    "# Common imports\n",
    "import numpy as np\n",
    "import os\n",
    "\n",
    "# To plot pretty figures\n",
    "%matplotlib inline\n",
    "import matplotlib as mpl\n",
    "import matplotlib.pyplot as plt\n",
    "mpl.rc('axes', labelsize=14)\n",
    "mpl.rc('xtick', labelsize=12)\n",
    "mpl.rc('ytick', labelsize=12)\n",
    "\n",
    "# Where to save the figures\n",
    "PROJECT_ROOT_DIR = \".\"\n",
    "CHAPTER_ID = \"end_to_end_project\"\n",
    "IMAGES_PATH = os.path.join(PROJECT_ROOT_DIR, \"images\", CHAPTER_ID)\n",
    "os.makedirs(IMAGES_PATH, exist_ok=True)\n",
    "\n",
    "def save_fig(fig_id, tight_layout=True, fig_extension=\"png\", resolution=300):\n",
    "    path = os.path.join(IMAGES_PATH, fig_id + \".\" + fig_extension)\n",
    "    print(\"Saving figure\", fig_id)\n",
    "    if tight_layout:\n",
    "        plt.tight_layout()\n",
    "    plt.savefig(path, format=fig_extension, dpi=resolution)"
   ]
  },
  {
   "cell_type": "markdown",
   "metadata": {
    "id": "mkKx4rBe7nVn"
   },
   "source": [
    "# 1. Загрузка данных"
   ]
  },
  {
   "cell_type": "code",
   "execution_count": 2,
   "metadata": {
    "colab": {
     "base_uri": "https://localhost:8080/"
    },
    "id": "iu4_4vH5U-b_",
    "outputId": "9d69e5f6-10bc-4154-edf5-43e7d7cc921e"
   },
   "outputs": [
    {
     "name": "stdout",
     "output_type": "stream",
     "text": [
      "--2022-03-30 16:52:29--  https://www.dropbox.com/s/48c34raijlxc0nw/train.csv\n",
      "Resolving www.dropbox.com (www.dropbox.com)... 162.125.4.18, 2620:100:601c:18::a27d:612\n",
      "Connecting to www.dropbox.com (www.dropbox.com)|162.125.4.18|:443... connected.\n",
      "HTTP request sent, awaiting response... 301 Moved Permanently\n",
      "Location: /s/raw/48c34raijlxc0nw/train.csv [following]\n",
      "--2022-03-30 16:52:29--  https://www.dropbox.com/s/raw/48c34raijlxc0nw/train.csv\n",
      "Reusing existing connection to www.dropbox.com:443.\n",
      "HTTP request sent, awaiting response... 302 Found\n",
      "Location: https://ucf0baa4b08dc891579dc6f163b2.dl.dropboxusercontent.com/cd/0/inline/BifKkgartxowjgLoxb5lz2ra3efTKsw8dCFBcfKqYacm-8Y8qtNqtYFZVq0l8uk257_C6oYAxVKU79SnaLwS3pEYsgf1nHOLoL3U4HfEL1fwhb572539M1M7_YPqFLvOSYs3ldJNPnYq6ZnDXl97IsNWf4Nk-zbnbCxHL4A6R-wtIw/file# [following]\n",
      "--2022-03-30 16:52:30--  https://ucf0baa4b08dc891579dc6f163b2.dl.dropboxusercontent.com/cd/0/inline/BifKkgartxowjgLoxb5lz2ra3efTKsw8dCFBcfKqYacm-8Y8qtNqtYFZVq0l8uk257_C6oYAxVKU79SnaLwS3pEYsgf1nHOLoL3U4HfEL1fwhb572539M1M7_YPqFLvOSYs3ldJNPnYq6ZnDXl97IsNWf4Nk-zbnbCxHL4A6R-wtIw/file\n",
      "Resolving ucf0baa4b08dc891579dc6f163b2.dl.dropboxusercontent.com (ucf0baa4b08dc891579dc6f163b2.dl.dropboxusercontent.com)... 162.125.4.15, 2620:100:601b:15::a27d:80f\n",
      "Connecting to ucf0baa4b08dc891579dc6f163b2.dl.dropboxusercontent.com (ucf0baa4b08dc891579dc6f163b2.dl.dropboxusercontent.com)|162.125.4.15|:443... connected.\n",
      "HTTP request sent, awaiting response... 200 OK\n",
      "Length: 347946 (340K) [text/plain]\n",
      "Saving to: ‘train.csv.5’\n",
      "\n",
      "train.csv.5         100%[===================>] 339.79K  --.-KB/s    in 0.03s   \n",
      "\n",
      "2022-03-30 16:52:30 (11.4 MB/s) - ‘train.csv.5’ saved [347946/347946]\n",
      "\n",
      "--2022-03-30 16:52:30--  https://www.dropbox.com/s/297trreazro8ivr/test_labels.csv\n",
      "Resolving www.dropbox.com (www.dropbox.com)... 162.125.4.18, 2620:100:601c:18::a27d:612\n",
      "Connecting to www.dropbox.com (www.dropbox.com)|162.125.4.18|:443... connected.\n",
      "HTTP request sent, awaiting response... 301 Moved Permanently\n",
      "Location: /s/raw/297trreazro8ivr/test_labels.csv [following]\n",
      "--2022-03-30 16:52:30--  https://www.dropbox.com/s/raw/297trreazro8ivr/test_labels.csv\n",
      "Reusing existing connection to www.dropbox.com:443.\n",
      "HTTP request sent, awaiting response... 302 Found\n",
      "Location: https://uc5f0e1c13271472ceaf55985866.dl.dropboxusercontent.com/cd/0/inline/Bid91fQ_ocm9rdLodnPBz54KMD0m_Ltzc3bBgPCSiW66zLYSRt97cZt7XwhtcJWKWOYejA9iLkSloFQT8s6KG4Den8rHQMu0AR7Lox8PMJ4YqWMeISXyU6CiQthE1el7xGy4d6AdctHXZCAo5gM3tL3Ajcsr_jzI4N45m47uzglCug/file# [following]\n",
      "--2022-03-30 16:52:30--  https://uc5f0e1c13271472ceaf55985866.dl.dropboxusercontent.com/cd/0/inline/Bid91fQ_ocm9rdLodnPBz54KMD0m_Ltzc3bBgPCSiW66zLYSRt97cZt7XwhtcJWKWOYejA9iLkSloFQT8s6KG4Den8rHQMu0AR7Lox8PMJ4YqWMeISXyU6CiQthE1el7xGy4d6AdctHXZCAo5gM3tL3Ajcsr_jzI4N45m47uzglCug/file\n",
      "Resolving uc5f0e1c13271472ceaf55985866.dl.dropboxusercontent.com (uc5f0e1c13271472ceaf55985866.dl.dropboxusercontent.com)... 162.125.4.15, 2620:100:601b:15::a27d:80f\n",
      "Connecting to uc5f0e1c13271472ceaf55985866.dl.dropboxusercontent.com (uc5f0e1c13271472ceaf55985866.dl.dropboxusercontent.com)|162.125.4.15|:443... connected.\n",
      "HTTP request sent, awaiting response... 200 OK\n",
      "Length: 102252 (100K) [text/plain]\n",
      "Saving to: ‘test_labels.csv.5’\n",
      "\n",
      "test_labels.csv.5   100%[===================>]  99.86K  --.-KB/s    in 0.02s   \n",
      "\n",
      "2022-03-30 16:52:31 (5.47 MB/s) - ‘test_labels.csv.5’ saved [102252/102252]\n",
      "\n"
     ]
    }
   ],
   "source": [
    "!wget https://www.dropbox.com/s/48c34raijlxc0nw/train.csv\n",
    "!wget https://www.dropbox.com/s/297trreazro8ivr/test_labels.csv"
   ]
  },
  {
   "cell_type": "code",
   "execution_count": 5,
   "metadata": {
    "id": "2Vb2iXqFVlIv"
   },
   "outputs": [],
   "source": [
    "DATA_PATH = \"./\"\n",
    "TRAIN_FILE = \"train.csv\"\n",
    "TEST_FILE = \"test_labels.csv\"\n",
    "\n",
    "SMILES_COLUMN = \"smiles\"\n",
    "TARGET_COLUMN = \"Active\""
   ]
  },
  {
   "cell_type": "code",
   "execution_count": 6,
   "metadata": {
    "id": "Wo7p7rlh7nVp"
   },
   "outputs": [],
   "source": [
    "import pandas as pd\n",
    "\n",
    "def load_train_test_data():\n",
    "    train_csv_path = os.path.join(DATA_PATH, TRAIN_FILE)\n",
    "    test_csv_path = os.path.join(DATA_PATH, TEST_FILE)\n",
    "    train_data = pd.read_csv(train_csv_path, index_col = 0)\n",
    "    test_data = pd.read_csv(test_csv_path,index_col = 0)\n",
    "    return train_data.rename(columns = {\"Smiles\":SMILES_COLUMN}), test_data.rename(columns = {\"Smiles\":SMILES_COLUMN})"
   ]
  },
  {
   "cell_type": "markdown",
   "metadata": {
    "id": "d5FULuFD7nVq"
   },
   "source": [
    "## 1.1 Анализ данных, формулировка задачи машинного обучения"
   ]
  },
  {
   "cell_type": "markdown",
   "metadata": {
    "id": "rR7a3bjKYXMg"
   },
   "source": [
    "Молекулы представлены в виде [SMILES нотации](https://en.wikipedia.org/wiki/Simplified_molecular-input_line-entry_system).\n",
    "\n",
    "![](https://upload.wikimedia.org/wikipedia/commons/thumb/0/00/SMILES.png/450px-SMILES.png)"
   ]
  },
  {
   "cell_type": "code",
   "execution_count": 7,
   "metadata": {
    "colab": {
     "base_uri": "https://localhost:8080/",
     "height": 206
    },
    "id": "SFPTy2uU7nVq",
    "outputId": "6ec69e06-7f32-40ed-a0b6-d8d2c1c11a3e"
   },
   "outputs": [
    {
     "data": {
      "text/html": [
       "<div>\n",
       "<style scoped>\n",
       "    .dataframe tbody tr th:only-of-type {\n",
       "        vertical-align: middle;\n",
       "    }\n",
       "\n",
       "    .dataframe tbody tr th {\n",
       "        vertical-align: top;\n",
       "    }\n",
       "\n",
       "    .dataframe thead th {\n",
       "        text-align: right;\n",
       "    }\n",
       "</style>\n",
       "<table border=\"1\" class=\"dataframe\">\n",
       "  <thead>\n",
       "    <tr style=\"text-align: right;\">\n",
       "      <th></th>\n",
       "      <th>smiles</th>\n",
       "      <th>Active</th>\n",
       "    </tr>\n",
       "  </thead>\n",
       "  <tbody>\n",
       "    <tr>\n",
       "      <th>0</th>\n",
       "      <td>COc1ccc2[nH]cc(CCN)c2c1</td>\n",
       "      <td>False</td>\n",
       "    </tr>\n",
       "    <tr>\n",
       "      <th>1</th>\n",
       "      <td>CCCN1CCC[C@H](c2cccc(O)c2)C1.Cl</td>\n",
       "      <td>False</td>\n",
       "    </tr>\n",
       "    <tr>\n",
       "      <th>2</th>\n",
       "      <td>O=C(NO)c1cnc(N2CCN(S(=O)(=O)c3ccc4ccccc4c3)CC2...</td>\n",
       "      <td>False</td>\n",
       "    </tr>\n",
       "    <tr>\n",
       "      <th>3</th>\n",
       "      <td>Nc1cccc(CNC(=O)c2ccc(Oc3ccc(OCc4cccc(F)c4)cc3)...</td>\n",
       "      <td>False</td>\n",
       "    </tr>\n",
       "    <tr>\n",
       "      <th>4</th>\n",
       "      <td>Fc1ccccc1CNCc1ccc(-c2ccnc3[nH]ccc23)cc1</td>\n",
       "      <td>False</td>\n",
       "    </tr>\n",
       "  </tbody>\n",
       "</table>\n",
       "</div>"
      ],
      "text/plain": [
       "                                              smiles  Active\n",
       "0                            COc1ccc2[nH]cc(CCN)c2c1   False\n",
       "1                    CCCN1CCC[C@H](c2cccc(O)c2)C1.Cl   False\n",
       "2  O=C(NO)c1cnc(N2CCN(S(=O)(=O)c3ccc4ccccc4c3)CC2...   False\n",
       "3  Nc1cccc(CNC(=O)c2ccc(Oc3ccc(OCc4cccc(F)c4)cc3)...   False\n",
       "4            Fc1ccccc1CNCc1ccc(-c2ccnc3[nH]ccc23)cc1   False"
      ]
     },
     "execution_count": 7,
     "metadata": {},
     "output_type": "execute_result"
    }
   ],
   "source": [
    "train_data, test_data = load_train_test_data()\n",
    "train_data.head()"
   ]
  },
  {
   "cell_type": "code",
   "execution_count": 8,
   "metadata": {
    "colab": {
     "base_uri": "https://localhost:8080/"
    },
    "id": "0LgIX7sO7nVr",
    "outputId": "5905d7a1-d3ee-434a-ac03-795740a0bf42"
   },
   "outputs": [
    {
     "name": "stdout",
     "output_type": "stream",
     "text": [
      "<class 'pandas.core.frame.DataFrame'>\n",
      "Int64Index: 5557 entries, 0 to 5556\n",
      "Data columns (total 2 columns):\n",
      " #   Column  Non-Null Count  Dtype \n",
      "---  ------  --------------  ----- \n",
      " 0   smiles  5557 non-null   object\n",
      " 1   Active  5557 non-null   bool  \n",
      "dtypes: bool(1), object(1)\n",
      "memory usage: 92.3+ KB\n"
     ]
    }
   ],
   "source": [
    "train_data.info()"
   ]
  },
  {
   "cell_type": "code",
   "execution_count": 9,
   "metadata": {
    "colab": {
     "base_uri": "https://localhost:8080/"
    },
    "id": "E4y37kGY7nVr",
    "outputId": "080cd940-2716-4cb8-e99f-bd610ac0cfda"
   },
   "outputs": [
    {
     "data": {
      "text/plain": [
       "False    5351\n",
       "True      206\n",
       "Name: Active, dtype: int64"
      ]
     },
     "execution_count": 9,
     "metadata": {},
     "output_type": "execute_result"
    }
   ],
   "source": [
    "train_data[TARGET_COLUMN].value_counts()"
   ]
  },
  {
   "cell_type": "markdown",
   "metadata": {
    "id": "dGqDoviDYJT7"
   },
   "source": [
    "## 1.2 Предобработка данных"
   ]
  },
  {
   "cell_type": "code",
   "execution_count": 10,
   "metadata": {
    "id": "f92T0U7FY2RJ"
   },
   "outputs": [],
   "source": [
    "from rdkit import Chem\n",
    "from rdkit.Chem.SaltRemover import SaltRemover"
   ]
  },
  {
   "cell_type": "code",
   "execution_count": 11,
   "metadata": {
    "id": "fftxIeZvYN9D"
   },
   "outputs": [],
   "source": [
    "def remove_salts_and_canonicalized(smiles: str):\n",
    "    remover = SaltRemover(defnData=\"[Cl,Br]\")\n",
    "    mol = Chem.MolFromSmiles(smiles)\n",
    "    res = remover.StripMol(mol)\n",
    "    processed_smiles = Chem.MolToSmiles(res)\n",
    "    return processed_smiles"
   ]
  },
  {
   "cell_type": "code",
   "execution_count": 12,
   "metadata": {
    "id": "JPxDUTZ3bX50"
   },
   "outputs": [],
   "source": [
    "train_data[SMILES_COLUMN] = list(map(remove_salts_and_canonicalized, train_data[SMILES_COLUMN]))\n",
    "test_data[SMILES_COLUMN] = list(map(remove_salts_and_canonicalized, test_data[SMILES_COLUMN]))"
   ]
  },
  {
   "cell_type": "code",
   "execution_count": 13,
   "metadata": {
    "id": "OalSNSQJbnRy"
   },
   "outputs": [],
   "source": [
    "def change_str_target_to_int(targets: pd.Series):\n",
    "    target_map = {True: 1, False: 0}\n",
    "    processed_targets = targets.map(target_map)\n",
    "    return processed_targets.values"
   ]
  },
  {
   "cell_type": "code",
   "execution_count": 14,
   "metadata": {
    "id": "TV2SVaBvbyCJ"
   },
   "outputs": [],
   "source": [
    "train_data[TARGET_COLUMN] = change_str_target_to_int(train_data[TARGET_COLUMN])\n",
    "test_data[TARGET_COLUMN] = change_str_target_to_int(test_data[TARGET_COLUMN])"
   ]
  },
  {
   "cell_type": "code",
   "execution_count": 15,
   "metadata": {
    "colab": {
     "base_uri": "https://localhost:8080/",
     "height": 206
    },
    "id": "qYUE5SVJb74V",
    "outputId": "c8ff7681-404b-40e5-ea9c-0832133f10d1"
   },
   "outputs": [
    {
     "data": {
      "text/html": [
       "<div>\n",
       "<style scoped>\n",
       "    .dataframe tbody tr th:only-of-type {\n",
       "        vertical-align: middle;\n",
       "    }\n",
       "\n",
       "    .dataframe tbody tr th {\n",
       "        vertical-align: top;\n",
       "    }\n",
       "\n",
       "    .dataframe thead th {\n",
       "        text-align: right;\n",
       "    }\n",
       "</style>\n",
       "<table border=\"1\" class=\"dataframe\">\n",
       "  <thead>\n",
       "    <tr style=\"text-align: right;\">\n",
       "      <th></th>\n",
       "      <th>smiles</th>\n",
       "      <th>Active</th>\n",
       "    </tr>\n",
       "  </thead>\n",
       "  <tbody>\n",
       "    <tr>\n",
       "      <th>0</th>\n",
       "      <td>COc1ccc2[nH]cc(CCN)c2c1</td>\n",
       "      <td>0</td>\n",
       "    </tr>\n",
       "    <tr>\n",
       "      <th>1</th>\n",
       "      <td>CCCN1CCC[C@H](c2cccc(O)c2)C1</td>\n",
       "      <td>0</td>\n",
       "    </tr>\n",
       "    <tr>\n",
       "      <th>2</th>\n",
       "      <td>O=C(NO)c1cnc(N2CCN(S(=O)(=O)c3ccc4ccccc4c3)CC2...</td>\n",
       "      <td>0</td>\n",
       "    </tr>\n",
       "    <tr>\n",
       "      <th>3</th>\n",
       "      <td>Nc1cccc(CNC(=O)c2ccc(Oc3ccc(OCc4cccc(F)c4)cc3)...</td>\n",
       "      <td>0</td>\n",
       "    </tr>\n",
       "    <tr>\n",
       "      <th>4</th>\n",
       "      <td>Fc1ccccc1CNCc1ccc(-c2ccnc3[nH]ccc23)cc1</td>\n",
       "      <td>0</td>\n",
       "    </tr>\n",
       "  </tbody>\n",
       "</table>\n",
       "</div>"
      ],
      "text/plain": [
       "                                              smiles  Active\n",
       "0                            COc1ccc2[nH]cc(CCN)c2c1       0\n",
       "1                       CCCN1CCC[C@H](c2cccc(O)c2)C1       0\n",
       "2  O=C(NO)c1cnc(N2CCN(S(=O)(=O)c3ccc4ccccc4c3)CC2...       0\n",
       "3  Nc1cccc(CNC(=O)c2ccc(Oc3ccc(OCc4cccc(F)c4)cc3)...       0\n",
       "4            Fc1ccccc1CNCc1ccc(-c2ccnc3[nH]ccc23)cc1       0"
      ]
     },
     "execution_count": 15,
     "metadata": {},
     "output_type": "execute_result"
    }
   ],
   "source": [
    "train_data.head()"
   ]
  },
  {
   "cell_type": "markdown",
   "metadata": {
    "id": "VA5cvAMB7nV0"
   },
   "source": [
    "## 1.3 Feature engineering"
   ]
  },
  {
   "cell_type": "markdown",
   "metadata": {
    "id": "eapoisincy5y"
   },
   "source": [
    "Молекулу можно представить в виде фингерпринта - вектора свойств, полученного по определенному алгоритму.\n",
    "\n",
    "Мы будем считать фингерпринты при помощи библиотеки RDKit. Про различные фингерпринты и их описание можно почитать тут - https://www.rdkit.org/docs/GettingStartedInPython.html#fingerprinting-and-molecular-similarity\n",
    "\n",
    "![](https://sun9-64.userapi.com/impf/_8Zy5WO6Mt0SIPx1YS02DeErAoZ0RHcwgc-kZg/Md98bNVzBg0.jpg?size=831x415&quality=96&sign=cb20481128a04ff523fd662dd0e604ab&type=album)\n"
   ]
  },
  {
   "cell_type": "markdown",
   "metadata": {
    "id": "JGRmKT4GfZhO"
   },
   "source": [
    "### Моргановские фингерпринты (ECFP)\n",
    "\n",
    "![](https://d3i71xaburhd42.cloudfront.net/52adf3589e8b7b9855353e5815669258ef6e3405/6-Figure2-1.png)"
   ]
  },
  {
   "cell_type": "code",
   "execution_count": 16,
   "metadata": {
    "id": "s_dhJG0hcjar"
   },
   "outputs": [],
   "source": [
    "from enum import Enum\n",
    "from functools import partial\n",
    "from rdkit import Chem, DataStructs\n",
    "from rdkit.DataStructs import ExplicitBitVect\n",
    "from rdkit.Chem import AllChem, MACCSkeys\n",
    "from typing import List"
   ]
  },
  {
   "cell_type": "code",
   "execution_count": 17,
   "metadata": {
    "id": "fDAw132ncV1z"
   },
   "outputs": [],
   "source": [
    "class FingerprintsNames(Enum):\n",
    "    ECFP4 = \"morgan_2_2048\"\n",
    "    RDKitFP = \"RDKFingerprint\"\n",
    "    TOPOTORSION = \"topological_torsion\"\n",
    "    MACCS = \"MACCSkeys\"\n",
    "    PATTERN = \"PatternFingerprint\"\n",
    "    ATOMPAIR = \"AtomPairFingerprint\"\n",
    "\n",
    "\n",
    "\n",
    "FINGERPRINTS_METHODS = {\n",
    "    FingerprintsNames.ECFP4: partial(AllChem.GetMorganFingerprintAsBitVect, radius=2, nBits=2048),\n",
    "    FingerprintsNames.RDKitFP: partial(Chem.RDKFingerprint, fpSize=2048),#TODO\n",
    "    FingerprintsNames.TOPOTORSION: partial(AllChem.GetHashedTopologicalTorsionFingerprintAsBitVect, nBits=2048),#TODO\n",
    "    FingerprintsNames.MACCS: MACCSkeys.GenMACCSKeys,#TODO\n",
    "    FingerprintsNames.PATTERN: partial(Chem.PatternFingerprint,fpSize=1024),#TODO\n",
    "    FingerprintsNames.ATOMPAIR: partial(AllChem.GetHashedAtomPairFingerprintAsBitVect,nBits=2048)}#TODO\n"
   ]
  },
  {
   "cell_type": "code",
   "execution_count": 18,
   "metadata": {
    "id": "JenRUlnqftff"
   },
   "outputs": [],
   "source": [
    "fingerprint_type_name = FingerprintsNames.ECFP4\n",
    "fingerprint_type_method = FINGERPRINTS_METHODS[fingerprint_type_name]"
   ]
  },
  {
   "cell_type": "code",
   "execution_count": 19,
   "metadata": {
    "colab": {
     "base_uri": "https://localhost:8080/",
     "height": 237
    },
    "id": "gq0LMqS_f3IS",
    "outputId": "b6e65237-b78c-4d00-906a-c2081b2951f9"
   },
   "outputs": [],
   "source": [
    "def bit_vectors_to_numpy_arrays(fps: List[ExplicitBitVect]) -> np.array:\n",
    "    output_arrays = [np.zeros((1,)) for i in range(len(fps))]\n",
    "    _ = list(\n",
    "        map(lambda fp_output_array: DataStructs.ConvertToNumpyArray(fp_output_array[0], fp_output_array[1]),\n",
    "            zip(fps, output_arrays)))\n",
    "    return np.asarray(output_arrays)\n",
    "\n",
    "def get_np_array_of_fps(fp_type, smiles: List[str]):\n",
    "    # Calculate the morgan fingerprint\n",
    "    mols = [Chem.MolFromSmiles(m) for m in smiles]\n",
    "    fp = list(map(fp_type, mols))\n",
    "    return bit_vectors_to_numpy_arrays(fp)"
   ]
  },
  {
   "cell_type": "code",
   "execution_count": 20,
   "metadata": {
    "id": "51QDqlK9gIPL"
   },
   "outputs": [],
   "source": [
    "train_fp = get_np_array_of_fps(fp_type=fingerprint_type_method, smiles=train_data[SMILES_COLUMN])\n",
    "test_fp = get_np_array_of_fps(fp_type=fingerprint_type_method, smiles=test_data[SMILES_COLUMN])"
   ]
  },
  {
   "cell_type": "code",
   "execution_count": 21,
   "metadata": {
    "id": "UazJXd7ihDaN"
   },
   "outputs": [],
   "source": [
    "y_train = train_data[TARGET_COLUMN]\n",
    "y_test = test_data[TARGET_COLUMN]"
   ]
  },
  {
   "cell_type": "markdown",
   "metadata": {
    "id": "sxGZENW4iK12"
   },
   "source": [
    "# 2. Подготовка к обучению модели"
   ]
  },
  {
   "cell_type": "markdown",
   "metadata": {
    "id": "6Bb6GxjliWoo"
   },
   "source": [
    "## 2.1 Кросс-валидация"
   ]
  },
  {
   "cell_type": "markdown",
   "metadata": {
    "id": "ETyud6zkiWuL"
   },
   "source": [
    "![](https://pubs.rsc.org/image/article/2018/SC/c7sc02664a/c7sc02664a-f3_hi-res.gif)"
   ]
  },
  {
   "cell_type": "code",
   "execution_count": 33,
   "metadata": {
    "colab": {
     "base_uri": "https://localhost:8080/"
    },
    "id": "6ODko-1xjg-h",
    "outputId": "de333b6d-3eb6-40e4-b9e4-f4dca7d8cd18"
   },
   "outputs": [
    {
     "name": "stderr",
     "output_type": "stream",
     "text": [
      "Using backend: pytorch\n"
     ]
    }
   ],
   "source": [
    "from dgllife.utils import ScaffoldSplitter"
   ]
  },
  {
   "cell_type": "code",
   "execution_count": 34,
   "metadata": {
    "id": "HKRNnI7Gjaom"
   },
   "outputs": [],
   "source": [
    "class ScaffoldCVSklearn:\n",
    "    def __init__(self, data, k_folds):\n",
    "        self.scaffold_splits = ScaffoldSplitter.k_fold_split(data, k=k_folds)\n",
    "\n",
    "    def split(self):\n",
    "        indices_splits = []\n",
    "        for train_data, val_data in self.scaffold_splits:\n",
    "          train_indices = train_data.indices\n",
    "          val_indices = val_data.indices\n",
    "          indices_splits.append((train_indices, val_indices))\n",
    "        return indices_splits\n",
    "\n",
    "    def convert_data_to_indices(self, dataset):\n",
    "        indices = [index for index, row in dataset.iterrows()]\n",
    "        return indices\n"
   ]
  },
  {
   "cell_type": "code",
   "execution_count": 35,
   "metadata": {
    "colab": {
     "base_uri": "https://localhost:8080/"
    },
    "id": "ZgtmVfTIjkYt",
    "outputId": "9c3bbed4-7b5a-4cf2-9f64-2179ab381994"
   },
   "outputs": [
    {
     "name": "stdout",
     "output_type": "stream",
     "text": [
      "Start initializing RDKit molecule instances...\n",
      "Creating RDKit molecule instance 1000/5557\n",
      "Creating RDKit molecule instance 2000/5557\n",
      "Creating RDKit molecule instance 3000/5557\n",
      "Creating RDKit molecule instance 4000/5557\n",
      "Creating RDKit molecule instance 5000/5557\n",
      "Start computing Bemis-Murcko scaffolds.\n",
      "Computing Bemis-Murcko for compound 1000/5557\n",
      "Computing Bemis-Murcko for compound 2000/5557\n",
      "Computing Bemis-Murcko for compound 3000/5557\n",
      "Computing Bemis-Murcko for compound 4000/5557\n",
      "Computing Bemis-Murcko for compound 5000/5557\n",
      "Processing fold 1/3\n",
      "Processing fold 2/3\n",
      "Processing fold 3/3\n"
     ]
    }
   ],
   "source": [
    "cv = ScaffoldCVSklearn(train_data, k_folds=3).split()"
   ]
  },
  {
   "cell_type": "markdown",
   "metadata": {
    "id": "X3LMIEGPo-Yu"
   },
   "source": [
    "# Задание (10 баллов + 3 бонусных)\n",
    "1. (3 балла) Добавить решение проблемы несбалансированной классификации\n",
    "\n",
    "Варианты:\n",
    "* UnderSampling\n",
    "* OverSampling\n",
    "* SMOTE\n",
    "* Внутренние инструменты модели (`scale_pos_weight`)\n",
    "\n",
    "2. (2 балла) Использовать еще 2 вида фингерпринтов из `FingerprintsNames`\n",
    "\n",
    "3. (3 балла) Получить f1-score на тестовом датасете больше 0.35\n",
    "\n",
    "Варианты:\n",
    "* Увеличить количество параметров в подборе гиперпараметров\n",
    "* Использовать другие алгоритмы подбора гиперпараметров (например, [RandomizedSearch](https://scikit-learn.org/stable/modules/generated/sklearn.model_selection.RandomizedSearchCV.html))\n",
    "* Использовать другие модели (Random Forest, SVC, MLPClassifier, etc)\n",
    "\n",
    "4. (2 балла) Логирование\n",
    "\n",
    "В качестве финального результата предоставьте таблицу (можно `pd.DataFrame`) c колонками: Model, Fingerprint, Best Parameters, Mean Cross-Validation Score, Std Cross-Validation Score, Test Score \n",
    "\n",
    "Проанализируйте результаты: \n",
    "* Какие фингерпринты дали лучший результат?\n",
    "* Какая модель дала лучший результат.\n",
    "* Коррелируют ли скоры на кросс-валидации и тестовой выборке?\n",
    "\n",
    "5. (Бонус +3 балла) Получить f1-score на тестовом датасете больше 0.45"
   ]
  },
  {
   "cell_type": "code",
   "execution_count": 53,
   "metadata": {},
   "outputs": [],
   "source": [
    "from imblearn.over_sampling import SMOTEN, ADASYN\n",
    "from joblib import parallel_backend\n",
    "import lightgbm\n",
    "import json\n",
    "from tqdm.auto import tqdm"
   ]
  },
  {
   "cell_type": "code",
   "execution_count": 26,
   "metadata": {},
   "outputs": [],
   "source": [
    "fingerprint_type_name = FingerprintsNames.MACCS\n",
    "fingerprint_type_method = FINGERPRINTS_METHODS[fingerprint_type_name]"
   ]
  },
  {
   "cell_type": "code",
   "execution_count": 27,
   "metadata": {},
   "outputs": [],
   "source": [
    "train_fp = get_np_array_of_fps(fp_type=fingerprint_type_method, smiles=train_data[SMILES_COLUMN])\n",
    "test_fp = get_np_array_of_fps(fp_type=fingerprint_type_method, smiles=test_data[SMILES_COLUMN])\n",
    "\n",
    "y_train = train_data[TARGET_COLUMN]\n",
    "y_test = test_data[TARGET_COLUMN]"
   ]
  },
  {
   "cell_type": "code",
   "execution_count": 36,
   "metadata": {},
   "outputs": [
    {
     "name": "stdout",
     "output_type": "stream",
     "text": [
      "Start initializing RDKit molecule instances...\n",
      "Creating RDKit molecule instance 1000/5557\n",
      "Creating RDKit molecule instance 2000/5557\n",
      "Creating RDKit molecule instance 3000/5557\n",
      "Creating RDKit molecule instance 4000/5557\n",
      "Creating RDKit molecule instance 5000/5557\n",
      "Start computing Bemis-Murcko scaffolds.\n",
      "Computing Bemis-Murcko for compound 1000/5557\n",
      "Computing Bemis-Murcko for compound 2000/5557\n",
      "Computing Bemis-Murcko for compound 3000/5557\n",
      "Computing Bemis-Murcko for compound 4000/5557\n",
      "Computing Bemis-Murcko for compound 5000/5557\n",
      "Processing fold 1/3\n",
      "Processing fold 2/3\n",
      "Processing fold 3/3\n"
     ]
    }
   ],
   "source": [
    "cv = ScaffoldCVSklearn(train_data, k_folds=3).split()"
   ]
  },
  {
   "cell_type": "code",
   "execution_count": 37,
   "metadata": {},
   "outputs": [
    {
     "data": {
      "text/plain": [
       "array([26.97572816])"
      ]
     },
     "execution_count": 37,
     "metadata": {},
     "output_type": "execute_result"
    }
   ],
   "source": [
    "y_train.shape/y_train.sum()"
   ]
  },
  {
   "cell_type": "markdown",
   "metadata": {},
   "source": [
    "Используем scale_pos_weight = 27"
   ]
  },
  {
   "cell_type": "code",
   "execution_count": 38,
   "metadata": {
    "id": "daFeFpqfvrRb"
   },
   "outputs": [
    {
     "data": {
      "application/vnd.jupyter.widget-view+json": {
       "model_id": "87a5779a94104e529158c8033bd2959f",
       "version_major": 2,
       "version_minor": 0
      },
      "text/plain": [
       "  0%|          | 0/3 [00:00<?, ?it/s]"
      ]
     },
     "metadata": {},
     "output_type": "display_data"
    }
   ],
   "source": [
    "from sklearn.metrics import f1_score\n",
    "\n",
    "import optuna\n",
    "\n",
    "\n",
    "class Objective:\n",
    "    def __init__(self, X_data, y_data, cv):\n",
    "        self.X_data = X_data.astype(int)\n",
    "        self.y_data = y_data.values.astype(int)\n",
    "        self.cv = cv\n",
    "        self.train_data = []\n",
    "        self.test_data = []\n",
    "        for train_index, test_index in tqdm(cv):\n",
    "            X_train, X_test = (\n",
    "                self.X_data[train_index, :],\n",
    "                self.X_data[test_index, :],\n",
    "            )\n",
    "            y_train, y_test = (\n",
    "                self.y_data[train_index],\n",
    "                self.y_data[test_index],\n",
    "            )\n",
    "            X_train,y_train = self.oversample(X_train,y_train)\n",
    "            self.train_data.append((X_train,y_train))\n",
    "            self.test_data.append((X_test,y_test))\n",
    "        \n",
    "    def oversample(self, x, y):\n",
    "        return x,y\n",
    "#         self.oversampler = SMOTEN(k_neighbors=5)\n",
    "#         return self.oversampler.fit_resample(x, y)\n",
    "\n",
    "    def __call__(self, trial):\n",
    "\n",
    "        params = {\n",
    "            \"subsample_freq\": trial.suggest_int(\"subsample_freq\", 0, 0),\n",
    "            \"n_estimators\": trial.suggest_int(\"n_estimators\", 50, 300),  # n_trees\n",
    "            \"reg_alpha\": trial.suggest_loguniform(\"reg_alpha\", 1e-20, 2),\n",
    "            \"reg_lambda\": trial.suggest_loguniform(\"reg_lambda\", 1e-20, 2),\n",
    "            \"colsample_bytree\": trial.suggest_uniform(\"colsample_bytree\", 0.01, 1.0),\n",
    "            \"subsample\": trial.suggest_uniform(\"subsample\", 0.01, 1.0),\n",
    "            \"min_child_samples\": trial.suggest_int(\"min_child_samples\", 5, 100),\n",
    "            \"max_depth\": trial.suggest_int(\"max_depth\", 3, 20),\n",
    "            \"learning_rate\": trial.suggest_uniform(\"learning_rate\", 0.001, 0.3),\n",
    "#             \"scale_pos_weight\":trial.suggest_int(\"scale_pos_weight\",27)\n",
    "            \"boosting_type\":trial.suggest_categorical(\"boosting_type\",['gbdt'])\n",
    "        }\n",
    "        params = self.add_params(params)\n",
    "\n",
    "        result = []\n",
    "        for (X_train,y_train), (X_test,y_test) in zip(self.train_data, self.test_data):\n",
    "           \n",
    "            model = lightgbm.LGBMClassifier(**params)\n",
    "\n",
    "            model.fit(X_train, y_train)\n",
    "\n",
    "            y_pred = model.predict_proba(X_test)[:, 1].astype(float)\n",
    "\n",
    "            f1_val = f1_score(y_test, y_pred > 0.5)\n",
    "\n",
    "            result.append(f1_val)\n",
    "\n",
    "        return np.mean(result)\n",
    "    \n",
    "    def add_params(self, params):\n",
    "        params.update({\n",
    "            \"verbosity\": -1,\n",
    "            \"n_jobs\": 2,\n",
    "            \"device\": 'gpu',\n",
    "            \"num_leaves\":2 ** min(16,params[\"max_depth\"]),    \n",
    "            \"scale_pos_weight\":27\n",
    "        })\n",
    "        return params\n",
    "\n",
    "\n",
    "# Load the dataset in advance for reusing it each trial execution.\n",
    "objective = Objective(train_fp, y_train,cv=cv)\n",
    "\n"
   ]
  },
  {
   "cell_type": "code",
   "execution_count": 44,
   "metadata": {},
   "outputs": [
    {
     "data": {
      "application/vnd.jupyter.widget-view+json": {
       "model_id": "6054ea71d5bd47ddae3614984fb6ceff",
       "version_major": 2,
       "version_minor": 0
      },
      "text/plain": [
       "  0%|          | 0/3 [00:00<?, ?it/s]"
      ]
     },
     "metadata": {},
     "output_type": "display_data"
    },
    {
     "name": "stderr",
     "output_type": "stream",
     "text": [
      "\u001b[32m[I 2022-05-11 14:40:40,479]\u001b[0m A new study created in memory with name: no-name-ad997acc-7ed7-4ed7-9c00-c6d52baa7704\u001b[0m\n"
     ]
    }
   ],
   "source": [
    "objective = Objective(train_fp, y_train,cv=cv)\n",
    "study = optuna.create_study(direction=\"maximize\")\n"
   ]
  },
  {
   "cell_type": "code",
   "execution_count": 47,
   "metadata": {},
   "outputs": [
    {
     "name": "stderr",
     "output_type": "stream",
     "text": [
      "/home/skuznetsov/.conda/envs/ml/lib/python3.7/site-packages/optuna/study/study.py:397: FutureWarning: `n_jobs` argument has been deprecated in v2.7.0. This feature will be removed in v4.0.0. See https://github.com/optuna/optuna/releases/tag/v2.7.0.\n",
      "  FutureWarning,\n",
      "\u001b[32m[I 2022-05-11 14:41:09,753]\u001b[0m Trial 18 finished with value: 0.20945547040261467 and parameters: {'subsample_freq': 0, 'n_estimators': 73, 'reg_alpha': 0.003351701387542272, 'reg_lambda': 5.6307283729471915e-14, 'colsample_bytree': 0.8336910727762574, 'subsample': 0.7492357951602373, 'min_child_samples': 54, 'max_depth': 5, 'learning_rate': 0.2444327163473863, 'boosting_type': 'gbdt'}. Best is trial 4 with value: 0.22764005200919402.\u001b[0m\n",
      "\u001b[32m[I 2022-05-11 14:41:14,647]\u001b[0m Trial 12 finished with value: 0.2004932624724607 and parameters: {'subsample_freq': 0, 'n_estimators': 70, 'reg_alpha': 4.55496554070594e-11, 'reg_lambda': 9.422614599900819e-07, 'colsample_bytree': 0.19641824008100697, 'subsample': 0.11148345131315113, 'min_child_samples': 72, 'max_depth': 12, 'learning_rate': 0.1400929372422486, 'boosting_type': 'gbdt'}. Best is trial 4 with value: 0.22764005200919402.\u001b[0m\n",
      "\u001b[32m[I 2022-05-11 14:41:14,776]\u001b[0m Trial 11 finished with value: 0.22995733213563888 and parameters: {'subsample_freq': 0, 'n_estimators': 224, 'reg_alpha': 0.648218444619577, 'reg_lambda': 5.056268204584571e-09, 'colsample_bytree': 0.06220486597631393, 'subsample': 0.7816505363742424, 'min_child_samples': 23, 'max_depth': 6, 'learning_rate': 0.2729853079628493, 'boosting_type': 'gbdt'}. Best is trial 11 with value: 0.22995733213563888.\u001b[0m\n",
      "\u001b[32m[I 2022-05-11 14:41:15,049]\u001b[0m Trial 19 finished with value: 0.21312532439014653 and parameters: {'subsample_freq': 0, 'n_estimators': 205, 'reg_alpha': 1.843845205712378e-20, 'reg_lambda': 4.326388021420502e-17, 'colsample_bytree': 0.4826582968625352, 'subsample': 0.7216697614449673, 'min_child_samples': 100, 'max_depth': 5, 'learning_rate': 0.2448676214810734, 'boosting_type': 'gbdt'}. Best is trial 11 with value: 0.22995733213563888.\u001b[0m\n",
      "\u001b[32m[I 2022-05-11 14:41:16,298]\u001b[0m Trial 0 finished with value: 0.2041666666666667 and parameters: {'subsample_freq': 0, 'n_estimators': 150, 'reg_alpha': 4.491031376295628e-05, 'reg_lambda': 6.675751816828895e-07, 'colsample_bytree': 0.39697424879169624, 'subsample': 0.5504541193114436, 'min_child_samples': 16, 'max_depth': 12, 'learning_rate': 0.20096864067542164, 'boosting_type': 'gbdt'}. Best is trial 11 with value: 0.22995733213563888.\u001b[0m\n",
      "\u001b[32m[I 2022-05-11 14:41:18,446]\u001b[0m Trial 15 finished with value: 0.20086560811222695 and parameters: {'subsample_freq': 0, 'n_estimators': 76, 'reg_alpha': 0.01358436059824297, 'reg_lambda': 0.0003500003542051112, 'colsample_bytree': 0.16864938240482125, 'subsample': 0.8622271289838976, 'min_child_samples': 36, 'max_depth': 10, 'learning_rate': 0.22844300778691257, 'boosting_type': 'gbdt'}. Best is trial 11 with value: 0.22995733213563888.\u001b[0m\n",
      "\u001b[32m[I 2022-05-11 14:41:22,263]\u001b[0m Trial 21 finished with value: 0.213210264467138 and parameters: {'subsample_freq': 0, 'n_estimators': 265, 'reg_alpha': 4.482199023558021e-12, 'reg_lambda': 0.00012506440997685702, 'colsample_bytree': 0.3208746734907282, 'subsample': 0.5420260571605815, 'min_child_samples': 33, 'max_depth': 4, 'learning_rate': 0.16628116947963978, 'boosting_type': 'gbdt'}. Best is trial 11 with value: 0.22995733213563888.\u001b[0m\n",
      "\u001b[32m[I 2022-05-11 14:41:24,493]\u001b[0m Trial 24 finished with value: 0.22171717171717173 and parameters: {'subsample_freq': 0, 'n_estimators': 92, 'reg_alpha': 9.085649586575177e-15, 'reg_lambda': 2.978462894668012e-12, 'colsample_bytree': 0.14832321041086508, 'subsample': 0.8670160199336712, 'min_child_samples': 69, 'max_depth': 12, 'learning_rate': 0.2887235044635925, 'boosting_type': 'gbdt'}. Best is trial 11 with value: 0.22995733213563888.\u001b[0m\n",
      "\u001b[32m[I 2022-05-11 14:41:27,094]\u001b[0m Trial 20 finished with value: 0.16526521542702774 and parameters: {'subsample_freq': 0, 'n_estimators': 116, 'reg_alpha': 0.00627208101378675, 'reg_lambda': 7.382259466570787e-11, 'colsample_bytree': 0.13634892458254638, 'subsample': 0.4386555075794321, 'min_child_samples': 29, 'max_depth': 8, 'learning_rate': 0.28363929746537564, 'boosting_type': 'gbdt'}. Best is trial 11 with value: 0.22995733213563888.\u001b[0m\n",
      "\u001b[32m[I 2022-05-11 14:41:32,924]\u001b[0m Trial 16 finished with value: 0.21299826646295725 and parameters: {'subsample_freq': 0, 'n_estimators': 62, 'reg_alpha': 4.4447153303370387e-14, 'reg_lambda': 0.01946525340822226, 'colsample_bytree': 0.3889021770607104, 'subsample': 0.8345165693619849, 'min_child_samples': 87, 'max_depth': 16, 'learning_rate': 0.0734982164147479, 'boosting_type': 'gbdt'}. Best is trial 11 with value: 0.22995733213563888.\u001b[0m\n",
      "\u001b[32m[I 2022-05-11 14:41:34,019]\u001b[0m Trial 2 finished with value: 0.19953041652479855 and parameters: {'subsample_freq': 0, 'n_estimators': 85, 'reg_alpha': 1.1712127209002139e-07, 'reg_lambda': 4.1318383976215685e-16, 'colsample_bytree': 0.27974678026778027, 'subsample': 0.6547405897713716, 'min_child_samples': 15, 'max_depth': 16, 'learning_rate': 0.24396935098881936, 'boosting_type': 'gbdt'}. Best is trial 11 with value: 0.22995733213563888.\u001b[0m\n",
      "\u001b[32m[I 2022-05-11 14:41:35,276]\u001b[0m Trial 5 finished with value: 0.19988633134413183 and parameters: {'subsample_freq': 0, 'n_estimators': 262, 'reg_alpha': 9.610676456872395e-12, 'reg_lambda': 3.844942777753693e-05, 'colsample_bytree': 0.05111494523481777, 'subsample': 0.5527449707170884, 'min_child_samples': 77, 'max_depth': 17, 'learning_rate': 0.08513827280658473, 'boosting_type': 'gbdt'}. Best is trial 11 with value: 0.22995733213563888.\u001b[0m\n",
      "\u001b[32m[I 2022-05-11 14:41:35,353]\u001b[0m Trial 13 finished with value: 0.20853220853220852 and parameters: {'subsample_freq': 0, 'n_estimators': 212, 'reg_alpha': 1.0343960633197102e-16, 'reg_lambda': 4.1054891803898074e-13, 'colsample_bytree': 0.7169884154723998, 'subsample': 0.5189991037758753, 'min_child_samples': 48, 'max_depth': 11, 'learning_rate': 0.2290812240233449, 'boosting_type': 'gbdt'}. Best is trial 11 with value: 0.22995733213563888.\u001b[0m\n",
      "\u001b[32m[I 2022-05-11 14:41:37,257]\u001b[0m Trial 14 finished with value: 0.2236262430845467 and parameters: {'subsample_freq': 0, 'n_estimators': 251, 'reg_alpha': 1.4538138617057018e-06, 'reg_lambda': 7.509081778247545e-09, 'colsample_bytree': 0.28353978135799024, 'subsample': 0.15712767720059265, 'min_child_samples': 58, 'max_depth': 10, 'learning_rate': 0.05800122567599876, 'boosting_type': 'gbdt'}. Best is trial 11 with value: 0.22995733213563888.\u001b[0m\n",
      "\u001b[32m[I 2022-05-11 14:41:42,385]\u001b[0m Trial 25 finished with value: 0.21806160650645692 and parameters: {'subsample_freq': 0, 'n_estimators': 127, 'reg_alpha': 2.6775132771231342e-11, 'reg_lambda': 5.926811006115247e-20, 'colsample_bytree': 0.37495906551703534, 'subsample': 0.5432116387725899, 'min_child_samples': 72, 'max_depth': 15, 'learning_rate': 0.027599782184589118, 'boosting_type': 'gbdt'}. Best is trial 11 with value: 0.22995733213563888.\u001b[0m\n",
      "\u001b[32m[I 2022-05-11 14:41:49,560]\u001b[0m Trial 22 finished with value: 0.2236153174888353 and parameters: {'subsample_freq': 0, 'n_estimators': 249, 'reg_alpha': 2.0896070540189686e-07, 'reg_lambda': 0.00012122057248932433, 'colsample_bytree': 0.3694514144066694, 'subsample': 0.6943145220353087, 'min_child_samples': 27, 'max_depth': 9, 'learning_rate': 0.029780859475631846, 'boosting_type': 'gbdt'}. Best is trial 11 with value: 0.22995733213563888.\u001b[0m\n",
      "\u001b[32m[I 2022-05-11 14:41:52,875]\u001b[0m Trial 30 finished with value: 0.0 and parameters: {'subsample_freq': 0, 'n_estimators': 122, 'reg_alpha': 1.1421439448814257e-07, 'reg_lambda': 2.1444432518636342e-20, 'colsample_bytree': 0.018861847322380942, 'subsample': 0.9793835539452215, 'min_child_samples': 65, 'max_depth': 18, 'learning_rate': 0.009444846846782179, 'boosting_type': 'gbdt'}. Best is trial 11 with value: 0.22995733213563888.\u001b[0m\n",
      "\u001b[32m[I 2022-05-11 14:42:02,500]\u001b[0m Trial 26 finished with value: 0.19142552553127654 and parameters: {'subsample_freq': 0, 'n_estimators': 280, 'reg_alpha': 4.166581671174596e-06, 'reg_lambda': 2.32695258558276e-18, 'colsample_bytree': 0.15931111319349797, 'subsample': 0.17027732804308363, 'min_child_samples': 32, 'max_depth': 14, 'learning_rate': 0.2986299827539663, 'boosting_type': 'gbdt'}. Best is trial 11 with value: 0.22995733213563888.\u001b[0m\n"
     ]
    },
    {
     "name": "stderr",
     "output_type": "stream",
     "text": [
      "\u001b[32m[I 2022-05-11 14:42:04,765]\u001b[0m Trial 32 finished with value: 0.0 and parameters: {'subsample_freq': 0, 'n_estimators': 236, 'reg_alpha': 5.09379834502669e-08, 'reg_lambda': 2.954443804257021e-19, 'colsample_bytree': 0.01542224832797634, 'subsample': 0.9818445631832556, 'min_child_samples': 5, 'max_depth': 19, 'learning_rate': 0.005204753620513147, 'boosting_type': 'gbdt'}. Best is trial 11 with value: 0.22995733213563888.\u001b[0m\n",
      "\u001b[32m[I 2022-05-11 14:42:07,623]\u001b[0m Trial 34 finished with value: 0.2399315458618776 and parameters: {'subsample_freq': 0, 'n_estimators': 234, 'reg_alpha': 1.1267664392279897, 'reg_lambda': 1.5491275220753475, 'colsample_bytree': 0.6343436663278159, 'subsample': 0.9898149799757036, 'min_child_samples': 59, 'max_depth': 9, 'learning_rate': 0.05725674662726693, 'boosting_type': 'gbdt'}. Best is trial 34 with value: 0.2399315458618776.\u001b[0m\n",
      "\u001b[32m[I 2022-05-11 14:42:11,242]\u001b[0m Trial 31 finished with value: 0.136249674960027 and parameters: {'subsample_freq': 0, 'n_estimators': 234, 'reg_alpha': 9.736613100304822e-08, 'reg_lambda': 3.4268225525678203e-19, 'colsample_bytree': 0.016647327577227533, 'subsample': 0.979428554957587, 'min_child_samples': 8, 'max_depth': 20, 'learning_rate': 0.024151630811173073, 'boosting_type': 'gbdt'}. Best is trial 34 with value: 0.2399315458618776.\u001b[0m\n",
      "\u001b[32m[I 2022-05-11 14:42:22,511]\u001b[0m Trial 38 finished with value: 0.18641106366273633 and parameters: {'subsample_freq': 0, 'n_estimators': 188, 'reg_alpha': 0.5941047069345721, 'reg_lambda': 7.357244280849121e-14, 'colsample_bytree': 0.5913402740287722, 'subsample': 0.9332244315505447, 'min_child_samples': 42, 'max_depth': 8, 'learning_rate': 0.16464467200536143, 'boosting_type': 'gbdt'}. Best is trial 34 with value: 0.2399315458618776.\u001b[0m\n",
      "\u001b[32m[I 2022-05-11 14:42:23,984]\u001b[0m Trial 39 finished with value: 0.21026778478259014 and parameters: {'subsample_freq': 0, 'n_estimators': 183, 'reg_alpha': 1.2858594057238908, 'reg_lambda': 1.0447203636303495e-14, 'colsample_bytree': 0.5920363062662647, 'subsample': 0.9142611356273016, 'min_child_samples': 42, 'max_depth': 7, 'learning_rate': 0.16733639220783827, 'boosting_type': 'gbdt'}. Best is trial 34 with value: 0.2399315458618776.\u001b[0m\n",
      "\u001b[32m[I 2022-05-11 14:42:24,448]\u001b[0m Trial 35 finished with value: 0.21072594513049125 and parameters: {'subsample_freq': 0, 'n_estimators': 300, 'reg_alpha': 1.73140009095543, 'reg_lambda': 2.1085818029281746e-10, 'colsample_bytree': 0.6099299871957522, 'subsample': 0.9709516259155829, 'min_child_samples': 5, 'max_depth': 9, 'learning_rate': 0.050722661537583355, 'boosting_type': 'gbdt'}. Best is trial 34 with value: 0.2399315458618776.\u001b[0m\n",
      "\u001b[32m[I 2022-05-11 14:42:29,792]\u001b[0m Trial 37 finished with value: 0.23516186846072817 and parameters: {'subsample_freq': 0, 'n_estimators': 186, 'reg_alpha': 0.7131957409311132, 'reg_lambda': 7.334940067890231e-11, 'colsample_bytree': 0.6101043664477823, 'subsample': 0.27795719130841906, 'min_child_samples': 42, 'max_depth': 9, 'learning_rate': 0.044652272475663016, 'boosting_type': 'gbdt'}. Best is trial 34 with value: 0.2399315458618776.\u001b[0m\n",
      "\u001b[32m[I 2022-05-11 14:42:31,096]\u001b[0m Trial 29 finished with value: 0.1712320387555316 and parameters: {'subsample_freq': 0, 'n_estimators': 210, 'reg_alpha': 0.003862542632585232, 'reg_lambda': 1.9164715697560386e-06, 'colsample_bytree': 0.7195361629105637, 'subsample': 0.03126164510181529, 'min_child_samples': 36, 'max_depth': 17, 'learning_rate': 0.2593514587650894, 'boosting_type': 'gbdt'}. Best is trial 34 with value: 0.2399315458618776.\u001b[0m\n",
      "\u001b[32m[I 2022-05-11 14:42:33,605]\u001b[0m Trial 17 finished with value: 0.19995699155959357 and parameters: {'subsample_freq': 0, 'n_estimators': 281, 'reg_alpha': 9.442392537679595e-08, 'reg_lambda': 2.6950085697733207e-10, 'colsample_bytree': 0.44584761293591024, 'subsample': 0.4890066452557323, 'min_child_samples': 9, 'max_depth': 11, 'learning_rate': 0.07615132545431312, 'boosting_type': 'gbdt'}. Best is trial 34 with value: 0.2399315458618776.\u001b[0m\n",
      "\u001b[32m[I 2022-05-11 14:42:39,820]\u001b[0m Trial 28 finished with value: 0.20743473876110316 and parameters: {'subsample_freq': 0, 'n_estimators': 273, 'reg_alpha': 1.3129350702432642e-12, 'reg_lambda': 4.4509981049057976e-18, 'colsample_bytree': 0.350717547355874, 'subsample': 0.07557523545651271, 'min_child_samples': 95, 'max_depth': 20, 'learning_rate': 0.08300268169692603, 'boosting_type': 'gbdt'}. Best is trial 34 with value: 0.2399315458618776.\u001b[0m\n",
      "\u001b[32m[I 2022-05-11 14:42:42,771]\u001b[0m Trial 42 finished with value: 0.22342472342472344 and parameters: {'subsample_freq': 0, 'n_estimators': 162, 'reg_alpha': 0.04697640180313798, 'reg_lambda': 0.5199724782281537, 'colsample_bytree': 0.262699207260238, 'subsample': 0.35804639253348886, 'min_child_samples': 59, 'max_depth': 10, 'learning_rate': 0.053609600173722585, 'boosting_type': 'gbdt'}. Best is trial 34 with value: 0.2399315458618776.\u001b[0m\n",
      "\u001b[32m[I 2022-05-11 14:42:43,331]\u001b[0m Trial 40 finished with value: 0.2213045816156296 and parameters: {'subsample_freq': 0, 'n_estimators': 296, 'reg_alpha': 0.09264374881340734, 'reg_lambda': 1.5843064580816864, 'colsample_bytree': 0.5790216499808408, 'subsample': 0.883570096366683, 'min_child_samples': 86, 'max_depth': 7, 'learning_rate': 0.10071014570963807, 'boosting_type': 'gbdt'}. Best is trial 34 with value: 0.2399315458618776.\u001b[0m\n",
      "\u001b[32m[I 2022-05-11 14:42:49,605]\u001b[0m Trial 27 finished with value: 0.21560211207630728 and parameters: {'subsample_freq': 0, 'n_estimators': 255, 'reg_alpha': 9.887633702614936e-18, 'reg_lambda': 5.031939806528558e-17, 'colsample_bytree': 0.3634956306024189, 'subsample': 0.48593173709545173, 'min_child_samples': 65, 'max_depth': 20, 'learning_rate': 0.16284318129344585, 'boosting_type': 'gbdt'}. Best is trial 34 with value: 0.2399315458618776.\u001b[0m\n",
      "\u001b[32m[I 2022-05-11 14:42:50,701]\u001b[0m Trial 44 finished with value: 0.21103722807701777 and parameters: {'subsample_freq': 0, 'n_estimators': 157, 'reg_alpha': 0.04494734057337619, 'reg_lambda': 0.12943867982084428, 'colsample_bytree': 0.5486121382383667, 'subsample': 0.3603214601161654, 'min_child_samples': 17, 'max_depth': 7, 'learning_rate': 0.09304993567258564, 'boosting_type': 'gbdt'}. Best is trial 34 with value: 0.2399315458618776.\u001b[0m\n",
      "\u001b[32m[I 2022-05-11 14:42:54,374]\u001b[0m Trial 45 finished with value: 0.22426886863027895 and parameters: {'subsample_freq': 0, 'n_estimators': 166, 'reg_alpha': 0.06808335279212017, 'reg_lambda': 0.7153899838307414, 'colsample_bytree': 0.24243603927516816, 'subsample': 0.32558917406104126, 'min_child_samples': 62, 'max_depth': 7, 'learning_rate': 0.047188057303266126, 'boosting_type': 'gbdt'}. Best is trial 34 with value: 0.2399315458618776.\u001b[0m\n",
      "\u001b[32m[I 2022-05-11 14:42:54,555]\u001b[0m Trial 46 finished with value: 0.23277954462953696 and parameters: {'subsample_freq': 0, 'n_estimators': 160, 'reg_alpha': 0.10848814767777265, 'reg_lambda': 1.6960046198735396e-11, 'colsample_bytree': 0.5652866460623502, 'subsample': 0.6077028113776247, 'min_child_samples': 84, 'max_depth': 7, 'learning_rate': 0.10224497256771373, 'boosting_type': 'gbdt'}. Best is trial 34 with value: 0.2399315458618776.\u001b[0m\n",
      "\u001b[32m[I 2022-05-11 14:42:57,115]\u001b[0m Trial 36 finished with value: 0.22950199836992288 and parameters: {'subsample_freq': 0, 'n_estimators': 300, 'reg_alpha': 0.2682721524599197, 'reg_lambda': 1.772105777798335e-14, 'colsample_bytree': 0.6088441241612419, 'subsample': 0.9479714374625513, 'min_child_samples': 5, 'max_depth': 9, 'learning_rate': 0.0496229699162966, 'boosting_type': 'gbdt'}. Best is trial 34 with value: 0.2399315458618776.\u001b[0m\n",
      "\u001b[32m[I 2022-05-11 14:42:57,648]\u001b[0m Trial 43 finished with value: 0.2480351127896295 and parameters: {'subsample_freq': 0, 'n_estimators': 163, 'reg_alpha': 0.020600398348237934, 'reg_lambda': 3.570666756283939e-07, 'colsample_bytree': 0.693101685120283, 'subsample': 0.4088100089638207, 'min_child_samples': 19, 'max_depth': 9, 'learning_rate': 0.10781303593535302, 'boosting_type': 'gbdt'}. Best is trial 43 with value: 0.2480351127896295.\u001b[0m\n",
      "\u001b[32m[I 2022-05-11 14:42:58,476]\u001b[0m Trial 23 finished with value: 0.22963889112957436 and parameters: {'subsample_freq': 0, 'n_estimators': 173, 'reg_alpha': 1.0048132473572941e-05, 'reg_lambda': 2.0939241683491287e-19, 'colsample_bytree': 0.5312186862513808, 'subsample': 0.6700733537033184, 'min_child_samples': 19, 'max_depth': 20, 'learning_rate': 0.11203250074418827, 'boosting_type': 'gbdt'}. Best is trial 43 with value: 0.2480351127896295.\u001b[0m\n"
     ]
    },
    {
     "name": "stderr",
     "output_type": "stream",
     "text": [
      "\u001b[32m[I 2022-05-11 14:42:59,924]\u001b[0m Trial 41 finished with value: 0.24086509376890505 and parameters: {'subsample_freq': 0, 'n_estimators': 298, 'reg_alpha': 0.04026873705924034, 'reg_lambda': 7.250425980162591e-07, 'colsample_bytree': 0.25123010771223203, 'subsample': 0.3612934890701701, 'min_child_samples': 59, 'max_depth': 10, 'learning_rate': 0.05204268207819846, 'boosting_type': 'gbdt'}. Best is trial 43 with value: 0.2480351127896295.\u001b[0m\n",
      "\u001b[32m[I 2022-05-11 14:43:06,507]\u001b[0m Trial 51 finished with value: 0.21077460225349384 and parameters: {'subsample_freq': 0, 'n_estimators': 103, 'reg_alpha': 7.895092856484511e-05, 'reg_lambda': 2.5025135417173418e-15, 'colsample_bytree': 0.6830508665063145, 'subsample': 0.629640779178273, 'min_child_samples': 86, 'max_depth': 9, 'learning_rate': 0.19130332420906795, 'boosting_type': 'gbdt'}. Best is trial 43 with value: 0.2480351127896295.\u001b[0m\n",
      "\u001b[32m[I 2022-05-11 14:43:12,530]\u001b[0m Trial 47 finished with value: 0.19805825242718447 and parameters: {'subsample_freq': 0, 'n_estimators': 146, 'reg_alpha': 3.347177649277279e-05, 'reg_lambda': 6.645318173534312e-08, 'colsample_bytree': 0.6757239677880204, 'subsample': 0.639309599956545, 'min_child_samples': 21, 'max_depth': 8, 'learning_rate': 0.13241259971371502, 'boosting_type': 'gbdt'}. Best is trial 43 with value: 0.2480351127896295.\u001b[0m\n",
      "\u001b[32m[I 2022-05-11 14:43:13,068]\u001b[0m Trial 54 finished with value: 0.21618068158903006 and parameters: {'subsample_freq': 0, 'n_estimators': 142, 'reg_alpha': 0.0002934077486369043, 'reg_lambda': 1.883035174598879e-11, 'colsample_bytree': 0.6793149461579295, 'subsample': 0.6105591753723127, 'min_child_samples': 23, 'max_depth': 6, 'learning_rate': 0.1377661688623687, 'boosting_type': 'gbdt'}. Best is trial 43 with value: 0.2480351127896295.\u001b[0m\n",
      "\u001b[32m[I 2022-05-11 14:43:13,397]\u001b[0m Trial 52 finished with value: 0.19995260929982248 and parameters: {'subsample_freq': 0, 'n_estimators': 142, 'reg_alpha': 4.7847390664269554e-05, 'reg_lambda': 1.668259760791158e-11, 'colsample_bytree': 0.6705592661084431, 'subsample': 0.6296393204155596, 'min_child_samples': 23, 'max_depth': 6, 'learning_rate': 0.13823678663098102, 'boosting_type': 'gbdt'}. Best is trial 43 with value: 0.2480351127896295.\u001b[0m\n",
      "\u001b[32m[I 2022-05-11 14:43:13,536]\u001b[0m Trial 53 finished with value: 0.21737245101731084 and parameters: {'subsample_freq': 0, 'n_estimators': 144, 'reg_alpha': 0.00015021572244819123, 'reg_lambda': 2.2416013461822866e-11, 'colsample_bytree': 0.6775088884625113, 'subsample': 0.6301078182650124, 'min_child_samples': 22, 'max_depth': 6, 'learning_rate': 0.12222766363494891, 'boosting_type': 'gbdt'}. Best is trial 43 with value: 0.2480351127896295.\u001b[0m\n",
      "\u001b[32m[I 2022-05-11 14:43:18,160]\u001b[0m Trial 55 finished with value: 0.19550763701707097 and parameters: {'subsample_freq': 0, 'n_estimators': 141, 'reg_alpha': 0.00012216438279971027, 'reg_lambda': 8.342788212173462e-08, 'colsample_bytree': 0.6800710094962454, 'subsample': 0.21353603385208894, 'min_child_samples': 49, 'max_depth': 8, 'learning_rate': 0.13449926917417773, 'boosting_type': 'gbdt'}. Best is trial 43 with value: 0.2480351127896295.\u001b[0m\n",
      "\u001b[32m[I 2022-05-11 14:43:19,817]\u001b[0m Trial 50 finished with value: 0.21765974542225228 and parameters: {'subsample_freq': 0, 'n_estimators': 192, 'reg_alpha': 5.320065346700393e-05, 'reg_lambda': 0.0029419263517638508, 'colsample_bytree': 0.6491811810302565, 'subsample': 0.27769764060864055, 'min_child_samples': 45, 'max_depth': 8, 'learning_rate': 0.1203412791766608, 'boosting_type': 'gbdt'}. Best is trial 43 with value: 0.2480351127896295.\u001b[0m\n",
      "\u001b[32m[I 2022-05-11 14:43:19,933]\u001b[0m Trial 56 finished with value: 0.23115162098212946 and parameters: {'subsample_freq': 0, 'n_estimators': 142, 'reg_alpha': 1.132749297279003e-09, 'reg_lambda': 1.1653050524677049e-07, 'colsample_bytree': 0.6691905157607074, 'subsample': 0.22039156864423942, 'min_child_samples': 79, 'max_depth': 8, 'learning_rate': 0.1356364684135006, 'boosting_type': 'gbdt'}. Best is trial 43 with value: 0.2480351127896295.\u001b[0m\n",
      "\u001b[32m[I 2022-05-11 14:43:24,125]\u001b[0m Trial 48 finished with value: 0.2375247733502003 and parameters: {'subsample_freq': 0, 'n_estimators': 194, 'reg_alpha': 6.472224656009258e-05, 'reg_lambda': 1.2129407639672512e-07, 'colsample_bytree': 0.5365099279093215, 'subsample': 0.6312950035824383, 'min_child_samples': 21, 'max_depth': 8, 'learning_rate': 0.12297315082373574, 'boosting_type': 'gbdt'}. Best is trial 43 with value: 0.2480351127896295.\u001b[0m\n",
      "\u001b[32m[I 2022-05-11 14:43:34,285]\u001b[0m Trial 49 finished with value: 0.2223395105168504 and parameters: {'subsample_freq': 0, 'n_estimators': 192, 'reg_alpha': 4.170023884014643e-05, 'reg_lambda': 1.3512889516267417e-07, 'colsample_bytree': 0.6761834876320298, 'subsample': 0.632525277581944, 'min_child_samples': 19, 'max_depth': 9, 'learning_rate': 0.11771489340056296, 'boosting_type': 'gbdt'}. Best is trial 43 with value: 0.2480351127896295.\u001b[0m\n",
      "\u001b[32m[I 2022-05-11 14:43:38,636]\u001b[0m Trial 57 finished with value: 0.21047337427654358 and parameters: {'subsample_freq': 0, 'n_estimators': 138, 'reg_alpha': 0.0006326260153413088, 'reg_lambda': 1.0735290748443226e-05, 'colsample_bytree': 0.793747660805329, 'subsample': 0.2402311211599814, 'min_child_samples': 50, 'max_depth': 13, 'learning_rate': 0.0627635524485677, 'boosting_type': 'gbdt'}. Best is trial 43 with value: 0.2480351127896295.\u001b[0m\n",
      "\u001b[32m[I 2022-05-11 14:43:40,811]\u001b[0m Trial 60 finished with value: 0.22069516089412922 and parameters: {'subsample_freq': 0, 'n_estimators': 188, 'reg_alpha': 1.1474817371760093e-09, 'reg_lambda': 1.420841881190973e-07, 'colsample_bytree': 0.7550662566679539, 'subsample': 0.25245346212813524, 'min_child_samples': 49, 'max_depth': 8, 'learning_rate': 0.06855181255537943, 'boosting_type': 'gbdt'}. Best is trial 43 with value: 0.2480351127896295.\u001b[0m\n",
      "\u001b[32m[I 2022-05-11 14:43:43,792]\u001b[0m Trial 63 finished with value: 0.23577211394302847 and parameters: {'subsample_freq': 0, 'n_estimators': 198, 'reg_alpha': 1.6594213634273601e-09, 'reg_lambda': 6.487701010604509e-06, 'colsample_bytree': 0.7723056549035442, 'subsample': 0.42992117484283254, 'min_child_samples': 79, 'max_depth': 11, 'learning_rate': 0.0655115782991366, 'boosting_type': 'gbdt'}. Best is trial 43 with value: 0.2480351127896295.\u001b[0m\n",
      "\u001b[32m[I 2022-05-11 14:43:48,311]\u001b[0m Trial 59 finished with value: 0.24477080551846905 and parameters: {'subsample_freq': 0, 'n_estimators': 191, 'reg_alpha': 0.0009825340689994177, 'reg_lambda': 0.003081477569035098, 'colsample_bytree': 0.7809880108908989, 'subsample': 0.22353064954011673, 'min_child_samples': 47, 'max_depth': 11, 'learning_rate': 0.06539680233830318, 'boosting_type': 'gbdt'}. Best is trial 43 with value: 0.2480351127896295.\u001b[0m\n",
      "\u001b[32m[I 2022-05-11 14:43:51,442]\u001b[0m Trial 58 finished with value: 0.23235653235653234 and parameters: {'subsample_freq': 0, 'n_estimators': 198, 'reg_alpha': 0.001165873195773994, 'reg_lambda': 1.4803462760400579e-07, 'colsample_bytree': 0.7932226542940877, 'subsample': 0.4303061381033393, 'min_child_samples': 48, 'max_depth': 11, 'learning_rate': 0.06287785450884803, 'boosting_type': 'gbdt'}. Best is trial 43 with value: 0.2480351127896295.\u001b[0m\n",
      "\u001b[32m[I 2022-05-11 14:43:55,959]\u001b[0m Trial 64 finished with value: 0.2050662387110985 and parameters: {'subsample_freq': 0, 'n_estimators': 200, 'reg_alpha': 0.0012225951687556075, 'reg_lambda': 6.519449352071727e-06, 'colsample_bytree': 0.7951353364983056, 'subsample': 0.43532315730920457, 'min_child_samples': 55, 'max_depth': 11, 'learning_rate': 0.06512240680445344, 'boosting_type': 'gbdt'}. Best is trial 43 with value: 0.2480351127896295.\u001b[0m\n",
      "\u001b[32m[I 2022-05-11 14:44:07,397]\u001b[0m Trial 65 finished with value: 0.22113338054632728 and parameters: {'subsample_freq': 0, 'n_estimators': 179, 'reg_alpha': 0.0011359689047167516, 'reg_lambda': 6.249764562629345e-06, 'colsample_bytree': 0.7786243033237815, 'subsample': 0.4408519775650707, 'min_child_samples': 54, 'max_depth': 10, 'learning_rate': 0.06777658441377327, 'boosting_type': 'gbdt'}. Best is trial 43 with value: 0.2480351127896295.\u001b[0m\n",
      "\u001b[32m[I 2022-05-11 14:44:10,843]\u001b[0m Trial 62 finished with value: 0.21869547564025216 and parameters: {'subsample_freq': 0, 'n_estimators': 199, 'reg_alpha': 0.0014327199999273474, 'reg_lambda': 6.565359429613043e-06, 'colsample_bytree': 0.8172237609728422, 'subsample': 0.43316107272575816, 'min_child_samples': 14, 'max_depth': 11, 'learning_rate': 0.06584372331687656, 'boosting_type': 'gbdt'}. Best is trial 43 with value: 0.2480351127896295.\u001b[0m\n"
     ]
    },
    {
     "name": "stderr",
     "output_type": "stream",
     "text": [
      "\u001b[32m[I 2022-05-11 14:44:11,525]\u001b[0m Trial 61 finished with value: 0.21570313059674762 and parameters: {'subsample_freq': 0, 'n_estimators': 196, 'reg_alpha': 0.0014360619486786803, 'reg_lambda': 1.7314791322552283e-09, 'colsample_bytree': 0.824222479033268, 'subsample': 0.4212563156596175, 'min_child_samples': 14, 'max_depth': 11, 'learning_rate': 0.06537663707912497, 'boosting_type': 'gbdt'}. Best is trial 43 with value: 0.2480351127896295.\u001b[0m\n",
      "\u001b[32m[I 2022-05-11 14:44:14,510]\u001b[0m Trial 68 finished with value: 0.24285549723896124 and parameters: {'subsample_freq': 0, 'n_estimators': 200, 'reg_alpha': 0.004467115210107101, 'reg_lambda': 1.6331587438223856e-09, 'colsample_bytree': 0.8630285503425541, 'subsample': 0.4414297684123353, 'min_child_samples': 54, 'max_depth': 11, 'learning_rate': 0.039214675482532824, 'boosting_type': 'gbdt'}. Best is trial 43 with value: 0.2480351127896295.\u001b[0m\n",
      "\u001b[32m[I 2022-05-11 14:44:23,040]\u001b[0m Trial 70 finished with value: 0.24094168411701247 and parameters: {'subsample_freq': 0, 'n_estimators': 172, 'reg_alpha': 0.008518664869660518, 'reg_lambda': 1.6758440772103485e-09, 'colsample_bytree': 0.8826868212222738, 'subsample': 0.4300559005494935, 'min_child_samples': 40, 'max_depth': 10, 'learning_rate': 0.09035852125240065, 'boosting_type': 'gbdt'}. Best is trial 43 with value: 0.2480351127896295.\u001b[0m\n",
      "\u001b[32m[I 2022-05-11 14:44:24,270]\u001b[0m Trial 66 finished with value: 0.22948851257674788 and parameters: {'subsample_freq': 0, 'n_estimators': 183, 'reg_alpha': 0.0016252170509595458, 'reg_lambda': 8.182797206485753e-10, 'colsample_bytree': 0.7636703755078568, 'subsample': 0.40055714168055423, 'min_child_samples': 15, 'max_depth': 10, 'learning_rate': 0.09466930329520477, 'boosting_type': 'gbdt'}. Best is trial 43 with value: 0.2480351127896295.\u001b[0m\n",
      "\u001b[32m[I 2022-05-11 14:44:24,687]\u001b[0m Trial 69 finished with value: 0.2582673970379387 and parameters: {'subsample_freq': 0, 'n_estimators': 201, 'reg_alpha': 0.0018755068835734597, 'reg_lambda': 0.002821030231012993, 'colsample_bytree': 0.8751579501321177, 'subsample': 0.4096276970941194, 'min_child_samples': 54, 'max_depth': 10, 'learning_rate': 0.031633911046887536, 'boosting_type': 'gbdt'}. Best is trial 69 with value: 0.2582673970379387.\u001b[0m\n",
      "\u001b[32m[I 2022-05-11 14:44:36,934]\u001b[0m Trial 67 finished with value: 0.2117943522198841 and parameters: {'subsample_freq': 0, 'n_estimators': 201, 'reg_alpha': 0.0013758409974778448, 'reg_lambda': 1.6216837507630467e-09, 'colsample_bytree': 0.4313918279474578, 'subsample': 0.43016856669284276, 'min_child_samples': 12, 'max_depth': 11, 'learning_rate': 0.09122375957247611, 'boosting_type': 'gbdt'}. Best is trial 69 with value: 0.2582673970379387.\u001b[0m\n",
      "\u001b[32m[I 2022-05-11 14:44:38,114]\u001b[0m Trial 71 finished with value: 0.21607875073221608 and parameters: {'subsample_freq': 0, 'n_estimators': 177, 'reg_alpha': 0.01487425816498546, 'reg_lambda': 0.0015200762236574638, 'colsample_bytree': 0.8852769051516423, 'subsample': 0.2953568643483434, 'min_child_samples': 12, 'max_depth': 10, 'learning_rate': 0.038489296093977755, 'boosting_type': 'gbdt'}. Best is trial 69 with value: 0.2582673970379387.\u001b[0m\n",
      "\u001b[32m[I 2022-05-11 14:44:43,047]\u001b[0m Trial 75 finished with value: 0.2655040166473093 and parameters: {'subsample_freq': 0, 'n_estimators': 222, 'reg_alpha': 0.010136808578101649, 'reg_lambda': 0.0038821761773882787, 'colsample_bytree': 0.9384661847570124, 'subsample': 0.3790813020841549, 'min_child_samples': 69, 'max_depth': 13, 'learning_rate': 0.038987514479036006, 'boosting_type': 'gbdt'}. Best is trial 75 with value: 0.2655040166473093.\u001b[0m\n",
      "\u001b[32m[I 2022-05-11 14:44:48,384]\u001b[0m Trial 73 finished with value: 0.24158518001616314 and parameters: {'subsample_freq': 0, 'n_estimators': 223, 'reg_alpha': 0.014688790177878561, 'reg_lambda': 0.0008686501577709832, 'colsample_bytree': 0.8735511338258597, 'subsample': 0.2922537382435036, 'min_child_samples': 41, 'max_depth': 13, 'learning_rate': 0.042428013151380735, 'boosting_type': 'gbdt'}. Best is trial 75 with value: 0.2655040166473093.\u001b[0m\n",
      "\u001b[32m[I 2022-05-11 14:44:49,642]\u001b[0m Trial 72 finished with value: 0.26092759426092754 and parameters: {'subsample_freq': 0, 'n_estimators': 219, 'reg_alpha': 0.010326302603887887, 'reg_lambda': 1.6546405270825374e-09, 'colsample_bytree': 0.8672772522515247, 'subsample': 0.28953804609097544, 'min_child_samples': 38, 'max_depth': 13, 'learning_rate': 0.036320355127246254, 'boosting_type': 'gbdt'}. Best is trial 75 with value: 0.2655040166473093.\u001b[0m\n",
      "\u001b[32m[I 2022-05-11 14:44:53,869]\u001b[0m Trial 76 finished with value: 0.23422017385765673 and parameters: {'subsample_freq': 0, 'n_estimators': 217, 'reg_alpha': 0.028601361213461515, 'reg_lambda': 9.370653419535666e-09, 'colsample_bytree': 0.8751745723301407, 'subsample': 0.3882809868166264, 'min_child_samples': 57, 'max_depth': 13, 'learning_rate': 0.03683168682518704, 'boosting_type': 'gbdt'}. Best is trial 75 with value: 0.2655040166473093.\u001b[0m\n",
      "\u001b[32m[I 2022-05-11 14:44:58,063]\u001b[0m Trial 74 finished with value: 0.23586882626278202 and parameters: {'subsample_freq': 0, 'n_estimators': 220, 'reg_alpha': 0.02814748355599776, 'reg_lambda': 0.0011916807055146006, 'colsample_bytree': 0.8550081958938199, 'subsample': 0.3031488503735178, 'min_child_samples': 38, 'max_depth': 12, 'learning_rate': 0.037362244520856666, 'boosting_type': 'gbdt'}. Best is trial 75 with value: 0.2655040166473093.\u001b[0m\n",
      "\u001b[32m[I 2022-05-11 14:45:00,754]\u001b[0m Trial 78 finished with value: 0.22919635223710458 and parameters: {'subsample_freq': 0, 'n_estimators': 219, 'reg_alpha': 0.00910356888189757, 'reg_lambda': 0.0011925917365970297, 'colsample_bytree': 0.8752428334159861, 'subsample': 0.31909324637722836, 'min_child_samples': 58, 'max_depth': 13, 'learning_rate': 0.03452186916983926, 'boosting_type': 'gbdt'}. Best is trial 75 with value: 0.2655040166473093.\u001b[0m\n",
      "\u001b[32m[I 2022-05-11 14:45:04,693]\u001b[0m Trial 77 finished with value: 0.25071584097100647 and parameters: {'subsample_freq': 0, 'n_estimators': 225, 'reg_alpha': 0.01051752965419176, 'reg_lambda': 9.135829272313966e-09, 'colsample_bytree': 0.8803937053720846, 'subsample': 0.3145063091824203, 'min_child_samples': 59, 'max_depth': 13, 'learning_rate': 0.03559513169275283, 'boosting_type': 'gbdt'}. Best is trial 75 with value: 0.2655040166473093.\u001b[0m\n",
      "\u001b[32m[I 2022-05-11 14:45:08,168]\u001b[0m Trial 80 finished with value: 0.22770921602989277 and parameters: {'subsample_freq': 0, 'n_estimators': 217, 'reg_alpha': 0.010862575103535216, 'reg_lambda': 1.7317904409868502e-08, 'colsample_bytree': 0.933823937795048, 'subsample': 0.3783123485051565, 'min_child_samples': 62, 'max_depth': 13, 'learning_rate': 0.08070016837263244, 'boosting_type': 'gbdt'}. Best is trial 75 with value: 0.2655040166473093.\u001b[0m\n",
      "\u001b[32m[I 2022-05-11 14:45:10,674]\u001b[0m Trial 79 finished with value: 0.24936697779934094 and parameters: {'subsample_freq': 0, 'n_estimators': 217, 'reg_alpha': 0.01474118760022954, 'reg_lambda': 7.135706404449649e-09, 'colsample_bytree': 0.9005300421396109, 'subsample': 0.3379032634301275, 'min_child_samples': 59, 'max_depth': 13, 'learning_rate': 0.03670030336629615, 'boosting_type': 'gbdt'}. Best is trial 75 with value: 0.2655040166473093.\u001b[0m\n",
      "\u001b[32m[I 2022-05-11 14:45:20,573]\u001b[0m Trial 81 finished with value: 0.21443521799990228 and parameters: {'subsample_freq': 0, 'n_estimators': 219, 'reg_alpha': 0.009631624711827262, 'reg_lambda': 1.1895068650621042e-08, 'colsample_bytree': 0.9930502075906096, 'subsample': 0.37152998504478263, 'min_child_samples': 57, 'max_depth': 13, 'learning_rate': 0.014050614625888344, 'boosting_type': 'gbdt'}. Best is trial 75 with value: 0.2655040166473093.\u001b[0m\n",
      "\u001b[32m[I 2022-05-11 14:45:29,101]\u001b[0m Trial 82 finished with value: 0.23469628056657613 and parameters: {'subsample_freq': 0, 'n_estimators': 219, 'reg_alpha': 0.011309881195587434, 'reg_lambda': 0.017034235521585953, 'colsample_bytree': 0.9727494039954174, 'subsample': 0.4749802267746551, 'min_child_samples': 39, 'max_depth': 13, 'learning_rate': 0.015493112912451718, 'boosting_type': 'gbdt'}. Best is trial 75 with value: 0.2655040166473093.\u001b[0m\n",
      "\u001b[32m[I 2022-05-11 14:45:31,450]\u001b[0m Trial 83 finished with value: 0.22702589807852966 and parameters: {'subsample_freq': 0, 'n_estimators': 220, 'reg_alpha': 0.009163224372177235, 'reg_lambda': 1.4035049304527544e-08, 'colsample_bytree': 0.9972619797973502, 'subsample': 0.31079803273066064, 'min_child_samples': 38, 'max_depth': 13, 'learning_rate': 0.016989916342442568, 'boosting_type': 'gbdt'}. Best is trial 75 with value: 0.2655040166473093.\u001b[0m\n"
     ]
    },
    {
     "name": "stderr",
     "output_type": "stream",
     "text": [
      "\u001b[32m[I 2022-05-11 14:45:35,879]\u001b[0m Trial 84 finished with value: 0.2411495731075626 and parameters: {'subsample_freq': 0, 'n_estimators': 225, 'reg_alpha': 0.006858444776331063, 'reg_lambda': 0.049626774087273784, 'colsample_bytree': 0.9524431382486744, 'subsample': 0.3124339565280576, 'min_child_samples': 38, 'max_depth': 14, 'learning_rate': 0.01727485159138503, 'boosting_type': 'gbdt'}. Best is trial 75 with value: 0.2655040166473093.\u001b[0m\n",
      "\u001b[32m[I 2022-05-11 14:45:36,467]\u001b[0m Trial 85 finished with value: 0.22580401997830982 and parameters: {'subsample_freq': 0, 'n_estimators': 230, 'reg_alpha': 0.00600230972726785, 'reg_lambda': 0.02421219477010415, 'colsample_bytree': 0.9992848130085711, 'subsample': 0.4987893994290143, 'min_child_samples': 45, 'max_depth': 14, 'learning_rate': 0.012010159239652003, 'boosting_type': 'gbdt'}. Best is trial 75 with value: 0.2655040166473093.\u001b[0m\n",
      "\u001b[32m[I 2022-05-11 14:45:43,189]\u001b[0m Trial 89 finished with value: 0.22578924965265276 and parameters: {'subsample_freq': 0, 'n_estimators': 229, 'reg_alpha': 1.5171361818537598e-06, 'reg_lambda': 0.00735566216572161, 'colsample_bytree': 0.996857932694708, 'subsample': 0.4715253093077108, 'min_child_samples': 67, 'max_depth': 14, 'learning_rate': 0.014241111149649127, 'boosting_type': 'gbdt'}. Best is trial 75 with value: 0.2655040166473093.\u001b[0m\n",
      "\u001b[32m[I 2022-05-11 14:45:44,133]\u001b[0m Trial 86 finished with value: 0.2288507839274727 and parameters: {'subsample_freq': 0, 'n_estimators': 229, 'reg_alpha': 9.344068717923329e-06, 'reg_lambda': 0.027666644283850374, 'colsample_bytree': 0.9674106630798522, 'subsample': 0.46484267126217943, 'min_child_samples': 45, 'max_depth': 14, 'learning_rate': 0.01603497058276667, 'boosting_type': 'gbdt'}. Best is trial 75 with value: 0.2655040166473093.\u001b[0m\n",
      "\u001b[32m[I 2022-05-11 14:45:47,397]\u001b[0m Trial 88 finished with value: 0.22705448544390294 and parameters: {'subsample_freq': 0, 'n_estimators': 225, 'reg_alpha': 1.6474441835905372e-06, 'reg_lambda': 0.041016316533558715, 'colsample_bytree': 0.976895130988342, 'subsample': 0.4784784294346148, 'min_child_samples': 45, 'max_depth': 14, 'learning_rate': 0.011800551411096195, 'boosting_type': 'gbdt'}. Best is trial 75 with value: 0.2655040166473093.\u001b[0m\n",
      "\u001b[32m[I 2022-05-11 14:45:47,557]\u001b[0m Trial 87 finished with value: 0.22564442969355017 and parameters: {'subsample_freq': 0, 'n_estimators': 232, 'reg_alpha': 1.3884713389210125e-06, 'reg_lambda': 0.028268187352595377, 'colsample_bytree': 0.983165234166384, 'subsample': 0.18661001625497703, 'min_child_samples': 46, 'max_depth': 14, 'learning_rate': 0.01543445985137976, 'boosting_type': 'gbdt'}. Best is trial 75 with value: 0.2655040166473093.\u001b[0m\n",
      "\u001b[32m[I 2022-05-11 14:45:56,931]\u001b[0m Trial 90 finished with value: 0.21967783824976836 and parameters: {'subsample_freq': 0, 'n_estimators': 228, 'reg_alpha': 0.17206364861294932, 'reg_lambda': 0.018341216923640914, 'colsample_bytree': 0.9455213007493137, 'subsample': 0.3308036879382326, 'min_child_samples': 46, 'max_depth': 14, 'learning_rate': 0.017092275827633396, 'boosting_type': 'gbdt'}. Best is trial 75 with value: 0.2655040166473093.\u001b[0m\n",
      "\u001b[32m[I 2022-05-11 14:46:01,504]\u001b[0m Trial 91 finished with value: 0.23627803668274602 and parameters: {'subsample_freq': 0, 'n_estimators': 228, 'reg_alpha': 0.18197667765714315, 'reg_lambda': 0.06099118446173844, 'colsample_bytree': 0.9419217950005606, 'subsample': 0.33568526649685115, 'min_child_samples': 52, 'max_depth': 14, 'learning_rate': 0.020677323917385457, 'boosting_type': 'gbdt'}. Best is trial 75 with value: 0.2655040166473093.\u001b[0m\n",
      "\u001b[32m[I 2022-05-11 14:46:03,873]\u001b[0m Trial 92 finished with value: 0.23223707585047682 and parameters: {'subsample_freq': 0, 'n_estimators': 229, 'reg_alpha': 0.22890795376812967, 'reg_lambda': 0.00010982353442555604, 'colsample_bytree': 0.9168871598205973, 'subsample': 0.33670145968619114, 'min_child_samples': 52, 'max_depth': 14, 'learning_rate': 0.02147995919925169, 'boosting_type': 'gbdt'}. Best is trial 75 with value: 0.2655040166473093.\u001b[0m\n",
      "\u001b[32m[I 2022-05-11 14:46:04,696]\u001b[0m Trial 94 finished with value: 0.21764220367003304 and parameters: {'subsample_freq': 0, 'n_estimators': 210, 'reg_alpha': 0.21496814724899158, 'reg_lambda': 9.443401658465708e-05, 'colsample_bytree': 0.9235528272445999, 'subsample': 0.3467176085362398, 'min_child_samples': 69, 'max_depth': 12, 'learning_rate': 0.02299901105156785, 'boosting_type': 'gbdt'}. Best is trial 75 with value: 0.2655040166473093.\u001b[0m\n",
      "\u001b[32m[I 2022-05-11 14:46:13,483]\u001b[0m Trial 93 finished with value: 0.23504207526850976 and parameters: {'subsample_freq': 0, 'n_estimators': 240, 'reg_alpha': 0.19475621016414302, 'reg_lambda': 0.00017740232939075358, 'colsample_bytree': 0.9109170373581357, 'subsample': 0.1808320509067254, 'min_child_samples': 52, 'max_depth': 14, 'learning_rate': 0.026664672082394467, 'boosting_type': 'gbdt'}. Best is trial 75 with value: 0.2655040166473093.\u001b[0m\n",
      "\u001b[32m[I 2022-05-11 14:46:20,012]\u001b[0m Trial 95 finished with value: 0.22572843822843822 and parameters: {'subsample_freq': 0, 'n_estimators': 244, 'reg_alpha': 0.22866687623080256, 'reg_lambda': 0.00027565289650761157, 'colsample_bytree': 0.9170066218553582, 'subsample': 0.3408889767144605, 'min_child_samples': 72, 'max_depth': 15, 'learning_rate': 0.026865494126242263, 'boosting_type': 'gbdt'}. Best is trial 75 with value: 0.2655040166473093.\u001b[0m\n",
      "\u001b[32m[I 2022-05-11 14:46:20,179]\u001b[0m Trial 96 finished with value: 0.22345405180885727 and parameters: {'subsample_freq': 0, 'n_estimators': 240, 'reg_alpha': 0.4108596604942964, 'reg_lambda': 0.00020132822770826503, 'colsample_bytree': 0.9168065914810067, 'subsample': 0.33422463183829676, 'min_child_samples': 53, 'max_depth': 15, 'learning_rate': 0.028150359618848708, 'boosting_type': 'gbdt'}. Best is trial 75 with value: 0.2655040166473093.\u001b[0m\n",
      "\u001b[32m[I 2022-05-11 14:46:35,424]\u001b[0m Trial 98 finished with value: 0.2482195875461403 and parameters: {'subsample_freq': 0, 'n_estimators': 242, 'reg_alpha': 0.2565956685179581, 'reg_lambda': 0.00015533345840580982, 'colsample_bytree': 0.9240005732362069, 'subsample': 0.3405165793562708, 'min_child_samples': 30, 'max_depth': 15, 'learning_rate': 0.02957483030625309, 'boosting_type': 'gbdt'}. Best is trial 75 with value: 0.2655040166473093.\u001b[0m\n",
      "\u001b[32m[I 2022-05-11 14:46:43,544]\u001b[0m Trial 99 finished with value: 0.23443091680501751 and parameters: {'subsample_freq': 0, 'n_estimators': 246, 'reg_alpha': 0.280281636300582, 'reg_lambda': 0.00040938684351791955, 'colsample_bytree': 0.9177251129373828, 'subsample': 0.341025600065992, 'min_child_samples': 52, 'max_depth': 15, 'learning_rate': 0.04320788595382648, 'boosting_type': 'gbdt'}. Best is trial 75 with value: 0.2655040166473093.\u001b[0m\n",
      "\u001b[32m[I 2022-05-11 14:46:45,652]\u001b[0m Trial 97 finished with value: 0.22984902803586285 and parameters: {'subsample_freq': 0, 'n_estimators': 244, 'reg_alpha': 0.20271674174584153, 'reg_lambda': 4.163997135033428e-05, 'colsample_bytree': 0.9154911222434449, 'subsample': 0.33882956877292525, 'min_child_samples': 31, 'max_depth': 15, 'learning_rate': 0.03011256929454194, 'boosting_type': 'gbdt'}. Best is trial 75 with value: 0.2655040166473093.\u001b[0m\n",
      "\u001b[32m[I 2022-05-11 14:46:57,145]\u001b[0m Trial 100 finished with value: 0.0 and parameters: {'subsample_freq': 0, 'n_estimators': 239, 'reg_alpha': 0.00022512892657941904, 'reg_lambda': 0.0003327423332005373, 'colsample_bytree': 0.9061043445597857, 'subsample': 0.3996802343608509, 'min_child_samples': 30, 'max_depth': 15, 'learning_rate': 0.0010026348722584552, 'boosting_type': 'gbdt'}. Best is trial 75 with value: 0.2655040166473093.\u001b[0m\n",
      "\u001b[32m[I 2022-05-11 14:46:59,646]\u001b[0m Trial 104 finished with value: 0.22449115782449114 and parameters: {'subsample_freq': 0, 'n_estimators': 205, 'reg_alpha': 0.0004409215021866395, 'reg_lambda': 0.26307476214161685, 'colsample_bytree': 0.8415885338059357, 'subsample': 0.4004009171675419, 'min_child_samples': 30, 'max_depth': 12, 'learning_rate': 0.045458814580265176, 'boosting_type': 'gbdt'}. Best is trial 75 with value: 0.2655040166473093.\u001b[0m\n",
      "\u001b[32m[I 2022-05-11 14:47:04,015]\u001b[0m Trial 102 finished with value: 0.0 and parameters: {'subsample_freq': 0, 'n_estimators': 239, 'reg_alpha': 0.0003089822459876036, 'reg_lambda': 0.00028029027018717096, 'colsample_bytree': 0.849776863670914, 'subsample': 0.25929563261398964, 'min_child_samples': 32, 'max_depth': 15, 'learning_rate': 0.0018191726297844407, 'boosting_type': 'gbdt'}. Best is trial 75 with value: 0.2655040166473093.\u001b[0m\n"
     ]
    },
    {
     "name": "stderr",
     "output_type": "stream",
     "text": [
      "\u001b[32m[I 2022-05-11 14:47:04,654]\u001b[0m Trial 105 finished with value: 0.22423841192460855 and parameters: {'subsample_freq': 0, 'n_estimators': 204, 'reg_alpha': 0.0004223919114727188, 'reg_lambda': 0.17582406522624192, 'colsample_bytree': 0.8499046963313949, 'subsample': 0.283935107388822, 'min_child_samples': 28, 'max_depth': 12, 'learning_rate': 0.044835981860321165, 'boosting_type': 'gbdt'}. Best is trial 75 with value: 0.2655040166473093.\u001b[0m\n",
      "\u001b[32m[I 2022-05-11 14:47:07,086]\u001b[0m Trial 101 finished with value: 0.22162380708166793 and parameters: {'subsample_freq': 0, 'n_estimators': 241, 'reg_alpha': 0.0003462258033396657, 'reg_lambda': 0.0003940910090433806, 'colsample_bytree': 0.9030535351613038, 'subsample': 0.2526775981975868, 'min_child_samples': 32, 'max_depth': 15, 'learning_rate': 0.030919098733126524, 'boosting_type': 'gbdt'}. Best is trial 75 with value: 0.2655040166473093.\u001b[0m\n",
      "\u001b[32m[I 2022-05-11 14:47:12,660]\u001b[0m Trial 103 finished with value: 0.23296494355317887 and parameters: {'subsample_freq': 0, 'n_estimators': 245, 'reg_alpha': 0.00330236111206668, 'reg_lambda': 0.0003785582896390205, 'colsample_bytree': 0.8510531302609328, 'subsample': 0.26670643020149826, 'min_child_samples': 30, 'max_depth': 15, 'learning_rate': 0.04411964484638026, 'boosting_type': 'gbdt'}. Best is trial 75 with value: 0.2655040166473093.\u001b[0m\n",
      "\u001b[32m[I 2022-05-11 14:47:25,091]\u001b[0m Trial 107 finished with value: 0.0 and parameters: {'subsample_freq': 0, 'n_estimators': 207, 'reg_alpha': 0.00045357121317494373, 'reg_lambda': 2.4151170455764137e-05, 'colsample_bytree': 0.8425368933060806, 'subsample': 0.40176339948745954, 'min_child_samples': 30, 'max_depth': 12, 'learning_rate': 0.0025216379995925894, 'boosting_type': 'gbdt'}. Best is trial 75 with value: 0.2655040166473093.\u001b[0m\n",
      "\u001b[32m[I 2022-05-11 14:47:28,893]\u001b[0m Trial 108 finished with value: 0.039876113046844755 and parameters: {'subsample_freq': 0, 'n_estimators': 206, 'reg_alpha': 0.00028656267009101807, 'reg_lambda': 3.1994714060365893e-10, 'colsample_bytree': 0.8538130469663132, 'subsample': 0.26162449599258447, 'min_child_samples': 35, 'max_depth': 12, 'learning_rate': 0.003341079996484985, 'boosting_type': 'gbdt'}. Best is trial 75 with value: 0.2655040166473093.\u001b[0m\n",
      "\u001b[32m[I 2022-05-11 14:47:39,699]\u001b[0m Trial 111 finished with value: 0.22826797385620914 and parameters: {'subsample_freq': 0, 'n_estimators': 213, 'reg_alpha': 0.0036794161305336776, 'reg_lambda': 0.004976045624150834, 'colsample_bytree': 0.953911551988012, 'subsample': 0.2919419787781615, 'min_child_samples': 27, 'max_depth': 12, 'learning_rate': 0.05726050777756087, 'boosting_type': 'gbdt'}. Best is trial 75 with value: 0.2655040166473093.\u001b[0m\n",
      "\u001b[32m[I 2022-05-11 14:47:45,556]\u001b[0m Trial 106 finished with value: 0.0 and parameters: {'subsample_freq': 0, 'n_estimators': 208, 'reg_alpha': 0.0003634299117397545, 'reg_lambda': 2.6167702299832254e-05, 'colsample_bytree': 0.7181246557116072, 'subsample': 0.40106115444116197, 'min_child_samples': 31, 'max_depth': 16, 'learning_rate': 0.0012626028989611848, 'boosting_type': 'gbdt'}. Best is trial 75 with value: 0.2655040166473093.\u001b[0m\n",
      "\u001b[32m[I 2022-05-11 14:47:46,012]\u001b[0m Trial 33 finished with value: 0.20055179966723533 and parameters: {'subsample_freq': 0, 'n_estimators': 292, 'reg_alpha': 4.555753908783667e-07, 'reg_lambda': 1.0497594955610805e-10, 'colsample_bytree': 0.6172635935252275, 'subsample': 0.958854350327655, 'min_child_samples': 6, 'max_depth': 20, 'learning_rate': 0.016710230630961193, 'boosting_type': 'gbdt'}. Best is trial 75 with value: 0.2655040166473093.\u001b[0m\n",
      "\u001b[32m[I 2022-05-11 14:48:09,199]\u001b[0m Trial 110 finished with value: 0.23658139022625005 and parameters: {'subsample_freq': 0, 'n_estimators': 212, 'reg_alpha': 0.05125478230026188, 'reg_lambda': 3.0109191709741177e-10, 'colsample_bytree': 0.95837377433065, 'subsample': 0.2469426924145826, 'min_child_samples': 27, 'max_depth': 16, 'learning_rate': 0.05403960614371717, 'boosting_type': 'gbdt'}. Best is trial 75 with value: 0.2655040166473093.\u001b[0m\n",
      "\u001b[32m[I 2022-05-11 14:48:11,459]\u001b[0m Trial 109 finished with value: 0.2348162511162422 and parameters: {'subsample_freq': 0, 'n_estimators': 259, 'reg_alpha': 0.00040765193568799245, 'reg_lambda': 1.359254617587116e-06, 'colsample_bytree': 0.8635025768366307, 'subsample': 0.26113944667034134, 'min_child_samples': 63, 'max_depth': 16, 'learning_rate': 0.056613430862830175, 'boosting_type': 'gbdt'}. Best is trial 75 with value: 0.2655040166473093.\u001b[0m\n",
      "\u001b[32m[I 2022-05-11 14:48:12,653]\u001b[0m Trial 114 finished with value: 0.22231815803244373 and parameters: {'subsample_freq': 0, 'n_estimators': 212, 'reg_alpha': 0.06537775787471099, 'reg_lambda': 0.00577609287996856, 'colsample_bytree': 0.7330285850735149, 'subsample': 0.12837615271603922, 'min_child_samples': 35, 'max_depth': 16, 'learning_rate': 0.0550765952073657, 'boosting_type': 'gbdt'}. Best is trial 75 with value: 0.2655040166473093.\u001b[0m\n",
      "\u001b[32m[I 2022-05-11 14:48:23,065]\u001b[0m Trial 113 finished with value: 0.2156449420600364 and parameters: {'subsample_freq': 0, 'n_estimators': 257, 'reg_alpha': 0.051496452947973156, 'reg_lambda': 0.00472159413090097, 'colsample_bytree': 0.9581379767025393, 'subsample': 0.5249627328049233, 'min_child_samples': 61, 'max_depth': 17, 'learning_rate': 0.07546473312515227, 'boosting_type': 'gbdt'}. Best is trial 75 with value: 0.2655040166473093.\u001b[0m\n",
      "\u001b[32m[I 2022-05-11 14:48:24,874]\u001b[0m Trial 119 finished with value: 0.24373541513141736 and parameters: {'subsample_freq': 0, 'n_estimators': 224, 'reg_alpha': 0.06740068925673573, 'reg_lambda': 1.0438959085282911e-06, 'colsample_bytree': 0.8900055825179135, 'subsample': 0.1488731645448167, 'min_child_samples': 62, 'max_depth': 16, 'learning_rate': 0.05176289566498647, 'boosting_type': 'gbdt'}. Best is trial 75 with value: 0.2655040166473093.\u001b[0m\n",
      "\u001b[32m[I 2022-05-11 14:48:26,457]\u001b[0m Trial 121 finished with value: 0.20988065330039407 and parameters: {'subsample_freq': 0, 'n_estimators': 171, 'reg_alpha': 1.8738813762024926, 'reg_lambda': 2.259530252078383e-09, 'colsample_bytree': 0.8918930324068047, 'subsample': 0.5181902345878335, 'min_child_samples': 41, 'max_depth': 10, 'learning_rate': 0.07422695768205166, 'boosting_type': 'gbdt'}. Best is trial 75 with value: 0.2655040166473093.\u001b[0m\n",
      "\u001b[32m[I 2022-05-11 14:48:33,109]\u001b[0m Trial 118 finished with value: 0.22255035325268002 and parameters: {'subsample_freq': 0, 'n_estimators': 255, 'reg_alpha': 1.904463017072865, 'reg_lambda': 3.21406236747175e-08, 'colsample_bytree': 0.8900340558448318, 'subsample': 0.3654611580866949, 'min_child_samples': 35, 'max_depth': 16, 'learning_rate': 0.07404825977979967, 'boosting_type': 'gbdt'}. Best is trial 75 with value: 0.2655040166473093.\u001b[0m\n",
      "\u001b[32m[I 2022-05-11 14:48:43,968]\u001b[0m Trial 120 finished with value: 0.2222222222222222 and parameters: {'subsample_freq': 0, 'n_estimators': 256, 'reg_alpha': 0.003411877404732563, 'reg_lambda': 2.841565605599517e-09, 'colsample_bytree': 0.8863204539801592, 'subsample': 0.5198345439475787, 'min_child_samples': 40, 'max_depth': 10, 'learning_rate': 0.03956833857145431, 'boosting_type': 'gbdt'}. Best is trial 75 with value: 0.2655040166473093.\u001b[0m\n",
      "\u001b[32m[I 2022-05-11 14:48:44,341]\u001b[0m Trial 122 finished with value: 0.2515151515151515 and parameters: {'subsample_freq': 0, 'n_estimators': 252, 'reg_alpha': 0.02184981955056689, 'reg_lambda': 1.5750230595315897e-09, 'colsample_bytree': 0.8885590162615361, 'subsample': 0.22258479204243092, 'min_child_samples': 40, 'max_depth': 10, 'learning_rate': 0.039271571697527444, 'boosting_type': 'gbdt'}. Best is trial 75 with value: 0.2655040166473093.\u001b[0m\n",
      "\u001b[32m[I 2022-05-11 14:48:45,745]\u001b[0m Trial 115 finished with value: 0.21653038319704987 and parameters: {'subsample_freq': 0, 'n_estimators': 260, 'reg_alpha': 0.0029744761984497824, 'reg_lambda': 0.0034626592716000015, 'colsample_bytree': 0.744259402437176, 'subsample': 0.2951266717226631, 'min_child_samples': 61, 'max_depth': 16, 'learning_rate': 0.054824981926526656, 'boosting_type': 'gbdt'}. Best is trial 75 with value: 0.2655040166473093.\u001b[0m\n",
      "\u001b[32m[I 2022-05-11 14:48:46,550]\u001b[0m Trial 112 finished with value: 0.20957878100735242 and parameters: {'subsample_freq': 0, 'n_estimators': 254, 'reg_alpha': 0.003305663395424002, 'reg_lambda': 0.004197524906055411, 'colsample_bytree': 0.7193708738145161, 'subsample': 0.22167638592781852, 'min_child_samples': 35, 'max_depth': 16, 'learning_rate': 0.05564698510136954, 'boosting_type': 'gbdt'}. Best is trial 75 with value: 0.2655040166473093.\u001b[0m\n"
     ]
    },
    {
     "name": "stderr",
     "output_type": "stream",
     "text": [
      "\u001b[32m[I 2022-05-11 14:48:46,790]\u001b[0m Trial 116 finished with value: 0.23907789653078063 and parameters: {'subsample_freq': 0, 'n_estimators': 256, 'reg_alpha': 0.003182807967533366, 'reg_lambda': 0.003133469342572049, 'colsample_bytree': 0.9553227788023705, 'subsample': 0.2268683543217862, 'min_child_samples': 62, 'max_depth': 16, 'learning_rate': 0.05770233523440567, 'boosting_type': 'gbdt'}. Best is trial 75 with value: 0.2655040166473093.\u001b[0m\n",
      "\u001b[32m[I 2022-05-11 14:48:48,276]\u001b[0m Trial 123 finished with value: 0.23844937231210628 and parameters: {'subsample_freq': 0, 'n_estimators': 168, 'reg_alpha': 0.003036485541460723, 'reg_lambda': 2.9185578038109497e-09, 'colsample_bytree': 0.8878845089871275, 'subsample': 0.3709846930024303, 'min_child_samples': 41, 'max_depth': 10, 'learning_rate': 0.039365432411338934, 'boosting_type': 'gbdt'}. Best is trial 75 with value: 0.2655040166473093.\u001b[0m\n",
      "\u001b[32m[I 2022-05-11 14:48:53,202]\u001b[0m Trial 125 finished with value: 0.238800505050505 and parameters: {'subsample_freq': 0, 'n_estimators': 223, 'reg_alpha': 0.024716964416857477, 'reg_lambda': 3.6218570652594844e-08, 'colsample_bytree': 0.8183307023152622, 'subsample': 0.218148616737413, 'min_child_samples': 65, 'max_depth': 13, 'learning_rate': 0.0389519646422181, 'boosting_type': 'gbdt'}. Best is trial 75 with value: 0.2655040166473093.\u001b[0m\n",
      "\u001b[32m[I 2022-05-11 14:48:54,852]\u001b[0m Trial 117 finished with value: 0.21202522689620787 and parameters: {'subsample_freq': 0, 'n_estimators': 262, 'reg_alpha': 0.04937365191672197, 'reg_lambda': 1.0538016144999285e-06, 'colsample_bytree': 0.7483778774579455, 'subsample': 0.3652642819070793, 'min_child_samples': 62, 'max_depth': 16, 'learning_rate': 0.07442530868167951, 'boosting_type': 'gbdt'}. Best is trial 75 with value: 0.2655040166473093.\u001b[0m\n",
      "\u001b[32m[I 2022-05-11 14:49:01,623]\u001b[0m Trial 124 finished with value: 0.23250980392156861 and parameters: {'subsample_freq': 0, 'n_estimators': 267, 'reg_alpha': 0.8085767020449, 'reg_lambda': 3.3214215305583195e-07, 'colsample_bytree': 0.8928031535105694, 'subsample': 0.21586143186521503, 'min_child_samples': 56, 'max_depth': 17, 'learning_rate': 0.03895894920595648, 'boosting_type': 'gbdt'}. Best is trial 75 with value: 0.2655040166473093.\u001b[0m\n",
      "\u001b[32m[I 2022-05-11 14:49:03,416]\u001b[0m Trial 126 finished with value: 0.23413107933231772 and parameters: {'subsample_freq': 0, 'n_estimators': 224, 'reg_alpha': 0.022370818336265714, 'reg_lambda': 4.310180071786868e-07, 'colsample_bytree': 0.8084208266690063, 'subsample': 0.0820444125926371, 'min_child_samples': 60, 'max_depth': 13, 'learning_rate': 0.04012563786302281, 'boosting_type': 'gbdt'}. Best is trial 75 with value: 0.2655040166473093.\u001b[0m\n",
      "\u001b[32m[I 2022-05-11 14:49:15,567]\u001b[0m Trial 128 finished with value: 0.22920570064183865 and parameters: {'subsample_freq': 0, 'n_estimators': 250, 'reg_alpha': 0.7338045007352842, 'reg_lambda': 6.235804160620406e-09, 'colsample_bytree': 0.8247765953652758, 'subsample': 0.21636069251875828, 'min_child_samples': 56, 'max_depth': 11, 'learning_rate': 0.03546178664185461, 'boosting_type': 'gbdt'}. Best is trial 75 with value: 0.2655040166473093.\u001b[0m\n",
      "\u001b[32m[I 2022-05-11 14:49:16,504]\u001b[0m Trial 127 finished with value: 0.2309467905400875 and parameters: {'subsample_freq': 0, 'n_estimators': 224, 'reg_alpha': 0.02544410733316344, 'reg_lambda': 3.963151537947422e-07, 'colsample_bytree': 0.8163435468418556, 'subsample': 0.21098449132714672, 'min_child_samples': 55, 'max_depth': 13, 'learning_rate': 0.03515751327153742, 'boosting_type': 'gbdt'}. Best is trial 75 with value: 0.2655040166473093.\u001b[0m\n",
      "\u001b[32m[I 2022-05-11 14:49:17,119]\u001b[0m Trial 129 finished with value: 0.23426541159099298 and parameters: {'subsample_freq': 0, 'n_estimators': 250, 'reg_alpha': 0.022662319626972134, 'reg_lambda': 4.899257362413936e-07, 'colsample_bytree': 0.8228579226250455, 'subsample': 0.21626199548449693, 'min_child_samples': 74, 'max_depth': 11, 'learning_rate': 0.033946404897823565, 'boosting_type': 'gbdt'}. Best is trial 75 with value: 0.2655040166473093.\u001b[0m\n",
      "\u001b[32m[I 2022-05-11 14:49:19,202]\u001b[0m Trial 132 finished with value: 0.22823401111274697 and parameters: {'subsample_freq': 0, 'n_estimators': 267, 'reg_alpha': 0.018728022976119554, 'reg_lambda': 4.405128458572352e-07, 'colsample_bytree': 0.8174215096426036, 'subsample': 0.1595732740462288, 'min_child_samples': 76, 'max_depth': 13, 'learning_rate': 0.03306569171078279, 'boosting_type': 'gbdt'}. Best is trial 75 with value: 0.2655040166473093.\u001b[0m\n",
      "\u001b[32m[I 2022-05-11 14:49:20,404]\u001b[0m Trial 131 finished with value: 0.24610605038236613 and parameters: {'subsample_freq': 0, 'n_estimators': 235, 'reg_alpha': 0.02176098363066876, 'reg_lambda': 4.8668735568431544e-09, 'colsample_bytree': 0.8136494278581659, 'subsample': 0.09043349318855406, 'min_child_samples': 55, 'max_depth': 13, 'learning_rate': 0.03706768328842021, 'boosting_type': 'gbdt'}. Best is trial 75 with value: 0.2655040166473093.\u001b[0m\n",
      "\u001b[32m[I 2022-05-11 14:49:21,269]\u001b[0m Trial 130 finished with value: 0.2531574486119941 and parameters: {'subsample_freq': 0, 'n_estimators': 223, 'reg_alpha': 0.023134700370030892, 'reg_lambda': 7.489599841618337e-10, 'colsample_bytree': 0.8197234931924076, 'subsample': 0.1058585510855905, 'min_child_samples': 56, 'max_depth': 13, 'learning_rate': 0.03463200672711207, 'boosting_type': 'gbdt'}. Best is trial 75 with value: 0.2655040166473093.\u001b[0m\n",
      "\u001b[32m[I 2022-05-11 14:49:34,427]\u001b[0m Trial 133 finished with value: 0.21382783882783882 and parameters: {'subsample_freq': 0, 'n_estimators': 269, 'reg_alpha': 0.019911356370367127, 'reg_lambda': 2.840525036133121e-07, 'colsample_bytree': 0.8120946589493774, 'subsample': 0.1509525131193824, 'min_child_samples': 56, 'max_depth': 11, 'learning_rate': 0.03296564228499573, 'boosting_type': 'gbdt'}. Best is trial 75 with value: 0.2655040166473093.\u001b[0m\n",
      "\u001b[32m[I 2022-05-11 14:49:37,961]\u001b[0m Trial 135 finished with value: 0.24563647734379443 and parameters: {'subsample_freq': 0, 'n_estimators': 235, 'reg_alpha': 0.019162831626468563, 'reg_lambda': 6.987879908883447e-10, 'colsample_bytree': 0.8030446630396784, 'subsample': 0.09678694845148261, 'min_child_samples': 48, 'max_depth': 11, 'learning_rate': 0.03350843166220231, 'boosting_type': 'gbdt'}. Best is trial 75 with value: 0.2655040166473093.\u001b[0m\n",
      "\u001b[32m[I 2022-05-11 14:49:38,067]\u001b[0m Trial 139 finished with value: 0.22682960538279687 and parameters: {'subsample_freq': 0, 'n_estimators': 155, 'reg_alpha': 0.0744124926603491, 'reg_lambda': 7.805002391480981e-10, 'colsample_bytree': 0.9318153122578915, 'subsample': 0.15224068344604857, 'min_child_samples': 43, 'max_depth': 9, 'learning_rate': 0.04839394682802576, 'boosting_type': 'gbdt'}. Best is trial 75 with value: 0.2655040166473093.\u001b[0m\n",
      "\u001b[32m[I 2022-05-11 14:49:40,323]\u001b[0m Trial 137 finished with value: 0.22187508344682103 and parameters: {'subsample_freq': 0, 'n_estimators': 236, 'reg_alpha': 0.016606375565466507, 'reg_lambda': 5.032419197388342e-10, 'colsample_bytree': 0.9357761416116314, 'subsample': 0.16291098640910381, 'min_child_samples': 76, 'max_depth': 9, 'learning_rate': 0.032109210568048906, 'boosting_type': 'gbdt'}. Best is trial 75 with value: 0.2655040166473093.\u001b[0m\n",
      "\u001b[32m[I 2022-05-11 14:49:44,437]\u001b[0m Trial 136 finished with value: 0.22493641134614764 and parameters: {'subsample_freq': 0, 'n_estimators': 235, 'reg_alpha': 0.015027857086453286, 'reg_lambda': 5.276590179278515e-10, 'colsample_bytree': 0.9391899803945631, 'subsample': 0.15207715314876766, 'min_child_samples': 43, 'max_depth': 11, 'learning_rate': 0.03234165793072948, 'boosting_type': 'gbdt'}. Best is trial 75 with value: 0.2655040166473093.\u001b[0m\n",
      "\u001b[32m[I 2022-05-11 14:49:44,613]\u001b[0m Trial 134 finished with value: 0.22200988533808255 and parameters: {'subsample_freq': 0, 'n_estimators': 268, 'reg_alpha': 7.487398942032894e-13, 'reg_lambda': 3.616114660940701e-07, 'colsample_bytree': 0.8272840897890242, 'subsample': 0.07573175279670709, 'min_child_samples': 55, 'max_depth': 11, 'learning_rate': 0.03366557453872621, 'boosting_type': 'gbdt'}. Best is trial 75 with value: 0.2655040166473093.\u001b[0m\n",
      "\u001b[32m[I 2022-05-11 14:49:44,891]\u001b[0m Trial 142 finished with value: 0.24135619559348373 and parameters: {'subsample_freq': 0, 'n_estimators': 153, 'reg_alpha': 4.134026241897053e-20, 'reg_lambda': 5.636736837949392e-10, 'colsample_bytree': 0.8740447585491579, 'subsample': 0.07076455459341804, 'min_child_samples': 50, 'max_depth': 9, 'learning_rate': 0.04999440521113937, 'boosting_type': 'gbdt'}. Best is trial 75 with value: 0.2655040166473093.\u001b[0m\n"
     ]
    },
    {
     "name": "stderr",
     "output_type": "stream",
     "text": [
      "\u001b[32m[I 2022-05-11 14:49:49,694]\u001b[0m Trial 141 finished with value: 0.24673043957756438 and parameters: {'subsample_freq': 0, 'n_estimators': 233, 'reg_alpha': 2.290875373995342e-20, 'reg_lambda': 6.269584521486397e-10, 'colsample_bytree': 0.8681290977206413, 'subsample': 0.07744124843861527, 'min_child_samples': 69, 'max_depth': 9, 'learning_rate': 0.04935584484669347, 'boosting_type': 'gbdt'}. Best is trial 75 with value: 0.2655040166473093.\u001b[0m\n",
      "\u001b[32m[I 2022-05-11 14:49:52,012]\u001b[0m Trial 140 finished with value: 0.229615949799436 and parameters: {'subsample_freq': 0, 'n_estimators': 215, 'reg_alpha': 0.008397654678012493, 'reg_lambda': 1.0078295947806827e-10, 'colsample_bytree': 0.8725581439056128, 'subsample': 0.44785181026034176, 'min_child_samples': 37, 'max_depth': 9, 'learning_rate': 0.04903878788538539, 'boosting_type': 'gbdt'}. Best is trial 75 with value: 0.2655040166473093.\u001b[0m\n",
      "\u001b[32m[I 2022-05-11 14:49:57,513]\u001b[0m Trial 138 finished with value: 0.23729169757207144 and parameters: {'subsample_freq': 0, 'n_estimators': 190, 'reg_alpha': 1.8986792979018127e-05, 'reg_lambda': 6.151401418779891e-10, 'colsample_bytree': 0.9421760601552656, 'subsample': 0.15561859440104606, 'min_child_samples': 37, 'max_depth': 11, 'learning_rate': 0.0501682708165102, 'boosting_type': 'gbdt'}. Best is trial 75 with value: 0.2655040166473093.\u001b[0m\n",
      "\u001b[32m[I 2022-05-11 14:50:05,440]\u001b[0m Trial 144 finished with value: 0.2455141919840251 and parameters: {'subsample_freq': 0, 'n_estimators': 233, 'reg_alpha': 0.09364419497528192, 'reg_lambda': 6.650866517471716e-10, 'colsample_bytree': 0.77747088295307, 'subsample': 0.050576158184745125, 'min_child_samples': 48, 'max_depth': 9, 'learning_rate': 0.048612324357150405, 'boosting_type': 'gbdt'}. Best is trial 75 with value: 0.2655040166473093.\u001b[0m\n",
      "\u001b[32m[I 2022-05-11 14:50:14,429]\u001b[0m Trial 145 finished with value: 0.21510029299075953 and parameters: {'subsample_freq': 0, 'n_estimators': 232, 'reg_alpha': 8.595641528833334e-13, 'reg_lambda': 5.6349586778447943e-11, 'colsample_bytree': 0.7781822505757774, 'subsample': 0.07198953983546048, 'min_child_samples': 50, 'max_depth': 9, 'learning_rate': 0.023923373641349083, 'boosting_type': 'gbdt'}. Best is trial 75 with value: 0.2655040166473093.\u001b[0m\n",
      "\u001b[32m[I 2022-05-11 14:50:14,533]\u001b[0m Trial 150 finished with value: 0.2315533207494955 and parameters: {'subsample_freq': 0, 'n_estimators': 216, 'reg_alpha': 0.09972942575985323, 'reg_lambda': 6.286260166647449e-11, 'colsample_bytree': 0.7906611208012592, 'subsample': 0.10122131657425236, 'min_child_samples': 66, 'max_depth': 12, 'learning_rate': 0.02342541545776656, 'boosting_type': 'gbdt'}. Best is trial 75 with value: 0.2655040166473093.\u001b[0m\n",
      "\u001b[32m[I 2022-05-11 14:50:16,331]\u001b[0m Trial 143 finished with value: 0.22597883597883597 and parameters: {'subsample_freq': 0, 'n_estimators': 234, 'reg_alpha': 8.908523696535016e-14, 'reg_lambda': 5.49968927074949e-10, 'colsample_bytree': 0.8702666637548775, 'subsample': 0.09266368363990349, 'min_child_samples': 43, 'max_depth': 9, 'learning_rate': 0.021914103294176757, 'boosting_type': 'gbdt'}. Best is trial 75 with value: 0.2655040166473093.\u001b[0m\n",
      "\u001b[32m[I 2022-05-11 14:50:16,430]\u001b[0m Trial 149 finished with value: 0.23310236609189325 and parameters: {'subsample_freq': 0, 'n_estimators': 215, 'reg_alpha': 0.12297384539967665, 'reg_lambda': 7.197224675333591e-11, 'colsample_bytree': 0.7769262905093626, 'subsample': 0.043154623754277005, 'min_child_samples': 48, 'max_depth': 12, 'learning_rate': 0.02319323419313125, 'boosting_type': 'gbdt'}. Best is trial 75 with value: 0.2655040166473093.\u001b[0m\n",
      "\u001b[32m[I 2022-05-11 14:50:17,661]\u001b[0m Trial 147 finished with value: 0.24365302819739984 and parameters: {'subsample_freq': 0, 'n_estimators': 216, 'reg_alpha': 0.13428842661217769, 'reg_lambda': 6.708600577665064e-11, 'colsample_bytree': 0.7890557281941982, 'subsample': 0.0774556351595056, 'min_child_samples': 48, 'max_depth': 12, 'learning_rate': 0.02425012094766878, 'boosting_type': 'gbdt'}. Best is trial 75 with value: 0.2655040166473093.\u001b[0m\n",
      "\u001b[32m[I 2022-05-11 14:50:20,291]\u001b[0m Trial 151 finished with value: 0.21742828037441927 and parameters: {'subsample_freq': 0, 'n_estimators': 191, 'reg_alpha': 7.507199443853346e-19, 'reg_lambda': 1.7896606016562103e-08, 'colsample_bytree': 0.7866011821596665, 'subsample': 0.10497308656138032, 'min_child_samples': 68, 'max_depth': 10, 'learning_rate': 0.02506506237861292, 'boosting_type': 'gbdt'}. Best is trial 75 with value: 0.2655040166473093.\u001b[0m\n",
      "\u001b[32m[I 2022-05-11 14:50:24,739]\u001b[0m Trial 146 finished with value: 0.26243594550681165 and parameters: {'subsample_freq': 0, 'n_estimators': 233, 'reg_alpha': 0.001146193129198409, 'reg_lambda': 9.558956724862175e-11, 'colsample_bytree': 0.7935919008854141, 'subsample': 0.05123752196244506, 'min_child_samples': 48, 'max_depth': 11, 'learning_rate': 0.024982834994231255, 'boosting_type': 'gbdt'}. Best is trial 75 with value: 0.2655040166473093.\u001b[0m\n",
      "\u001b[32m[I 2022-05-11 14:50:24,908]\u001b[0m Trial 152 finished with value: 0.21747630836704016 and parameters: {'subsample_freq': 0, 'n_estimators': 234, 'reg_alpha': 0.11007920268169982, 'reg_lambda': 6.955652096733985e-11, 'colsample_bytree': 0.8675868344673251, 'subsample': 0.1005077170628108, 'min_child_samples': 65, 'max_depth': 12, 'learning_rate': 0.025752387830971314, 'boosting_type': 'gbdt'}. Best is trial 75 with value: 0.2655040166473093.\u001b[0m\n",
      "\u001b[32m[I 2022-05-11 14:50:39,796]\u001b[0m Trial 157 finished with value: 0.23533210922604342 and parameters: {'subsample_freq': 0, 'n_estimators': 247, 'reg_alpha': 0.5476588802661299, 'reg_lambda': 4.946659504261983e-12, 'colsample_bytree': 0.7989977629507559, 'subsample': 0.12266437439573466, 'min_child_samples': 70, 'max_depth': 10, 'learning_rate': 0.04476104987903186, 'boosting_type': 'gbdt'}. Best is trial 75 with value: 0.2655040166473093.\u001b[0m\n",
      "\u001b[32m[I 2022-05-11 14:50:41,450]\u001b[0m Trial 153 finished with value: 0.23923582132878551 and parameters: {'subsample_freq': 0, 'n_estimators': 235, 'reg_alpha': 4.068320455981631e-16, 'reg_lambda': 8.60018956709846e-11, 'colsample_bytree': 0.778357220491262, 'subsample': 0.03934613065359993, 'min_child_samples': 68, 'max_depth': 18, 'learning_rate': 0.02550407177196693, 'boosting_type': 'gbdt'}. Best is trial 75 with value: 0.2655040166473093.\u001b[0m\n",
      "\u001b[32m[I 2022-05-11 14:50:42,646]\u001b[0m Trial 156 finished with value: 0.22757696486080023 and parameters: {'subsample_freq': 0, 'n_estimators': 234, 'reg_alpha': 1.65903201054304e-19, 'reg_lambda': 7.134430170109284e-09, 'colsample_bytree': 0.77547988889287, 'subsample': 0.04274929954571818, 'min_child_samples': 70, 'max_depth': 10, 'learning_rate': 0.06176988637483039, 'boosting_type': 'gbdt'}. Best is trial 75 with value: 0.2655040166473093.\u001b[0m\n",
      "\u001b[32m[I 2022-05-11 14:50:43,514]\u001b[0m Trial 154 finished with value: 0.22413005671757977 and parameters: {'subsample_freq': 0, 'n_estimators': 236, 'reg_alpha': 2.268928631441922e-16, 'reg_lambda': 4.8228724584644954e-12, 'colsample_bytree': 0.7852124897763078, 'subsample': 0.03753803168428378, 'min_child_samples': 68, 'max_depth': 10, 'learning_rate': 0.024708379825315152, 'boosting_type': 'gbdt'}. Best is trial 75 with value: 0.2655040166473093.\u001b[0m\n",
      "\u001b[32m[I 2022-05-11 14:50:48,098]\u001b[0m Trial 159 finished with value: 0.21367185279785453 and parameters: {'subsample_freq': 0, 'n_estimators': 246, 'reg_alpha': 0.5373154682719227, 'reg_lambda': 3.4517637981578353e-12, 'colsample_bytree': 0.8389234531500276, 'subsample': 0.013911021988537095, 'min_child_samples': 58, 'max_depth': 10, 'learning_rate': 0.045465601638086967, 'boosting_type': 'gbdt'}. Best is trial 75 with value: 0.2655040166473093.\u001b[0m\n",
      "\u001b[32m[I 2022-05-11 14:50:52,522]\u001b[0m Trial 148 finished with value: 0.22951399808763218 and parameters: {'subsample_freq': 0, 'n_estimators': 215, 'reg_alpha': 0.09445160093888076, 'reg_lambda': 1.0578790115463857e-10, 'colsample_bytree': 0.7735476870688578, 'subsample': 0.026293221791320612, 'min_child_samples': 48, 'max_depth': 18, 'learning_rate': 0.023576457503424735, 'boosting_type': 'gbdt'}. Best is trial 75 with value: 0.2655040166473093.\u001b[0m\n",
      "\u001b[32m[I 2022-05-11 14:50:53,376]\u001b[0m Trial 161 finished with value: 0.20833785512508096 and parameters: {'subsample_freq': 0, 'n_estimators': 248, 'reg_alpha': 2.881126158697086e-17, 'reg_lambda': 1.1607794862488882e-12, 'colsample_bytree': 0.7590577907379789, 'subsample': 0.04462856257064107, 'min_child_samples': 71, 'max_depth': 10, 'learning_rate': 0.06116348564440996, 'boosting_type': 'gbdt'}. Best is trial 75 with value: 0.2655040166473093.\u001b[0m\n"
     ]
    },
    {
     "name": "stderr",
     "output_type": "stream",
     "text": [
      "\u001b[32m[I 2022-05-11 14:50:58,573]\u001b[0m Trial 168 finished with value: 0.18935041378281656 and parameters: {'subsample_freq': 0, 'n_estimators': 226, 'reg_alpha': 7.67364580953976e-11, 'reg_lambda': 6.09595927177505e-09, 'colsample_bytree': 0.8404186490455912, 'subsample': 0.1256185859844235, 'min_child_samples': 47, 'max_depth': 3, 'learning_rate': 0.20437413229927603, 'boosting_type': 'gbdt'}. Best is trial 75 with value: 0.2655040166473093.\u001b[0m\n",
      "\u001b[32m[I 2022-05-11 14:51:09,290]\u001b[0m Trial 164 finished with value: 0.2210956817597373 and parameters: {'subsample_freq': 0, 'n_estimators': 227, 'reg_alpha': 0.0012674149544937463, 'reg_lambda': 1.948235997935126e-10, 'colsample_bytree': 0.8353221242047949, 'subsample': 0.023203917638679475, 'min_child_samples': 58, 'max_depth': 8, 'learning_rate': 0.04940837801181824, 'boosting_type': 'gbdt'}. Best is trial 75 with value: 0.2655040166473093.\u001b[0m\n",
      "\u001b[32m[I 2022-05-11 14:51:09,926]\u001b[0m Trial 165 finished with value: 0.23429387331256488 and parameters: {'subsample_freq': 0, 'n_estimators': 228, 'reg_alpha': 0.0010867237511439185, 'reg_lambda': 2.194831451339716e-10, 'colsample_bytree': 0.8412308157139059, 'subsample': 0.022023075463860543, 'min_child_samples': 59, 'max_depth': 8, 'learning_rate': 0.11077626804303428, 'boosting_type': 'gbdt'}. Best is trial 75 with value: 0.2655040166473093.\u001b[0m\n",
      "\u001b[32m[I 2022-05-11 14:51:10,796]\u001b[0m Trial 155 finished with value: 0.21449384655669024 and parameters: {'subsample_freq': 0, 'n_estimators': 234, 'reg_alpha': 0.522153754422152, 'reg_lambda': 5.891019375387323e-12, 'colsample_bytree': 0.7946835262075453, 'subsample': 0.030027116438500583, 'min_child_samples': 70, 'max_depth': 18, 'learning_rate': 0.06163537596873942, 'boosting_type': 'gbdt'}. Best is trial 75 with value: 0.2655040166473093.\u001b[0m\n",
      "\u001b[32m[I 2022-05-11 14:51:11,465]\u001b[0m Trial 158 finished with value: 0.2249155252270517 and parameters: {'subsample_freq': 0, 'n_estimators': 237, 'reg_alpha': 5.121662081032716e-16, 'reg_lambda': 6.141622095383646e-09, 'colsample_bytree': 0.8387588685546281, 'subsample': 0.011218983522189724, 'min_child_samples': 69, 'max_depth': 18, 'learning_rate': 0.06141538321189378, 'boosting_type': 'gbdt'}. Best is trial 75 with value: 0.2655040166473093.\u001b[0m\n",
      "\u001b[32m[I 2022-05-11 14:51:11,669]\u001b[0m Trial 160 finished with value: 0.23579669895459368 and parameters: {'subsample_freq': 0, 'n_estimators': 237, 'reg_alpha': 1.0665122887078805e-08, 'reg_lambda': 2.9486480883117336e-12, 'colsample_bytree': 0.8455772155925563, 'subsample': 0.04154761862987054, 'min_child_samples': 58, 'max_depth': 18, 'learning_rate': 0.04499984865864161, 'boosting_type': 'gbdt'}. Best is trial 75 with value: 0.2655040166473093.\u001b[0m\n",
      "\u001b[32m[I 2022-05-11 14:51:16,481]\u001b[0m Trial 162 finished with value: 0.2304295545833653 and parameters: {'subsample_freq': 0, 'n_estimators': 239, 'reg_alpha': 2.0238107301982817e-15, 'reg_lambda': 2.003079966026053e-10, 'colsample_bytree': 0.7002732207179614, 'subsample': 0.04269113148396347, 'min_child_samples': 59, 'max_depth': 10, 'learning_rate': 0.008364058501615486, 'boosting_type': 'gbdt'}. Best is trial 75 with value: 0.2655040166473093.\u001b[0m\n",
      "\u001b[32m[I 2022-05-11 14:51:17,341]\u001b[0m Trial 166 finished with value: 0.21641367569868064 and parameters: {'subsample_freq': 0, 'n_estimators': 227, 'reg_alpha': 0.0010289538652242312, 'reg_lambda': 1.9865143399625524e-10, 'colsample_bytree': 0.8400060244396977, 'subsample': 0.056160237308812325, 'min_child_samples': 53, 'max_depth': 8, 'learning_rate': 0.009466338702657076, 'boosting_type': 'gbdt'}. Best is trial 75 with value: 0.2655040166473093.\u001b[0m\n",
      "\u001b[32m[I 2022-05-11 14:51:21,727]\u001b[0m Trial 163 finished with value: 0.23138928402086298 and parameters: {'subsample_freq': 0, 'n_estimators': 226, 'reg_alpha': 2.9360891536251196e-10, 'reg_lambda': 6.9974640968579375e-09, 'colsample_bytree': 0.8368040373020464, 'subsample': 0.03904377214620267, 'min_child_samples': 47, 'max_depth': 10, 'learning_rate': 0.04549844497992506, 'boosting_type': 'gbdt'}. Best is trial 75 with value: 0.2655040166473093.\u001b[0m\n",
      "\u001b[32m[I 2022-05-11 14:51:29,461]\u001b[0m Trial 169 finished with value: 0.22420048428503173 and parameters: {'subsample_freq': 0, 'n_estimators': 240, 'reg_alpha': 0.0010647775609772029, 'reg_lambda': 1.4648359002096314e-09, 'colsample_bytree': 0.8973857715054556, 'subsample': 0.18029010391066289, 'min_child_samples': 51, 'max_depth': 8, 'learning_rate': 0.008267621981041227, 'boosting_type': 'gbdt'}. Best is trial 75 with value: 0.2655040166473093.\u001b[0m\n",
      "\u001b[32m[I 2022-05-11 14:51:31,397]\u001b[0m Trial 167 finished with value: 0.23543186043186046 and parameters: {'subsample_freq': 0, 'n_estimators': 227, 'reg_alpha': 5.0562145856787595e-09, 'reg_lambda': 5.096387398380231e-09, 'colsample_bytree': 0.8403727807068101, 'subsample': 0.0579083846180175, 'min_child_samples': 53, 'max_depth': 13, 'learning_rate': 0.042780242691257526, 'boosting_type': 'gbdt'}. Best is trial 75 with value: 0.2655040166473093.\u001b[0m\n",
      "\u001b[32m[I 2022-05-11 14:51:42,674]\u001b[0m Trial 171 finished with value: 0.2126984126984127 and parameters: {'subsample_freq': 0, 'n_estimators': 220, 'reg_alpha': 0.051528828480552534, 'reg_lambda': 1.6170551798331128e-09, 'colsample_bytree': 0.9042448966560603, 'subsample': 0.06092548576433948, 'min_child_samples': 51, 'max_depth': 13, 'learning_rate': 0.010523285805400007, 'boosting_type': 'gbdt'}. Best is trial 75 with value: 0.2655040166473093.\u001b[0m\n",
      "\u001b[32m[I 2022-05-11 14:51:43,147]\u001b[0m Trial 170 finished with value: 0.2160467763095021 and parameters: {'subsample_freq': 0, 'n_estimators': 220, 'reg_alpha': 0.04322843844474282, 'reg_lambda': 1.293049223070504e-09, 'colsample_bytree': 0.9040569307796055, 'subsample': 0.19605698947099387, 'min_child_samples': 53, 'max_depth': 13, 'learning_rate': 0.008999947755374892, 'boosting_type': 'gbdt'}. Best is trial 75 with value: 0.2655040166473093.\u001b[0m\n",
      "\u001b[32m[I 2022-05-11 14:51:44,467]\u001b[0m Trial 176 finished with value: 0.19552153840813635 and parameters: {'subsample_freq': 0, 'n_estimators': 221, 'reg_alpha': 0.007160452879631841, 'reg_lambda': 2.4105132293940917e-11, 'colsample_bytree': 0.7383873157615475, 'subsample': 0.19431361354375865, 'min_child_samples': 50, 'max_depth': 13, 'learning_rate': 0.1890458370452665, 'boosting_type': 'gbdt'}. Best is trial 75 with value: 0.2655040166473093.\u001b[0m\n",
      "\u001b[32m[I 2022-05-11 14:51:45,670]\u001b[0m Trial 174 finished with value: 0.21793487154311894 and parameters: {'subsample_freq': 0, 'n_estimators': 223, 'reg_alpha': 0.03624917052346779, 'reg_lambda': 1.5532580199217226e-09, 'colsample_bytree': 0.896728710204371, 'subsample': 0.0715993808794603, 'min_child_samples': 51, 'max_depth': 13, 'learning_rate': 0.009106863452448388, 'boosting_type': 'gbdt'}. Best is trial 75 with value: 0.2655040166473093.\u001b[0m\n",
      "\u001b[32m[I 2022-05-11 14:51:46,015]\u001b[0m Trial 173 finished with value: 0.2225320221346155 and parameters: {'subsample_freq': 0, 'n_estimators': 220, 'reg_alpha': 0.006814982146723772, 'reg_lambda': 1.2827837844696283e-09, 'colsample_bytree': 0.900714998794271, 'subsample': 0.19136109391600314, 'min_child_samples': 53, 'max_depth': 13, 'learning_rate': 0.00928427073978628, 'boosting_type': 'gbdt'}. Best is trial 75 with value: 0.2655040166473093.\u001b[0m\n",
      "\u001b[32m[I 2022-05-11 14:51:47,480]\u001b[0m Trial 177 finished with value: 0.19134793738273503 and parameters: {'subsample_freq': 0, 'n_estimators': 221, 'reg_alpha': 0.05523543460504032, 'reg_lambda': 1.7628883893047683e-09, 'colsample_bytree': 0.9004789510969625, 'subsample': 0.1900306143988928, 'min_child_samples': 52, 'max_depth': 13, 'learning_rate': 0.18005995470204628, 'boosting_type': 'gbdt'}. Best is trial 75 with value: 0.2655040166473093.\u001b[0m\n",
      "\u001b[32m[I 2022-05-11 14:51:51,412]\u001b[0m Trial 172 finished with value: 0.2424786396148173 and parameters: {'subsample_freq': 0, 'n_estimators': 221, 'reg_alpha': 0.0061168724043944795, 'reg_lambda': 1.1317524966716588e-09, 'colsample_bytree': 0.9004696215631687, 'subsample': 0.05941996552242482, 'min_child_samples': 51, 'max_depth': 13, 'learning_rate': 0.04230516134223115, 'boosting_type': 'gbdt'}. Best is trial 75 with value: 0.2655040166473093.\u001b[0m\n",
      "\u001b[32m[I 2022-05-11 14:51:52,881]\u001b[0m Trial 175 finished with value: 0.22806156243911943 and parameters: {'subsample_freq': 0, 'n_estimators': 221, 'reg_alpha': 0.04301202003502447, 'reg_lambda': 1.1869670708768634e-09, 'colsample_bytree': 0.7391871289030074, 'subsample': 0.05954569626155531, 'min_child_samples': 50, 'max_depth': 13, 'learning_rate': 0.041620581240752755, 'boosting_type': 'gbdt'}. Best is trial 75 with value: 0.2655040166473093.\u001b[0m\n"
     ]
    },
    {
     "name": "stderr",
     "output_type": "stream",
     "text": [
      "\u001b[32m[I 2022-05-11 14:51:56,896]\u001b[0m Trial 178 finished with value: 0.18990845031066947 and parameters: {'subsample_freq': 0, 'n_estimators': 221, 'reg_alpha': 0.04411455161248252, 'reg_lambda': 1.580530572952059e-11, 'colsample_bytree': 0.8983745317755413, 'subsample': 0.06458728638936216, 'min_child_samples': 50, 'max_depth': 13, 'learning_rate': 0.15543500455218018, 'boosting_type': 'gbdt'}. Best is trial 75 with value: 0.2655040166473093.\u001b[0m\n",
      "\u001b[32m[I 2022-05-11 14:52:04,887]\u001b[0m Trial 179 finished with value: 0.2433784853139692 and parameters: {'subsample_freq': 0, 'n_estimators': 218, 'reg_alpha': 0.05088337102023184, 'reg_lambda': 5.6733514762328886e-08, 'colsample_bytree': 0.737215189289989, 'subsample': 0.09293583285287217, 'min_child_samples': 50, 'max_depth': 13, 'learning_rate': 0.031702600487532456, 'boosting_type': 'gbdt'}. Best is trial 75 with value: 0.2655040166473093.\u001b[0m\n",
      "\u001b[32m[I 2022-05-11 14:52:07,679]\u001b[0m Trial 180 finished with value: 0.21959036547844332 and parameters: {'subsample_freq': 0, 'n_estimators': 184, 'reg_alpha': 0.009926118252010719, 'reg_lambda': 2.1223433963793678e-11, 'colsample_bytree': 0.8644612871099571, 'subsample': 0.0901897993394158, 'min_child_samples': 64, 'max_depth': 11, 'learning_rate': 0.03044460961063792, 'boosting_type': 'gbdt'}. Best is trial 75 with value: 0.2655040166473093.\u001b[0m\n",
      "\u001b[32m[I 2022-05-11 14:52:14,285]\u001b[0m Trial 182 finished with value: 0.24181899058165582 and parameters: {'subsample_freq': 0, 'n_estimators': 183, 'reg_alpha': 0.006414597300276811, 'reg_lambda': 3.653289391986939e-08, 'colsample_bytree': 0.8586718652529283, 'subsample': 0.11528664882743862, 'min_child_samples': 64, 'max_depth': 11, 'learning_rate': 0.030015672110172, 'boosting_type': 'gbdt'}. Best is trial 75 with value: 0.2655040166473093.\u001b[0m\n",
      "\u001b[32m[I 2022-05-11 14:52:16,041]\u001b[0m Trial 184 finished with value: 0.24344193817878026 and parameters: {'subsample_freq': 0, 'n_estimators': 201, 'reg_alpha': 0.0025542136436171496, 'reg_lambda': 3.56768922927355e-08, 'colsample_bytree': 0.8652685983900955, 'subsample': 0.12395956418032908, 'min_child_samples': 64, 'max_depth': 11, 'learning_rate': 0.03051631269386701, 'boosting_type': 'gbdt'}. Best is trial 75 with value: 0.2655040166473093.\u001b[0m\n",
      "\u001b[32m[I 2022-05-11 14:52:19,078]\u001b[0m Trial 181 finished with value: 0.23537414965986395 and parameters: {'subsample_freq': 0, 'n_estimators': 201, 'reg_alpha': 0.005778993950144355, 'reg_lambda': 3.825109483453512e-08, 'colsample_bytree': 0.7476480541284621, 'subsample': 0.13348701369037483, 'min_child_samples': 45, 'max_depth': 11, 'learning_rate': 0.14996906691026932, 'boosting_type': 'gbdt'}. Best is trial 75 with value: 0.2655040166473093.\u001b[0m\n",
      "\u001b[32m[I 2022-05-11 14:52:19,678]\u001b[0m Trial 183 finished with value: 0.22151165995920394 and parameters: {'subsample_freq': 0, 'n_estimators': 202, 'reg_alpha': 0.0033404757817660016, 'reg_lambda': 4.71120602792145e-08, 'colsample_bytree': 0.8590079078719822, 'subsample': 0.41041970486362533, 'min_child_samples': 44, 'max_depth': 11, 'learning_rate': 0.15385314391363064, 'boosting_type': 'gbdt'}. Best is trial 75 with value: 0.2655040166473093.\u001b[0m\n",
      "\u001b[32m[I 2022-05-11 14:52:26,476]\u001b[0m Trial 186 finished with value: 0.23299415204678361 and parameters: {'subsample_freq': 0, 'n_estimators': 200, 'reg_alpha': 0.0031660148694892887, 'reg_lambda': 3.637178556216051e-08, 'colsample_bytree': 0.8586786664586918, 'subsample': 0.13370745908232196, 'min_child_samples': 45, 'max_depth': 11, 'learning_rate': 0.03842192741189191, 'boosting_type': 'gbdt'}. Best is trial 75 with value: 0.2655040166473093.\u001b[0m\n",
      "\u001b[32m[I 2022-05-11 14:52:27,661]\u001b[0m Trial 187 finished with value: 0.23571004159239453 and parameters: {'subsample_freq': 0, 'n_estimators': 204, 'reg_alpha': 0.003225743695630873, 'reg_lambda': 2.959321834625173e-08, 'colsample_bytree': 0.8633663418357836, 'subsample': 0.1167092952749726, 'min_child_samples': 64, 'max_depth': 11, 'learning_rate': 0.03409072104339754, 'boosting_type': 'gbdt'}. Best is trial 75 with value: 0.2655040166473093.\u001b[0m\n",
      "\u001b[32m[I 2022-05-11 14:52:30,385]\u001b[0m Trial 185 finished with value: 0.22037459107185495 and parameters: {'subsample_freq': 0, 'n_estimators': 201, 'reg_alpha': 0.0039794650153747255, 'reg_lambda': 3.50487834712145e-08, 'colsample_bytree': 0.8587940258207118, 'subsample': 0.12455316748992754, 'min_child_samples': 25, 'max_depth': 11, 'learning_rate': 0.029964413856731358, 'boosting_type': 'gbdt'}. Best is trial 75 with value: 0.2655040166473093.\u001b[0m\n",
      "\u001b[32m[I 2022-05-11 14:52:35,628]\u001b[0m Trial 188 finished with value: 0.2569138132117257 and parameters: {'subsample_freq': 0, 'n_estimators': 203, 'reg_alpha': 0.0022692309634827984, 'reg_lambda': 3.1973536150956614e-08, 'colsample_bytree': 0.8633976549661935, 'subsample': 0.08927766951472421, 'min_child_samples': 45, 'max_depth': 11, 'learning_rate': 0.03057095470499747, 'boosting_type': 'gbdt'}. Best is trial 75 with value: 0.2655040166473093.\u001b[0m\n",
      "\u001b[32m[I 2022-05-11 14:52:41,376]\u001b[0m Trial 189 finished with value: 0.23850458777041053 and parameters: {'subsample_freq': 0, 'n_estimators': 204, 'reg_alpha': 0.31644038750280007, 'reg_lambda': 3.2301860650262676e-08, 'colsample_bytree': 0.8047414797587998, 'subsample': 0.11593713953694262, 'min_child_samples': 18, 'max_depth': 12, 'learning_rate': 0.02963334069667767, 'boosting_type': 'gbdt'}. Best is trial 75 with value: 0.2655040166473093.\u001b[0m\n",
      "\u001b[32m[I 2022-05-11 14:52:43,095]\u001b[0m Trial 190 finished with value: 0.23444279184357372 and parameters: {'subsample_freq': 0, 'n_estimators': 202, 'reg_alpha': 0.0035683069557273486, 'reg_lambda': 1.888850744154642e-08, 'colsample_bytree': 0.7592119699968672, 'subsample': 0.12237035165547426, 'min_child_samples': 45, 'max_depth': 12, 'learning_rate': 0.03622660433637687, 'boosting_type': 'gbdt'}. Best is trial 75 with value: 0.2655040166473093.\u001b[0m\n",
      "\u001b[32m[I 2022-05-11 14:52:50,195]\u001b[0m Trial 194 finished with value: 0.22469092089345252 and parameters: {'subsample_freq': 0, 'n_estimators': 209, 'reg_alpha': 0.23289007108115897, 'reg_lambda': 1.845336621684374e-08, 'colsample_bytree': 0.7000817156800764, 'subsample': 0.10829633235533849, 'min_child_samples': 47, 'max_depth': 12, 'learning_rate': 0.038267132267499726, 'boosting_type': 'gbdt'}. Best is trial 75 with value: 0.2655040166473093.\u001b[0m\n",
      "\u001b[32m[I 2022-05-11 14:52:50,675]\u001b[0m Trial 193 finished with value: 0.2433235041930694 and parameters: {'subsample_freq': 0, 'n_estimators': 210, 'reg_alpha': 0.23162885098329256, 'reg_lambda': 2.7828328878502803e-06, 'colsample_bytree': 0.8056981171901088, 'subsample': 0.11005451352604594, 'min_child_samples': 48, 'max_depth': 12, 'learning_rate': 0.036465056353057135, 'boosting_type': 'gbdt'}. Best is trial 75 with value: 0.2655040166473093.\u001b[0m\n",
      "\u001b[32m[I 2022-05-11 14:52:54,628]\u001b[0m Trial 191 finished with value: 0.21686462533144454 and parameters: {'subsample_freq': 0, 'n_estimators': 209, 'reg_alpha': 0.0026129717033771547, 'reg_lambda': 2.0259958504332887e-08, 'colsample_bytree': 0.7573343739030939, 'subsample': 0.11251692545292712, 'min_child_samples': 46, 'max_depth': 12, 'learning_rate': 0.039686293052679525, 'boosting_type': 'gbdt'}. Best is trial 75 with value: 0.2655040166473093.\u001b[0m\n",
      "\u001b[32m[I 2022-05-11 14:53:01,032]\u001b[0m Trial 192 finished with value: 0.25073503521913426 and parameters: {'subsample_freq': 0, 'n_estimators': 210, 'reg_alpha': 0.002156056798104092, 'reg_lambda': 6.218979541761545e-08, 'colsample_bytree': 0.8038808944591042, 'subsample': 0.13537294729027322, 'min_child_samples': 44, 'max_depth': 12, 'learning_rate': 0.03645163656102309, 'boosting_type': 'gbdt'}. Best is trial 75 with value: 0.2655040166473093.\u001b[0m\n",
      "\u001b[32m[I 2022-05-11 14:53:06,679]\u001b[0m Trial 197 finished with value: 0.21868529582157895 and parameters: {'subsample_freq': 0, 'n_estimators': 213, 'reg_alpha': 0.2647681871615903, 'reg_lambda': 1.475440475280815e-08, 'colsample_bytree': 0.8104322941491399, 'subsample': 0.10476458843088256, 'min_child_samples': 47, 'max_depth': 12, 'learning_rate': 0.01809429167768232, 'boosting_type': 'gbdt'}. Best is trial 75 with value: 0.2655040166473093.\u001b[0m\n",
      "\u001b[32m[I 2022-05-11 14:53:09,816]\u001b[0m Trial 195 finished with value: 0.24297763260782704 and parameters: {'subsample_freq': 0, 'n_estimators': 210, 'reg_alpha': 0.16155183661968922, 'reg_lambda': 2.425134723567907e-08, 'colsample_bytree': 0.8062141637115363, 'subsample': 0.11613323752513502, 'min_child_samples': 19, 'max_depth': 12, 'learning_rate': 0.030639736383568004, 'boosting_type': 'gbdt'}. Best is trial 75 with value: 0.2655040166473093.\u001b[0m\n"
     ]
    },
    {
     "name": "stderr",
     "output_type": "stream",
     "text": [
      "\u001b[32m[I 2022-05-11 14:53:10,034]\u001b[0m Trial 198 finished with value: 0.23201429033219564 and parameters: {'subsample_freq': 0, 'n_estimators': 210, 'reg_alpha': 0.2205002785733699, 'reg_lambda': 1.3880273601496087e-08, 'colsample_bytree': 0.8045748645953185, 'subsample': 0.3197405307167675, 'min_child_samples': 47, 'max_depth': 12, 'learning_rate': 0.020213300938566596, 'boosting_type': 'gbdt'}. Best is trial 75 with value: 0.2655040166473093.\u001b[0m\n",
      "\u001b[32m[I 2022-05-11 14:53:10,103]\u001b[0m Trial 196 finished with value: 0.25826057181989387 and parameters: {'subsample_freq': 0, 'n_estimators': 210, 'reg_alpha': 0.19977725525812978, 'reg_lambda': 9.536865592481625e-08, 'colsample_bytree': 0.8053232287488338, 'subsample': 0.09169229467677023, 'min_child_samples': 19, 'max_depth': 12, 'learning_rate': 0.030077248474543593, 'boosting_type': 'gbdt'}. Best is trial 75 with value: 0.2655040166473093.\u001b[0m\n",
      "\u001b[32m[I 2022-05-11 14:53:11,151]\u001b[0m Trial 200 finished with value: 0.24655548255201076 and parameters: {'subsample_freq': 0, 'n_estimators': 209, 'reg_alpha': 0.11832977179783694, 'reg_lambda': 9.628565839762181e-08, 'colsample_bytree': 0.7004983504145975, 'subsample': 0.09485382679044316, 'min_child_samples': 61, 'max_depth': 12, 'learning_rate': 0.0364399585485404, 'boosting_type': 'gbdt'}. Best is trial 75 with value: 0.2655040166473093.\u001b[0m\n",
      "\u001b[32m[I 2022-05-11 14:53:20,090]\u001b[0m Trial 203 finished with value: 0.24436816494410282 and parameters: {'subsample_freq': 0, 'n_estimators': 196, 'reg_alpha': 0.1133473889574416, 'reg_lambda': 1.4935621772559166e-07, 'colsample_bytree': 0.9223854192727055, 'subsample': 0.09624999054931846, 'min_child_samples': 55, 'max_depth': 14, 'learning_rate': 0.017477398941342245, 'boosting_type': 'gbdt'}. Best is trial 75 with value: 0.2655040166473093.\u001b[0m\n",
      "\u001b[32m[I 2022-05-11 14:53:20,805]\u001b[0m Trial 202 finished with value: 0.23155490100673082 and parameters: {'subsample_freq': 0, 'n_estimators': 195, 'reg_alpha': 0.019585366525859498, 'reg_lambda': 1.0171580000616994e-07, 'colsample_bytree': 0.9255116957144996, 'subsample': 0.08791613611811419, 'min_child_samples': 60, 'max_depth': 14, 'learning_rate': 0.018155862868596103, 'boosting_type': 'gbdt'}. Best is trial 75 with value: 0.2655040166473093.\u001b[0m\n",
      "\u001b[32m[I 2022-05-11 14:53:24,082]\u001b[0m Trial 199 finished with value: 0.25734693531303704 and parameters: {'subsample_freq': 0, 'n_estimators': 210, 'reg_alpha': 0.015102391388333926, 'reg_lambda': 4.171949260582218e-09, 'colsample_bytree': 0.9273669970194724, 'subsample': 0.08881736877238106, 'min_child_samples': 47, 'max_depth': 12, 'learning_rate': 0.03781434545800992, 'boosting_type': 'gbdt'}. Best is trial 75 with value: 0.2655040166473093.\u001b[0m\n",
      "\u001b[32m[I 2022-05-11 14:53:26,575]\u001b[0m Trial 201 finished with value: 0.2325050857308922 and parameters: {'subsample_freq': 0, 'n_estimators': 211, 'reg_alpha': 0.0156273452665627, 'reg_lambda': 9.871346162132303e-08, 'colsample_bytree': 0.8074503655938154, 'subsample': 0.08591749446916241, 'min_child_samples': 48, 'max_depth': 14, 'learning_rate': 0.017287794405305167, 'boosting_type': 'gbdt'}. Best is trial 75 with value: 0.2655040166473093.\u001b[0m\n",
      "\u001b[32m[I 2022-05-11 14:53:39,082]\u001b[0m Trial 206 finished with value: 0.23251239257960474 and parameters: {'subsample_freq': 0, 'n_estimators': 162, 'reg_alpha': 0.018814315449311805, 'reg_lambda': 1.445091043566322e-07, 'colsample_bytree': 0.9215545478488748, 'subsample': 0.3194171762103277, 'min_child_samples': 60, 'max_depth': 14, 'learning_rate': 0.0527383475288994, 'boosting_type': 'gbdt'}. Best is trial 75 with value: 0.2655040166473093.\u001b[0m\n",
      "\u001b[32m[I 2022-05-11 14:53:39,803]\u001b[0m Trial 204 finished with value: 0.2142196691218028 and parameters: {'subsample_freq': 0, 'n_estimators': 212, 'reg_alpha': 0.016064483821940707, 'reg_lambda': 5.332957393181169e-09, 'colsample_bytree': 0.4884153937562563, 'subsample': 0.38301288673359957, 'min_child_samples': 42, 'max_depth': 14, 'learning_rate': 0.052100704272938815, 'boosting_type': 'gbdt'}. Best is trial 75 with value: 0.2655040166473093.\u001b[0m\n",
      "\u001b[32m[I 2022-05-11 14:53:39,983]\u001b[0m Trial 205 finished with value: 0.22448900513416645 and parameters: {'subsample_freq': 0, 'n_estimators': 195, 'reg_alpha': 0.016255147788134486, 'reg_lambda': 1.9373048535479157e-07, 'colsample_bytree': 0.501253614835298, 'subsample': 0.3132501458679297, 'min_child_samples': 42, 'max_depth': 9, 'learning_rate': 0.053735859188235646, 'boosting_type': 'gbdt'}. Best is trial 75 with value: 0.2655040166473093.\u001b[0m\n",
      "\u001b[32m[I 2022-05-11 14:53:47,903]\u001b[0m Trial 211 finished with value: 0.23268821429740968 and parameters: {'subsample_freq': 0, 'n_estimators': 178, 'reg_alpha': 0.019305840974131395, 'reg_lambda': 2.0801211639476547e-07, 'colsample_bytree': 0.8830534142417001, 'subsample': 0.3587243494133252, 'min_child_samples': 56, 'max_depth': 14, 'learning_rate': 0.04957730486826137, 'boosting_type': 'gbdt'}. Best is trial 75 with value: 0.2655040166473093.\u001b[0m\n",
      "\u001b[32m[I 2022-05-11 14:53:53,080]\u001b[0m Trial 210 finished with value: 0.23548374393104887 and parameters: {'subsample_freq': 0, 'n_estimators': 192, 'reg_alpha': 0.009392417915595606, 'reg_lambda': 1.3397800454483607e-07, 'colsample_bytree': 0.8783270142551233, 'subsample': 0.09219920650975341, 'min_child_samples': 56, 'max_depth': 14, 'learning_rate': 0.04671495557458667, 'boosting_type': 'gbdt'}. Best is trial 75 with value: 0.2655040166473093.\u001b[0m\n",
      "\u001b[32m[I 2022-05-11 14:53:56,645]\u001b[0m Trial 207 finished with value: 0.23710057046184763 and parameters: {'subsample_freq': 0, 'n_estimators': 231, 'reg_alpha': 9.436936312022194e-05, 'reg_lambda': 0.0011431626594547468, 'colsample_bytree': 0.9245216732449905, 'subsample': 0.086127467804097, 'min_child_samples': 43, 'max_depth': 14, 'learning_rate': 0.0514598958678925, 'boosting_type': 'gbdt'}. Best is trial 75 with value: 0.2655040166473093.\u001b[0m\n",
      "\u001b[32m[I 2022-05-11 14:54:00,908]\u001b[0m Trial 209 finished with value: 0.2357304041599606 and parameters: {'subsample_freq': 0, 'n_estimators': 194, 'reg_alpha': 0.015220797018765575, 'reg_lambda': 0.0014999054291201287, 'colsample_bytree': 0.9289815530500137, 'subsample': 0.08684499756776816, 'min_child_samples': 21, 'max_depth': 14, 'learning_rate': 0.05064486627060365, 'boosting_type': 'gbdt'}. Best is trial 75 with value: 0.2655040166473093.\u001b[0m\n",
      "\u001b[32m[I 2022-05-11 14:54:02,238]\u001b[0m Trial 216 finished with value: 0.2110593808707016 and parameters: {'subsample_freq': 0, 'n_estimators': 177, 'reg_alpha': 0.8014914418992539, 'reg_lambda': 3.992594648157431e-10, 'colsample_bytree': 0.9728351495774639, 'subsample': 0.34627156010568344, 'min_child_samples': 55, 'max_depth': 9, 'learning_rate': 0.041901201217792367, 'boosting_type': 'gbdt'}. Best is trial 75 with value: 0.2655040166473093.\u001b[0m\n",
      "\u001b[32m[I 2022-05-11 14:54:03,625]\u001b[0m Trial 208 finished with value: 0.23130054940977965 and parameters: {'subsample_freq': 0, 'n_estimators': 165, 'reg_alpha': 0.00011675598846364097, 'reg_lambda': 8.911841939676839e-08, 'colsample_bytree': 0.9244340796273237, 'subsample': 0.386144643700651, 'min_child_samples': 20, 'max_depth': 14, 'learning_rate': 0.050834550314979514, 'boosting_type': 'gbdt'}. Best is trial 75 with value: 0.2655040166473093.\u001b[0m\n",
      "\u001b[32m[I 2022-05-11 14:54:05,130]\u001b[0m Trial 215 finished with value: 0.23865326071777684 and parameters: {'subsample_freq': 0, 'n_estimators': 193, 'reg_alpha': 0.08691880224390557, 'reg_lambda': 3.255209409193304e-09, 'colsample_bytree': 0.6345936047364511, 'subsample': 0.07864324611420934, 'min_child_samples': 55, 'max_depth': 9, 'learning_rate': 0.046250641699542926, 'boosting_type': 'gbdt'}. Best is trial 75 with value: 0.2655040166473093.\u001b[0m\n",
      "\u001b[32m[I 2022-05-11 14:54:05,168]\u001b[0m Trial 214 finished with value: 0.23155249292167154 and parameters: {'subsample_freq': 0, 'n_estimators': 196, 'reg_alpha': 0.016276104079701866, 'reg_lambda': 4.4642759541263456e-09, 'colsample_bytree': 0.6558820624084496, 'subsample': 0.34816805003027684, 'min_child_samples': 55, 'max_depth': 9, 'learning_rate': 0.04939935117550712, 'boosting_type': 'gbdt'}. Best is trial 75 with value: 0.2655040166473093.\u001b[0m\n",
      "\u001b[32m[I 2022-05-11 14:54:08,095]\u001b[0m Trial 213 finished with value: 0.22266569908079345 and parameters: {'subsample_freq': 0, 'n_estimators': 196, 'reg_alpha': 1.1190986882095315e-11, 'reg_lambda': 2.6723947344540656e-09, 'colsample_bytree': 0.6295955826314473, 'subsample': 0.37528872323315066, 'min_child_samples': 41, 'max_depth': 14, 'learning_rate': 0.04997467126101975, 'boosting_type': 'gbdt'}. Best is trial 75 with value: 0.2655040166473093.\u001b[0m\n"
     ]
    },
    {
     "name": "stderr",
     "output_type": "stream",
     "text": [
      "\u001b[32m[I 2022-05-11 14:54:08,644]\u001b[0m Trial 212 finished with value: 0.21610524551701019 and parameters: {'subsample_freq': 0, 'n_estimators': 191, 'reg_alpha': 0.015043652198604611, 'reg_lambda': 3.830815739726157e-09, 'colsample_bytree': 0.9755965085608612, 'subsample': 0.3537856304577166, 'min_child_samples': 21, 'max_depth': 14, 'learning_rate': 0.048948480906600235, 'boosting_type': 'gbdt'}. Best is trial 75 with value: 0.2655040166473093.\u001b[0m\n",
      "\u001b[32m[I 2022-05-11 14:54:10,199]\u001b[0m Trial 217 finished with value: 0.2033909273280269 and parameters: {'subsample_freq': 0, 'n_estimators': 194, 'reg_alpha': 0.0008700728771744578, 'reg_lambda': 3.503810753949442e-09, 'colsample_bytree': 0.9767204719820819, 'subsample': 0.08960066102303739, 'min_child_samples': 40, 'max_depth': 9, 'learning_rate': 0.2152247444869479, 'boosting_type': 'gbdt'}. Best is trial 75 with value: 0.2655040166473093.\u001b[0m\n",
      "\u001b[32m[I 2022-05-11 14:54:13,728]\u001b[0m Trial 219 finished with value: 0.2461551137858146 and parameters: {'subsample_freq': 0, 'n_estimators': 244, 'reg_alpha': 0.000900123382195209, 'reg_lambda': 3.8861072467515634e-10, 'colsample_bytree': 0.939202516402505, 'subsample': 0.27233064825746955, 'min_child_samples': 40, 'max_depth': 9, 'learning_rate': 0.03875994899142708, 'boosting_type': 'gbdt'}. Best is trial 75 with value: 0.2655040166473093.\u001b[0m\n",
      "\u001b[32m[I 2022-05-11 14:54:14,431]\u001b[0m Trial 218 finished with value: 0.20240939864595778 and parameters: {'subsample_freq': 0, 'n_estimators': 231, 'reg_alpha': 0.00014468170659615061, 'reg_lambda': 0.0012986956134906583, 'colsample_bytree': 0.9386008356015908, 'subsample': 0.07996761893038207, 'min_child_samples': 16, 'max_depth': 9, 'learning_rate': 0.040148630859492024, 'boosting_type': 'gbdt'}. Best is trial 75 with value: 0.2655040166473093.\u001b[0m\n"
     ]
    },
    {
     "name": "stdout",
     "output_type": "stream",
     "text": [
      "FrozenTrial(number=75, values=[0.2655040166473093], datetime_start=datetime.datetime(2022, 5, 11, 14, 44, 14, 513377), datetime_complete=datetime.datetime(2022, 5, 11, 14, 44, 43, 46694), params={'subsample_freq': 0, 'n_estimators': 222, 'reg_alpha': 0.010136808578101649, 'reg_lambda': 0.0038821761773882787, 'colsample_bytree': 0.9384661847570124, 'subsample': 0.3790813020841549, 'min_child_samples': 69, 'max_depth': 13, 'learning_rate': 0.038987514479036006, 'boosting_type': 'gbdt'}, distributions={'subsample_freq': IntUniformDistribution(high=0, low=0, step=1), 'n_estimators': IntUniformDistribution(high=300, low=50, step=1), 'reg_alpha': LogUniformDistribution(high=2.0, low=1e-20), 'reg_lambda': LogUniformDistribution(high=2.0, low=1e-20), 'colsample_bytree': UniformDistribution(high=1.0, low=0.01), 'subsample': UniformDistribution(high=1.0, low=0.01), 'min_child_samples': IntUniformDistribution(high=100, low=5, step=1), 'max_depth': IntUniformDistribution(high=20, low=3, step=1), 'learning_rate': UniformDistribution(high=0.3, low=0.001), 'boosting_type': CategoricalDistribution(choices=('gbdt',))}, user_attrs={}, system_attrs={}, intermediate_values={}, trial_id=75, state=TrialState.COMPLETE, value=None)\n"
     ]
    }
   ],
   "source": [
    "# study.enqueue_trial(best_params)\n",
    "study.optimize(objective, n_trials=200, n_jobs=10)\n",
    "print(study.best_trial)"
   ]
  },
  {
   "cell_type": "code",
   "execution_count": 56,
   "metadata": {},
   "outputs": [
    {
     "name": "stderr",
     "output_type": "stream",
     "text": [
      "/home/skuznetsov/.conda/envs/ml/lib/python3.7/site-packages/optuna/study/study.py:397: FutureWarning: `n_jobs` argument has been deprecated in v2.7.0. This feature will be removed in v4.0.0. See https://github.com/optuna/optuna/releases/tag/v2.7.0.\n",
      "  FutureWarning,\n",
      "\u001b[32m[I 2022-05-11 15:07:05,219]\u001b[0m Trial 224 finished with value: 0.22054499426073557 and parameters: {'subsample_freq': 0, 'n_estimators': 58, 'reg_alpha': 0.001328336111034693, 'reg_lambda': 6.809616214280116e-10, 'colsample_bytree': 0.8257651224032235, 'subsample': 0.2993531663662367, 'min_child_samples': 13, 'max_depth': 12, 'learning_rate': 0.027219551496184623, 'boosting_type': 'gbdt'}. Best is trial 75 with value: 0.2655040166473093.\u001b[0m\n",
      "\u001b[32m[I 2022-05-11 15:07:35,491]\u001b[0m Trial 230 finished with value: 0.22638125605122172 and parameters: {'subsample_freq': 0, 'n_estimators': 240, 'reg_alpha': 0.05885119612865432, 'reg_lambda': 1.979703567876392e-06, 'colsample_bytree': 0.9465154295847428, 'subsample': 0.14647098828450716, 'min_child_samples': 73, 'max_depth': 12, 'learning_rate': 0.03618363541390248, 'boosting_type': 'gbdt'}. Best is trial 75 with value: 0.2655040166473093.\u001b[0m\n",
      "\u001b[32m[I 2022-05-11 15:07:35,697]\u001b[0m Trial 222 finished with value: 0.2608065625307005 and parameters: {'subsample_freq': 0, 'n_estimators': 242, 'reg_alpha': 0.0007234667579718082, 'reg_lambda': 0.012355261759768692, 'colsample_bytree': 0.8270737554393653, 'subsample': 0.2773172411363294, 'min_child_samples': 39, 'max_depth': 12, 'learning_rate': 0.027943442934361316, 'boosting_type': 'gbdt'}. Best is trial 75 with value: 0.2655040166473093.\u001b[0m\n",
      "\u001b[32m[I 2022-05-11 15:07:36,188]\u001b[0m Trial 229 finished with value: 0.26398271071731005 and parameters: {'subsample_freq': 0, 'n_estimators': 243, 'reg_alpha': 0.0006981520778005369, 'reg_lambda': 0.013043363351360986, 'colsample_bytree': 0.780802225938904, 'subsample': 0.23666649851662827, 'min_child_samples': 43, 'max_depth': 12, 'learning_rate': 0.02724139531064104, 'boosting_type': 'gbdt'}. Best is trial 75 with value: 0.2655040166473093.\u001b[0m\n",
      "\u001b[32m[I 2022-05-11 15:07:36,676]\u001b[0m Trial 225 finished with value: 0.238864928492442 and parameters: {'subsample_freq': 0, 'n_estimators': 243, 'reg_alpha': 0.0009514317932831856, 'reg_lambda': 0.010670783256963622, 'colsample_bytree': 0.9501785484693126, 'subsample': 0.28114284433688896, 'min_child_samples': 39, 'max_depth': 12, 'learning_rate': 0.02608022602002524, 'boosting_type': 'gbdt'}. Best is trial 75 with value: 0.2655040166473093.\u001b[0m\n"
     ]
    },
    {
     "ename": "KeyboardInterrupt",
     "evalue": "",
     "output_type": "error",
     "traceback": [
      "\u001b[0;31m---------------------------------------------------------------------------\u001b[0m",
      "\u001b[0;31mKeyboardInterrupt\u001b[0m                         Traceback (most recent call last)",
      "\u001b[0;32m~/.conda/envs/ml/lib/python3.7/site-packages/optuna/study/_optimize.py\u001b[0m in \u001b[0;36m_optimize\u001b[0;34m(study, func, n_trials, timeout, n_jobs, catch, callbacks, gc_after_trial, show_progress_bar)\u001b[0m\n\u001b[1;32m    102\u001b[0m                     \u001b[0;32mif\u001b[0m \u001b[0mlen\u001b[0m\u001b[0;34m(\u001b[0m\u001b[0mfutures\u001b[0m\u001b[0;34m)\u001b[0m \u001b[0;34m>=\u001b[0m \u001b[0mn_jobs\u001b[0m\u001b[0;34m:\u001b[0m\u001b[0;34m\u001b[0m\u001b[0;34m\u001b[0m\u001b[0m\n\u001b[0;32m--> 103\u001b[0;31m                         \u001b[0mcompleted\u001b[0m\u001b[0;34m,\u001b[0m \u001b[0mfutures\u001b[0m \u001b[0;34m=\u001b[0m \u001b[0mwait\u001b[0m\u001b[0;34m(\u001b[0m\u001b[0mfutures\u001b[0m\u001b[0;34m,\u001b[0m \u001b[0mreturn_when\u001b[0m\u001b[0;34m=\u001b[0m\u001b[0mFIRST_COMPLETED\u001b[0m\u001b[0;34m)\u001b[0m\u001b[0;34m\u001b[0m\u001b[0;34m\u001b[0m\u001b[0m\n\u001b[0m\u001b[1;32m    104\u001b[0m                         \u001b[0;31m# Raise if exception occurred in executing the completed futures.\u001b[0m\u001b[0;34m\u001b[0m\u001b[0;34m\u001b[0m\u001b[0;34m\u001b[0m\u001b[0m\n",
      "\u001b[0;32m~/.conda/envs/ml/lib/python3.7/concurrent/futures/_base.py\u001b[0m in \u001b[0;36mwait\u001b[0;34m(fs, timeout, return_when)\u001b[0m\n\u001b[1;32m    300\u001b[0m \u001b[0;34m\u001b[0m\u001b[0m\n\u001b[0;32m--> 301\u001b[0;31m     \u001b[0mwaiter\u001b[0m\u001b[0;34m.\u001b[0m\u001b[0mevent\u001b[0m\u001b[0;34m.\u001b[0m\u001b[0mwait\u001b[0m\u001b[0;34m(\u001b[0m\u001b[0mtimeout\u001b[0m\u001b[0;34m)\u001b[0m\u001b[0;34m\u001b[0m\u001b[0;34m\u001b[0m\u001b[0m\n\u001b[0m\u001b[1;32m    302\u001b[0m     \u001b[0;32mfor\u001b[0m \u001b[0mf\u001b[0m \u001b[0;32min\u001b[0m \u001b[0mfs\u001b[0m\u001b[0;34m:\u001b[0m\u001b[0;34m\u001b[0m\u001b[0;34m\u001b[0m\u001b[0m\n",
      "\u001b[0;32m~/.conda/envs/ml/lib/python3.7/threading.py\u001b[0m in \u001b[0;36mwait\u001b[0;34m(self, timeout)\u001b[0m\n\u001b[1;32m    551\u001b[0m             \u001b[0;32mif\u001b[0m \u001b[0;32mnot\u001b[0m \u001b[0msignaled\u001b[0m\u001b[0;34m:\u001b[0m\u001b[0;34m\u001b[0m\u001b[0;34m\u001b[0m\u001b[0m\n\u001b[0;32m--> 552\u001b[0;31m                 \u001b[0msignaled\u001b[0m \u001b[0;34m=\u001b[0m \u001b[0mself\u001b[0m\u001b[0;34m.\u001b[0m\u001b[0m_cond\u001b[0m\u001b[0;34m.\u001b[0m\u001b[0mwait\u001b[0m\u001b[0;34m(\u001b[0m\u001b[0mtimeout\u001b[0m\u001b[0;34m)\u001b[0m\u001b[0;34m\u001b[0m\u001b[0;34m\u001b[0m\u001b[0m\n\u001b[0m\u001b[1;32m    553\u001b[0m             \u001b[0;32mreturn\u001b[0m \u001b[0msignaled\u001b[0m\u001b[0;34m\u001b[0m\u001b[0;34m\u001b[0m\u001b[0m\n",
      "\u001b[0;32m~/.conda/envs/ml/lib/python3.7/threading.py\u001b[0m in \u001b[0;36mwait\u001b[0;34m(self, timeout)\u001b[0m\n\u001b[1;32m    295\u001b[0m             \u001b[0;32mif\u001b[0m \u001b[0mtimeout\u001b[0m \u001b[0;32mis\u001b[0m \u001b[0;32mNone\u001b[0m\u001b[0;34m:\u001b[0m\u001b[0;34m\u001b[0m\u001b[0;34m\u001b[0m\u001b[0m\n\u001b[0;32m--> 296\u001b[0;31m                 \u001b[0mwaiter\u001b[0m\u001b[0;34m.\u001b[0m\u001b[0macquire\u001b[0m\u001b[0;34m(\u001b[0m\u001b[0;34m)\u001b[0m\u001b[0;34m\u001b[0m\u001b[0;34m\u001b[0m\u001b[0m\n\u001b[0m\u001b[1;32m    297\u001b[0m                 \u001b[0mgotit\u001b[0m \u001b[0;34m=\u001b[0m \u001b[0;32mTrue\u001b[0m\u001b[0;34m\u001b[0m\u001b[0;34m\u001b[0m\u001b[0m\n",
      "\u001b[0;31mKeyboardInterrupt\u001b[0m: ",
      "\nDuring handling of the above exception, another exception occurred:\n",
      "\u001b[0;31mKeyboardInterrupt\u001b[0m                         Traceback (most recent call last)",
      "\u001b[0;32m/tmp/ipykernel_31560/697737551.py\u001b[0m in \u001b[0;36m<module>\u001b[0;34m\u001b[0m\n\u001b[0;32m----> 1\u001b[0;31m \u001b[0mstudy\u001b[0m\u001b[0;34m.\u001b[0m\u001b[0moptimize\u001b[0m\u001b[0;34m(\u001b[0m\u001b[0mobjective\u001b[0m\u001b[0;34m,\u001b[0m \u001b[0mn_trials\u001b[0m\u001b[0;34m=\u001b[0m\u001b[0;36m100\u001b[0m\u001b[0;34m,\u001b[0m \u001b[0mn_jobs\u001b[0m\u001b[0;34m=\u001b[0m\u001b[0;36m10\u001b[0m\u001b[0;34m)\u001b[0m\u001b[0;34m\u001b[0m\u001b[0;34m\u001b[0m\u001b[0m\n\u001b[0m\u001b[1;32m      2\u001b[0m \u001b[0mprint\u001b[0m\u001b[0;34m(\u001b[0m\u001b[0mstudy\u001b[0m\u001b[0;34m.\u001b[0m\u001b[0mbest_trial\u001b[0m\u001b[0;34m)\u001b[0m\u001b[0;34m\u001b[0m\u001b[0;34m\u001b[0m\u001b[0m\n",
      "\u001b[0;32m~/.conda/envs/ml/lib/python3.7/site-packages/optuna/study/study.py\u001b[0m in \u001b[0;36moptimize\u001b[0;34m(self, func, n_trials, timeout, n_jobs, catch, callbacks, gc_after_trial, show_progress_bar)\u001b[0m\n\u001b[1;32m    407\u001b[0m             \u001b[0mcallbacks\u001b[0m\u001b[0;34m=\u001b[0m\u001b[0mcallbacks\u001b[0m\u001b[0;34m,\u001b[0m\u001b[0;34m\u001b[0m\u001b[0;34m\u001b[0m\u001b[0m\n\u001b[1;32m    408\u001b[0m             \u001b[0mgc_after_trial\u001b[0m\u001b[0;34m=\u001b[0m\u001b[0mgc_after_trial\u001b[0m\u001b[0;34m,\u001b[0m\u001b[0;34m\u001b[0m\u001b[0;34m\u001b[0m\u001b[0m\n\u001b[0;32m--> 409\u001b[0;31m             \u001b[0mshow_progress_bar\u001b[0m\u001b[0;34m=\u001b[0m\u001b[0mshow_progress_bar\u001b[0m\u001b[0;34m,\u001b[0m\u001b[0;34m\u001b[0m\u001b[0;34m\u001b[0m\u001b[0m\n\u001b[0m\u001b[1;32m    410\u001b[0m         )\n\u001b[1;32m    411\u001b[0m \u001b[0;34m\u001b[0m\u001b[0m\n",
      "\u001b[0;32m~/.conda/envs/ml/lib/python3.7/site-packages/optuna/study/_optimize.py\u001b[0m in \u001b[0;36m_optimize\u001b[0;34m(study, func, n_trials, timeout, n_jobs, catch, callbacks, gc_after_trial, show_progress_bar)\u001b[0m\n\u001b[1;32m    118\u001b[0m                             \u001b[0;32mTrue\u001b[0m\u001b[0;34m,\u001b[0m\u001b[0;34m\u001b[0m\u001b[0;34m\u001b[0m\u001b[0m\n\u001b[1;32m    119\u001b[0m                             \u001b[0mtime_start\u001b[0m\u001b[0;34m,\u001b[0m\u001b[0;34m\u001b[0m\u001b[0;34m\u001b[0m\u001b[0m\n\u001b[0;32m--> 120\u001b[0;31m                             \u001b[0;32mNone\u001b[0m\u001b[0;34m,\u001b[0m\u001b[0;34m\u001b[0m\u001b[0;34m\u001b[0m\u001b[0m\n\u001b[0m\u001b[1;32m    121\u001b[0m                         )\n\u001b[1;32m    122\u001b[0m                     )\n",
      "\u001b[0;32m~/.conda/envs/ml/lib/python3.7/concurrent/futures/_base.py\u001b[0m in \u001b[0;36m__exit__\u001b[0;34m(self, exc_type, exc_val, exc_tb)\u001b[0m\n\u001b[1;32m    621\u001b[0m \u001b[0;34m\u001b[0m\u001b[0m\n\u001b[1;32m    622\u001b[0m     \u001b[0;32mdef\u001b[0m \u001b[0m__exit__\u001b[0m\u001b[0;34m(\u001b[0m\u001b[0mself\u001b[0m\u001b[0;34m,\u001b[0m \u001b[0mexc_type\u001b[0m\u001b[0;34m,\u001b[0m \u001b[0mexc_val\u001b[0m\u001b[0;34m,\u001b[0m \u001b[0mexc_tb\u001b[0m\u001b[0;34m)\u001b[0m\u001b[0;34m:\u001b[0m\u001b[0;34m\u001b[0m\u001b[0;34m\u001b[0m\u001b[0m\n\u001b[0;32m--> 623\u001b[0;31m         \u001b[0mself\u001b[0m\u001b[0;34m.\u001b[0m\u001b[0mshutdown\u001b[0m\u001b[0;34m(\u001b[0m\u001b[0mwait\u001b[0m\u001b[0;34m=\u001b[0m\u001b[0;32mTrue\u001b[0m\u001b[0;34m)\u001b[0m\u001b[0;34m\u001b[0m\u001b[0;34m\u001b[0m\u001b[0m\n\u001b[0m\u001b[1;32m    624\u001b[0m         \u001b[0;32mreturn\u001b[0m \u001b[0;32mFalse\u001b[0m\u001b[0;34m\u001b[0m\u001b[0;34m\u001b[0m\u001b[0m\n\u001b[1;32m    625\u001b[0m \u001b[0;34m\u001b[0m\u001b[0m\n",
      "\u001b[0;32m~/.conda/envs/ml/lib/python3.7/concurrent/futures/thread.py\u001b[0m in \u001b[0;36mshutdown\u001b[0;34m(self, wait)\u001b[0m\n\u001b[1;32m    214\u001b[0m         \u001b[0;32mif\u001b[0m \u001b[0mwait\u001b[0m\u001b[0;34m:\u001b[0m\u001b[0;34m\u001b[0m\u001b[0;34m\u001b[0m\u001b[0m\n\u001b[1;32m    215\u001b[0m             \u001b[0;32mfor\u001b[0m \u001b[0mt\u001b[0m \u001b[0;32min\u001b[0m \u001b[0mself\u001b[0m\u001b[0;34m.\u001b[0m\u001b[0m_threads\u001b[0m\u001b[0;34m:\u001b[0m\u001b[0;34m\u001b[0m\u001b[0;34m\u001b[0m\u001b[0m\n\u001b[0;32m--> 216\u001b[0;31m                 \u001b[0mt\u001b[0m\u001b[0;34m.\u001b[0m\u001b[0mjoin\u001b[0m\u001b[0;34m(\u001b[0m\u001b[0;34m)\u001b[0m\u001b[0;34m\u001b[0m\u001b[0;34m\u001b[0m\u001b[0m\n\u001b[0m\u001b[1;32m    217\u001b[0m     \u001b[0mshutdown\u001b[0m\u001b[0;34m.\u001b[0m\u001b[0m__doc__\u001b[0m \u001b[0;34m=\u001b[0m \u001b[0m_base\u001b[0m\u001b[0;34m.\u001b[0m\u001b[0mExecutor\u001b[0m\u001b[0;34m.\u001b[0m\u001b[0mshutdown\u001b[0m\u001b[0;34m.\u001b[0m\u001b[0m__doc__\u001b[0m\u001b[0;34m\u001b[0m\u001b[0;34m\u001b[0m\u001b[0m\n",
      "\u001b[0;32m~/.conda/envs/ml/lib/python3.7/threading.py\u001b[0m in \u001b[0;36mjoin\u001b[0;34m(self, timeout)\u001b[0m\n\u001b[1;32m   1042\u001b[0m \u001b[0;34m\u001b[0m\u001b[0m\n\u001b[1;32m   1043\u001b[0m         \u001b[0;32mif\u001b[0m \u001b[0mtimeout\u001b[0m \u001b[0;32mis\u001b[0m \u001b[0;32mNone\u001b[0m\u001b[0;34m:\u001b[0m\u001b[0;34m\u001b[0m\u001b[0;34m\u001b[0m\u001b[0m\n\u001b[0;32m-> 1044\u001b[0;31m             \u001b[0mself\u001b[0m\u001b[0;34m.\u001b[0m\u001b[0m_wait_for_tstate_lock\u001b[0m\u001b[0;34m(\u001b[0m\u001b[0;34m)\u001b[0m\u001b[0;34m\u001b[0m\u001b[0;34m\u001b[0m\u001b[0m\n\u001b[0m\u001b[1;32m   1045\u001b[0m         \u001b[0;32melse\u001b[0m\u001b[0;34m:\u001b[0m\u001b[0;34m\u001b[0m\u001b[0;34m\u001b[0m\u001b[0m\n\u001b[1;32m   1046\u001b[0m             \u001b[0;31m# the behavior of a negative timeout isn't documented, but\u001b[0m\u001b[0;34m\u001b[0m\u001b[0;34m\u001b[0m\u001b[0;34m\u001b[0m\u001b[0m\n",
      "\u001b[0;32m~/.conda/envs/ml/lib/python3.7/threading.py\u001b[0m in \u001b[0;36m_wait_for_tstate_lock\u001b[0;34m(self, block, timeout)\u001b[0m\n\u001b[1;32m   1058\u001b[0m         \u001b[0;32mif\u001b[0m \u001b[0mlock\u001b[0m \u001b[0;32mis\u001b[0m \u001b[0;32mNone\u001b[0m\u001b[0;34m:\u001b[0m  \u001b[0;31m# already determined that the C code is done\u001b[0m\u001b[0;34m\u001b[0m\u001b[0;34m\u001b[0m\u001b[0m\n\u001b[1;32m   1059\u001b[0m             \u001b[0;32massert\u001b[0m \u001b[0mself\u001b[0m\u001b[0;34m.\u001b[0m\u001b[0m_is_stopped\u001b[0m\u001b[0;34m\u001b[0m\u001b[0;34m\u001b[0m\u001b[0m\n\u001b[0;32m-> 1060\u001b[0;31m         \u001b[0;32melif\u001b[0m \u001b[0mlock\u001b[0m\u001b[0;34m.\u001b[0m\u001b[0macquire\u001b[0m\u001b[0;34m(\u001b[0m\u001b[0mblock\u001b[0m\u001b[0;34m,\u001b[0m \u001b[0mtimeout\u001b[0m\u001b[0;34m)\u001b[0m\u001b[0;34m:\u001b[0m\u001b[0;34m\u001b[0m\u001b[0;34m\u001b[0m\u001b[0m\n\u001b[0m\u001b[1;32m   1061\u001b[0m             \u001b[0mlock\u001b[0m\u001b[0;34m.\u001b[0m\u001b[0mrelease\u001b[0m\u001b[0;34m(\u001b[0m\u001b[0;34m)\u001b[0m\u001b[0;34m\u001b[0m\u001b[0;34m\u001b[0m\u001b[0m\n\u001b[1;32m   1062\u001b[0m             \u001b[0mself\u001b[0m\u001b[0;34m.\u001b[0m\u001b[0m_stop\u001b[0m\u001b[0;34m(\u001b[0m\u001b[0;34m)\u001b[0m\u001b[0;34m\u001b[0m\u001b[0;34m\u001b[0m\u001b[0m\n",
      "\u001b[0;31mKeyboardInterrupt\u001b[0m: "
     ]
    }
   ],
   "source": [
    "study.optimize(objective, n_trials=100, n_jobs=10)\n",
    "print(study.best_trial)"
   ]
  },
  {
   "cell_type": "code",
   "execution_count": 49,
   "metadata": {},
   "outputs": [],
   "source": [
    "best_params = objective.add_params(study.best_params)"
   ]
  },
  {
   "cell_type": "code",
   "execution_count": 50,
   "metadata": {},
   "outputs": [
    {
     "name": "stdout",
     "output_type": "stream",
     "text": [
      "Best model test f1 score is 0.439\n"
     ]
    }
   ],
   "source": [
    "# adasyn = ADASYN(sampling_strategy=1,\n",
    "#                n_neighbors=2)\n",
    "# smote = SMOTEN(k_neighbors=5)\n",
    "final_model = lightgbm.LGBMClassifier(**best_params)\n",
    "best_params['subsample_freq'] = 0\n",
    "final_model.fit(train_fp, y_train)\n",
    "test_predictions = final_model.predict(test_fp)\n",
    "score = f1_score(y_test, test_predictions)\n",
    "print(f\"Best model test f1 score is {round(score, 3)}\")"
   ]
  },
  {
   "cell_type": "code",
   "execution_count": 51,
   "metadata": {},
   "outputs": [
    {
     "data": {
      "text/plain": [
       "{'subsample_freq': 0,\n",
       " 'n_estimators': 222,\n",
       " 'reg_alpha': 0.010136808578101649,\n",
       " 'reg_lambda': 0.0038821761773882787,\n",
       " 'colsample_bytree': 0.9384661847570124,\n",
       " 'subsample': 0.3790813020841549,\n",
       " 'min_child_samples': 69,\n",
       " 'max_depth': 13,\n",
       " 'learning_rate': 0.038987514479036006,\n",
       " 'boosting_type': 'gbdt',\n",
       " 'verbosity': -1,\n",
       " 'n_jobs': 2,\n",
       " 'device': 'gpu',\n",
       " 'num_leaves': 8192,\n",
       " 'scale_pos_weight': 27}"
      ]
     },
     "execution_count": 51,
     "metadata": {},
     "output_type": "execute_result"
    }
   ],
   "source": [
    "best_params"
   ]
  },
  {
   "cell_type": "code",
   "execution_count": 55,
   "metadata": {},
   "outputs": [],
   "source": [
    "with open(\"best_params_maccs_2.json\",'w') as f:\n",
    "    json.dump(best_params,f)"
   ]
  },
  {
   "cell_type": "markdown",
   "metadata": {},
   "source": [
    "## pubchem fingerprint"
   ]
  },
  {
   "cell_type": "code",
   "execution_count": 57,
   "metadata": {},
   "outputs": [],
   "source": [
    "from PyFingerprint.fingerprint import get_fingerprint, get_fingerprints\n",
    "from tqdm.auto import tqdm"
   ]
  },
  {
   "cell_type": "code",
   "execution_count": 58,
   "metadata": {},
   "outputs": [
    {
     "data": {
      "application/vnd.jupyter.widget-view+json": {
       "model_id": "5d1cf11f11ae498584b9087bcc57f066",
       "version_major": 2,
       "version_minor": 0
      },
      "text/plain": [
       "  0%|          | 0/5557 [00:00<?, ?it/s]"
      ]
     },
     "metadata": {},
     "output_type": "display_data"
    }
   ],
   "source": [
    "train_fp_pubchem  = [get_fingerprint(smile,\"pubchem\") for smile in tqdm(train_data.smiles.values)]\n",
    "train_fp_pubchem =np.stack([fp.to_numpy() for fp in train_fp_pubchem])"
   ]
  },
  {
   "cell_type": "code",
   "execution_count": 59,
   "metadata": {},
   "outputs": [
    {
     "data": {
      "application/vnd.jupyter.widget-view+json": {
       "model_id": "e434c27292b742d0a24333f6850869ba",
       "version_major": 2,
       "version_minor": 0
      },
      "text/plain": [
       "  0%|          | 0/1614 [00:00<?, ?it/s]"
      ]
     },
     "metadata": {},
     "output_type": "display_data"
    }
   ],
   "source": [
    "test_fp_pubchem  = [get_fingerprint(smile,\"pubchem\") for smile in tqdm(test_data.smiles.values)]\n",
    "test_fp_pubchem =np.stack([fp.to_numpy() for fp in test_fp_pubchem])"
   ]
  },
  {
   "cell_type": "code",
   "execution_count": 60,
   "metadata": {},
   "outputs": [
    {
     "data": {
      "application/vnd.jupyter.widget-view+json": {
       "model_id": "b33d6c0c8c7b4e0a835c2b6100eff37f",
       "version_major": 2,
       "version_minor": 0
      },
      "text/plain": [
       "  0%|          | 0/3 [00:00<?, ?it/s]"
      ]
     },
     "metadata": {},
     "output_type": "display_data"
    }
   ],
   "source": [
    "objective = Objective(train_fp_pubchem, y_train,cv=cv)\n"
   ]
  },
  {
   "cell_type": "code",
   "execution_count": 61,
   "metadata": {},
   "outputs": [
    {
     "name": "stderr",
     "output_type": "stream",
     "text": [
      "\u001b[32m[I 2022-05-11 15:08:42,844]\u001b[0m A new study created in memory with name: no-name-4de76583-fbd1-4388-8214-70d77d2408fb\u001b[0m\n",
      "/home/skuznetsov/.conda/envs/ml/lib/python3.7/site-packages/optuna/study/study.py:397: FutureWarning: `n_jobs` argument has been deprecated in v2.7.0. This feature will be removed in v4.0.0. See https://github.com/optuna/optuna/releases/tag/v2.7.0.\n",
      "  FutureWarning,\n",
      "\u001b[32m[I 2022-05-11 15:08:47,752]\u001b[0m Trial 6 finished with value: 0.19040701441883753 and parameters: {'subsample_freq': 0, 'n_estimators': 72, 'reg_alpha': 8.712520548970911e-15, 'reg_lambda': 0.00799757862990873, 'colsample_bytree': 0.39414361896016287, 'subsample': 0.08151113171536317, 'min_child_samples': 97, 'max_depth': 6, 'learning_rate': 0.19278202190328259, 'boosting_type': 'gbdt'}. Best is trial 6 with value: 0.19040701441883753.\u001b[0m\n",
      "\u001b[32m[I 2022-05-11 15:08:52,888]\u001b[0m Trial 9 finished with value: 0.0 and parameters: {'subsample_freq': 0, 'n_estimators': 272, 'reg_alpha': 1.680845308239597e-19, 'reg_lambda': 5.77566254948995e-20, 'colsample_bytree': 0.03580549527879794, 'subsample': 0.2865200200521715, 'min_child_samples': 58, 'max_depth': 5, 'learning_rate': 0.002113073796533035, 'boosting_type': 'gbdt'}. Best is trial 6 with value: 0.19040701441883753.\u001b[0m\n",
      "\u001b[32m[I 2022-05-11 15:08:55,108]\u001b[0m Trial 2 finished with value: 0.23727146242797573 and parameters: {'subsample_freq': 0, 'n_estimators': 145, 'reg_alpha': 5.363165611996148e-16, 'reg_lambda': 1.3431705475863807e-20, 'colsample_bytree': 0.5853164925917069, 'subsample': 0.5541224538821751, 'min_child_samples': 94, 'max_depth': 11, 'learning_rate': 0.016652657076487252, 'boosting_type': 'gbdt'}. Best is trial 2 with value: 0.23727146242797573.\u001b[0m\n",
      "\u001b[32m[I 2022-05-11 15:08:59,190]\u001b[0m Trial 8 finished with value: 0.22457071883247945 and parameters: {'subsample_freq': 0, 'n_estimators': 261, 'reg_alpha': 1.075466100531098e-18, 'reg_lambda': 9.613485294758728e-14, 'colsample_bytree': 0.3679631202460367, 'subsample': 0.509582016835116, 'min_child_samples': 31, 'max_depth': 6, 'learning_rate': 0.125611429144179, 'boosting_type': 'gbdt'}. Best is trial 2 with value: 0.23727146242797573.\u001b[0m\n",
      "\u001b[32m[I 2022-05-11 15:08:59,218]\u001b[0m Trial 0 finished with value: 0.20224219700543788 and parameters: {'subsample_freq': 0, 'n_estimators': 158, 'reg_alpha': 4.453252189741209e-15, 'reg_lambda': 1.7260238204981283e-14, 'colsample_bytree': 0.3487104467568863, 'subsample': 0.13876752679794843, 'min_child_samples': 25, 'max_depth': 8, 'learning_rate': 0.08410830582223695, 'boosting_type': 'gbdt'}. Best is trial 2 with value: 0.23727146242797573.\u001b[0m\n",
      "\u001b[32m[I 2022-05-11 15:09:02,829]\u001b[0m Trial 14 finished with value: 0.2175898570761138 and parameters: {'subsample_freq': 0, 'n_estimators': 53, 'reg_alpha': 0.0005616998551977037, 'reg_lambda': 8.092967790201012e-16, 'colsample_bytree': 0.7416413425894774, 'subsample': 0.5135647867890843, 'min_child_samples': 75, 'max_depth': 5, 'learning_rate': 0.26766746215332327, 'boosting_type': 'gbdt'}. Best is trial 2 with value: 0.23727146242797573.\u001b[0m\n",
      "\u001b[32m[I 2022-05-11 15:09:02,964]\u001b[0m Trial 7 finished with value: 0.22810515305444312 and parameters: {'subsample_freq': 0, 'n_estimators': 245, 'reg_alpha': 0.01417950181762709, 'reg_lambda': 1.2550882465788148e-16, 'colsample_bytree': 0.2722490353082142, 'subsample': 0.671849000221632, 'min_child_samples': 42, 'max_depth': 9, 'learning_rate': 0.06259547300207197, 'boosting_type': 'gbdt'}. Best is trial 2 with value: 0.23727146242797573.\u001b[0m\n",
      "\u001b[32m[I 2022-05-11 15:09:06,982]\u001b[0m Trial 13 finished with value: 0.2180249009620826 and parameters: {'subsample_freq': 0, 'n_estimators': 65, 'reg_alpha': 7.113326660160128e-10, 'reg_lambda': 1.0014181919590067e-20, 'colsample_bytree': 0.6450806206879528, 'subsample': 0.7342823792205857, 'min_child_samples': 91, 'max_depth': 11, 'learning_rate': 0.023271693874855007, 'boosting_type': 'gbdt'}. Best is trial 2 with value: 0.23727146242797573.\u001b[0m\n",
      "\u001b[32m[I 2022-05-11 15:09:10,632]\u001b[0m Trial 15 finished with value: 0.21218399309409297 and parameters: {'subsample_freq': 0, 'n_estimators': 99, 'reg_alpha': 7.649158596206501e-06, 'reg_lambda': 0.0038040658690473863, 'colsample_bytree': 0.6636254584005066, 'subsample': 0.2870278890225717, 'min_child_samples': 24, 'max_depth': 5, 'learning_rate': 0.23707220846380006, 'boosting_type': 'gbdt'}. Best is trial 2 with value: 0.23727146242797573.\u001b[0m\n",
      "\u001b[32m[I 2022-05-11 15:09:14,937]\u001b[0m Trial 10 finished with value: 0.17617418423870035 and parameters: {'subsample_freq': 0, 'n_estimators': 185, 'reg_alpha': 1.0450294096061619e-11, 'reg_lambda': 2.467530793756269e-07, 'colsample_bytree': 0.36096337078093904, 'subsample': 0.2810961933556954, 'min_child_samples': 14, 'max_depth': 9, 'learning_rate': 0.09663825860631244, 'boosting_type': 'gbdt'}. Best is trial 2 with value: 0.23727146242797573.\u001b[0m\n",
      "\u001b[32m[I 2022-05-11 15:09:15,579]\u001b[0m Trial 17 finished with value: 0.22411473818670977 and parameters: {'subsample_freq': 0, 'n_estimators': 70, 'reg_alpha': 1.7435249466878728e-14, 'reg_lambda': 1.3163233885318872e-20, 'colsample_bytree': 0.8191718063436594, 'subsample': 0.9017471518778821, 'min_child_samples': 70, 'max_depth': 8, 'learning_rate': 0.0357270595295023, 'boosting_type': 'gbdt'}. Best is trial 2 with value: 0.23727146242797573.\u001b[0m\n",
      "\u001b[32m[I 2022-05-11 15:09:18,252]\u001b[0m Trial 16 finished with value: 0.21960346851550386 and parameters: {'subsample_freq': 0, 'n_estimators': 179, 'reg_alpha': 2.2951369739963027e-14, 'reg_lambda': 0.009031749476744741, 'colsample_bytree': 0.9191967735863599, 'subsample': 0.5513791965153099, 'min_child_samples': 44, 'max_depth': 9, 'learning_rate': 0.05607278359656589, 'boosting_type': 'gbdt'}. Best is trial 2 with value: 0.23727146242797573.\u001b[0m\n",
      "\u001b[32m[I 2022-05-11 15:09:20,393]\u001b[0m Trial 3 finished with value: 0.2640205018177484 and parameters: {'subsample_freq': 0, 'n_estimators': 129, 'reg_alpha': 3.4804781295942085e-20, 'reg_lambda': 1.5856131741963373e-08, 'colsample_bytree': 0.3015296274404129, 'subsample': 0.9287609443588478, 'min_child_samples': 39, 'max_depth': 15, 'learning_rate': 0.031420959638734564, 'boosting_type': 'gbdt'}. Best is trial 3 with value: 0.2640205018177484.\u001b[0m\n",
      "\u001b[32m[I 2022-05-11 15:09:21,493]\u001b[0m Trial 12 finished with value: 0.2701040615251076 and parameters: {'subsample_freq': 0, 'n_estimators': 98, 'reg_alpha': 0.06402999869475477, 'reg_lambda': 3.862580702024572e-05, 'colsample_bytree': 0.26731442634972047, 'subsample': 0.2017280084457088, 'min_child_samples': 60, 'max_depth': 19, 'learning_rate': 0.09676267430433595, 'boosting_type': 'gbdt'}. Best is trial 12 with value: 0.2701040615251076.\u001b[0m\n",
      "\u001b[32m[I 2022-05-11 15:09:22,239]\u001b[0m Trial 11 finished with value: 0.2464576516174569 and parameters: {'subsample_freq': 0, 'n_estimators': 96, 'reg_alpha': 0.4893153510917382, 'reg_lambda': 4.44169444230185e-12, 'colsample_bytree': 0.8138407789407625, 'subsample': 0.5486529139089996, 'min_child_samples': 90, 'max_depth': 18, 'learning_rate': 0.0552849755798412, 'boosting_type': 'gbdt'}. Best is trial 12 with value: 0.2701040615251076.\u001b[0m\n",
      "\u001b[32m[I 2022-05-11 15:09:24,475]\u001b[0m Trial 5 finished with value: 0.23390103001753484 and parameters: {'subsample_freq': 0, 'n_estimators': 91, 'reg_alpha': 0.021570829238002902, 'reg_lambda': 0.00025032622206125566, 'colsample_bytree': 0.2903432660031553, 'subsample': 0.5056870497911146, 'min_child_samples': 34, 'max_depth': 19, 'learning_rate': 0.23964353014227494, 'boosting_type': 'gbdt'}. Best is trial 12 with value: 0.2701040615251076.\u001b[0m\n",
      "\u001b[32m[I 2022-05-11 15:09:39,878]\u001b[0m Trial 18 finished with value: 0.1820006922810661 and parameters: {'subsample_freq': 0, 'n_estimators': 292, 'reg_alpha': 7.650407396193187e-05, 'reg_lambda': 1.0268027518324204e-09, 'colsample_bytree': 0.5592189314626331, 'subsample': 0.6122416245863163, 'min_child_samples': 22, 'max_depth': 11, 'learning_rate': 0.1085837715239261, 'boosting_type': 'gbdt'}. Best is trial 12 with value: 0.2701040615251076.\u001b[0m\n",
      "\u001b[32m[I 2022-05-11 15:09:47,206]\u001b[0m Trial 4 finished with value: 0.24313725490196078 and parameters: {'subsample_freq': 0, 'n_estimators': 283, 'reg_alpha': 0.8368949186555116, 'reg_lambda': 3.2455981148365746e-10, 'colsample_bytree': 0.14798334484341213, 'subsample': 0.6174892681084563, 'min_child_samples': 97, 'max_depth': 16, 'learning_rate': 0.10492235913429312, 'boosting_type': 'gbdt'}. Best is trial 12 with value: 0.2701040615251076.\u001b[0m\n"
     ]
    },
    {
     "name": "stderr",
     "output_type": "stream",
     "text": [
      "\u001b[32m[I 2022-05-11 15:09:47,388]\u001b[0m Trial 20 finished with value: 0.24355001606757562 and parameters: {'subsample_freq': 0, 'n_estimators': 207, 'reg_alpha': 0.9088762869229303, 'reg_lambda': 6.083804990459589e-17, 'colsample_bytree': 0.12295554768431324, 'subsample': 0.7036243085303481, 'min_child_samples': 42, 'max_depth': 15, 'learning_rate': 0.06998323693579427, 'boosting_type': 'gbdt'}. Best is trial 12 with value: 0.2701040615251076.\u001b[0m\n",
      "\u001b[32m[I 2022-05-11 15:09:47,416]\u001b[0m Trial 23 finished with value: 0.26073841136734216 and parameters: {'subsample_freq': 0, 'n_estimators': 117, 'reg_alpha': 2.2319711791715762e-07, 'reg_lambda': 1.2721633080933487e-07, 'colsample_bytree': 0.11692318641563704, 'subsample': 0.9221193099255445, 'min_child_samples': 61, 'max_depth': 18, 'learning_rate': 0.1505524121099715, 'boosting_type': 'gbdt'}. Best is trial 12 with value: 0.2701040615251076.\u001b[0m\n",
      "\u001b[32m[I 2022-05-11 15:10:02,212]\u001b[0m Trial 26 finished with value: 0.2569644505980525 and parameters: {'subsample_freq': 0, 'n_estimators': 126, 'reg_alpha': 4.93886866356545e-08, 'reg_lambda': 6.191217328836933e-07, 'colsample_bytree': 0.060300467524236345, 'subsample': 0.8595902579117443, 'min_child_samples': 56, 'max_depth': 15, 'learning_rate': 0.15561636969951587, 'boosting_type': 'gbdt'}. Best is trial 12 with value: 0.2701040615251076.\u001b[0m\n",
      "\u001b[32m[I 2022-05-11 15:10:03,260]\u001b[0m Trial 25 finished with value: 0.22788954010243412 and parameters: {'subsample_freq': 0, 'n_estimators': 131, 'reg_alpha': 1.2105965337395124e-07, 'reg_lambda': 2.288870571839334e-08, 'colsample_bytree': 0.11840179034711526, 'subsample': 0.9520129636885686, 'min_child_samples': 59, 'max_depth': 16, 'learning_rate': 0.14566898027096672, 'boosting_type': 'gbdt'}. Best is trial 12 with value: 0.2701040615251076.\u001b[0m\n",
      "\u001b[32m[I 2022-05-11 15:10:03,959]\u001b[0m Trial 24 finished with value: 0.23558984249437476 and parameters: {'subsample_freq': 0, 'n_estimators': 123, 'reg_alpha': 6.284282383645314e-08, 'reg_lambda': 1.819768768184612e-07, 'colsample_bytree': 0.14215348241068199, 'subsample': 0.964007699433877, 'min_child_samples': 58, 'max_depth': 18, 'learning_rate': 0.15971224965539638, 'boosting_type': 'gbdt'}. Best is trial 12 with value: 0.2701040615251076.\u001b[0m\n",
      "\u001b[32m[I 2022-05-11 15:10:04,514]\u001b[0m Trial 1 finished with value: 0.19532431230544436 and parameters: {'subsample_freq': 0, 'n_estimators': 233, 'reg_alpha': 2.66835914481772e-17, 'reg_lambda': 1.945217359075126e-11, 'colsample_bytree': 0.3762726723034247, 'subsample': 0.6721419118492011, 'min_child_samples': 50, 'max_depth': 18, 'learning_rate': 0.17136410521728027, 'boosting_type': 'gbdt'}. Best is trial 12 with value: 0.2701040615251076.\u001b[0m\n",
      "\u001b[32m[I 2022-05-11 15:10:04,960]\u001b[0m Trial 19 finished with value: 0.2071997604073076 and parameters: {'subsample_freq': 0, 'n_estimators': 159, 'reg_alpha': 2.043666773381683e-08, 'reg_lambda': 5.810380002252256e-09, 'colsample_bytree': 0.9996570118214798, 'subsample': 0.9866045458774133, 'min_child_samples': 69, 'max_depth': 18, 'learning_rate': 0.17117167048890355, 'boosting_type': 'gbdt'}. Best is trial 12 with value: 0.2701040615251076.\u001b[0m\n",
      "\u001b[32m[I 2022-05-11 15:10:05,745]\u001b[0m Trial 22 finished with value: 0.2220659426727695 and parameters: {'subsample_freq': 0, 'n_estimators': 131, 'reg_alpha': 6.269826487991721e-20, 'reg_lambda': 4.105124812614171e-09, 'colsample_bytree': 0.5261195698688408, 'subsample': 0.9647142769410328, 'min_child_samples': 60, 'max_depth': 17, 'learning_rate': 0.14940852821367942, 'boosting_type': 'gbdt'}. Best is trial 12 with value: 0.2701040615251076.\u001b[0m\n",
      "\u001b[32m[I 2022-05-11 15:10:06,238]\u001b[0m Trial 27 finished with value: 0.19083113072882893 and parameters: {'subsample_freq': 0, 'n_estimators': 127, 'reg_alpha': 7.212544952029128e-08, 'reg_lambda': 1.3721689098896766e-06, 'colsample_bytree': 0.14807353401370738, 'subsample': 0.9076762276356827, 'min_child_samples': 58, 'max_depth': 15, 'learning_rate': 0.15528379121827224, 'boosting_type': 'gbdt'}. Best is trial 12 with value: 0.2701040615251076.\u001b[0m\n",
      "\u001b[32m[I 2022-05-11 15:10:09,519]\u001b[0m Trial 28 finished with value: 0.2152910996048251 and parameters: {'subsample_freq': 0, 'n_estimators': 127, 'reg_alpha': 8.969617207305496e-08, 'reg_lambda': 1.3114821228460862e-06, 'colsample_bytree': 0.4581810194223801, 'subsample': 0.8102119533292411, 'min_child_samples': 78, 'max_depth': 15, 'learning_rate': 0.1541973379773754, 'boosting_type': 'gbdt'}. Best is trial 12 with value: 0.2701040615251076.\u001b[0m\n",
      "\u001b[32m[I 2022-05-11 15:10:17,494]\u001b[0m Trial 29 finished with value: 0.22368849788204626 and parameters: {'subsample_freq': 0, 'n_estimators': 214, 'reg_alpha': 4.140668273530839e-09, 'reg_lambda': 1.84798518969194, 'colsample_bytree': 0.5029425294848984, 'subsample': 0.38158392148213627, 'min_child_samples': 8, 'max_depth': 14, 'learning_rate': 0.1837450574121171, 'boosting_type': 'gbdt'}. Best is trial 12 with value: 0.2701040615251076.\u001b[0m\n",
      "\u001b[32m[I 2022-05-11 15:10:24,451]\u001b[0m Trial 21 finished with value: 0.21674549829889633 and parameters: {'subsample_freq': 0, 'n_estimators': 239, 'reg_alpha': 0.02879377573677285, 'reg_lambda': 3.0378086148713353e-17, 'colsample_bytree': 0.12771943995278412, 'subsample': 0.7382613847386229, 'min_child_samples': 47, 'max_depth': 17, 'learning_rate': 0.15841785317534957, 'boosting_type': 'gbdt'}. Best is trial 12 with value: 0.2701040615251076.\u001b[0m\n",
      "\u001b[32m[I 2022-05-11 15:10:35,701]\u001b[0m Trial 34 finished with value: 0.2505254853878707 and parameters: {'subsample_freq': 0, 'n_estimators': 105, 'reg_alpha': 6.345099971324953e-12, 'reg_lambda': 0.00017103043876592552, 'colsample_bytree': 0.22423693596731348, 'subsample': 0.8266981469894772, 'min_child_samples': 75, 'max_depth': 20, 'learning_rate': 0.20426694343705226, 'boosting_type': 'gbdt'}. Best is trial 12 with value: 0.2701040615251076.\u001b[0m\n",
      "\u001b[32m[I 2022-05-11 15:10:35,818]\u001b[0m Trial 33 finished with value: 0.24514955636935631 and parameters: {'subsample_freq': 0, 'n_estimators': 112, 'reg_alpha': 5.063332824267882e-12, 'reg_lambda': 1.1008136441744278, 'colsample_bytree': 0.23542633155898748, 'subsample': 0.8083168004878906, 'min_child_samples': 70, 'max_depth': 20, 'learning_rate': 0.19075720036972113, 'boosting_type': 'gbdt'}. Best is trial 12 with value: 0.2701040615251076.\u001b[0m\n",
      "\u001b[32m[I 2022-05-11 15:10:37,448]\u001b[0m Trial 35 finished with value: 0.23911290394872484 and parameters: {'subsample_freq': 0, 'n_estimators': 108, 'reg_alpha': 2.636759728587022e-12, 'reg_lambda': 1.0760232281098956, 'colsample_bytree': 0.239720772482008, 'subsample': 0.4076226439365541, 'min_child_samples': 76, 'max_depth': 20, 'learning_rate': 0.2005471230352952, 'boosting_type': 'gbdt'}. Best is trial 12 with value: 0.2701040615251076.\u001b[0m\n",
      "\u001b[32m[I 2022-05-11 15:10:39,436]\u001b[0m Trial 32 finished with value: 0.2002835873803616 and parameters: {'subsample_freq': 0, 'n_estimators': 113, 'reg_alpha': 5.796227811032441e-12, 'reg_lambda': 1.327610452404703e-05, 'colsample_bytree': 0.24287554641824627, 'subsample': 0.8254377852539179, 'min_child_samples': 70, 'max_depth': 20, 'learning_rate': 0.17816114989707182, 'boosting_type': 'gbdt'}. Best is trial 12 with value: 0.2701040615251076.\u001b[0m\n",
      "\u001b[32m[I 2022-05-11 15:10:39,627]\u001b[0m Trial 31 finished with value: 0.23594617772239745 and parameters: {'subsample_freq': 0, 'n_estimators': 118, 'reg_alpha': 1.0807136061050295e-11, 'reg_lambda': 2.6832407121200355e-05, 'colsample_bytree': 0.22161531922962852, 'subsample': 0.8348160989871629, 'min_child_samples': 69, 'max_depth': 20, 'learning_rate': 0.15036241613544657, 'boosting_type': 'gbdt'}. Best is trial 12 with value: 0.2701040615251076.\u001b[0m\n",
      "\u001b[32m[I 2022-05-11 15:10:41,021]\u001b[0m Trial 36 finished with value: 0.2437864437864438 and parameters: {'subsample_freq': 0, 'n_estimators': 110, 'reg_alpha': 7.1627230616633744e-12, 'reg_lambda': 3.5122393547928614e-05, 'colsample_bytree': 0.44474099702806424, 'subsample': 0.7853216147382288, 'min_child_samples': 80, 'max_depth': 20, 'learning_rate': 0.20319701699811787, 'boosting_type': 'gbdt'}. Best is trial 12 with value: 0.2701040615251076.\u001b[0m\n",
      "\u001b[32m[I 2022-05-11 15:10:41,132]\u001b[0m Trial 40 finished with value: 0.1308043874357985 and parameters: {'subsample_freq': 0, 'n_estimators': 158, 'reg_alpha': 3.261390138814731e-06, 'reg_lambda': 1.4740682213195892e-05, 'colsample_bytree': 0.011692900619873728, 'subsample': 0.8161062915576681, 'min_child_samples': 65, 'max_depth': 13, 'learning_rate': 0.1261002051860569, 'boosting_type': 'gbdt'}. Best is trial 12 with value: 0.2701040615251076.\u001b[0m\n"
     ]
    },
    {
     "name": "stderr",
     "output_type": "stream",
     "text": [
      "\u001b[32m[I 2022-05-11 15:10:42,501]\u001b[0m Trial 41 finished with value: 0.13147240623250303 and parameters: {'subsample_freq': 0, 'n_estimators': 154, 'reg_alpha': 5.888593357906554e-06, 'reg_lambda': 2.2052453810840945e-05, 'colsample_bytree': 0.010382469143678325, 'subsample': 0.8674326936693462, 'min_child_samples': 53, 'max_depth': 13, 'learning_rate': 0.116899280002713, 'boosting_type': 'gbdt'}. Best is trial 12 with value: 0.2701040615251076.\u001b[0m\n",
      "\u001b[32m[I 2022-05-11 15:10:44,710]\u001b[0m Trial 30 finished with value: 0.26021478930972286 and parameters: {'subsample_freq': 0, 'n_estimators': 128, 'reg_alpha': 1.8669098565467498e-07, 'reg_lambda': 1.9260393162534756e-06, 'colsample_bytree': 0.20613156986177822, 'subsample': 0.9639862071492218, 'min_child_samples': 67, 'max_depth': 20, 'learning_rate': 0.1547966862783023, 'boosting_type': 'gbdt'}. Best is trial 12 with value: 0.2701040615251076.\u001b[0m\n",
      "\u001b[32m[I 2022-05-11 15:10:48,207]\u001b[0m Trial 43 finished with value: 0.13801544018527204 and parameters: {'subsample_freq': 0, 'n_estimators': 153, 'reg_alpha': 2.7868033014490454e-06, 'reg_lambda': 3.578839143147586e-11, 'colsample_bytree': 0.014340489789621713, 'subsample': 0.01868833387139579, 'min_child_samples': 52, 'max_depth': 13, 'learning_rate': 0.08001193198179385, 'boosting_type': 'gbdt'}. Best is trial 12 with value: 0.2701040615251076.\u001b[0m\n",
      "\u001b[32m[I 2022-05-11 15:10:48,347]\u001b[0m Trial 45 finished with value: 0.13736571235498024 and parameters: {'subsample_freq': 0, 'n_estimators': 154, 'reg_alpha': 2.569910293848045e-06, 'reg_lambda': 5.052390588344983e-11, 'colsample_bytree': 0.011709112293458168, 'subsample': 0.04183397081938117, 'min_child_samples': 51, 'max_depth': 13, 'learning_rate': 0.08223932299942474, 'boosting_type': 'gbdt'}. Best is trial 12 with value: 0.2701040615251076.\u001b[0m\n",
      "\u001b[32m[I 2022-05-11 15:10:50,543]\u001b[0m Trial 38 finished with value: 0.21491747398038816 and parameters: {'subsample_freq': 0, 'n_estimators': 109, 'reg_alpha': 1.1055409066343486e-11, 'reg_lambda': 7.74280430176382e-05, 'colsample_bytree': 0.23471485720072394, 'subsample': 0.1750445495430521, 'min_child_samples': 49, 'max_depth': 20, 'learning_rate': 0.08513819021386614, 'boosting_type': 'gbdt'}. Best is trial 12 with value: 0.2701040615251076.\u001b[0m\n",
      "\u001b[32m[I 2022-05-11 15:10:58,812]\u001b[0m Trial 44 finished with value: 0.23931061334503537 and parameters: {'subsample_freq': 0, 'n_estimators': 148, 'reg_alpha': 1.8202017964745302e-06, 'reg_lambda': 3.847884607122195e-12, 'colsample_bytree': 0.046612758835387735, 'subsample': 0.16301573553861629, 'min_child_samples': 52, 'max_depth': 13, 'learning_rate': 0.1261179307331912, 'boosting_type': 'gbdt'}. Best is trial 12 with value: 0.2701040615251076.\u001b[0m\n",
      "\u001b[32m[I 2022-05-11 15:10:59,735]\u001b[0m Trial 46 finished with value: 0.26382461660463274 and parameters: {'subsample_freq': 0, 'n_estimators': 158, 'reg_alpha': 1.687431016326836e-06, 'reg_lambda': 2.1120359807659248e-11, 'colsample_bytree': 0.0718282588160492, 'subsample': 0.04060991033521355, 'min_child_samples': 50, 'max_depth': 13, 'learning_rate': 0.08381947670305867, 'boosting_type': 'gbdt'}. Best is trial 12 with value: 0.2701040615251076.\u001b[0m\n",
      "\u001b[32m[I 2022-05-11 15:10:59,940]\u001b[0m Trial 42 finished with value: 0.21891966626158488 and parameters: {'subsample_freq': 0, 'n_estimators': 157, 'reg_alpha': 6.244200542709673e-06, 'reg_lambda': 2.1517569920420343e-05, 'colsample_bytree': 0.06883532966333337, 'subsample': 0.029884004260535196, 'min_child_samples': 36, 'max_depth': 13, 'learning_rate': 0.12352862083333155, 'boosting_type': 'gbdt'}. Best is trial 12 with value: 0.2701040615251076.\u001b[0m\n",
      "\u001b[32m[I 2022-05-11 15:11:12,656]\u001b[0m Trial 39 finished with value: 0.23023191769460852 and parameters: {'subsample_freq': 0, 'n_estimators': 108, 'reg_alpha': 7.638273600110622e-12, 'reg_lambda': 0.0003535320195232453, 'colsample_bytree': 0.24136901442136433, 'subsample': 0.15114677139258698, 'min_child_samples': 35, 'max_depth': 20, 'learning_rate': 0.12328538658726472, 'boosting_type': 'gbdt'}. Best is trial 12 with value: 0.2701040615251076.\u001b[0m\n",
      "\u001b[32m[I 2022-05-11 15:11:18,014]\u001b[0m Trial 48 finished with value: 0.24921186440677967 and parameters: {'subsample_freq': 0, 'n_estimators': 82, 'reg_alpha': 1.5562483825365068e-16, 'reg_lambda': 3.931540684287315e-12, 'colsample_bytree': 0.31756861169461326, 'subsample': 0.1723450979411281, 'min_child_samples': 51, 'max_depth': 17, 'learning_rate': 0.09294000334019681, 'boosting_type': 'gbdt'}. Best is trial 12 with value: 0.2701040615251076.\u001b[0m\n",
      "\u001b[32m[I 2022-05-11 15:11:21,979]\u001b[0m Trial 47 finished with value: 0.23496084432604533 and parameters: {'subsample_freq': 0, 'n_estimators': 84, 'reg_alpha': 5.775510661076999e-16, 'reg_lambda': 2.9623665460215814e-11, 'colsample_bytree': 0.3129416730675309, 'subsample': 0.1631782485471585, 'min_child_samples': 38, 'max_depth': 17, 'learning_rate': 0.07514916815703034, 'boosting_type': 'gbdt'}. Best is trial 12 with value: 0.2701040615251076.\u001b[0m\n",
      "\u001b[32m[I 2022-05-11 15:11:22,801]\u001b[0m Trial 51 finished with value: 0.21785470582456476 and parameters: {'subsample_freq': 0, 'n_estimators': 84, 'reg_alpha': 1.1630818592026168e-16, 'reg_lambda': 7.350303918744003e-08, 'colsample_bytree': 0.2984723274035845, 'subsample': 0.9080385526515499, 'min_child_samples': 36, 'max_depth': 17, 'learning_rate': 0.13907880995207555, 'boosting_type': 'gbdt'}. Best is trial 12 with value: 0.2701040615251076.\u001b[0m\n",
      "\u001b[32m[I 2022-05-11 15:11:23,631]\u001b[0m Trial 56 finished with value: 0.1513840666409152 and parameters: {'subsample_freq': 0, 'n_estimators': 86, 'reg_alpha': 0.00015255105819069704, 'reg_lambda': 4.2597220253806925e-10, 'colsample_bytree': 0.1779087034863286, 'subsample': 0.08968615992670782, 'min_child_samples': 64, 'max_depth': 3, 'learning_rate': 0.04554761894516659, 'boosting_type': 'gbdt'}. Best is trial 12 with value: 0.2701040615251076.\u001b[0m\n",
      "\u001b[32m[I 2022-05-11 15:11:27,169]\u001b[0m Trial 57 finished with value: 0.1485843581566895 and parameters: {'subsample_freq': 0, 'n_estimators': 137, 'reg_alpha': 0.0005822916833245781, 'reg_lambda': 4.857715363262554e-08, 'colsample_bytree': 0.18257221631895662, 'subsample': 0.2211877156880078, 'min_child_samples': 65, 'max_depth': 3, 'learning_rate': 0.045401233349128975, 'boosting_type': 'gbdt'}. Best is trial 12 with value: 0.2701040615251076.\u001b[0m\n",
      "\u001b[32m[I 2022-05-11 15:11:29,356]\u001b[0m Trial 58 finished with value: 0.16249220887732593 and parameters: {'subsample_freq': 0, 'n_estimators': 169, 'reg_alpha': 0.00036810688753115305, 'reg_lambda': 6.9875414223045e-14, 'colsample_bytree': 0.407763171086998, 'subsample': 0.08867842236448463, 'min_child_samples': 64, 'max_depth': 3, 'learning_rate': 0.04102461442251933, 'boosting_type': 'gbdt'}. Best is trial 12 with value: 0.2701040615251076.\u001b[0m\n",
      "\u001b[32m[I 2022-05-11 15:11:31,304]\u001b[0m Trial 37 finished with value: 0.18467076539249752 and parameters: {'subsample_freq': 0, 'n_estimators': 105, 'reg_alpha': 3.248863705972635e-12, 'reg_lambda': 0.00010538496130364506, 'colsample_bytree': 0.2306772950851883, 'subsample': 0.41957122678032965, 'min_child_samples': 7, 'max_depth': 20, 'learning_rate': 0.11822404102509669, 'boosting_type': 'gbdt'}. Best is trial 12 with value: 0.2701040615251076.\u001b[0m\n",
      "\u001b[32m[I 2022-05-11 15:11:36,673]\u001b[0m Trial 49 finished with value: 0.2261436000051528 and parameters: {'subsample_freq': 0, 'n_estimators': 82, 'reg_alpha': 2.121448152036158e-16, 'reg_lambda': 1.1014559298486037e-12, 'colsample_bytree': 0.31082033893749006, 'subsample': 0.20116066932159682, 'min_child_samples': 34, 'max_depth': 19, 'learning_rate': 0.09034880131571092, 'boosting_type': 'gbdt'}. Best is trial 12 with value: 0.2701040615251076.\u001b[0m\n",
      "\u001b[32m[I 2022-05-11 15:11:37,388]\u001b[0m Trial 50 finished with value: 0.22779390420899856 and parameters: {'subsample_freq': 0, 'n_estimators': 86, 'reg_alpha': 2.8993286526853896e-10, 'reg_lambda': 1.7008041844248507e-07, 'colsample_bytree': 0.32156224928777966, 'subsample': 0.9020771543294285, 'min_child_samples': 36, 'max_depth': 17, 'learning_rate': 0.13211523434936906, 'boosting_type': 'gbdt'}. Best is trial 12 with value: 0.2701040615251076.\u001b[0m\n",
      "\u001b[32m[I 2022-05-11 15:11:41,319]\u001b[0m Trial 54 finished with value: 0.21844081844081842 and parameters: {'subsample_freq': 0, 'n_estimators': 83, 'reg_alpha': 0.0004390921355963984, 'reg_lambda': 8.233117294348653e-13, 'colsample_bytree': 0.3242712107618616, 'subsample': 0.20407782179737277, 'min_child_samples': 37, 'max_depth': 17, 'learning_rate': 0.019331345827437382, 'boosting_type': 'gbdt'}. Best is trial 12 with value: 0.2701040615251076.\u001b[0m\n"
     ]
    },
    {
     "name": "stderr",
     "output_type": "stream",
     "text": [
      "\u001b[32m[I 2022-05-11 15:11:41,548]\u001b[0m Trial 52 finished with value: 0.2195139803835456 and parameters: {'subsample_freq': 0, 'n_estimators': 85, 'reg_alpha': 2.91382481537295e-17, 'reg_lambda': 5.9495058701016315e-08, 'colsample_bytree': 0.33037500234702477, 'subsample': 0.8785273172487768, 'min_child_samples': 38, 'max_depth': 17, 'learning_rate': 0.22618650039400817, 'boosting_type': 'gbdt'}. Best is trial 12 with value: 0.2701040615251076.\u001b[0m\n",
      "\u001b[32m[I 2022-05-11 15:11:42,199]\u001b[0m Trial 53 finished with value: 0.22532546339442894 and parameters: {'subsample_freq': 0, 'n_estimators': 91, 'reg_alpha': 0.000561690291769916, 'reg_lambda': 5.3954473761502845e-14, 'colsample_bytree': 0.29534134477837726, 'subsample': 0.11824881618944746, 'min_child_samples': 38, 'max_depth': 17, 'learning_rate': 0.03270181195058028, 'boosting_type': 'gbdt'}. Best is trial 12 with value: 0.2701040615251076.\u001b[0m\n",
      "\u001b[32m[I 2022-05-11 15:11:47,172]\u001b[0m Trial 55 finished with value: 0.25628084357666936 and parameters: {'subsample_freq': 0, 'n_estimators': 89, 'reg_alpha': 3.7509090037584066e-17, 'reg_lambda': 2.262240318577142e-13, 'colsample_bytree': 0.3113567867991365, 'subsample': 0.23022955245985124, 'min_child_samples': 63, 'max_depth': 17, 'learning_rate': 0.04418153313377833, 'boosting_type': 'gbdt'}. Best is trial 12 with value: 0.2701040615251076.\u001b[0m\n",
      "\u001b[32m[I 2022-05-11 15:12:03,184]\u001b[0m Trial 61 finished with value: 0.18171562548812414 and parameters: {'subsample_freq': 0, 'n_estimators': 142, 'reg_alpha': 3.0383288679504635e-10, 'reg_lambda': 5.982899466736518e-07, 'colsample_bytree': 0.05916269851684472, 'subsample': 0.9970328767951818, 'min_child_samples': 82, 'max_depth': 19, 'learning_rate': 0.01260007777107635, 'boosting_type': 'gbdt'}. Best is trial 12 with value: 0.2701040615251076.\u001b[0m\n",
      "\u001b[32m[I 2022-05-11 15:12:18,755]\u001b[0m Trial 69 finished with value: 0.21960308053982605 and parameters: {'subsample_freq': 0, 'n_estimators': 173, 'reg_alpha': 4.770027838435437e-07, 'reg_lambda': 5.367624414593159e-09, 'colsample_bytree': 0.0904238321281875, 'subsample': 0.6321898663055011, 'min_child_samples': 45, 'max_depth': 12, 'learning_rate': 0.16596055925543887, 'boosting_type': 'gbdt'}. Best is trial 12 with value: 0.2701040615251076.\u001b[0m\n",
      "\u001b[32m[I 2022-05-11 15:12:20,571]\u001b[0m Trial 59 finished with value: 0.226937984496124 and parameters: {'subsample_freq': 0, 'n_estimators': 169, 'reg_alpha': 0.0015380819344449402, 'reg_lambda': 2.060807792989561e-08, 'colsample_bytree': 0.19016223473484722, 'subsample': 0.21947037832328922, 'min_child_samples': 64, 'max_depth': 19, 'learning_rate': 0.010588258451731194, 'boosting_type': 'gbdt'}. Best is trial 12 with value: 0.2701040615251076.\u001b[0m\n",
      "\u001b[32m[I 2022-05-11 15:12:25,441]\u001b[0m Trial 64 finished with value: 0.21535796016019138 and parameters: {'subsample_freq': 0, 'n_estimators': 141, 'reg_alpha': 1.891819899230783e-18, 'reg_lambda': 1.5005375051971347e-06, 'colsample_bytree': 0.08875889209723821, 'subsample': 0.6374524839307635, 'min_child_samples': 55, 'max_depth': 19, 'learning_rate': 0.021980374954639482, 'boosting_type': 'gbdt'}. Best is trial 12 with value: 0.2701040615251076.\u001b[0m\n",
      "\u001b[32m[I 2022-05-11 15:12:27,289]\u001b[0m Trial 62 finished with value: 0.2070861177657294 and parameters: {'subsample_freq': 0, 'n_estimators': 144, 'reg_alpha': 1.8234537728192749e-10, 'reg_lambda': 1.79233676242747e-09, 'colsample_bytree': 0.07869851255851729, 'subsample': 0.9318783169821621, 'min_child_samples': 45, 'max_depth': 19, 'learning_rate': 0.224882294481128, 'boosting_type': 'gbdt'}. Best is trial 12 with value: 0.2701040615251076.\u001b[0m\n",
      "\u001b[32m[I 2022-05-11 15:12:31,116]\u001b[0m Trial 66 finished with value: 0.0 and parameters: {'subsample_freq': 0, 'n_estimators': 98, 'reg_alpha': 3.0572695204603765e-09, 'reg_lambda': 1.561219797441144e-06, 'colsample_bytree': 0.08293047360117725, 'subsample': 0.9933284820932731, 'min_child_samples': 28, 'max_depth': 19, 'learning_rate': 0.0029082613049186967, 'boosting_type': 'gbdt'}. Best is trial 12 with value: 0.2701040615251076.\u001b[0m\n",
      "\u001b[32m[I 2022-05-11 15:12:31,127]\u001b[0m Trial 67 finished with value: 0.23432760364004043 and parameters: {'subsample_freq': 0, 'n_estimators': 140, 'reg_alpha': 5.745301215610869e-09, 'reg_lambda': 7.335685771715804e-07, 'colsample_bytree': 0.06810951681698561, 'subsample': 0.6113028496402897, 'min_child_samples': 46, 'max_depth': 19, 'learning_rate': 0.10743970670759395, 'boosting_type': 'gbdt'}. Best is trial 12 with value: 0.2701040615251076.\u001b[0m\n",
      "\u001b[32m[I 2022-05-11 15:12:36,842]\u001b[0m Trial 70 finished with value: 0.25644693107225985 and parameters: {'subsample_freq': 0, 'n_estimators': 61, 'reg_alpha': 4.438484720780635e-19, 'reg_lambda': 1.9283353868892174e-06, 'colsample_bytree': 0.1786844628065752, 'subsample': 0.342646823087692, 'min_child_samples': 55, 'max_depth': 16, 'learning_rate': 0.10166304667555336, 'boosting_type': 'gbdt'}. Best is trial 12 with value: 0.2701040615251076.\u001b[0m\n",
      "\u001b[32m[I 2022-05-11 15:12:38,343]\u001b[0m Trial 60 finished with value: 0.24096020017202283 and parameters: {'subsample_freq': 0, 'n_estimators': 175, 'reg_alpha': 7.659509157352284e-10, 'reg_lambda': 9.94652004969704e-14, 'colsample_bytree': 0.08166215240909731, 'subsample': 0.9999226407763195, 'min_child_samples': 45, 'max_depth': 19, 'learning_rate': 0.02102796040420614, 'boosting_type': 'gbdt'}. Best is trial 12 with value: 0.2701040615251076.\u001b[0m\n",
      "\u001b[32m[I 2022-05-11 15:12:46,013]\u001b[0m Trial 73 finished with value: 0.2589325585306587 and parameters: {'subsample_freq': 0, 'n_estimators': 56, 'reg_alpha': 2.562197899160674e-09, 'reg_lambda': 8.991706958123152e-15, 'colsample_bytree': 0.367582447632498, 'subsample': 0.3160625825039134, 'min_child_samples': 61, 'max_depth': 16, 'learning_rate': 0.10395684628695315, 'boosting_type': 'gbdt'}. Best is trial 12 with value: 0.2701040615251076.\u001b[0m\n",
      "\u001b[32m[I 2022-05-11 15:12:48,491]\u001b[0m Trial 72 finished with value: 0.25236479395414996 and parameters: {'subsample_freq': 0, 'n_estimators': 58, 'reg_alpha': 1.2720784609506806e-20, 'reg_lambda': 3.0529880702728247e-15, 'colsample_bytree': 0.37243485271251514, 'subsample': 0.33390319748563685, 'min_child_samples': 61, 'max_depth': 16, 'learning_rate': 0.059606017632464814, 'boosting_type': 'gbdt'}. Best is trial 12 with value: 0.2701040615251076.\u001b[0m\n",
      "\u001b[32m[I 2022-05-11 15:12:51,291]\u001b[0m Trial 68 finished with value: 0.20259182578023158 and parameters: {'subsample_freq': 0, 'n_estimators': 138, 'reg_alpha': 1.7627236665389679e-09, 'reg_lambda': 1.383936691243938e-06, 'colsample_bytree': 0.07546463902857074, 'subsample': 0.6319386112913756, 'min_child_samples': 29, 'max_depth': 19, 'learning_rate': 0.16539244373928294, 'boosting_type': 'gbdt'}. Best is trial 12 with value: 0.2701040615251076.\u001b[0m\n",
      "\u001b[32m[I 2022-05-11 15:12:54,635]\u001b[0m Trial 65 finished with value: 0.0 and parameters: {'subsample_freq': 0, 'n_estimators': 140, 'reg_alpha': 2.9941597882850656e-09, 'reg_lambda': 3.5893328368044353e-09, 'colsample_bytree': 0.1799181403453051, 'subsample': 0.9955377635747107, 'min_child_samples': 29, 'max_depth': 19, 'learning_rate': 0.001140829572551405, 'boosting_type': 'gbdt'}. Best is trial 12 with value: 0.2701040615251076.\u001b[0m\n",
      "\u001b[32m[I 2022-05-11 15:12:57,212]\u001b[0m Trial 76 finished with value: 0.2492884618274048 and parameters: {'subsample_freq': 0, 'n_estimators': 62, 'reg_alpha': 2.3774735631501138e-20, 'reg_lambda': 0.0013291813247879756, 'colsample_bytree': 0.16375507664714378, 'subsample': 0.30216287406859776, 'min_child_samples': 57, 'max_depth': 16, 'learning_rate': 0.1005299167914571, 'boosting_type': 'gbdt'}. Best is trial 12 with value: 0.2701040615251076.\u001b[0m\n",
      "\u001b[32m[I 2022-05-11 15:12:59,602]\u001b[0m Trial 75 finished with value: 0.25365128065982767 and parameters: {'subsample_freq': 0, 'n_estimators': 59, 'reg_alpha': 2.8021949605809047e-05, 'reg_lambda': 0.0016813077473131991, 'colsample_bytree': 0.36844994526535296, 'subsample': 0.3414369755125456, 'min_child_samples': 56, 'max_depth': 16, 'learning_rate': 0.058875264452431, 'boosting_type': 'gbdt'}. Best is trial 12 with value: 0.2701040615251076.\u001b[0m\n",
      "\u001b[32m[I 2022-05-11 15:13:03,521]\u001b[0m Trial 77 finished with value: 0.22894300026387868 and parameters: {'subsample_freq': 0, 'n_estimators': 59, 'reg_alpha': 3.67275947058608e-19, 'reg_lambda': 0.002899432142342975, 'colsample_bytree': 0.15478049338767247, 'subsample': 0.3418467531813073, 'min_child_samples': 56, 'max_depth': 16, 'learning_rate': 0.10014717502259202, 'boosting_type': 'gbdt'}. Best is trial 12 with value: 0.2701040615251076.\u001b[0m\n"
     ]
    },
    {
     "name": "stderr",
     "output_type": "stream",
     "text": [
      "\u001b[32m[I 2022-05-11 15:13:04,939]\u001b[0m Trial 81 finished with value: 0.23736854373191832 and parameters: {'subsample_freq': 0, 'n_estimators': 51, 'reg_alpha': 1.5993040538463997e-18, 'reg_lambda': 0.001727502687829426, 'colsample_bytree': 0.265592850448767, 'subsample': 0.46050173558633245, 'min_child_samples': 57, 'max_depth': 14, 'learning_rate': 0.1409935306164763, 'boosting_type': 'gbdt'}. Best is trial 12 with value: 0.2701040615251076.\u001b[0m\n",
      "\u001b[32m[I 2022-05-11 15:13:06,825]\u001b[0m Trial 80 finished with value: 0.2284133763084009 and parameters: {'subsample_freq': 0, 'n_estimators': 71, 'reg_alpha': 2.8690621276737102e-18, 'reg_lambda': 2.1336947844243418e-18, 'colsample_bytree': 0.26909360259068493, 'subsample': 0.4813262233278844, 'min_child_samples': 56, 'max_depth': 14, 'learning_rate': 0.13687271219989589, 'boosting_type': 'gbdt'}. Best is trial 12 with value: 0.2701040615251076.\u001b[0m\n",
      "\u001b[32m[I 2022-05-11 15:13:09,093]\u001b[0m Trial 82 finished with value: 0.20864188122123573 and parameters: {'subsample_freq': 0, 'n_estimators': 50, 'reg_alpha': 5.726967128727487e-19, 'reg_lambda': 0.0009132116428268288, 'colsample_bytree': 0.1323227242078835, 'subsample': 0.4713950769690144, 'min_child_samples': 55, 'max_depth': 14, 'learning_rate': 0.141525720773869, 'boosting_type': 'gbdt'}. Best is trial 12 with value: 0.2701040615251076.\u001b[0m\n",
      "\u001b[32m[I 2022-05-11 15:13:10,122]\u001b[0m Trial 63 finished with value: 0.16378352743464794 and parameters: {'subsample_freq': 0, 'n_estimators': 195, 'reg_alpha': 4.914761023401469e-10, 'reg_lambda': 1.2120639659554585e-06, 'colsample_bytree': 0.09879024197926695, 'subsample': 0.8792432255680621, 'min_child_samples': 30, 'max_depth': 19, 'learning_rate': 0.004969083563261603, 'boosting_type': 'gbdt'}. Best is trial 12 with value: 0.2701040615251076.\u001b[0m\n",
      "\u001b[32m[I 2022-05-11 15:13:11,655]\u001b[0m Trial 84 finished with value: 0.18658013723953829 and parameters: {'subsample_freq': 0, 'n_estimators': 50, 'reg_alpha': 2.580974074642712e-08, 'reg_lambda': 1.2274765489651214e-17, 'colsample_bytree': 0.11469892478115729, 'subsample': 0.2588632697822436, 'min_child_samples': 68, 'max_depth': 14, 'learning_rate': 0.13842482920308014, 'boosting_type': 'gbdt'}. Best is trial 12 with value: 0.2701040615251076.\u001b[0m\n",
      "\u001b[32m[I 2022-05-11 15:13:12,945]\u001b[0m Trial 83 finished with value: 0.25230476122574674 and parameters: {'subsample_freq': 0, 'n_estimators': 72, 'reg_alpha': 1.2169507269962925e-18, 'reg_lambda': 4.606124311671468e-06, 'colsample_bytree': 0.2613476912468495, 'subsample': 0.4853624546011449, 'min_child_samples': 41, 'max_depth': 14, 'learning_rate': 0.1404061754879403, 'boosting_type': 'gbdt'}. Best is trial 12 with value: 0.2701040615251076.\u001b[0m\n",
      "\u001b[32m[I 2022-05-11 15:13:14,084]\u001b[0m Trial 79 finished with value: 0.23149008224479925 and parameters: {'subsample_freq': 0, 'n_estimators': 193, 'reg_alpha': 0.07739640880044939, 'reg_lambda': 0.0006473675141060988, 'colsample_bytree': 0.27333232937557017, 'subsample': 0.26912060154104545, 'min_child_samples': 55, 'max_depth': 14, 'learning_rate': 0.1438123073452981, 'boosting_type': 'gbdt'}. Best is trial 12 with value: 0.2701040615251076.\u001b[0m\n",
      "\u001b[32m[I 2022-05-11 15:13:14,607]\u001b[0m Trial 74 finished with value: 0.2633615921258017 and parameters: {'subsample_freq': 0, 'n_estimators': 120, 'reg_alpha': 1.6115723822511238e-20, 'reg_lambda': 2.0531369502552388e-10, 'colsample_bytree': 0.38869901337241397, 'subsample': 0.3378048494112964, 'min_child_samples': 56, 'max_depth': 16, 'learning_rate': 0.06476716078492578, 'boosting_type': 'gbdt'}. Best is trial 12 with value: 0.2701040615251076.\u001b[0m\n",
      "\u001b[32m[I 2022-05-11 15:13:14,844]\u001b[0m Trial 78 finished with value: 0.2362632409285553 and parameters: {'subsample_freq': 0, 'n_estimators': 193, 'reg_alpha': 1.2906828336446524e-13, 'reg_lambda': 0.0035528641246527987, 'colsample_bytree': 0.3967482254881558, 'subsample': 0.27060189554788533, 'min_child_samples': 61, 'max_depth': 14, 'learning_rate': 0.05939430865412154, 'boosting_type': 'gbdt'}. Best is trial 12 with value: 0.2701040615251076.\u001b[0m\n",
      "\u001b[32m[I 2022-05-11 15:13:20,483]\u001b[0m Trial 85 finished with value: 0.20658780986649838 and parameters: {'subsample_freq': 0, 'n_estimators': 71, 'reg_alpha': 2.4222895981715217e-08, 'reg_lambda': 9.679892327474932e-19, 'colsample_bytree': 0.12746106604059654, 'subsample': 0.25227703163246396, 'min_child_samples': 41, 'max_depth': 14, 'learning_rate': 0.29342552969646873, 'boosting_type': 'gbdt'}. Best is trial 12 with value: 0.2701040615251076.\u001b[0m\n",
      "\u001b[32m[I 2022-05-11 15:13:25,444]\u001b[0m Trial 88 finished with value: 0.2412670801450971 and parameters: {'subsample_freq': 0, 'n_estimators': 67, 'reg_alpha': 1.2853112193043463e-13, 'reg_lambda': 5.5758591933311805e-06, 'colsample_bytree': 0.40096503930307326, 'subsample': 0.7613420380886323, 'min_child_samples': 73, 'max_depth': 15, 'learning_rate': 0.1130859610217909, 'boosting_type': 'gbdt'}. Best is trial 12 with value: 0.2701040615251076.\u001b[0m\n",
      "\u001b[32m[I 2022-05-11 15:13:26,069]\u001b[0m Trial 71 finished with value: 0.24326408162508986 and parameters: {'subsample_freq': 0, 'n_estimators': 195, 'reg_alpha': 7.437456775240376e-19, 'reg_lambda': 7.929627218782818e-15, 'colsample_bytree': 0.09340689941544353, 'subsample': 0.2605561848959051, 'min_child_samples': 54, 'max_depth': 16, 'learning_rate': 0.0973177223767786, 'boosting_type': 'gbdt'}. Best is trial 12 with value: 0.2701040615251076.\u001b[0m\n",
      "\u001b[32m[I 2022-05-11 15:13:26,813]\u001b[0m Trial 86 finished with value: 0.2496729806469361 and parameters: {'subsample_freq': 0, 'n_estimators': 120, 'reg_alpha': 1.2469972554267726e-08, 'reg_lambda': 4.984136767568113e-06, 'colsample_bytree': 0.11187741855312619, 'subsample': 0.9428216460420088, 'min_child_samples': 67, 'max_depth': 15, 'learning_rate': 0.06682186827576035, 'boosting_type': 'gbdt'}. Best is trial 12 with value: 0.2701040615251076.\u001b[0m\n",
      "\u001b[32m[I 2022-05-11 15:13:28,425]\u001b[0m Trial 87 finished with value: 0.22036406849241072 and parameters: {'subsample_freq': 0, 'n_estimators': 119, 'reg_alpha': 3.573133090344949e-13, 'reg_lambda': 6.140599545947656e-06, 'colsample_bytree': 0.20323212766488702, 'subsample': 0.2667962322343035, 'min_child_samples': 67, 'max_depth': 15, 'learning_rate': 0.2985219990024681, 'boosting_type': 'gbdt'}. Best is trial 12 with value: 0.2701040615251076.\u001b[0m\n",
      "\u001b[32m[I 2022-05-11 15:13:34,340]\u001b[0m Trial 91 finished with value: 0.2450976978187025 and parameters: {'subsample_freq': 0, 'n_estimators': 122, 'reg_alpha': 3.7658241003677214e-07, 'reg_lambda': 2.342952443837553e-15, 'colsample_bytree': 0.20256600358792992, 'subsample': 0.9348513142388066, 'min_child_samples': 61, 'max_depth': 15, 'learning_rate': 0.1112700071636043, 'boosting_type': 'gbdt'}. Best is trial 12 with value: 0.2701040615251076.\u001b[0m\n",
      "\u001b[32m[I 2022-05-11 15:13:38,671]\u001b[0m Trial 92 finished with value: 0.2211013030685162 and parameters: {'subsample_freq': 0, 'n_estimators': 117, 'reg_alpha': 8.819615398313487e-20, 'reg_lambda': 1.6667980864150881e-10, 'colsample_bytree': 0.41862353328126, 'subsample': 0.9337095133651726, 'min_child_samples': 49, 'max_depth': 15, 'learning_rate': 0.06648004241413408, 'boosting_type': 'gbdt'}. Best is trial 12 with value: 0.2701040615251076.\u001b[0m\n",
      "\u001b[32m[I 2022-05-11 15:13:44,230]\u001b[0m Trial 93 finished with value: 0.25902253103076095 and parameters: {'subsample_freq': 0, 'n_estimators': 124, 'reg_alpha': 3.685102293198987e-07, 'reg_lambda': 1.6343476119960144e-08, 'colsample_bytree': 0.21672639463779736, 'subsample': 0.936979524825846, 'min_child_samples': 49, 'max_depth': 15, 'learning_rate': 0.06631716147839146, 'boosting_type': 'gbdt'}. Best is trial 12 with value: 0.2701040615251076.\u001b[0m\n",
      "\u001b[32m[I 2022-05-11 15:13:47,459]\u001b[0m Trial 94 finished with value: 0.24755543438749542 and parameters: {'subsample_freq': 0, 'n_estimators': 121, 'reg_alpha': 2.903855716865082e-07, 'reg_lambda': 1.4934110605828736e-10, 'colsample_bytree': 0.203196262962155, 'subsample': 0.37867116869988143, 'min_child_samples': 49, 'max_depth': 15, 'learning_rate': 0.07308116928108639, 'boosting_type': 'gbdt'}. Best is trial 12 with value: 0.2701040615251076.\u001b[0m\n",
      "\u001b[32m[I 2022-05-11 15:13:52,251]\u001b[0m Trial 99 finished with value: 0.2138311155110216 and parameters: {'subsample_freq': 0, 'n_estimators': 128, 'reg_alpha': 7.822747422684611e-11, 'reg_lambda': 9.885384610990098e-11, 'colsample_bytree': 0.4520493188073754, 'subsample': 0.8524890298914481, 'min_child_samples': 49, 'max_depth': 12, 'learning_rate': 0.08564993870726224, 'boosting_type': 'gbdt'}. Best is trial 12 with value: 0.2701040615251076.\u001b[0m\n"
     ]
    },
    {
     "name": "stderr",
     "output_type": "stream",
     "text": [
      "\u001b[32m[I 2022-05-11 15:13:52,304]\u001b[0m Trial 89 finished with value: 0.24862233724081426 and parameters: {'subsample_freq': 0, 'n_estimators': 125, 'reg_alpha': 1.5847044468155129e-13, 'reg_lambda': 7.122226761329178e-06, 'colsample_bytree': 0.208075722960595, 'subsample': 0.9506972882841054, 'min_child_samples': 73, 'max_depth': 18, 'learning_rate': 0.11616376227653456, 'boosting_type': 'gbdt'}. Best is trial 12 with value: 0.2701040615251076.\u001b[0m\n",
      "\u001b[32m[I 2022-05-11 15:14:01,527]\u001b[0m Trial 90 finished with value: 0.27265783506385016 and parameters: {'subsample_freq': 0, 'n_estimators': 121, 'reg_alpha': 0.12371715156312237, 'reg_lambda': 1.9520844224378866e-15, 'colsample_bytree': 0.4473236695437951, 'subsample': 0.2615014527273104, 'min_child_samples': 60, 'max_depth': 18, 'learning_rate': 0.06795652023312676, 'boosting_type': 'gbdt'}. Best is trial 90 with value: 0.27265783506385016.\u001b[0m\n",
      "\u001b[32m[I 2022-05-11 15:14:03,896]\u001b[0m Trial 101 finished with value: 0.24124194927807865 and parameters: {'subsample_freq': 0, 'n_estimators': 131, 'reg_alpha': 3.6066704461034937e-07, 'reg_lambda': 0.026472288941937705, 'colsample_bytree': 0.4470015370004007, 'subsample': 0.3906643627637827, 'min_child_samples': 48, 'max_depth': 12, 'learning_rate': 0.07512731913107937, 'boosting_type': 'gbdt'}. Best is trial 90 with value: 0.27265783506385016.\u001b[0m\n",
      "\u001b[32m[I 2022-05-11 15:14:08,280]\u001b[0m Trial 104 finished with value: 0.18867237190662853 and parameters: {'subsample_freq': 0, 'n_estimators': 132, 'reg_alpha': 3.122242363813482e-05, 'reg_lambda': 1.3387568197146963e-08, 'colsample_bytree': 0.03790188606225477, 'subsample': 0.9710198073061533, 'min_child_samples': 59, 'max_depth': 10, 'learning_rate': 0.05290775466682558, 'boosting_type': 'gbdt'}. Best is trial 90 with value: 0.27265783506385016.\u001b[0m\n",
      "\u001b[32m[I 2022-05-11 15:14:18,357]\u001b[0m Trial 98 finished with value: 0.23153786104605775 and parameters: {'subsample_freq': 0, 'n_estimators': 129, 'reg_alpha': 3.8430291333042485e-07, 'reg_lambda': 1.7924061763978613e-10, 'colsample_bytree': 0.4414611894874908, 'subsample': 0.31119277348190527, 'min_child_samples': 48, 'max_depth': 18, 'learning_rate': 0.07267566651880185, 'boosting_type': 'gbdt'}. Best is trial 90 with value: 0.27265783506385016.\u001b[0m\n",
      "\u001b[32m[I 2022-05-11 15:14:18,596]\u001b[0m Trial 95 finished with value: 0.22527989388901978 and parameters: {'subsample_freq': 0, 'n_estimators': 118, 'reg_alpha': 5.611659704259176e-11, 'reg_lambda': 2.0148843471736668e-10, 'colsample_bytree': 0.4289515765552257, 'subsample': 0.9395099557571139, 'min_child_samples': 49, 'max_depth': 18, 'learning_rate': 0.06515141847505371, 'boosting_type': 'gbdt'}. Best is trial 90 with value: 0.27265783506385016.\u001b[0m\n",
      "\u001b[32m[I 2022-05-11 15:14:19,842]\u001b[0m Trial 97 finished with value: 0.2591353766729572 and parameters: {'subsample_freq': 0, 'n_estimators': 126, 'reg_alpha': 2.2646002450806573e-07, 'reg_lambda': 1.1116602304644219e-08, 'colsample_bytree': 0.21367712061847657, 'subsample': 0.3760658167497082, 'min_child_samples': 49, 'max_depth': 18, 'learning_rate': 0.07266532910914765, 'boosting_type': 'gbdt'}. Best is trial 90 with value: 0.27265783506385016.\u001b[0m\n",
      "\u001b[32m[I 2022-05-11 15:14:24,033]\u001b[0m Trial 96 finished with value: 0.23539320255587878 and parameters: {'subsample_freq': 0, 'n_estimators': 121, 'reg_alpha': 1.0657983853225571e-19, 'reg_lambda': 1.820436802072295e-10, 'colsample_bytree': 0.4468860410539809, 'subsample': 0.9314023687100035, 'min_child_samples': 48, 'max_depth': 18, 'learning_rate': 0.06769312614301803, 'boosting_type': 'gbdt'}. Best is trial 90 with value: 0.27265783506385016.\u001b[0m\n",
      "\u001b[32m[I 2022-05-11 15:14:25,180]\u001b[0m Trial 100 finished with value: 0.2310586783137896 and parameters: {'subsample_freq': 0, 'n_estimators': 129, 'reg_alpha': 3.858247055842029e-20, 'reg_lambda': 4.6489450326128253e-10, 'colsample_bytree': 0.34907247013101017, 'subsample': 0.42133184702654636, 'min_child_samples': 59, 'max_depth': 18, 'learning_rate': 0.030182935566521733, 'boosting_type': 'gbdt'}. Best is trial 90 with value: 0.27265783506385016.\u001b[0m\n",
      "\u001b[32m[I 2022-05-11 15:14:34,937]\u001b[0m Trial 106 finished with value: 0.2581629599631017 and parameters: {'subsample_freq': 0, 'n_estimators': 105, 'reg_alpha': 0.2387468183953475, 'reg_lambda': 1.574058354247687e-08, 'colsample_bytree': 0.4277659171620612, 'subsample': 0.12418943413958164, 'min_child_samples': 59, 'max_depth': 18, 'learning_rate': 0.05255047686686776, 'boosting_type': 'gbdt'}. Best is trial 90 with value: 0.27265783506385016.\u001b[0m\n",
      "\u001b[32m[I 2022-05-11 15:14:36,849]\u001b[0m Trial 102 finished with value: 0.22849579915225085 and parameters: {'subsample_freq': 0, 'n_estimators': 129, 'reg_alpha': 3.2993349640632094e-05, 'reg_lambda': 1.7186557847904162e-08, 'colsample_bytree': 0.6186281099163677, 'subsample': 0.8610404211318077, 'min_child_samples': 59, 'max_depth': 18, 'learning_rate': 0.08802505808195465, 'boosting_type': 'gbdt'}. Best is trial 90 with value: 0.27265783506385016.\u001b[0m\n",
      "\u001b[32m[I 2022-05-11 15:14:45,424]\u001b[0m Trial 107 finished with value: 0.2084831364492382 and parameters: {'subsample_freq': 0, 'n_estimators': 102, 'reg_alpha': 0.16756287685716223, 'reg_lambda': 1.800800863870638e-16, 'colsample_bytree': 0.48853789713925777, 'subsample': 0.3051705157073386, 'min_child_samples': 62, 'max_depth': 18, 'learning_rate': 0.17319889568510036, 'boosting_type': 'gbdt'}. Best is trial 90 with value: 0.27265783506385016.\u001b[0m\n",
      "\u001b[32m[I 2022-05-11 15:14:47,328]\u001b[0m Trial 105 finished with value: 0.2455489680222992 and parameters: {'subsample_freq': 0, 'n_estimators': 134, 'reg_alpha': 0.051171164733584656, 'reg_lambda': 2.37367119866791e-08, 'colsample_bytree': 0.3531390416444646, 'subsample': 0.05006040591744516, 'min_child_samples': 59, 'max_depth': 18, 'learning_rate': 0.053619824749408664, 'boosting_type': 'gbdt'}. Best is trial 90 with value: 0.27265783506385016.\u001b[0m\n",
      "\u001b[32m[I 2022-05-11 15:14:51,245]\u001b[0m Trial 103 finished with value: 0.23070002253775077 and parameters: {'subsample_freq': 0, 'n_estimators': 135, 'reg_alpha': 1.3527945967448943e-05, 'reg_lambda': 1.102114340154762e-08, 'colsample_bytree': 0.6194411224341476, 'subsample': 0.41163820323676836, 'min_child_samples': 59, 'max_depth': 18, 'learning_rate': 0.07854588961259755, 'boosting_type': 'gbdt'}. Best is trial 90 with value: 0.27265783506385016.\u001b[0m\n",
      "\u001b[32m[I 2022-05-11 15:14:51,668]\u001b[0m Trial 108 finished with value: 0.2659125100130903 and parameters: {'subsample_freq': 0, 'n_estimators': 103, 'reg_alpha': 0.27422895923505847, 'reg_lambda': 8.8088103249932e-10, 'colsample_bytree': 0.5005342766122169, 'subsample': 0.058428974306205084, 'min_child_samples': 52, 'max_depth': 18, 'learning_rate': 0.08990687861960382, 'boosting_type': 'gbdt'}. Best is trial 90 with value: 0.27265783506385016.\u001b[0m\n",
      "\u001b[32m[I 2022-05-11 15:14:56,005]\u001b[0m Trial 110 finished with value: 0.2536670733124201 and parameters: {'subsample_freq': 0, 'n_estimators': 101, 'reg_alpha': 0.1255278108041666, 'reg_lambda': 2.407635741534929e-16, 'colsample_bytree': 0.3408777353288462, 'subsample': 0.9063032517217882, 'min_child_samples': 62, 'max_depth': 18, 'learning_rate': 0.08882730838926492, 'boosting_type': 'gbdt'}. Best is trial 90 with value: 0.27265783506385016.\u001b[0m\n",
      "\u001b[32m[I 2022-05-11 15:14:56,719]\u001b[0m Trial 109 finished with value: 0.2203664582936232 and parameters: {'subsample_freq': 0, 'n_estimators': 102, 'reg_alpha': 0.14485806851304106, 'reg_lambda': 2.013682187417102e-07, 'colsample_bytree': 0.35135065065417526, 'subsample': 0.9131975975398117, 'min_child_samples': 59, 'max_depth': 18, 'learning_rate': 0.03300320385503525, 'boosting_type': 'gbdt'}. Best is trial 90 with value: 0.27265783506385016.\u001b[0m\n",
      "\u001b[32m[I 2022-05-11 15:15:04,129]\u001b[0m Trial 113 finished with value: 0.22175023976138394 and parameters: {'subsample_freq': 0, 'n_estimators': 102, 'reg_alpha': 1.2858370094843958, 'reg_lambda': 1.7269715499362074e-07, 'colsample_bytree': 0.48861374024728377, 'subsample': 0.12379053514484933, 'min_child_samples': 61, 'max_depth': 18, 'learning_rate': 0.051325465829696534, 'boosting_type': 'gbdt'}. Best is trial 90 with value: 0.27265783506385016.\u001b[0m\n",
      "\u001b[32m[I 2022-05-11 15:15:08,240]\u001b[0m Trial 112 finished with value: 0.1938292332773682 and parameters: {'subsample_freq': 0, 'n_estimators': 100, 'reg_alpha': 0.0037727943969653754, 'reg_lambda': 3.2516083415301157e-07, 'colsample_bytree': 0.5022179539920977, 'subsample': 0.06678114236869498, 'min_child_samples': 43, 'max_depth': 18, 'learning_rate': 0.17838399808745564, 'boosting_type': 'gbdt'}. Best is trial 90 with value: 0.27265783506385016.\u001b[0m\n"
     ]
    },
    {
     "name": "stderr",
     "output_type": "stream",
     "text": [
      "\u001b[32m[I 2022-05-11 15:15:08,608]\u001b[0m Trial 115 finished with value: 0.24319727891156462 and parameters: {'subsample_freq': 0, 'n_estimators': 93, 'reg_alpha': 0.004519747776231572, 'reg_lambda': 1.4069958445659801e-11, 'colsample_bytree': 0.5320321866091329, 'subsample': 0.1240619880644308, 'min_child_samples': 100, 'max_depth': 17, 'learning_rate': 0.051955625954690804, 'boosting_type': 'gbdt'}. Best is trial 90 with value: 0.27265783506385016.\u001b[0m\n",
      "\u001b[32m[I 2022-05-11 15:15:19,844]\u001b[0m Trial 116 finished with value: 0.2521498366338912 and parameters: {'subsample_freq': 0, 'n_estimators': 95, 'reg_alpha': 0.004111429614768603, 'reg_lambda': 1.9844613365459522e-07, 'colsample_bytree': 0.5385965939301767, 'subsample': 0.11687538113071037, 'min_child_samples': 66, 'max_depth': 17, 'learning_rate': 0.08118664133068476, 'boosting_type': 'gbdt'}. Best is trial 90 with value: 0.27265783506385016.\u001b[0m\n",
      "\u001b[32m[I 2022-05-11 15:15:22,439]\u001b[0m Trial 114 finished with value: 0.27543512504752815 and parameters: {'subsample_freq': 0, 'n_estimators': 102, 'reg_alpha': 0.007850819664888297, 'reg_lambda': 3.8185967184865704e-16, 'colsample_bytree': 0.5040716739133051, 'subsample': 0.05411966877487856, 'min_child_samples': 43, 'max_depth': 17, 'learning_rate': 0.05226302527112596, 'boosting_type': 'gbdt'}. Best is trial 114 with value: 0.27543512504752815.\u001b[0m\n",
      "\u001b[32m[I 2022-05-11 15:15:22,511]\u001b[0m Trial 118 finished with value: 0.25435131317484255 and parameters: {'subsample_freq': 0, 'n_estimators': 95, 'reg_alpha': 0.0039158612062414515, 'reg_lambda': 1.0619985376568646e-11, 'colsample_bytree': 0.4789748488837864, 'subsample': 0.3670811074867659, 'min_child_samples': 43, 'max_depth': 17, 'learning_rate': 0.0931356049957593, 'boosting_type': 'gbdt'}. Best is trial 114 with value: 0.27543512504752815.\u001b[0m\n",
      "\u001b[32m[I 2022-05-11 15:15:23,161]\u001b[0m Trial 111 finished with value: 0.2500807436291307 and parameters: {'subsample_freq': 0, 'n_estimators': 148, 'reg_alpha': 0.0028011828114898186, 'reg_lambda': 9.011785178281552e-10, 'colsample_bytree': 0.5465012027827907, 'subsample': 0.12356674519429306, 'min_child_samples': 59, 'max_depth': 18, 'learning_rate': 0.027814078379771318, 'boosting_type': 'gbdt'}. Best is trial 114 with value: 0.27543512504752815.\u001b[0m\n",
      "\u001b[32m[I 2022-05-11 15:15:23,445]\u001b[0m Trial 117 finished with value: 0.26649808092115784 and parameters: {'subsample_freq': 0, 'n_estimators': 95, 'reg_alpha': 0.003064487384402928, 'reg_lambda': 2.279372027085004e-07, 'colsample_bytree': 0.4871024291526938, 'subsample': 0.19168164050322387, 'min_child_samples': 52, 'max_depth': 17, 'learning_rate': 0.03104608646316576, 'boosting_type': 'gbdt'}. Best is trial 114 with value: 0.27543512504752815.\u001b[0m\n",
      "\u001b[32m[I 2022-05-11 15:15:32,924]\u001b[0m Trial 121 finished with value: 0.2613557893226434 and parameters: {'subsample_freq': 0, 'n_estimators': 94, 'reg_alpha': 0.00946581806902231, 'reg_lambda': 1.1476216059142081e-11, 'colsample_bytree': 0.5187605732750974, 'subsample': 0.06512262714796216, 'min_child_samples': 53, 'max_depth': 17, 'learning_rate': 0.09374182907319212, 'boosting_type': 'gbdt'}. Best is trial 114 with value: 0.27543512504752815.\u001b[0m\n",
      "\u001b[32m[I 2022-05-11 15:15:36,036]\u001b[0m Trial 120 finished with value: 0.24541827458285348 and parameters: {'subsample_freq': 0, 'n_estimators': 114, 'reg_alpha': 0.006887718765717223, 'reg_lambda': 3.5814370880894403e-09, 'colsample_bytree': 0.5242952266264936, 'subsample': 0.13113959504020317, 'min_child_samples': 52, 'max_depth': 17, 'learning_rate': 0.049181826352342556, 'boosting_type': 'gbdt'}. Best is trial 114 with value: 0.27543512504752815.\u001b[0m\n",
      "\u001b[32m[I 2022-05-11 15:15:37,642]\u001b[0m Trial 119 finished with value: 0.22661213832818583 and parameters: {'subsample_freq': 0, 'n_estimators': 113, 'reg_alpha': 0.017074264137217784, 'reg_lambda': 1.452725862513169e-09, 'colsample_bytree': 0.4679427815426954, 'subsample': 0.3672040861881965, 'min_child_samples': 43, 'max_depth': 17, 'learning_rate': 0.09340400775744291, 'boosting_type': 'gbdt'}. Best is trial 114 with value: 0.27543512504752815.\u001b[0m\n",
      "\u001b[32m[I 2022-05-11 15:15:42,188]\u001b[0m Trial 122 finished with value: 0.24193613761305469 and parameters: {'subsample_freq': 0, 'n_estimators': 113, 'reg_alpha': 0.4180189160762721, 'reg_lambda': 1.6665399675005557e-09, 'colsample_bytree': 0.5497376019499898, 'subsample': 0.11233116090081043, 'min_child_samples': 52, 'max_depth': 17, 'learning_rate': 0.038592430333002345, 'boosting_type': 'gbdt'}. Best is trial 114 with value: 0.27543512504752815.\u001b[0m\n",
      "\u001b[32m[I 2022-05-11 15:15:43,900]\u001b[0m Trial 123 finished with value: 0.2705726271180828 and parameters: {'subsample_freq': 0, 'n_estimators': 114, 'reg_alpha': 0.5062889050431667, 'reg_lambda': 1.5796878695922723e-09, 'colsample_bytree': 0.4795174368895088, 'subsample': 0.19410113448434962, 'min_child_samples': 52, 'max_depth': 16, 'learning_rate': 0.09463891373679449, 'boosting_type': 'gbdt'}. Best is trial 114 with value: 0.27543512504752815.\u001b[0m\n",
      "\u001b[32m[I 2022-05-11 15:15:49,892]\u001b[0m Trial 126 finished with value: 0.2554890878985601 and parameters: {'subsample_freq': 0, 'n_estimators': 112, 'reg_alpha': 0.5994368030219264, 'reg_lambda': 2.9896733631687806e-09, 'colsample_bytree': 0.5549455155066516, 'subsample': 0.07617623449845198, 'min_child_samples': 52, 'max_depth': 20, 'learning_rate': 0.038238291551587464, 'boosting_type': 'gbdt'}. Best is trial 114 with value: 0.27543512504752815.\u001b[0m\n",
      "\u001b[32m[I 2022-05-11 15:15:59,378]\u001b[0m Trial 124 finished with value: 0.2546399656181636 and parameters: {'subsample_freq': 0, 'n_estimators': 112, 'reg_alpha': 0.41437356246631085, 'reg_lambda': 7.682717135414648e-10, 'colsample_bytree': 0.46678519379241934, 'subsample': 0.1935606386170294, 'min_child_samples': 52, 'max_depth': 20, 'learning_rate': 0.09449108653777279, 'boosting_type': 'gbdt'}. Best is trial 114 with value: 0.27543512504752815.\u001b[0m\n",
      "\u001b[32m[I 2022-05-11 15:15:59,414]\u001b[0m Trial 128 finished with value: 0.2816323034948219 and parameters: {'subsample_freq': 0, 'n_estimators': 114, 'reg_alpha': 0.015868560983727742, 'reg_lambda': 5.464446011087016e-08, 'colsample_bytree': 0.5865195742947396, 'subsample': 0.18317392695047902, 'min_child_samples': 51, 'max_depth': 20, 'learning_rate': 0.04588590354697835, 'boosting_type': 'gbdt'}. Best is trial 128 with value: 0.2816323034948219.\u001b[0m\n",
      "\u001b[32m[I 2022-05-11 15:16:04,571]\u001b[0m Trial 129 finished with value: 0.24094995260043806 and parameters: {'subsample_freq': 0, 'n_estimators': 108, 'reg_alpha': 0.5740985263493809, 'reg_lambda': 2.340798701668134e-09, 'colsample_bytree': 0.5863819263191368, 'subsample': 0.059188746709476145, 'min_child_samples': 52, 'max_depth': 20, 'learning_rate': 0.03976752970941667, 'boosting_type': 'gbdt'}. Best is trial 128 with value: 0.2816323034948219.\u001b[0m\n",
      "\u001b[32m[I 2022-05-11 15:16:09,194]\u001b[0m Trial 125 finished with value: 0.27881879347919186 and parameters: {'subsample_freq': 0, 'n_estimators': 114, 'reg_alpha': 1.183967891286549e-06, 'reg_lambda': 2.3669743078214963e-14, 'colsample_bytree': 0.558358310590543, 'subsample': 0.06723953732906192, 'min_child_samples': 52, 'max_depth': 20, 'learning_rate': 0.04336842009551063, 'boosting_type': 'gbdt'}. Best is trial 128 with value: 0.2816323034948219.\u001b[0m\n",
      "\u001b[32m[I 2022-05-11 15:16:10,474]\u001b[0m Trial 132 finished with value: 0.25910487979453495 and parameters: {'subsample_freq': 0, 'n_estimators': 76, 'reg_alpha': 0.030104033713986757, 'reg_lambda': 1.3311443690971523e-12, 'colsample_bytree': 0.5181168274886744, 'subsample': 0.015576006067405515, 'min_child_samples': 53, 'max_depth': 16, 'learning_rate': 0.061715285137098584, 'boosting_type': 'gbdt'}. Best is trial 128 with value: 0.2816323034948219.\u001b[0m\n",
      "\u001b[32m[I 2022-05-11 15:16:11,471]\u001b[0m Trial 127 finished with value: 0.2578368751590139 and parameters: {'subsample_freq': 0, 'n_estimators': 113, 'reg_alpha': 1.0724296351812785e-06, 'reg_lambda': 1.710729032397604e-09, 'colsample_bytree': 0.5738917269491077, 'subsample': 0.024997720762032844, 'min_child_samples': 53, 'max_depth': 16, 'learning_rate': 0.041424841425932765, 'boosting_type': 'gbdt'}. Best is trial 128 with value: 0.2816323034948219.\u001b[0m\n",
      "\u001b[32m[I 2022-05-11 15:16:13,406]\u001b[0m Trial 130 finished with value: 0.27353653045142406 and parameters: {'subsample_freq': 0, 'n_estimators': 110, 'reg_alpha': 0.014668003221462987, 'reg_lambda': 1.8559095605553177e-09, 'colsample_bytree': 0.5916947758659714, 'subsample': 0.010432061973478637, 'min_child_samples': 53, 'max_depth': 16, 'learning_rate': 0.06136527909064722, 'boosting_type': 'gbdt'}. Best is trial 128 with value: 0.2816323034948219.\u001b[0m\n"
     ]
    },
    {
     "name": "stderr",
     "output_type": "stream",
     "text": [
      "\u001b[32m[I 2022-05-11 15:16:13,938]\u001b[0m Trial 131 finished with value: 0.24397844674718017 and parameters: {'subsample_freq': 0, 'n_estimators': 111, 'reg_alpha': 0.7322533482303286, 'reg_lambda': 1.5311501894489305e-12, 'colsample_bytree': 0.5128779893906925, 'subsample': 0.022290391808508107, 'min_child_samples': 51, 'max_depth': 20, 'learning_rate': 0.04041708142045037, 'boosting_type': 'gbdt'}. Best is trial 128 with value: 0.2816323034948219.\u001b[0m\n",
      "\u001b[32m[I 2022-05-11 15:16:26,554]\u001b[0m Trial 133 finished with value: 0.2576216912405419 and parameters: {'subsample_freq': 0, 'n_estimators': 108, 'reg_alpha': 0.03136143081014461, 'reg_lambda': 6.221092530451024e-08, 'colsample_bytree': 0.49781311511176674, 'subsample': 0.1936923170371905, 'min_child_samples': 53, 'max_depth': 16, 'learning_rate': 0.0789756867043014, 'boosting_type': 'gbdt'}. Best is trial 128 with value: 0.2816323034948219.\u001b[0m\n",
      "\u001b[32m[I 2022-05-11 15:16:29,573]\u001b[0m Trial 134 finished with value: 0.24491814674731271 and parameters: {'subsample_freq': 0, 'n_estimators': 106, 'reg_alpha': 0.03240399556853078, 'reg_lambda': 7.569018031375211e-08, 'colsample_bytree': 0.5736139657036439, 'subsample': 0.052934582406709806, 'min_child_samples': 39, 'max_depth': 16, 'learning_rate': 0.08424168842017267, 'boosting_type': 'gbdt'}. Best is trial 128 with value: 0.2816323034948219.\u001b[0m\n",
      "\u001b[32m[I 2022-05-11 15:16:31,968]\u001b[0m Trial 135 finished with value: 0.22239901425050893 and parameters: {'subsample_freq': 0, 'n_estimators': 76, 'reg_alpha': 0.04001990374731545, 'reg_lambda': 7.50727785177565e-08, 'colsample_bytree': 0.5841266121024775, 'subsample': 0.016175392809320684, 'min_child_samples': 40, 'max_depth': 16, 'learning_rate': 0.15175583569531811, 'boosting_type': 'gbdt'}. Best is trial 128 with value: 0.2816323034948219.\u001b[0m\n",
      "\u001b[32m[I 2022-05-11 15:16:32,027]\u001b[0m Trial 136 finished with value: 0.24998603429975982 and parameters: {'subsample_freq': 0, 'n_estimators': 107, 'reg_alpha': 0.03369854004776626, 'reg_lambda': 5.6934226809860375e-08, 'colsample_bytree': 0.5754689859641481, 'subsample': 0.012822236479949234, 'min_child_samples': 54, 'max_depth': 16, 'learning_rate': 0.13201180090128156, 'boosting_type': 'gbdt'}. Best is trial 128 with value: 0.2816323034948219.\u001b[0m\n",
      "\u001b[32m[I 2022-05-11 15:16:37,568]\u001b[0m Trial 141 finished with value: 0.23699159549767837 and parameters: {'subsample_freq': 0, 'n_estimators': 91, 'reg_alpha': 1.706460099150738, 'reg_lambda': 7.384250281989417e-08, 'colsample_bytree': 0.5851179104288228, 'subsample': 0.0966082046066252, 'min_child_samples': 40, 'max_depth': 19, 'learning_rate': 0.08073483411845246, 'boosting_type': 'gbdt'}. Best is trial 128 with value: 0.2816323034948219.\u001b[0m\n",
      "\u001b[32m[I 2022-05-11 15:16:38,558]\u001b[0m Trial 137 finished with value: 0.2187271340276805 and parameters: {'subsample_freq': 0, 'n_estimators': 90, 'reg_alpha': 0.02863924723782188, 'reg_lambda': 7.572960766295569e-13, 'colsample_bytree': 0.5137272823905417, 'subsample': 0.0292351943348413, 'min_child_samples': 46, 'max_depth': 16, 'learning_rate': 0.13092384390356512, 'boosting_type': 'gbdt'}. Best is trial 128 with value: 0.2816323034948219.\u001b[0m\n",
      "\u001b[32m[I 2022-05-11 15:16:38,682]\u001b[0m Trial 139 finished with value: 0.2451939973872852 and parameters: {'subsample_freq': 0, 'n_estimators': 78, 'reg_alpha': 0.016091344924290193, 'reg_lambda': 3.4845804875298024e-13, 'colsample_bytree': 0.5685276636186546, 'subsample': 0.09661260927791408, 'min_child_samples': 54, 'max_depth': 19, 'learning_rate': 0.02840577029244311, 'boosting_type': 'gbdt'}. Best is trial 128 with value: 0.2816323034948219.\u001b[0m\n",
      "\u001b[32m[I 2022-05-11 15:16:41,234]\u001b[0m Trial 138 finished with value: 0.24021609518755638 and parameters: {'subsample_freq': 0, 'n_estimators': 79, 'reg_alpha': 0.028303056360425193, 'reg_lambda': 6.08203146450835e-16, 'colsample_bytree': 0.5800907734501451, 'subsample': 0.012796945892440702, 'min_child_samples': 54, 'max_depth': 16, 'learning_rate': 0.026030040063370678, 'boosting_type': 'gbdt'}. Best is trial 128 with value: 0.2816323034948219.\u001b[0m\n",
      "\u001b[32m[I 2022-05-11 15:16:54,225]\u001b[0m Trial 140 finished with value: 0.20296802961976534 and parameters: {'subsample_freq': 0, 'n_estimators': 90, 'reg_alpha': 0.017681642398437215, 'reg_lambda': 5.677540276950354e-16, 'colsample_bytree': 0.6605900485374069, 'subsample': 0.09741120227183213, 'min_child_samples': 40, 'max_depth': 19, 'learning_rate': 0.013542809395167069, 'boosting_type': 'gbdt'}. Best is trial 128 with value: 0.2816323034948219.\u001b[0m\n",
      "\u001b[32m[I 2022-05-11 15:17:00,209]\u001b[0m Trial 142 finished with value: 0.21080705009276443 and parameters: {'subsample_freq': 0, 'n_estimators': 90, 'reg_alpha': 0.03762761998619097, 'reg_lambda': 4.635144837910737e-16, 'colsample_bytree': 0.5947875456552684, 'subsample': 0.23566236290838677, 'min_child_samples': 32, 'max_depth': 19, 'learning_rate': 0.023009554934086747, 'boosting_type': 'gbdt'}. Best is trial 128 with value: 0.2816323034948219.\u001b[0m\n",
      "\u001b[32m[I 2022-05-11 15:17:07,420]\u001b[0m Trial 144 finished with value: 0.2620092287669342 and parameters: {'subsample_freq': 0, 'n_estimators': 89, 'reg_alpha': 0.013693921251792729, 'reg_lambda': 4.789482825953463e-11, 'colsample_bytree': 0.599486840429843, 'subsample': 0.15139623183817608, 'min_child_samples': 45, 'max_depth': 19, 'learning_rate': 0.04596332678491491, 'boosting_type': 'gbdt'}. Best is trial 128 with value: 0.2816323034948219.\u001b[0m\n",
      "\u001b[32m[I 2022-05-11 15:17:13,608]\u001b[0m Trial 143 finished with value: 0.2513956865997072 and parameters: {'subsample_freq': 0, 'n_estimators': 90, 'reg_alpha': 0.0013326784535085442, 'reg_lambda': 7.769510844289714e-16, 'colsample_bytree': 0.6207446889494186, 'subsample': 0.2408487262772387, 'min_child_samples': 45, 'max_depth': 19, 'learning_rate': 0.04699109006873174, 'boosting_type': 'gbdt'}. Best is trial 128 with value: 0.2816323034948219.\u001b[0m\n",
      "\u001b[32m[I 2022-05-11 15:17:15,541]\u001b[0m Trial 145 finished with value: 0.271928531298651 and parameters: {'subsample_freq': 0, 'n_estimators': 90, 'reg_alpha': 0.0019179517532034254, 'reg_lambda': 9.448382757774138e-16, 'colsample_bytree': 0.7126468527858388, 'subsample': 0.10004410182260351, 'min_child_samples': 47, 'max_depth': 19, 'learning_rate': 0.04817131080253888, 'boosting_type': 'gbdt'}. Best is trial 128 with value: 0.2816323034948219.\u001b[0m\n",
      "\u001b[32m[I 2022-05-11 15:17:16,056]\u001b[0m Trial 146 finished with value: 0.23737037840269246 and parameters: {'subsample_freq': 0, 'n_estimators': 92, 'reg_alpha': 0.0013431049158731223, 'reg_lambda': 5.279236878664894e-16, 'colsample_bytree': 0.6607976038425221, 'subsample': 0.15389974887759442, 'min_child_samples': 32, 'max_depth': 19, 'learning_rate': 0.02656815453410919, 'boosting_type': 'gbdt'}. Best is trial 128 with value: 0.2816323034948219.\u001b[0m\n",
      "\u001b[32m[I 2022-05-11 15:17:17,586]\u001b[0m Trial 149 finished with value: 0.23293013084956127 and parameters: {'subsample_freq': 0, 'n_estimators': 94, 'reg_alpha': 0.0009375945163569385, 'reg_lambda': 7.465224667244264e-16, 'colsample_bytree': 0.6724614559999402, 'subsample': 0.15121256720640447, 'min_child_samples': 57, 'max_depth': 17, 'learning_rate': 0.014862687832364944, 'boosting_type': 'gbdt'}. Best is trial 128 with value: 0.2816323034948219.\u001b[0m\n",
      "\u001b[32m[I 2022-05-11 15:17:36,280]\u001b[0m Trial 153 finished with value: 0.26699872987169554 and parameters: {'subsample_freq': 0, 'n_estimators': 100, 'reg_alpha': 0.0011704345780254154, 'reg_lambda': 4.132231577731609e-11, 'colsample_bytree': 0.616971934422486, 'subsample': 0.1530243837305248, 'min_child_samples': 57, 'max_depth': 17, 'learning_rate': 0.045833741327371974, 'boosting_type': 'gbdt'}. Best is trial 128 with value: 0.2816323034948219.\u001b[0m\n",
      "\u001b[32m[I 2022-05-11 15:17:37,166]\u001b[0m Trial 148 finished with value: 0.22611223901546484 and parameters: {'subsample_freq': 0, 'n_estimators': 97, 'reg_alpha': 0.0014123247857421855, 'reg_lambda': 4.312700680047153e-11, 'colsample_bytree': 0.6213432032856152, 'subsample': 0.15278252165166203, 'min_child_samples': 17, 'max_depth': 19, 'learning_rate': 0.02948515490305974, 'boosting_type': 'gbdt'}. Best is trial 128 with value: 0.2816323034948219.\u001b[0m\n",
      "\u001b[32m[I 2022-05-11 15:17:39,119]\u001b[0m Trial 152 finished with value: 0.2018463777565326 and parameters: {'subsample_freq': 0, 'n_estimators': 97, 'reg_alpha': 0.0017689097354249654, 'reg_lambda': 2.5246622411038827e-11, 'colsample_bytree': 0.7057154460840249, 'subsample': 0.17534232415305592, 'min_child_samples': 46, 'max_depth': 20, 'learning_rate': 0.15948481709407872, 'boosting_type': 'gbdt'}. Best is trial 128 with value: 0.2816323034948219.\u001b[0m\n"
     ]
    },
    {
     "name": "stderr",
     "output_type": "stream",
     "text": [
      "\u001b[32m[I 2022-05-11 15:17:43,990]\u001b[0m Trial 151 finished with value: 0.1603701591909139 and parameters: {'subsample_freq': 0, 'n_estimators': 97, 'reg_alpha': 0.0001352648323822314, 'reg_lambda': 3.1485113866699656e-14, 'colsample_bytree': 0.6344392144456883, 'subsample': 0.14992310346958648, 'min_child_samples': 32, 'max_depth': 20, 'learning_rate': 0.16359535361014976, 'boosting_type': 'gbdt'}. Best is trial 128 with value: 0.2816323034948219.\u001b[0m\n",
      "\u001b[32m[I 2022-05-11 15:17:45,406]\u001b[0m Trial 150 finished with value: 0.20570907788952905 and parameters: {'subsample_freq': 0, 'n_estimators': 162, 'reg_alpha': 0.0016332210691114852, 'reg_lambda': 1.990085400356479e-15, 'colsample_bytree': 0.6500605385572961, 'subsample': 0.15254414037933572, 'min_child_samples': 57, 'max_depth': 20, 'learning_rate': 0.16359177350068016, 'boosting_type': 'gbdt'}. Best is trial 128 with value: 0.2816323034948219.\u001b[0m\n",
      "\u001b[32m[I 2022-05-11 15:17:51,507]\u001b[0m Trial 160 finished with value: 0.21905969041630277 and parameters: {'subsample_freq': 0, 'n_estimators': 103, 'reg_alpha': 0.00018035101863475821, 'reg_lambda': 7.79244722892376e-11, 'colsample_bytree': 0.9230953248980058, 'subsample': 0.07143024515556107, 'min_child_samples': 50, 'max_depth': 7, 'learning_rate': 0.05795179169748474, 'boosting_type': 'gbdt'}. Best is trial 128 with value: 0.2816323034948219.\u001b[0m\n",
      "\u001b[32m[I 2022-05-11 15:17:55,310]\u001b[0m Trial 155 finished with value: 0.2552775255327975 and parameters: {'subsample_freq': 0, 'n_estimators': 98, 'reg_alpha': 0.11943591074593082, 'reg_lambda': 3.5095598542149913e-15, 'colsample_bytree': 0.6804668642181674, 'subsample': 0.15106852956122171, 'min_child_samples': 50, 'max_depth': 20, 'learning_rate': 0.06089267048143007, 'boosting_type': 'gbdt'}. Best is trial 128 with value: 0.2816323034948219.\u001b[0m\n",
      "\u001b[32m[I 2022-05-11 15:17:56,475]\u001b[0m Trial 157 finished with value: 0.2616152570480929 and parameters: {'subsample_freq': 0, 'n_estimators': 98, 'reg_alpha': 0.01248749184013062, 'reg_lambda': 4.62629647198482e-11, 'colsample_bytree': 0.7039844717409577, 'subsample': 0.17768465153779098, 'min_child_samples': 47, 'max_depth': 20, 'learning_rate': 0.059653898691200385, 'boosting_type': 'gbdt'}. Best is trial 128 with value: 0.2816323034948219.\u001b[0m\n",
      "\u001b[32m[I 2022-05-11 15:17:58,148]\u001b[0m Trial 154 finished with value: 0.23871316572046497 and parameters: {'subsample_freq': 0, 'n_estimators': 96, 'reg_alpha': 0.00020650131829857063, 'reg_lambda': 3.882571296680799e-11, 'colsample_bytree': 0.4705233632480211, 'subsample': 0.15450653871347508, 'min_child_samples': 47, 'max_depth': 17, 'learning_rate': 0.06171515174253313, 'boosting_type': 'gbdt'}. Best is trial 128 with value: 0.2816323034948219.\u001b[0m\n",
      "\u001b[32m[I 2022-05-11 15:18:13,373]\u001b[0m Trial 159 finished with value: 0.2560170545162354 and parameters: {'subsample_freq': 0, 'n_estimators': 99, 'reg_alpha': 0.10455307494881677, 'reg_lambda': 1.689079161572509e-14, 'colsample_bytree': 0.8034755468267001, 'subsample': 0.20777953685725592, 'min_child_samples': 47, 'max_depth': 20, 'learning_rate': 0.05644397216029181, 'boosting_type': 'gbdt'}. Best is trial 128 with value: 0.2816323034948219.\u001b[0m\n",
      "\u001b[32m[I 2022-05-11 15:18:38,287]\u001b[0m Trial 165 finished with value: 0.23166248955722643 and parameters: {'subsample_freq': 0, 'n_estimators': 116, 'reg_alpha': 0.00795717215992982, 'reg_lambda': 4.8449315853514556e-17, 'colsample_bytree': 0.7841472409934752, 'subsample': 0.20475398785740018, 'min_child_samples': 46, 'max_depth': 17, 'learning_rate': 0.04581638060135207, 'boosting_type': 'gbdt'}. Best is trial 128 with value: 0.2816323034948219.\u001b[0m\n",
      "\u001b[32m[I 2022-05-11 15:18:40,632]\u001b[0m Trial 166 finished with value: 0.27718641276923484 and parameters: {'subsample_freq': 0, 'n_estimators': 117, 'reg_alpha': 0.2210562626526479, 'reg_lambda': 3.155084089200937e-10, 'colsample_bytree': 0.7654615849476558, 'subsample': 0.18335613538921822, 'min_child_samples': 44, 'max_depth': 19, 'learning_rate': 0.0469719799849296, 'boosting_type': 'gbdt'}. Best is trial 128 with value: 0.2816323034948219.\u001b[0m\n",
      "\u001b[32m[I 2022-05-11 15:18:41,420]\u001b[0m Trial 163 finished with value: 0.2589280226197062 and parameters: {'subsample_freq': 0, 'n_estimators': 117, 'reg_alpha': 0.008331540538703575, 'reg_lambda': 5.3415483057467104e-17, 'colsample_bytree': 0.776148449517149, 'subsample': 0.21401484814921584, 'min_child_samples': 47, 'max_depth': 17, 'learning_rate': 0.046630622856503746, 'boosting_type': 'gbdt'}. Best is trial 128 with value: 0.2816323034948219.\u001b[0m\n",
      "\u001b[32m[I 2022-05-11 15:18:48,335]\u001b[0m Trial 156 finished with value: 0.21599576993097538 and parameters: {'subsample_freq': 0, 'n_estimators': 252, 'reg_alpha': 0.00011259195436978308, 'reg_lambda': 5.614873252588112e-11, 'colsample_bytree': 0.7242579478465844, 'subsample': 0.15326982920120574, 'min_child_samples': 50, 'max_depth': 20, 'learning_rate': 0.05794243034651654, 'boosting_type': 'gbdt'}. Best is trial 128 with value: 0.2816323034948219.\u001b[0m\n",
      "\u001b[32m[I 2022-05-11 15:18:49,764]\u001b[0m Trial 147 finished with value: 0.22827410946222826 and parameters: {'subsample_freq': 0, 'n_estimators': 252, 'reg_alpha': 0.00010051462059337279, 'reg_lambda': 2.938061974678119e-14, 'colsample_bytree': 0.6759398534984403, 'subsample': 0.23808853087525625, 'min_child_samples': 32, 'max_depth': 19, 'learning_rate': 0.015073128536475952, 'boosting_type': 'gbdt'}. Best is trial 128 with value: 0.2816323034948219.\u001b[0m\n",
      "\u001b[32m[I 2022-05-11 15:18:58,330]\u001b[0m Trial 167 finished with value: 0.24344267929504185 and parameters: {'subsample_freq': 0, 'n_estimators': 117, 'reg_alpha': 0.009311502354488153, 'reg_lambda': 6.238497680187078e-12, 'colsample_bytree': 0.7536174606014081, 'subsample': 0.1786181669615032, 'min_child_samples': 56, 'max_depth': 19, 'learning_rate': 0.03585025923858269, 'boosting_type': 'gbdt'}. Best is trial 128 with value: 0.2816323034948219.\u001b[0m\n",
      "\u001b[32m[I 2022-05-11 15:19:05,008]\u001b[0m Trial 158 finished with value: 0.22509787946681148 and parameters: {'subsample_freq': 0, 'n_estimators': 257, 'reg_alpha': 0.09272354592181532, 'reg_lambda': 5.0381747454810447e-11, 'colsample_bytree': 0.6254493269708022, 'subsample': 0.1825812021462075, 'min_child_samples': 47, 'max_depth': 20, 'learning_rate': 0.061297096227806436, 'boosting_type': 'gbdt'}. Best is trial 128 with value: 0.2816323034948219.\u001b[0m\n",
      "\u001b[32m[I 2022-05-11 15:19:09,167]\u001b[0m Trial 162 finished with value: 0.24842339478703113 and parameters: {'subsample_freq': 0, 'n_estimators': 228, 'reg_alpha': 0.009863035611499565, 'reg_lambda': 7.086996206102457e-11, 'colsample_bytree': 0.47856270756799724, 'subsample': 0.07353015372009747, 'min_child_samples': 47, 'max_depth': 17, 'learning_rate': 0.05783409414632856, 'boosting_type': 'gbdt'}. Best is trial 128 with value: 0.2816323034948219.\u001b[0m\n",
      "\u001b[32m[I 2022-05-11 15:19:09,959]\u001b[0m Trial 168 finished with value: 0.2641999663897474 and parameters: {'subsample_freq': 0, 'n_estimators': 86, 'reg_alpha': 1.0197066330196779e-20, 'reg_lambda': 4.384069689261949e-10, 'colsample_bytree': 0.7113818184926356, 'subsample': 0.17102125923105596, 'min_child_samples': 43, 'max_depth': 19, 'learning_rate': 0.048772131079698106, 'boosting_type': 'gbdt'}. Best is trial 128 with value: 0.2816323034948219.\u001b[0m\n",
      "\u001b[32m[I 2022-05-11 15:19:18,947]\u001b[0m Trial 172 finished with value: 0.2576695334039376 and parameters: {'subsample_freq': 0, 'n_estimators': 107, 'reg_alpha': 0.3456102712012487, 'reg_lambda': 4.67911609473989e-10, 'colsample_bytree': 0.6036475228239059, 'subsample': 0.18342086641368419, 'min_child_samples': 44, 'max_depth': 19, 'learning_rate': 0.03442762083238431, 'boosting_type': 'gbdt'}. Best is trial 128 with value: 0.2816323034948219.\u001b[0m\n",
      "\u001b[32m[I 2022-05-11 15:19:20,227]\u001b[0m Trial 169 finished with value: 0.2627248725977774 and parameters: {'subsample_freq': 0, 'n_estimators': 120, 'reg_alpha': 0.29523657405976, 'reg_lambda': 6.505420614631868e-10, 'colsample_bytree': 0.6027093361867238, 'subsample': 0.04491102118945685, 'min_child_samples': 44, 'max_depth': 19, 'learning_rate': 0.03525152985699989, 'boosting_type': 'gbdt'}. Best is trial 128 with value: 0.2816323034948219.\u001b[0m\n",
      "\u001b[32m[I 2022-05-11 15:19:20,932]\u001b[0m Trial 173 finished with value: 0.215582109859599 and parameters: {'subsample_freq': 0, 'n_estimators': 85, 'reg_alpha': 1.9078762554327873, 'reg_lambda': 2.75268843105176e-10, 'colsample_bytree': 0.6972372298570725, 'subsample': 0.17913638617779076, 'min_child_samples': 44, 'max_depth': 19, 'learning_rate': 0.034591327942620986, 'boosting_type': 'gbdt'}. Best is trial 128 with value: 0.2816323034948219.\u001b[0m\n"
     ]
    },
    {
     "name": "stderr",
     "output_type": "stream",
     "text": [
      "\u001b[32m[I 2022-05-11 15:19:22,236]\u001b[0m Trial 176 finished with value: 0.2336413397398666 and parameters: {'subsample_freq': 0, 'n_estimators': 85, 'reg_alpha': 0.3463725782910659, 'reg_lambda': 1.4968783233767396e-17, 'colsample_bytree': 0.6029678602475912, 'subsample': 0.03608566623181646, 'min_child_samples': 44, 'max_depth': 11, 'learning_rate': 0.033997237850531555, 'boosting_type': 'gbdt'}. Best is trial 128 with value: 0.2816323034948219.\u001b[0m\n",
      "\u001b[32m[I 2022-05-11 15:19:27,828]\u001b[0m Trial 170 finished with value: 0.23878126703349603 and parameters: {'subsample_freq': 0, 'n_estimators': 105, 'reg_alpha': 1.0218871560358776e-20, 'reg_lambda': 5.284592281066935e-10, 'colsample_bytree': 0.6863198933153956, 'subsample': 0.17811188756601726, 'min_child_samples': 42, 'max_depth': 19, 'learning_rate': 0.03612067597674144, 'boosting_type': 'gbdt'}. Best is trial 128 with value: 0.2816323034948219.\u001b[0m\n",
      "\u001b[32m[I 2022-05-11 15:19:28,983]\u001b[0m Trial 161 finished with value: 0.22287354658175326 and parameters: {'subsample_freq': 0, 'n_estimators': 250, 'reg_alpha': 0.0002766178510532583, 'reg_lambda': 3.5122447165899188e-15, 'colsample_bytree': 0.46981545990219975, 'subsample': 0.21075505311451947, 'min_child_samples': 47, 'max_depth': 17, 'learning_rate': 0.058371773315937334, 'boosting_type': 'gbdt'}. Best is trial 128 with value: 0.2816323034948219.\u001b[0m\n",
      "\u001b[32m[I 2022-05-11 15:19:29,834]\u001b[0m Trial 174 finished with value: 0.2596899224806202 and parameters: {'subsample_freq': 0, 'n_estimators': 85, 'reg_alpha': 0.2744627855454003, 'reg_lambda': 5.619777621081695e-09, 'colsample_bytree': 0.6047665183787536, 'subsample': 0.04095514509104288, 'min_child_samples': 44, 'max_depth': 19, 'learning_rate': 0.07162928970214431, 'boosting_type': 'gbdt'}. Best is trial 128 with value: 0.2816323034948219.\u001b[0m\n",
      "\u001b[32m[I 2022-05-11 15:19:31,462]\u001b[0m Trial 177 finished with value: 0.2728773152393178 and parameters: {'subsample_freq': 0, 'n_estimators': 84, 'reg_alpha': 1.0608258009293561e-20, 'reg_lambda': 7.49259044566663e-10, 'colsample_bytree': 0.5421809892738082, 'subsample': 0.049055774372089134, 'min_child_samples': 43, 'max_depth': 11, 'learning_rate': 0.04415011604047804, 'boosting_type': 'gbdt'}. Best is trial 128 with value: 0.2816323034948219.\u001b[0m\n",
      "\u001b[32m[I 2022-05-11 15:19:41,372]\u001b[0m Trial 175 finished with value: 0.2454155302322685 and parameters: {'subsample_freq': 0, 'n_estimators': 282, 'reg_alpha': 0.2747251449070639, 'reg_lambda': 8.532082698526749e-10, 'colsample_bytree': 0.8348175413991066, 'subsample': 0.03881827172048777, 'min_child_samples': 45, 'max_depth': 11, 'learning_rate': 0.07075283226815943, 'boosting_type': 'gbdt'}. Best is trial 128 with value: 0.2816323034948219.\u001b[0m\n",
      "\u001b[32m[I 2022-05-11 15:19:50,368]\u001b[0m Trial 164 finished with value: 0.2336188914664299 and parameters: {'subsample_freq': 0, 'n_estimators': 300, 'reg_alpha': 0.008359164442880629, 'reg_lambda': 3.700194570088778e-12, 'colsample_bytree': 0.8074906882131438, 'subsample': 0.04855063774354523, 'min_child_samples': 47, 'max_depth': 17, 'learning_rate': 0.0473056183217759, 'boosting_type': 'gbdt'}. Best is trial 128 with value: 0.2816323034948219.\u001b[0m\n",
      "\u001b[32m[I 2022-05-11 15:20:00,086]\u001b[0m Trial 184 finished with value: 0.25011715803355683 and parameters: {'subsample_freq': 0, 'n_estimators': 123, 'reg_alpha': 2.876079371864682e-20, 'reg_lambda': 6.975648485812587e-10, 'colsample_bytree': 0.3872279899260282, 'subsample': 0.04921586988942471, 'min_child_samples': 38, 'max_depth': 11, 'learning_rate': 0.048582081890214894, 'boosting_type': 'gbdt'}. Best is trial 128 with value: 0.2816323034948219.\u001b[0m\n",
      "\u001b[32m[I 2022-05-11 15:20:02,582]\u001b[0m Trial 185 finished with value: 0.2355199504624792 and parameters: {'subsample_freq': 0, 'n_estimators': 120, 'reg_alpha': 5.689346287114745e-20, 'reg_lambda': 5.052600052707966e-09, 'colsample_bytree': 0.8427550615694673, 'subsample': 0.08910113615141903, 'min_child_samples': 37, 'max_depth': 11, 'learning_rate': 0.05090787867055405, 'boosting_type': 'gbdt'}. Best is trial 128 with value: 0.2816323034948219.\u001b[0m\n",
      "\u001b[32m[I 2022-05-11 15:20:13,284]\u001b[0m Trial 186 finished with value: 0.22418814620649483 and parameters: {'subsample_freq': 0, 'n_estimators': 122, 'reg_alpha': 4.0601952667407e-20, 'reg_lambda': 5.517930206787699e-09, 'colsample_bytree': 0.7375431899194381, 'subsample': 0.08411273409450783, 'min_child_samples': 41, 'max_depth': 12, 'learning_rate': 0.051442143655434605, 'boosting_type': 'gbdt'}. Best is trial 128 with value: 0.2816323034948219.\u001b[0m\n",
      "\u001b[32m[I 2022-05-11 15:20:14,832]\u001b[0m Trial 180 finished with value: 0.24488143435511858 and parameters: {'subsample_freq': 0, 'n_estimators': 123, 'reg_alpha': 2.856131170428432e-20, 'reg_lambda': 7.048151169354919e-10, 'colsample_bytree': 0.7378806945405881, 'subsample': 0.03948493647132266, 'min_child_samples': 42, 'max_depth': 18, 'learning_rate': 0.046184409362934456, 'boosting_type': 'gbdt'}. Best is trial 128 with value: 0.2816323034948219.\u001b[0m\n",
      "\u001b[32m[I 2022-05-11 15:20:18,845]\u001b[0m Trial 179 finished with value: 0.21194067370537958 and parameters: {'subsample_freq': 0, 'n_estimators': 122, 'reg_alpha': 1.474417434244952e-20, 'reg_lambda': 5.810648942038361e-10, 'colsample_bytree': 0.7375191076703806, 'subsample': 0.04295806030601807, 'min_child_samples': 38, 'max_depth': 18, 'learning_rate': 0.04950084877839457, 'boosting_type': 'gbdt'}. Best is trial 128 with value: 0.2816323034948219.\u001b[0m\n",
      "\u001b[32m[I 2022-05-11 15:20:19,374]\u001b[0m Trial 178 finished with value: 0.2372174441139959 and parameters: {'subsample_freq': 0, 'n_estimators': 123, 'reg_alpha': 1.1842146739166488e-20, 'reg_lambda': 4.6221878500673113e-10, 'colsample_bytree': 0.8374997553977438, 'subsample': 0.04835809081078512, 'min_child_samples': 42, 'max_depth': 18, 'learning_rate': 0.07077222444639676, 'boosting_type': 'gbdt'}. Best is trial 128 with value: 0.2816323034948219.\u001b[0m\n",
      "\u001b[32m[I 2022-05-11 15:20:27,369]\u001b[0m Trial 189 finished with value: 0.2726814415493661 and parameters: {'subsample_freq': 0, 'n_estimators': 110, 'reg_alpha': 1.6134987371099824e-20, 'reg_lambda': 2.1918293913899117e-10, 'colsample_bytree': 0.5526528304567829, 'subsample': 0.6945057387555212, 'min_child_samples': 42, 'max_depth': 10, 'learning_rate': 0.0407648300472411, 'boosting_type': 'gbdt'}. Best is trial 128 with value: 0.2816323034948219.\u001b[0m\n",
      "\u001b[32m[I 2022-05-11 15:20:29,792]\u001b[0m Trial 183 finished with value: 0.24553062942603873 and parameters: {'subsample_freq': 0, 'n_estimators': 125, 'reg_alpha': 2.4469848233218982e-20, 'reg_lambda': 8.352211974131276e-10, 'colsample_bytree': 0.7411196336407394, 'subsample': 0.09741566432269955, 'min_child_samples': 38, 'max_depth': 18, 'learning_rate': 0.0455914567380892, 'boosting_type': 'gbdt'}. Best is trial 128 with value: 0.2816323034948219.\u001b[0m\n",
      "\u001b[32m[I 2022-05-11 15:20:34,343]\u001b[0m Trial 182 finished with value: 0.24836433976218922 and parameters: {'subsample_freq': 0, 'n_estimators': 125, 'reg_alpha': 2.2791084798274938e-20, 'reg_lambda': 5.586354567980542e-09, 'colsample_bytree': 0.3867422663717508, 'subsample': 0.09009510661636451, 'min_child_samples': 37, 'max_depth': 18, 'learning_rate': 0.045567707480686635, 'boosting_type': 'gbdt'}. Best is trial 128 with value: 0.2816323034948219.\u001b[0m\n",
      "\u001b[32m[I 2022-05-11 15:20:34,978]\u001b[0m Trial 181 finished with value: 0.2623060780676126 and parameters: {'subsample_freq': 0, 'n_estimators': 123, 'reg_alpha': 1.8134884912917668e-20, 'reg_lambda': 4.499469106697445e-09, 'colsample_bytree': 0.7459108902226311, 'subsample': 0.04850819305139974, 'min_child_samples': 41, 'max_depth': 18, 'learning_rate': 0.04581247809494337, 'boosting_type': 'gbdt'}. Best is trial 128 with value: 0.2816323034948219.\u001b[0m\n",
      "\u001b[32m[I 2022-05-11 15:20:36,390]\u001b[0m Trial 171 finished with value: 0.23519285507320484 and parameters: {'subsample_freq': 0, 'n_estimators': 299, 'reg_alpha': 0.2607547634926772, 'reg_lambda': 3.446340043572655e-10, 'colsample_bytree': 0.7486170484392858, 'subsample': 0.17506567240216606, 'min_child_samples': 44, 'max_depth': 19, 'learning_rate': 0.06901523692948877, 'boosting_type': 'gbdt'}. Best is trial 128 with value: 0.2816323034948219.\u001b[0m\n",
      "\u001b[32m[I 2022-05-11 15:20:43,220]\u001b[0m Trial 193 finished with value: 0.24019428143082314 and parameters: {'subsample_freq': 0, 'n_estimators': 110, 'reg_alpha': 0.1417968472859897, 'reg_lambda': 2.2978452980878265e-09, 'colsample_bytree': 0.5334980231409743, 'subsample': 0.5362141189058092, 'min_child_samples': 55, 'max_depth': 10, 'learning_rate': 0.0418334765566694, 'boosting_type': 'gbdt'}. Best is trial 128 with value: 0.2816323034948219.\u001b[0m\n"
     ]
    },
    {
     "name": "stderr",
     "output_type": "stream",
     "text": [
      "\u001b[32m[I 2022-05-11 15:20:45,856]\u001b[0m Trial 192 finished with value: 0.2654865614591741 and parameters: {'subsample_freq': 0, 'n_estimators': 109, 'reg_alpha': 1.8975400282263413e-19, 'reg_lambda': 1.6120215383775922e-09, 'colsample_bytree': 0.5512204391827215, 'subsample': 0.5636609636481346, 'min_child_samples': 51, 'max_depth': 15, 'learning_rate': 0.041256054499049434, 'boosting_type': 'gbdt'}. Best is trial 128 with value: 0.2816323034948219.\u001b[0m\n",
      "\u001b[32m[I 2022-05-11 15:20:51,535]\u001b[0m Trial 195 finished with value: 0.2602233139876918 and parameters: {'subsample_freq': 0, 'n_estimators': 112, 'reg_alpha': 1.2716071049595508e-19, 'reg_lambda': 1.5504933009544595e-10, 'colsample_bytree': 0.5512999151485792, 'subsample': 0.7326191881704349, 'min_child_samples': 51, 'max_depth': 10, 'learning_rate': 0.040779721757923985, 'boosting_type': 'gbdt'}. Best is trial 128 with value: 0.2816323034948219.\u001b[0m\n",
      "\u001b[32m[I 2022-05-11 15:20:51,748]\u001b[0m Trial 197 finished with value: 0.2537751163212704 and parameters: {'subsample_freq': 0, 'n_estimators': 110, 'reg_alpha': 8.907316083875237e-20, 'reg_lambda': 1.6230466845155397e-10, 'colsample_bytree': 0.5535643046280686, 'subsample': 0.7676969979000376, 'min_child_samples': 51, 'max_depth': 9, 'learning_rate': 0.03996343590655188, 'boosting_type': 'gbdt'}. Best is trial 128 with value: 0.2816323034948219.\u001b[0m\n",
      "\u001b[32m[I 2022-05-11 15:20:52,348]\u001b[0m Trial 190 finished with value: 0.24642634956184786 and parameters: {'subsample_freq': 0, 'n_estimators': 110, 'reg_alpha': 1.126608795255091e-19, 'reg_lambda': 2.514992831488285e-10, 'colsample_bytree': 0.5518241222084437, 'subsample': 0.575841891552376, 'min_child_samples': 51, 'max_depth': 18, 'learning_rate': 0.04402197455294356, 'boosting_type': 'gbdt'}. Best is trial 128 with value: 0.2816323034948219.\u001b[0m\n",
      "\u001b[32m[I 2022-05-11 15:20:53,446]\u001b[0m Trial 194 finished with value: 0.24519785180059964 and parameters: {'subsample_freq': 0, 'n_estimators': 109, 'reg_alpha': 2.491335940144912e-19, 'reg_lambda': 0.019479138319531495, 'colsample_bytree': 0.5464811716844757, 'subsample': 0.5815899139749007, 'min_child_samples': 51, 'max_depth': 15, 'learning_rate': 0.03805349434706935, 'boosting_type': 'gbdt'}. Best is trial 128 with value: 0.2816323034948219.\u001b[0m\n",
      "\u001b[32m[I 2022-05-11 15:20:54,079]\u001b[0m Trial 187 finished with value: 0.27307692307692305 and parameters: {'subsample_freq': 0, 'n_estimators': 120, 'reg_alpha': 2.2706351621254874e-19, 'reg_lambda': 6.128129637784736e-09, 'colsample_bytree': 0.5403537729224244, 'subsample': 0.0820916515636544, 'min_child_samples': 41, 'max_depth': 18, 'learning_rate': 0.04253034133608774, 'boosting_type': 'gbdt'}. Best is trial 128 with value: 0.2816323034948219.\u001b[0m\n",
      "\u001b[32m[I 2022-05-11 15:20:55,910]\u001b[0m Trial 198 finished with value: 0.24858876455614784 and parameters: {'subsample_freq': 0, 'n_estimators': 110, 'reg_alpha': 1.9541660455815683e-19, 'reg_lambda': 1.7994421886338186e-10, 'colsample_bytree': 0.5588572926098402, 'subsample': 0.13243385016631423, 'min_child_samples': 51, 'max_depth': 10, 'learning_rate': 0.03860985401075584, 'boosting_type': 'gbdt'}. Best is trial 128 with value: 0.2816323034948219.\u001b[0m\n",
      "\u001b[32m[I 2022-05-11 15:20:56,459]\u001b[0m Trial 196 finished with value: 0.27911121205238854 and parameters: {'subsample_freq': 0, 'n_estimators': 114, 'reg_alpha': 0.07231614230381751, 'reg_lambda': 1.8838986092054656e-09, 'colsample_bytree': 0.5415994403563124, 'subsample': 0.1137606053133674, 'min_child_samples': 50, 'max_depth': 15, 'learning_rate': 0.03872905534649021, 'boosting_type': 'gbdt'}. Best is trial 128 with value: 0.2816323034948219.\u001b[0m\n",
      "\u001b[32m[I 2022-05-11 15:20:56,900]\u001b[0m Trial 188 finished with value: 0.2674525584973346 and parameters: {'subsample_freq': 0, 'n_estimators': 124, 'reg_alpha': 2.1729059457808576e-20, 'reg_lambda': 1.8351845311349162e-09, 'colsample_bytree': 0.5401080901440648, 'subsample': 0.10445567861505395, 'min_child_samples': 42, 'max_depth': 18, 'learning_rate': 0.043323053681411886, 'boosting_type': 'gbdt'}. Best is trial 128 with value: 0.2816323034948219.\u001b[0m\n",
      "\u001b[32m[I 2022-05-11 15:20:58,474]\u001b[0m Trial 199 finished with value: 0.22972308591302623 and parameters: {'subsample_freq': 0, 'n_estimators': 104, 'reg_alpha': 1.5021908815433592e-19, 'reg_lambda': 0.024126287549445236, 'colsample_bytree': 0.5408894680371217, 'subsample': 0.7522698833450359, 'min_child_samples': 50, 'max_depth': 15, 'learning_rate': 0.021744499407226295, 'boosting_type': 'gbdt'}. Best is trial 128 with value: 0.2816323034948219.\u001b[0m\n",
      "\u001b[32m[I 2022-05-11 15:21:00,325]\u001b[0m Trial 191 finished with value: 0.2656699889258029 and parameters: {'subsample_freq': 0, 'n_estimators': 183, 'reg_alpha': 0.079115355133413, 'reg_lambda': 2.6988553621794813e-10, 'colsample_bytree': 0.5278452477753941, 'subsample': 0.09647820037460053, 'min_child_samples': 51, 'max_depth': 18, 'learning_rate': 0.03958885154921968, 'boosting_type': 'gbdt'}. Best is trial 128 with value: 0.2816323034948219.\u001b[0m\n"
     ]
    },
    {
     "name": "stdout",
     "output_type": "stream",
     "text": [
      "FrozenTrial(number=128, values=[0.2816323034948219], datetime_start=datetime.datetime(2022, 5, 11, 15, 15, 23, 452311), datetime_complete=datetime.datetime(2022, 5, 11, 15, 15, 59, 413014), params={'subsample_freq': 0, 'n_estimators': 114, 'reg_alpha': 0.015868560983727742, 'reg_lambda': 5.464446011087016e-08, 'colsample_bytree': 0.5865195742947396, 'subsample': 0.18317392695047902, 'min_child_samples': 51, 'max_depth': 20, 'learning_rate': 0.04588590354697835, 'boosting_type': 'gbdt'}, distributions={'subsample_freq': IntUniformDistribution(high=0, low=0, step=1), 'n_estimators': IntUniformDistribution(high=300, low=50, step=1), 'reg_alpha': LogUniformDistribution(high=2.0, low=1e-20), 'reg_lambda': LogUniformDistribution(high=2.0, low=1e-20), 'colsample_bytree': UniformDistribution(high=1.0, low=0.01), 'subsample': UniformDistribution(high=1.0, low=0.01), 'min_child_samples': IntUniformDistribution(high=100, low=5, step=1), 'max_depth': IntUniformDistribution(high=20, low=3, step=1), 'learning_rate': UniformDistribution(high=0.3, low=0.001), 'boosting_type': CategoricalDistribution(choices=('gbdt',))}, user_attrs={}, system_attrs={}, intermediate_values={}, trial_id=128, state=TrialState.COMPLETE, value=None)\n"
     ]
    }
   ],
   "source": [
    "study = optuna.create_study(direction=\"maximize\")\n",
    "# study.enqueue_trial(best_params)\n",
    "study.optimize(objective, n_trials=200, n_jobs=10)\n",
    "print(study.best_trial)"
   ]
  },
  {
   "cell_type": "code",
   "execution_count": 65,
   "metadata": {},
   "outputs": [],
   "source": [
    "best_params = objective.add_params(study.best_params)"
   ]
  },
  {
   "cell_type": "code",
   "execution_count": 74,
   "metadata": {},
   "outputs": [
    {
     "name": "stdout",
     "output_type": "stream",
     "text": [
      "Best model test f1 score is 0.371\n"
     ]
    }
   ],
   "source": [
    "# adasyn = ADASYN(sampling_strategy=1,\n",
    "#                n_neighbors=2)\n",
    "# smote = SMOTEN(k_neighbors=5)\n",
    "final_model = lightgbm.LGBMClassifier(**best_params)\n",
    "best_params['subsample_freq'] = 0\n",
    "final_model.fit(train_fp_pubchem, y_train)\n",
    "test_predictions = final_model.predict(test_fp_pubchem)\n",
    "score = f1_score(y_test, test_predictions)\n",
    "print(f\"Best model test f1 score is {round(score, 3)}\")"
   ]
  },
  {
   "cell_type": "code",
   "execution_count": 68,
   "metadata": {},
   "outputs": [],
   "source": [
    "with open(\"./best_params_pubchem.json\",'w') as f:\n",
    "    json.dump(best_params, f)"
   ]
  },
  {
   "cell_type": "markdown",
   "metadata": {},
   "source": [
    "## Таблица результатов"
   ]
  },
  {
   "cell_type": "code",
   "execution_count": 69,
   "metadata": {},
   "outputs": [],
   "source": [
    "with open(\"best_params_maccs_2.json\",'r') as f:\n",
    "    best_params_maccs = json.load(f)\n",
    "with open(\"best_params_pubchem.json\",'r') as f:\n",
    "    best_params_pubchem = json.load(f)"
   ]
  },
  {
   "cell_type": "code",
   "execution_count": 75,
   "metadata": {},
   "outputs": [],
   "source": [
    "from sklearn.model_selection import cross_val_score"
   ]
  },
  {
   "cell_type": "code",
   "execution_count": 80,
   "metadata": {},
   "outputs": [
    {
     "data": {
      "text/plain": [
       "{'subsample_freq': 0,\n",
       " 'n_estimators': 222,\n",
       " 'reg_alpha': 0.010136808578101649,\n",
       " 'reg_lambda': 0.0038821761773882787,\n",
       " 'colsample_bytree': 0.9384661847570124,\n",
       " 'subsample': 0.3790813020841549,\n",
       " 'min_child_samples': 69,\n",
       " 'max_depth': 13,\n",
       " 'learning_rate': 0.038987514479036006,\n",
       " 'boosting_type': 'gbdt',\n",
       " 'verbosity': -1,\n",
       " 'n_jobs': 2,\n",
       " 'device': 'gpu',\n",
       " 'num_leaves': 8192,\n",
       " 'scale_pos_weight': 27}"
      ]
     },
     "execution_count": 80,
     "metadata": {},
     "output_type": "execute_result"
    }
   ],
   "source": [
    "best_params_maccs"
   ]
  },
  {
   "cell_type": "code",
   "execution_count": 86,
   "metadata": {},
   "outputs": [],
   "source": [
    "from pprint import pprint\n",
    "def print_report(params, fingerprint_name, mean_score, test_score):\n",
    "    print(f\"LGBM на {fingerprint_name} фингерпринтах\")\n",
    "    print(\"С параметрами: \")\n",
    "    pprint(params)\n",
    "    model = lightgbm.LGBMClassifier(**best_params)\n",
    "    print(f\"mean CV score: {mean_score}\")\n",
    "    print(f\"Test f1 score is {round(test_score, 3)}\")"
   ]
  },
  {
   "cell_type": "code",
   "execution_count": 87,
   "metadata": {},
   "outputs": [
    {
     "name": "stdout",
     "output_type": "stream",
     "text": [
      "LGBM на MACCS фингерпринтах\n",
      "С параметрами: \n",
      "{'boosting_type': 'gbdt',\n",
      " 'colsample_bytree': 0.9384661847570124,\n",
      " 'device': 'gpu',\n",
      " 'learning_rate': 0.038987514479036006,\n",
      " 'max_depth': 13,\n",
      " 'min_child_samples': 69,\n",
      " 'n_estimators': 222,\n",
      " 'n_jobs': 2,\n",
      " 'num_leaves': 8192,\n",
      " 'reg_alpha': 0.010136808578101649,\n",
      " 'reg_lambda': 0.0038821761773882787,\n",
      " 'scale_pos_weight': 27,\n",
      " 'subsample': 0.3790813020841549,\n",
      " 'subsample_freq': 0,\n",
      " 'verbosity': -1}\n",
      "mean CV score: 0.265\n",
      "Test f1 score is 0.439\n",
      "\n",
      "LGBM на PUBCHEM фингерпринтах\n",
      "С параметрами: \n",
      "{'boosting_type': 'gbdt',\n",
      " 'colsample_bytree': 0.5865195742947396,\n",
      " 'device': 'gpu',\n",
      " 'learning_rate': 0.04588590354697835,\n",
      " 'max_depth': 20,\n",
      " 'min_child_samples': 51,\n",
      " 'n_estimators': 114,\n",
      " 'n_jobs': 2,\n",
      " 'num_leaves': 65536,\n",
      " 'reg_alpha': 0.015868560983727742,\n",
      " 'reg_lambda': 5.464446011087016e-08,\n",
      " 'scale_pos_weight': 27,\n",
      " 'subsample': 0.18317392695047902,\n",
      " 'subsample_freq': 0,\n",
      " 'verbosity': -1}\n",
      "mean CV score: 0.282\n",
      "Test f1 score is 0.371\n"
     ]
    }
   ],
   "source": [
    "print_report(best_params_maccs, \"MACCS\", 0.265, 0.439)\n",
    "print()\n",
    "print_report(best_params_pubchem, \"PUBCHEM\", 0.282, 0.371)"
   ]
  },
  {
   "cell_type": "code",
   "execution_count": null,
   "metadata": {},
   "outputs": [],
   "source": []
  }
 ],
 "metadata": {
  "colab": {
   "collapsed_sections": [],
   "include_colab_link": true,
   "name": "IB_Practice_COVID.ipynb",
   "provenance": []
  },
  "kernelspec": {
   "display_name": "ml",
   "language": "python",
   "name": "ml"
  },
  "language_info": {
   "codemirror_mode": {
    "name": "ipython",
    "version": 3
   },
   "file_extension": ".py",
   "mimetype": "text/x-python",
   "name": "python",
   "nbconvert_exporter": "python",
   "pygments_lexer": "ipython3",
   "version": "3.7.11"
  },
  "nav_menu": {
   "height": "279px",
   "width": "309px"
  },
  "toc": {
   "nav_menu": {},
   "number_sections": true,
   "sideBar": true,
   "skip_h1_title": false,
   "toc_cell": false,
   "toc_position": {},
   "toc_section_display": "block",
   "toc_window_display": false
  }
 },
 "nbformat": 4,
 "nbformat_minor": 4
}
