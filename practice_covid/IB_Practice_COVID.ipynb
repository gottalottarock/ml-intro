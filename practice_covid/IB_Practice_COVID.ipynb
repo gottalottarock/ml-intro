{
 "cells": [
  {
   "cell_type": "markdown",
   "metadata": {
    "colab_type": "text",
    "id": "view-in-github"
   },
   "source": [
    "<a href=\"https://colab.research.google.com/github/gottalottarock/ml-intro/blob/main/practice_covid/IB_Practice_COVID.ipynb\" target=\"_parent\"><img src=\"https://colab.research.google.com/assets/colab-badge.svg\" alt=\"Open In Colab\"/></a>"
   ]
  },
  {
   "cell_type": "markdown",
   "metadata": {
    "id": "BfLjxv-h7nVh"
   },
   "source": [
    "# Предсказание активности молекул по отношению к таргету\n",
    "\n",
    "*При подготовке ноутбука использовались данные из соревнования [Global AI Challenge](https://codenrock.com/contests/global-ai#/)* "
   ]
  },
  {
   "cell_type": "markdown",
   "metadata": {
    "id": "4Mesk6L-WEOS"
   },
   "source": [
    "Целью данной задачи является предсказание активности молекулы лиганда по отношению к таргету - Covid 19"
   ]
  },
  {
   "cell_type": "markdown",
   "metadata": {
    "id": "VGti6b5XvgZP"
   },
   "source": [
    "![](https://cloudfront.jove.com/files/media/science-education/science-education-thumbs/11513.jpg)"
   ]
  },
  {
   "cell_type": "markdown",
   "metadata": {
    "id": "hjme9vCGPeoR"
   },
   "source": [
    "## План анализа данных:\n",
    "\n",
    "  1. Загрузить данные для обучения\n",
    "  2. Обработать данные перед обучением модели\n",
    "  3. Обучить модель на обучающей выборке\n",
    "  4. Загрузить и предобработать данные для тестирования\n",
    "  5. Провалидировать модель на тестовой выборке\n"
   ]
  },
  {
   "cell_type": "markdown",
   "metadata": {
    "id": "yLs9g1vq7nVl"
   },
   "source": [
    "# 0. Установка и импорт библиотек"
   ]
  },
  {
   "cell_type": "code",
   "execution_count": 1,
   "metadata": {
    "id": "qR-1lYPb7nVm"
   },
   "outputs": [],
   "source": [
    "# Python ≥3.5 is required\n",
    "import sys\n",
    "assert sys.version_info >= (3, 5)\n",
    "\n",
    "# Scikit-Learn ≥0.20 is required\n",
    "import sklearn\n",
    "assert sklearn.__version__ >= \"0.20\"\n",
    "\n",
    "# Common imports\n",
    "import numpy as np\n",
    "import os\n",
    "\n",
    "# To plot pretty figures\n",
    "%matplotlib inline\n",
    "import matplotlib as mpl\n",
    "import matplotlib.pyplot as plt\n",
    "mpl.rc('axes', labelsize=14)\n",
    "mpl.rc('xtick', labelsize=12)\n",
    "mpl.rc('ytick', labelsize=12)\n",
    "\n",
    "# Where to save the figures\n",
    "PROJECT_ROOT_DIR = \".\"\n",
    "CHAPTER_ID = \"end_to_end_project\"\n",
    "IMAGES_PATH = os.path.join(PROJECT_ROOT_DIR, \"images\", CHAPTER_ID)\n",
    "os.makedirs(IMAGES_PATH, exist_ok=True)\n",
    "\n",
    "def save_fig(fig_id, tight_layout=True, fig_extension=\"png\", resolution=300):\n",
    "    path = os.path.join(IMAGES_PATH, fig_id + \".\" + fig_extension)\n",
    "    print(\"Saving figure\", fig_id)\n",
    "    if tight_layout:\n",
    "        plt.tight_layout()\n",
    "    plt.savefig(path, format=fig_extension, dpi=resolution)"
   ]
  },
  {
   "cell_type": "markdown",
   "metadata": {
    "id": "mkKx4rBe7nVn"
   },
   "source": [
    "# 1. Загрузка данных"
   ]
  },
  {
   "cell_type": "code",
   "execution_count": 2,
   "metadata": {
    "colab": {
     "base_uri": "https://localhost:8080/"
    },
    "id": "iu4_4vH5U-b_",
    "outputId": "9d69e5f6-10bc-4154-edf5-43e7d7cc921e"
   },
   "outputs": [
    {
     "name": "stdout",
     "output_type": "stream",
     "text": [
      "--2022-03-30 16:52:29--  https://www.dropbox.com/s/48c34raijlxc0nw/train.csv\n",
      "Resolving www.dropbox.com (www.dropbox.com)... 162.125.4.18, 2620:100:601c:18::a27d:612\n",
      "Connecting to www.dropbox.com (www.dropbox.com)|162.125.4.18|:443... connected.\n",
      "HTTP request sent, awaiting response... 301 Moved Permanently\n",
      "Location: /s/raw/48c34raijlxc0nw/train.csv [following]\n",
      "--2022-03-30 16:52:29--  https://www.dropbox.com/s/raw/48c34raijlxc0nw/train.csv\n",
      "Reusing existing connection to www.dropbox.com:443.\n",
      "HTTP request sent, awaiting response... 302 Found\n",
      "Location: https://ucf0baa4b08dc891579dc6f163b2.dl.dropboxusercontent.com/cd/0/inline/BifKkgartxowjgLoxb5lz2ra3efTKsw8dCFBcfKqYacm-8Y8qtNqtYFZVq0l8uk257_C6oYAxVKU79SnaLwS3pEYsgf1nHOLoL3U4HfEL1fwhb572539M1M7_YPqFLvOSYs3ldJNPnYq6ZnDXl97IsNWf4Nk-zbnbCxHL4A6R-wtIw/file# [following]\n",
      "--2022-03-30 16:52:30--  https://ucf0baa4b08dc891579dc6f163b2.dl.dropboxusercontent.com/cd/0/inline/BifKkgartxowjgLoxb5lz2ra3efTKsw8dCFBcfKqYacm-8Y8qtNqtYFZVq0l8uk257_C6oYAxVKU79SnaLwS3pEYsgf1nHOLoL3U4HfEL1fwhb572539M1M7_YPqFLvOSYs3ldJNPnYq6ZnDXl97IsNWf4Nk-zbnbCxHL4A6R-wtIw/file\n",
      "Resolving ucf0baa4b08dc891579dc6f163b2.dl.dropboxusercontent.com (ucf0baa4b08dc891579dc6f163b2.dl.dropboxusercontent.com)... 162.125.4.15, 2620:100:601b:15::a27d:80f\n",
      "Connecting to ucf0baa4b08dc891579dc6f163b2.dl.dropboxusercontent.com (ucf0baa4b08dc891579dc6f163b2.dl.dropboxusercontent.com)|162.125.4.15|:443... connected.\n",
      "HTTP request sent, awaiting response... 200 OK\n",
      "Length: 347946 (340K) [text/plain]\n",
      "Saving to: ‘train.csv.5’\n",
      "\n",
      "train.csv.5         100%[===================>] 339.79K  --.-KB/s    in 0.03s   \n",
      "\n",
      "2022-03-30 16:52:30 (11.4 MB/s) - ‘train.csv.5’ saved [347946/347946]\n",
      "\n",
      "--2022-03-30 16:52:30--  https://www.dropbox.com/s/297trreazro8ivr/test_labels.csv\n",
      "Resolving www.dropbox.com (www.dropbox.com)... 162.125.4.18, 2620:100:601c:18::a27d:612\n",
      "Connecting to www.dropbox.com (www.dropbox.com)|162.125.4.18|:443... connected.\n",
      "HTTP request sent, awaiting response... 301 Moved Permanently\n",
      "Location: /s/raw/297trreazro8ivr/test_labels.csv [following]\n",
      "--2022-03-30 16:52:30--  https://www.dropbox.com/s/raw/297trreazro8ivr/test_labels.csv\n",
      "Reusing existing connection to www.dropbox.com:443.\n",
      "HTTP request sent, awaiting response... 302 Found\n",
      "Location: https://uc5f0e1c13271472ceaf55985866.dl.dropboxusercontent.com/cd/0/inline/Bid91fQ_ocm9rdLodnPBz54KMD0m_Ltzc3bBgPCSiW66zLYSRt97cZt7XwhtcJWKWOYejA9iLkSloFQT8s6KG4Den8rHQMu0AR7Lox8PMJ4YqWMeISXyU6CiQthE1el7xGy4d6AdctHXZCAo5gM3tL3Ajcsr_jzI4N45m47uzglCug/file# [following]\n",
      "--2022-03-30 16:52:30--  https://uc5f0e1c13271472ceaf55985866.dl.dropboxusercontent.com/cd/0/inline/Bid91fQ_ocm9rdLodnPBz54KMD0m_Ltzc3bBgPCSiW66zLYSRt97cZt7XwhtcJWKWOYejA9iLkSloFQT8s6KG4Den8rHQMu0AR7Lox8PMJ4YqWMeISXyU6CiQthE1el7xGy4d6AdctHXZCAo5gM3tL3Ajcsr_jzI4N45m47uzglCug/file\n",
      "Resolving uc5f0e1c13271472ceaf55985866.dl.dropboxusercontent.com (uc5f0e1c13271472ceaf55985866.dl.dropboxusercontent.com)... 162.125.4.15, 2620:100:601b:15::a27d:80f\n",
      "Connecting to uc5f0e1c13271472ceaf55985866.dl.dropboxusercontent.com (uc5f0e1c13271472ceaf55985866.dl.dropboxusercontent.com)|162.125.4.15|:443... connected.\n",
      "HTTP request sent, awaiting response... 200 OK\n",
      "Length: 102252 (100K) [text/plain]\n",
      "Saving to: ‘test_labels.csv.5’\n",
      "\n",
      "test_labels.csv.5   100%[===================>]  99.86K  --.-KB/s    in 0.02s   \n",
      "\n",
      "2022-03-30 16:52:31 (5.47 MB/s) - ‘test_labels.csv.5’ saved [102252/102252]\n",
      "\n"
     ]
    }
   ],
   "source": [
    "!wget https://www.dropbox.com/s/48c34raijlxc0nw/train.csv\n",
    "!wget https://www.dropbox.com/s/297trreazro8ivr/test_labels.csv"
   ]
  },
  {
   "cell_type": "code",
   "execution_count": 3,
   "metadata": {
    "id": "2Vb2iXqFVlIv"
   },
   "outputs": [],
   "source": [
    "DATA_PATH = \"./\"\n",
    "TRAIN_FILE = \"train.csv\"\n",
    "TEST_FILE = \"test_labels.csv\"\n",
    "\n",
    "SMILES_COLUMN = \"smiles\"\n",
    "TARGET_COLUMN = \"Active\""
   ]
  },
  {
   "cell_type": "code",
   "execution_count": 4,
   "metadata": {
    "id": "Wo7p7rlh7nVp"
   },
   "outputs": [],
   "source": [
    "import pandas as pd\n",
    "\n",
    "def load_train_test_data():\n",
    "    train_csv_path = os.path.join(DATA_PATH, TRAIN_FILE)\n",
    "    test_csv_path = os.path.join(DATA_PATH, TEST_FILE)\n",
    "    train_data = pd.read_csv(train_csv_path, index_col = 0)\n",
    "    test_data = pd.read_csv(test_csv_path,index_col = 0)\n",
    "    return train_data.rename(columns = {\"Smiles\":SMILES_COLUMN}), test_data.rename(columns = {\"Smiles\":SMILES_COLUMN})"
   ]
  },
  {
   "cell_type": "markdown",
   "metadata": {
    "id": "d5FULuFD7nVq"
   },
   "source": [
    "## 1.1 Анализ данных, формулировка задачи машинного обучения"
   ]
  },
  {
   "cell_type": "markdown",
   "metadata": {
    "id": "rR7a3bjKYXMg"
   },
   "source": [
    "Молекулы представлены в виде [SMILES нотации](https://en.wikipedia.org/wiki/Simplified_molecular-input_line-entry_system).\n",
    "\n",
    "![](https://upload.wikimedia.org/wikipedia/commons/thumb/0/00/SMILES.png/450px-SMILES.png)"
   ]
  },
  {
   "cell_type": "code",
   "execution_count": 5,
   "metadata": {
    "colab": {
     "base_uri": "https://localhost:8080/",
     "height": 206
    },
    "id": "SFPTy2uU7nVq",
    "outputId": "6ec69e06-7f32-40ed-a0b6-d8d2c1c11a3e"
   },
   "outputs": [
    {
     "data": {
      "text/html": [
       "<div>\n",
       "<style scoped>\n",
       "    .dataframe tbody tr th:only-of-type {\n",
       "        vertical-align: middle;\n",
       "    }\n",
       "\n",
       "    .dataframe tbody tr th {\n",
       "        vertical-align: top;\n",
       "    }\n",
       "\n",
       "    .dataframe thead th {\n",
       "        text-align: right;\n",
       "    }\n",
       "</style>\n",
       "<table border=\"1\" class=\"dataframe\">\n",
       "  <thead>\n",
       "    <tr style=\"text-align: right;\">\n",
       "      <th></th>\n",
       "      <th>smiles</th>\n",
       "      <th>Active</th>\n",
       "    </tr>\n",
       "  </thead>\n",
       "  <tbody>\n",
       "    <tr>\n",
       "      <th>0</th>\n",
       "      <td>COc1ccc2[nH]cc(CCN)c2c1</td>\n",
       "      <td>False</td>\n",
       "    </tr>\n",
       "    <tr>\n",
       "      <th>1</th>\n",
       "      <td>CCCN1CCC[C@H](c2cccc(O)c2)C1.Cl</td>\n",
       "      <td>False</td>\n",
       "    </tr>\n",
       "    <tr>\n",
       "      <th>2</th>\n",
       "      <td>O=C(NO)c1cnc(N2CCN(S(=O)(=O)c3ccc4ccccc4c3)CC2...</td>\n",
       "      <td>False</td>\n",
       "    </tr>\n",
       "    <tr>\n",
       "      <th>3</th>\n",
       "      <td>Nc1cccc(CNC(=O)c2ccc(Oc3ccc(OCc4cccc(F)c4)cc3)...</td>\n",
       "      <td>False</td>\n",
       "    </tr>\n",
       "    <tr>\n",
       "      <th>4</th>\n",
       "      <td>Fc1ccccc1CNCc1ccc(-c2ccnc3[nH]ccc23)cc1</td>\n",
       "      <td>False</td>\n",
       "    </tr>\n",
       "  </tbody>\n",
       "</table>\n",
       "</div>"
      ],
      "text/plain": [
       "                                              smiles  Active\n",
       "0                            COc1ccc2[nH]cc(CCN)c2c1   False\n",
       "1                    CCCN1CCC[C@H](c2cccc(O)c2)C1.Cl   False\n",
       "2  O=C(NO)c1cnc(N2CCN(S(=O)(=O)c3ccc4ccccc4c3)CC2...   False\n",
       "3  Nc1cccc(CNC(=O)c2ccc(Oc3ccc(OCc4cccc(F)c4)cc3)...   False\n",
       "4            Fc1ccccc1CNCc1ccc(-c2ccnc3[nH]ccc23)cc1   False"
      ]
     },
     "execution_count": 5,
     "metadata": {},
     "output_type": "execute_result"
    }
   ],
   "source": [
    "train_data, test_data = load_train_test_data()\n",
    "train_data.head()"
   ]
  },
  {
   "cell_type": "code",
   "execution_count": 6,
   "metadata": {
    "colab": {
     "base_uri": "https://localhost:8080/"
    },
    "id": "0LgIX7sO7nVr",
    "outputId": "5905d7a1-d3ee-434a-ac03-795740a0bf42"
   },
   "outputs": [
    {
     "name": "stdout",
     "output_type": "stream",
     "text": [
      "<class 'pandas.core.frame.DataFrame'>\n",
      "Int64Index: 5557 entries, 0 to 5556\n",
      "Data columns (total 2 columns):\n",
      " #   Column  Non-Null Count  Dtype \n",
      "---  ------  --------------  ----- \n",
      " 0   smiles  5557 non-null   object\n",
      " 1   Active  5557 non-null   bool  \n",
      "dtypes: bool(1), object(1)\n",
      "memory usage: 92.3+ KB\n"
     ]
    }
   ],
   "source": [
    "train_data.info()"
   ]
  },
  {
   "cell_type": "code",
   "execution_count": 7,
   "metadata": {
    "colab": {
     "base_uri": "https://localhost:8080/"
    },
    "id": "E4y37kGY7nVr",
    "outputId": "080cd940-2716-4cb8-e99f-bd610ac0cfda"
   },
   "outputs": [
    {
     "data": {
      "text/plain": [
       "False    5351\n",
       "True      206\n",
       "Name: Active, dtype: int64"
      ]
     },
     "execution_count": 7,
     "metadata": {},
     "output_type": "execute_result"
    }
   ],
   "source": [
    "train_data[TARGET_COLUMN].value_counts()"
   ]
  },
  {
   "cell_type": "markdown",
   "metadata": {
    "id": "dGqDoviDYJT7"
   },
   "source": [
    "## 1.2 Предобработка данных"
   ]
  },
  {
   "cell_type": "code",
   "execution_count": 8,
   "metadata": {
    "id": "f92T0U7FY2RJ"
   },
   "outputs": [],
   "source": [
    "from rdkit import Chem\n",
    "from rdkit.Chem.SaltRemover import SaltRemover"
   ]
  },
  {
   "cell_type": "code",
   "execution_count": 9,
   "metadata": {
    "id": "fftxIeZvYN9D"
   },
   "outputs": [],
   "source": [
    "def remove_salts_and_canonicalized(smiles: str):\n",
    "    remover = SaltRemover(defnData=\"[Cl,Br]\")\n",
    "    mol = Chem.MolFromSmiles(smiles)\n",
    "    res = remover.StripMol(mol)\n",
    "    processed_smiles = Chem.MolToSmiles(res)\n",
    "    return processed_smiles"
   ]
  },
  {
   "cell_type": "code",
   "execution_count": 10,
   "metadata": {
    "id": "JPxDUTZ3bX50"
   },
   "outputs": [],
   "source": [
    "train_data[SMILES_COLUMN] = list(map(remove_salts_and_canonicalized, train_data[SMILES_COLUMN]))\n",
    "test_data[SMILES_COLUMN] = list(map(remove_salts_and_canonicalized, test_data[SMILES_COLUMN]))"
   ]
  },
  {
   "cell_type": "code",
   "execution_count": 11,
   "metadata": {
    "id": "OalSNSQJbnRy"
   },
   "outputs": [],
   "source": [
    "def change_str_target_to_int(targets: pd.Series):\n",
    "    target_map = {True: 1, False: 0}\n",
    "    processed_targets = targets.map(target_map)\n",
    "    return processed_targets.values"
   ]
  },
  {
   "cell_type": "code",
   "execution_count": 12,
   "metadata": {
    "id": "TV2SVaBvbyCJ"
   },
   "outputs": [],
   "source": [
    "train_data[TARGET_COLUMN] = change_str_target_to_int(train_data[TARGET_COLUMN])\n",
    "test_data[TARGET_COLUMN] = change_str_target_to_int(test_data[TARGET_COLUMN])"
   ]
  },
  {
   "cell_type": "code",
   "execution_count": 13,
   "metadata": {
    "colab": {
     "base_uri": "https://localhost:8080/",
     "height": 206
    },
    "id": "qYUE5SVJb74V",
    "outputId": "c8ff7681-404b-40e5-ea9c-0832133f10d1"
   },
   "outputs": [
    {
     "data": {
      "text/html": [
       "<div>\n",
       "<style scoped>\n",
       "    .dataframe tbody tr th:only-of-type {\n",
       "        vertical-align: middle;\n",
       "    }\n",
       "\n",
       "    .dataframe tbody tr th {\n",
       "        vertical-align: top;\n",
       "    }\n",
       "\n",
       "    .dataframe thead th {\n",
       "        text-align: right;\n",
       "    }\n",
       "</style>\n",
       "<table border=\"1\" class=\"dataframe\">\n",
       "  <thead>\n",
       "    <tr style=\"text-align: right;\">\n",
       "      <th></th>\n",
       "      <th>smiles</th>\n",
       "      <th>Active</th>\n",
       "    </tr>\n",
       "  </thead>\n",
       "  <tbody>\n",
       "    <tr>\n",
       "      <th>0</th>\n",
       "      <td>COc1ccc2[nH]cc(CCN)c2c1</td>\n",
       "      <td>0</td>\n",
       "    </tr>\n",
       "    <tr>\n",
       "      <th>1</th>\n",
       "      <td>CCCN1CCC[C@H](c2cccc(O)c2)C1</td>\n",
       "      <td>0</td>\n",
       "    </tr>\n",
       "    <tr>\n",
       "      <th>2</th>\n",
       "      <td>O=C(NO)c1cnc(N2CCN(S(=O)(=O)c3ccc4ccccc4c3)CC2...</td>\n",
       "      <td>0</td>\n",
       "    </tr>\n",
       "    <tr>\n",
       "      <th>3</th>\n",
       "      <td>Nc1cccc(CNC(=O)c2ccc(Oc3ccc(OCc4cccc(F)c4)cc3)...</td>\n",
       "      <td>0</td>\n",
       "    </tr>\n",
       "    <tr>\n",
       "      <th>4</th>\n",
       "      <td>Fc1ccccc1CNCc1ccc(-c2ccnc3[nH]ccc23)cc1</td>\n",
       "      <td>0</td>\n",
       "    </tr>\n",
       "  </tbody>\n",
       "</table>\n",
       "</div>"
      ],
      "text/plain": [
       "                                              smiles  Active\n",
       "0                            COc1ccc2[nH]cc(CCN)c2c1       0\n",
       "1                       CCCN1CCC[C@H](c2cccc(O)c2)C1       0\n",
       "2  O=C(NO)c1cnc(N2CCN(S(=O)(=O)c3ccc4ccccc4c3)CC2...       0\n",
       "3  Nc1cccc(CNC(=O)c2ccc(Oc3ccc(OCc4cccc(F)c4)cc3)...       0\n",
       "4            Fc1ccccc1CNCc1ccc(-c2ccnc3[nH]ccc23)cc1       0"
      ]
     },
     "execution_count": 13,
     "metadata": {},
     "output_type": "execute_result"
    }
   ],
   "source": [
    "train_data.head()"
   ]
  },
  {
   "cell_type": "markdown",
   "metadata": {
    "id": "VA5cvAMB7nV0"
   },
   "source": [
    "## 1.3 Feature engineering"
   ]
  },
  {
   "cell_type": "markdown",
   "metadata": {
    "id": "eapoisincy5y"
   },
   "source": [
    "Молекулу можно представить в виде фингерпринта - вектора свойств, полученного по определенному алгоритму.\n",
    "\n",
    "Мы будем считать фингерпринты при помощи библиотеки RDKit. Про различные фингерпринты и их описание можно почитать тут - https://www.rdkit.org/docs/GettingStartedInPython.html#fingerprinting-and-molecular-similarity\n",
    "\n",
    "![](https://sun9-64.userapi.com/impf/_8Zy5WO6Mt0SIPx1YS02DeErAoZ0RHcwgc-kZg/Md98bNVzBg0.jpg?size=831x415&quality=96&sign=cb20481128a04ff523fd662dd0e604ab&type=album)\n"
   ]
  },
  {
   "cell_type": "markdown",
   "metadata": {
    "id": "JGRmKT4GfZhO"
   },
   "source": [
    "### Моргановские фингерпринты (ECFP)\n",
    "\n",
    "![](https://d3i71xaburhd42.cloudfront.net/52adf3589e8b7b9855353e5815669258ef6e3405/6-Figure2-1.png)"
   ]
  },
  {
   "cell_type": "code",
   "execution_count": 14,
   "metadata": {
    "id": "s_dhJG0hcjar"
   },
   "outputs": [],
   "source": [
    "from enum import Enum\n",
    "from functools import partial\n",
    "from rdkit import Chem, DataStructs\n",
    "from rdkit.DataStructs import ExplicitBitVect\n",
    "from rdkit.Chem import AllChem, MACCSkeys\n",
    "from typing import List"
   ]
  },
  {
   "cell_type": "code",
   "execution_count": 30,
   "metadata": {
    "id": "fDAw132ncV1z"
   },
   "outputs": [],
   "source": [
    "class FingerprintsNames(Enum):\n",
    "    ECFP4 = \"morgan_2_2048\"\n",
    "    RDKitFP = \"RDKFingerprint\"\n",
    "    TOPOTORSION = \"topological_torsion\"\n",
    "    MACCS = \"MACCSkeys\"\n",
    "    PATTERN = \"PatternFingerprint\"\n",
    "    ATOMPAIR = \"AtomPairFingerprint\"\n",
    "\n",
    "\n",
    "\n",
    "FINGERPRINTS_METHODS = {\n",
    "    FingerprintsNames.ECFP4: partial(AllChem.GetMorganFingerprintAsBitVect, radius=2, nBits=2048),\n",
    "    FingerprintsNames.RDKitFP: partial(Chem.RDKFingerprint, fpSize=2048),#TODO\n",
    "    FingerprintsNames.TOPOTORSION: partial(AllChem.GetHashedTopologicalTorsionFingerprintAsBitVect, nBits=2048),#TODO\n",
    "    FingerprintsNames.MACCS: MACCSkeys.GenMACCSKeys,#TODO\n",
    "    FingerprintsNames.PATTERN: partial(Chem.PatternFingerprint,fpSize=1024),#TODO\n",
    "    FingerprintsNames.ATOMPAIR: partial(AllChem.GetHashedAtomPairFingerprintAsBitVect,nBits=2048)}#TODO\n"
   ]
  },
  {
   "cell_type": "code",
   "execution_count": 46,
   "metadata": {
    "id": "JenRUlnqftff"
   },
   "outputs": [],
   "source": [
    "fingerprint_type_name = FingerprintsNames.MACCS\n",
    "fingerprint_type_method = FINGERPRINTS_METHODS[fingerprint_type_name]"
   ]
  },
  {
   "cell_type": "code",
   "execution_count": 47,
   "metadata": {
    "colab": {
     "base_uri": "https://localhost:8080/",
     "height": 237
    },
    "id": "gq0LMqS_f3IS",
    "outputId": "b6e65237-b78c-4d00-906a-c2081b2951f9"
   },
   "outputs": [],
   "source": [
    "def bit_vectors_to_numpy_arrays(fps: List[ExplicitBitVect]) -> np.array:\n",
    "    output_arrays = [np.zeros((1,)) for i in range(len(fps))]\n",
    "    _ = list(\n",
    "        map(lambda fp_output_array: DataStructs.ConvertToNumpyArray(fp_output_array[0], fp_output_array[1]),\n",
    "            zip(fps, output_arrays)))\n",
    "    return np.asarray(output_arrays)\n",
    "\n",
    "def get_np_array_of_fps(fp_type, smiles: List[str]):\n",
    "    # Calculate the morgan fingerprint\n",
    "    mols = [Chem.MolFromSmiles(m) for m in smiles]\n",
    "    fp = list(map(fp_type, mols))\n",
    "    return bit_vectors_to_numpy_arrays(fp)"
   ]
  },
  {
   "cell_type": "code",
   "execution_count": 48,
   "metadata": {
    "id": "51QDqlK9gIPL"
   },
   "outputs": [],
   "source": [
    "train_fp = get_np_array_of_fps(fp_type=fingerprint_type_method, smiles=train_data[SMILES_COLUMN])\n",
    "test_fp = get_np_array_of_fps(fp_type=fingerprint_type_method, smiles=test_data[SMILES_COLUMN])"
   ]
  },
  {
   "cell_type": "code",
   "execution_count": 23,
   "metadata": {
    "id": "UazJXd7ihDaN"
   },
   "outputs": [],
   "source": [
    "y_train = train_data[TARGET_COLUMN]\n",
    "y_test = test_data[TARGET_COLUMN]"
   ]
  },
  {
   "cell_type": "markdown",
   "metadata": {
    "id": "sxGZENW4iK12"
   },
   "source": [
    "# 2. Подготовка к обучению модели"
   ]
  },
  {
   "cell_type": "markdown",
   "metadata": {
    "id": "6Bb6GxjliWoo"
   },
   "source": [
    "## 2.1 Кросс-валидация"
   ]
  },
  {
   "cell_type": "markdown",
   "metadata": {
    "id": "ETyud6zkiWuL"
   },
   "source": [
    "![](https://pubs.rsc.org/image/article/2018/SC/c7sc02664a/c7sc02664a-f3_hi-res.gif)"
   ]
  },
  {
   "cell_type": "code",
   "execution_count": 30,
   "metadata": {
    "colab": {
     "base_uri": "https://localhost:8080/"
    },
    "id": "6ODko-1xjg-h",
    "outputId": "de333b6d-3eb6-40e4-b9e4-f4dca7d8cd18"
   },
   "outputs": [
    {
     "name": "stderr",
     "output_type": "stream",
     "text": [
      "Using backend: pytorch\n"
     ]
    }
   ],
   "source": [
    "from dgllife.utils import ScaffoldSplitter"
   ]
  },
  {
   "cell_type": "code",
   "execution_count": 31,
   "metadata": {
    "id": "HKRNnI7Gjaom"
   },
   "outputs": [],
   "source": [
    "class ScaffoldCVSklearn:\n",
    "    def __init__(self, data, k_folds):\n",
    "        self.scaffold_splits = ScaffoldSplitter.k_fold_split(data, k=k_folds)\n",
    "\n",
    "    def split(self):\n",
    "        indices_splits = []\n",
    "        for train_data, val_data in self.scaffold_splits:\n",
    "          train_indices = train_data.indices\n",
    "          val_indices = val_data.indices\n",
    "          indices_splits.append((train_indices, val_indices))\n",
    "        return indices_splits\n",
    "\n",
    "    def convert_data_to_indices(self, dataset):\n",
    "        indices = [index for index, row in dataset.iterrows()]\n",
    "        return indices\n"
   ]
  },
  {
   "cell_type": "code",
   "execution_count": 32,
   "metadata": {
    "colab": {
     "base_uri": "https://localhost:8080/"
    },
    "id": "ZgtmVfTIjkYt",
    "outputId": "9c3bbed4-7b5a-4cf2-9f64-2179ab381994"
   },
   "outputs": [
    {
     "name": "stdout",
     "output_type": "stream",
     "text": [
      "Start initializing RDKit molecule instances...\n",
      "Creating RDKit molecule instance 1000/5557\n",
      "Creating RDKit molecule instance 2000/5557\n",
      "Creating RDKit molecule instance 3000/5557\n",
      "Creating RDKit molecule instance 4000/5557\n",
      "Creating RDKit molecule instance 5000/5557\n",
      "Start computing Bemis-Murcko scaffolds.\n",
      "Computing Bemis-Murcko for compound 1000/5557\n",
      "Computing Bemis-Murcko for compound 2000/5557\n",
      "Computing Bemis-Murcko for compound 3000/5557\n",
      "Computing Bemis-Murcko for compound 4000/5557\n",
      "Computing Bemis-Murcko for compound 5000/5557\n",
      "Processing fold 1/3\n",
      "Processing fold 2/3\n",
      "Processing fold 3/3\n"
     ]
    }
   ],
   "source": [
    "cv = ScaffoldCVSklearn(train_data, k_folds=3).split()"
   ]
  },
  {
   "cell_type": "markdown",
   "metadata": {
    "id": "X3LMIEGPo-Yu"
   },
   "source": [
    "# Задание (10 баллов + 3 бонусных)\n",
    "1. (3 балла) Добавить решение проблемы несбалансированной классификации\n",
    "\n",
    "Варианты:\n",
    "* UnderSampling\n",
    "* OverSampling\n",
    "* SMOTE\n",
    "* Внутренние инструменты модели (`scale_pos_weight`)\n",
    "\n",
    "2. (2 балла) Использовать еще 2 вида фингерпринтов из `FingerprintsNames`\n",
    "\n",
    "3. (3 балла) Получить f1-score на тестовом датасете больше 0.35\n",
    "\n",
    "Варианты:\n",
    "* Увеличить количество параметров в подборе гиперпараметров\n",
    "* Использовать другие алгоритмы подбора гиперпараметров (например, [RandomizedSearch](https://scikit-learn.org/stable/modules/generated/sklearn.model_selection.RandomizedSearchCV.html))\n",
    "* Использовать другие модели (Random Forest, SVC, MLPClassifier, etc)\n",
    "\n",
    "4. (2 балла) Логирование\n",
    "\n",
    "В качестве финального результата предоставьте таблицу (можно `pd.DataFrame`) c колонками: Model, Fingerprint, Best Parameters, Mean Cross-Validation Score, Std Cross-Validation Score, Test Score \n",
    "\n",
    "Проанализируйте результаты: \n",
    "* Какие фингерпринты дали лучший результат?\n",
    "* Какая модель дала лучший результат.\n",
    "* Коррелируют ли скоры на кросс-валидации и тестовой выборке?\n",
    "\n",
    "5. (Бонус +3 балла) Получить f1-score на тестовом датасете больше 0.45"
   ]
  },
  {
   "cell_type": "code",
   "execution_count": 38,
   "metadata": {},
   "outputs": [],
   "source": [
    "from imblearn.over_sampling import SMOTEN, ADASYN\n",
    "from joblib import parallel_backend\n",
    "import lightgbm\n",
    "from tqdm.auto import tqdm"
   ]
  },
  {
   "cell_type": "code",
   "execution_count": 54,
   "metadata": {},
   "outputs": [
    {
     "data": {
      "text/plain": [
       "array([26.97572816])"
      ]
     },
     "execution_count": 54,
     "metadata": {},
     "output_type": "execute_result"
    }
   ],
   "source": [
    "y_train.shape/y_train.sum()"
   ]
  },
  {
   "cell_type": "markdown",
   "metadata": {},
   "source": [
    "Используем scale_pos_weight = 27"
   ]
  },
  {
   "cell_type": "code",
   "execution_count": 17,
   "metadata": {
    "id": "daFeFpqfvrRb"
   },
   "outputs": [
    {
     "name": "stderr",
     "output_type": "stream",
     "text": [
      "/home/skuznetsov/.conda/envs/ml/lib/python3.7/site-packages/tqdm/auto.py:22: TqdmWarning: IProgress not found. Please update jupyter and ipywidgets. See https://ipywidgets.readthedocs.io/en/stable/user_install.html\n",
      "  from .autonotebook import tqdm as notebook_tqdm\n"
     ]
    }
   ],
   "source": [
    "from sklearn.metrics import f1_score\n",
    "\n",
    "import optuna\n",
    "\n",
    "\n",
    "class Objective:\n",
    "    def __init__(self, X_data, y_data, cv):\n",
    "        self.X_data = X_data.astype(int)\n",
    "        self.y_data = y_data.values.astype(int)\n",
    "        self.cv = cv\n",
    "        self.train_data = []\n",
    "        self.test_data = []\n",
    "        for train_index, test_index in tqdm(cv):\n",
    "            X_train, X_test = (\n",
    "                self.X_data[train_index, :],\n",
    "                self.X_data[test_index, :],\n",
    "            )\n",
    "            y_train, y_test = (\n",
    "                self.y_data[train_index],\n",
    "                self.y_data[test_index],\n",
    "            )\n",
    "            X_train,y_train = self.oversample(X_train,y_train)\n",
    "            self.train_data.append((X_train,y_train))\n",
    "            self.test_data.append((X_test,y_test))\n",
    "        \n",
    "    def oversample(self, x, y):\n",
    "        return x,y\n",
    "#         self.oversampler = SMOTEN(k_neighbors=5)\n",
    "#         return self.oversampler.fit_resample(x, y)\n",
    "\n",
    "    def __call__(self, trial):\n",
    "\n",
    "        params = {\n",
    "            \"subsample_freq\": trial.suggest_int(\"subsample_freq\", 0, 0),\n",
    "            \"n_estimators\": trial.suggest_int(\"n_estimators\", 50, 300),  # n_trees\n",
    "            \"reg_alpha\": trial.suggest_loguniform(\"reg_alpha\", 1e-20, 2),\n",
    "            \"reg_lambda\": trial.suggest_loguniform(\"reg_lambda\", 1e-20, 2),\n",
    "            \"colsample_bytree\": trial.suggest_uniform(\"colsample_bytree\", 0.01, 1.0),\n",
    "            \"subsample\": trial.suggest_uniform(\"subsample\", 0.01, 1.0),\n",
    "            \"min_child_samples\": trial.suggest_int(\"min_child_samples\", 5, 100),\n",
    "            \"max_depth\": trial.suggest_int(\"max_depth\", 3, 20),\n",
    "            \"learning_rate\": trial.suggest_uniform(\"learning_rate\", 0.001, 0.3),\n",
    "#             \"scale_pos_weight\":trial.suggest_int(\"scale_pos_weight\",27)\n",
    "            \"boosting_type\":trial.suggest_categorical(\"boosting_type\",['gbdt'])\n",
    "        }\n",
    "        params = self.add_params(params)\n",
    "\n",
    "        result = []\n",
    "        for (X_train,y_train), (X_test,y_test) in zip(self.train_data, self.test_data):\n",
    "           \n",
    "            model = lightgbm.LGBMClassifier(**params)\n",
    "\n",
    "            model.fit(X_train, y_train)\n",
    "\n",
    "            y_pred = model.predict_proba(X_test)[:, 1].astype(float)\n",
    "\n",
    "            f1_val = f1_score(y_test, y_pred > 0.5)\n",
    "\n",
    "            result.append(f1_val)\n",
    "\n",
    "        return np.mean(result)\n",
    "    \n",
    "    def add_params(self, params):\n",
    "        params.update({\n",
    "            \"verbosity\": -1,\n",
    "            \"n_jobs\": 2,\n",
    "            \"device\": 'gpu',\n",
    "            \"num_leaves\":2 ** min(16,params[\"max_depth\"]),    \n",
    "            \"scale_pos_weight\":27\n",
    "        })\n",
    "        return params\n",
    "\n",
    "\n",
    "# Load the dataset in advance for reusing it each trial execution.\n",
    "# objective = Objective(train_fp, y_train,cv=cv)\n",
    "\n"
   ]
  },
  {
   "cell_type": "code",
   "execution_count": 56,
   "metadata": {},
   "outputs": [
    {
     "name": "stderr",
     "output_type": "stream",
     "text": [
      "\u001b[32m[I 2022-03-30 16:35:44,870]\u001b[0m A new study created in memory with name: no-name-c1d77f41-f543-4f66-be80-48d37533093f\u001b[0m\n",
      "/home/skuznetsov/.conda/envs/ml/lib/python3.7/site-packages/optuna/study/study.py:397: FutureWarning: `n_jobs` argument has been deprecated in v2.7.0. This feature will be removed in v4.0.0. See https://github.com/optuna/optuna/releases/tag/v2.7.0.\n",
      "  FutureWarning,\n",
      "\u001b[32m[I 2022-03-30 16:35:50,128]\u001b[0m Trial 9 finished with value: 0.17428936942549744 and parameters: {'subsample_freq': 0, 'n_estimators': 79, 'reg_alpha': 5.016762442392253e-14, 'reg_lambda': 6.959282880570099e-15, 'colsample_bytree': 0.5806754425884342, 'subsample': 0.8186472526093561, 'min_child_samples': 44, 'max_depth': 3, 'learning_rate': 0.24990607399979636, 'boosting_type': 'gbdt'}. Best is trial 9 with value: 0.17428936942549744.\u001b[0m\n",
      "\u001b[32m[I 2022-03-30 16:36:06,600]\u001b[0m Trial 3 finished with value: 0.24355797282202005 and parameters: {'subsample_freq': 0, 'n_estimators': 86, 'reg_alpha': 1.7850744867008663e-05, 'reg_lambda': 1.6648333419312513, 'colsample_bytree': 0.2976440631533308, 'subsample': 0.9903770180583413, 'min_child_samples': 69, 'max_depth': 20, 'learning_rate': 0.1209511252715648, 'boosting_type': 'gbdt'}. Best is trial 3 with value: 0.24355797282202005.\u001b[0m\n",
      "\u001b[32m[I 2022-03-30 16:36:08,826]\u001b[0m Trial 0 finished with value: 0.22878543029370269 and parameters: {'subsample_freq': 0, 'n_estimators': 184, 'reg_alpha': 8.540209241110799e-18, 'reg_lambda': 0.04684067324547075, 'colsample_bytree': 0.7803247825806382, 'subsample': 0.9181675441900568, 'min_child_samples': 79, 'max_depth': 5, 'learning_rate': 0.27335394033513444, 'boosting_type': 'gbdt'}. Best is trial 3 with value: 0.24355797282202005.\u001b[0m\n",
      "\u001b[32m[I 2022-03-30 16:36:12,173]\u001b[0m Trial 4 finished with value: 0.1974233808730319 and parameters: {'subsample_freq': 0, 'n_estimators': 114, 'reg_alpha': 1.659846127145029e-19, 'reg_lambda': 3.572412112166679e-20, 'colsample_bytree': 0.11711899265158164, 'subsample': 0.4060410226788365, 'min_child_samples': 64, 'max_depth': 16, 'learning_rate': 0.29420339546920327, 'boosting_type': 'gbdt'}. Best is trial 3 with value: 0.24355797282202005.\u001b[0m\n",
      "\u001b[32m[I 2022-03-30 16:36:17,136]\u001b[0m Trial 1 finished with value: 0.21709585691886576 and parameters: {'subsample_freq': 0, 'n_estimators': 174, 'reg_alpha': 0.0005547677958708596, 'reg_lambda': 1.3093676623898422e-09, 'colsample_bytree': 0.39711132487444434, 'subsample': 0.4768727042123434, 'min_child_samples': 29, 'max_depth': 6, 'learning_rate': 0.023375111913458868, 'boosting_type': 'gbdt'}. Best is trial 3 with value: 0.24355797282202005.\u001b[0m\n",
      "\u001b[32m[I 2022-03-30 16:36:18,693]\u001b[0m Trial 11 finished with value: 0.2086761239376785 and parameters: {'subsample_freq': 0, 'n_estimators': 139, 'reg_alpha': 0.0002427750548091379, 'reg_lambda': 1.8012581362600883e-16, 'colsample_bytree': 0.9870123717639263, 'subsample': 0.4367699649777756, 'min_child_samples': 97, 'max_depth': 14, 'learning_rate': 0.2819560758931465, 'boosting_type': 'gbdt'}. Best is trial 3 with value: 0.24355797282202005.\u001b[0m\n",
      "\u001b[32m[I 2022-03-30 16:36:42,570]\u001b[0m Trial 12 finished with value: 0.2190888731730316 and parameters: {'subsample_freq': 0, 'n_estimators': 100, 'reg_alpha': 1.4480421151006185e-20, 'reg_lambda': 7.716255749729065e-11, 'colsample_bytree': 0.2712541677997204, 'subsample': 0.2961657163763076, 'min_child_samples': 37, 'max_depth': 18, 'learning_rate': 0.2841799613688959, 'boosting_type': 'gbdt'}. Best is trial 3 with value: 0.24355797282202005.\u001b[0m\n",
      "\u001b[32m[I 2022-03-30 16:36:45,033]\u001b[0m Trial 2 finished with value: 0.2237714100920504 and parameters: {'subsample_freq': 0, 'n_estimators': 282, 'reg_alpha': 8.926146315305195e-19, 'reg_lambda': 1.9578819763561809e-19, 'colsample_bytree': 0.15756016572112597, 'subsample': 0.34811604462572276, 'min_child_samples': 51, 'max_depth': 8, 'learning_rate': 0.23803829738965582, 'boosting_type': 'gbdt'}. Best is trial 3 with value: 0.24355797282202005.\u001b[0m\n",
      "\u001b[32m[I 2022-03-30 16:36:48,690]\u001b[0m Trial 10 finished with value: 0.20533097969991174 and parameters: {'subsample_freq': 0, 'n_estimators': 211, 'reg_alpha': 0.02031290806880905, 'reg_lambda': 2.1833882830642286e-19, 'colsample_bytree': 0.2867723302386458, 'subsample': 0.11467829096010512, 'min_child_samples': 33, 'max_depth': 8, 'learning_rate': 0.12331180778361969, 'boosting_type': 'gbdt'}. Best is trial 3 with value: 0.24355797282202005.\u001b[0m\n",
      "\u001b[32m[I 2022-03-30 16:36:51,782]\u001b[0m Trial 6 finished with value: 0.2306186413789627 and parameters: {'subsample_freq': 0, 'n_estimators': 164, 'reg_alpha': 3.428410440018554e-17, 'reg_lambda': 9.833645137801763e-05, 'colsample_bytree': 0.815984250209422, 'subsample': 0.8388356021048666, 'min_child_samples': 74, 'max_depth': 19, 'learning_rate': 0.15133342765577548, 'boosting_type': 'gbdt'}. Best is trial 3 with value: 0.24355797282202005.\u001b[0m\n",
      "\u001b[32m[I 2022-03-30 16:36:52,945]\u001b[0m Trial 14 finished with value: 0.17642489960266508 and parameters: {'subsample_freq': 0, 'n_estimators': 258, 'reg_alpha': 8.612847382798339e-07, 'reg_lambda': 7.27573974261345e-20, 'colsample_bytree': 0.05658690776634416, 'subsample': 0.8988542491716213, 'min_child_samples': 100, 'max_depth': 11, 'learning_rate': 0.026678212034452493, 'boosting_type': 'gbdt'}. Best is trial 3 with value: 0.24355797282202005.\u001b[0m\n",
      "\u001b[32m[I 2022-03-30 16:36:53,272]\u001b[0m Trial 13 finished with value: 0.2196525401789775 and parameters: {'subsample_freq': 0, 'n_estimators': 214, 'reg_alpha': 2.9911386275951823e-14, 'reg_lambda': 2.649727294545454e-14, 'colsample_bytree': 0.32380143792597493, 'subsample': 0.7773358113247348, 'min_child_samples': 91, 'max_depth': 12, 'learning_rate': 0.1026286637170656, 'boosting_type': 'gbdt'}. Best is trial 3 with value: 0.24355797282202005.\u001b[0m\n",
      "\u001b[32m[I 2022-03-30 16:37:11,201]\u001b[0m Trial 20 finished with value: 0.22749092612106306 and parameters: {'subsample_freq': 0, 'n_estimators': 58, 'reg_alpha': 8.316071063774522e-10, 'reg_lambda': 1.3003158627617741, 'colsample_bytree': 0.5940524601095527, 'subsample': 0.6973014168238971, 'min_child_samples': 70, 'max_depth': 20, 'learning_rate': 0.14551849094177077, 'boosting_type': 'gbdt'}. Best is trial 3 with value: 0.24355797282202005.\u001b[0m\n",
      "\u001b[32m[I 2022-03-30 16:37:26,619]\u001b[0m Trial 19 finished with value: 0.23273733503618557 and parameters: {'subsample_freq': 0, 'n_estimators': 75, 'reg_alpha': 2.344972994867097e-08, 'reg_lambda': 1.622724581956015, 'colsample_bytree': 0.5078572796850381, 'subsample': 0.6774199770625224, 'min_child_samples': 6, 'max_depth': 13, 'learning_rate': 0.10069412377954003, 'boosting_type': 'gbdt'}. Best is trial 3 with value: 0.24355797282202005.\u001b[0m\n",
      "\u001b[32m[I 2022-03-30 16:37:28,687]\u001b[0m Trial 7 finished with value: 0.25013555154044936 and parameters: {'subsample_freq': 0, 'n_estimators': 266, 'reg_alpha': 0.0002546851006170068, 'reg_lambda': 0.0025135306117271875, 'colsample_bytree': 0.4488903041278532, 'subsample': 0.26534817409950257, 'min_child_samples': 17, 'max_depth': 9, 'learning_rate': 0.01506620500139521, 'boosting_type': 'gbdt'}. Best is trial 7 with value: 0.25013555154044936.\u001b[0m\n",
      "\u001b[32m[I 2022-03-30 16:37:29,774]\u001b[0m Trial 8 finished with value: 0.1961730192851474 and parameters: {'subsample_freq': 0, 'n_estimators': 284, 'reg_alpha': 8.244139986133642e-05, 'reg_lambda': 8.689479404398329e-16, 'colsample_bytree': 0.8233278922185452, 'subsample': 0.34176065867206074, 'min_child_samples': 28, 'max_depth': 14, 'learning_rate': 0.1164879928388781, 'boosting_type': 'gbdt'}. Best is trial 7 with value: 0.25013555154044936.\u001b[0m\n",
      "\u001b[32m[I 2022-03-30 16:37:30,678]\u001b[0m Trial 16 finished with value: 0.19839383889833032 and parameters: {'subsample_freq': 0, 'n_estimators': 204, 'reg_alpha': 0.18095862122293566, 'reg_lambda': 7.239441898584321e-08, 'colsample_bytree': 0.5238141122438964, 'subsample': 0.795394849820188, 'min_child_samples': 37, 'max_depth': 18, 'learning_rate': 0.17353790912059325, 'boosting_type': 'gbdt'}. Best is trial 7 with value: 0.25013555154044936.\u001b[0m\n",
      "\u001b[32m[I 2022-03-30 16:37:32,067]\u001b[0m Trial 21 finished with value: 0.18410962835413977 and parameters: {'subsample_freq': 0, 'n_estimators': 63, 'reg_alpha': 1.0512782223683047e-08, 'reg_lambda': 0.5863580468556058, 'colsample_bytree': 0.5854863426062015, 'subsample': 0.6717581573814044, 'min_child_samples': 11, 'max_depth': 19, 'learning_rate': 0.19056418573195708, 'boosting_type': 'gbdt'}. Best is trial 7 with value: 0.25013555154044936.\u001b[0m\n"
     ]
    },
    {
     "name": "stderr",
     "output_type": "stream",
     "text": [
      "\u001b[32m[I 2022-03-30 16:37:32,741]\u001b[0m Trial 18 finished with value: 0.23796296296296293 and parameters: {'subsample_freq': 0, 'n_estimators': 274, 'reg_alpha': 2.8786514443770676e-17, 'reg_lambda': 0.16849495653922456, 'colsample_bytree': 0.3212399714928402, 'subsample': 0.869143335127403, 'min_child_samples': 38, 'max_depth': 6, 'learning_rate': 0.04148019624007067, 'boosting_type': 'gbdt'}. Best is trial 7 with value: 0.25013555154044936.\u001b[0m\n",
      "\u001b[32m[I 2022-03-30 16:37:34,544]\u001b[0m Trial 5 finished with value: 0.17831076724693742 and parameters: {'subsample_freq': 0, 'n_estimators': 299, 'reg_alpha': 1.7059976451406273e-17, 'reg_lambda': 9.531948730452922e-17, 'colsample_bytree': 0.4196742513276729, 'subsample': 0.7920054561438572, 'min_child_samples': 13, 'max_depth': 14, 'learning_rate': 0.21935878650111443, 'boosting_type': 'gbdt'}. Best is trial 7 with value: 0.25013555154044936.\u001b[0m\n",
      "\u001b[32m[I 2022-03-30 16:37:59,311]\u001b[0m Trial 17 finished with value: 0.2134989147232471 and parameters: {'subsample_freq': 0, 'n_estimators': 137, 'reg_alpha': 6.008162013777316e-08, 'reg_lambda': 0.0016614936378082084, 'colsample_bytree': 0.7422699666496891, 'subsample': 0.7787853669090489, 'min_child_samples': 50, 'max_depth': 18, 'learning_rate': 0.012106024128234825, 'boosting_type': 'gbdt'}. Best is trial 7 with value: 0.25013555154044936.\u001b[0m\n",
      "\u001b[32m[I 2022-03-30 16:38:26,407]\u001b[0m Trial 29 finished with value: 0.2254472179660061 and parameters: {'subsample_freq': 0, 'n_estimators': 252, 'reg_alpha': 1.8446483283857982, 'reg_lambda': 0.00011116916287350474, 'colsample_bytree': 0.6711562861894956, 'subsample': 0.15621430776993417, 'min_child_samples': 62, 'max_depth': 10, 'learning_rate': 0.06474507318106965, 'boosting_type': 'gbdt'}. Best is trial 7 with value: 0.25013555154044936.\u001b[0m\n",
      "\u001b[32m[I 2022-03-30 16:38:31,316]\u001b[0m Trial 22 finished with value: 0.2217197485054628 and parameters: {'subsample_freq': 0, 'n_estimators': 141, 'reg_alpha': 2.7235444683029543e-09, 'reg_lambda': 9.74787164592892e-05, 'colsample_bytree': 0.786154677134867, 'subsample': 0.9839251673754524, 'min_child_samples': 5, 'max_depth': 20, 'learning_rate': 0.20351089045542678, 'boosting_type': 'gbdt'}. Best is trial 7 with value: 0.25013555154044936.\u001b[0m\n",
      "\u001b[32m[I 2022-03-30 16:38:37,072]\u001b[0m Trial 28 finished with value: 0.22629277404571804 and parameters: {'subsample_freq': 0, 'n_estimators': 232, 'reg_alpha': 1.0123577312045975, 'reg_lambda': 0.00015366580433296895, 'colsample_bytree': 0.38251977237977086, 'subsample': 0.16649653065914527, 'min_child_samples': 18, 'max_depth': 10, 'learning_rate': 0.06254260304442154, 'boosting_type': 'gbdt'}. Best is trial 7 with value: 0.25013555154044936.\u001b[0m\n",
      "\u001b[32m[I 2022-03-30 16:38:38,100]\u001b[0m Trial 27 finished with value: 0.23099229455981973 and parameters: {'subsample_freq': 0, 'n_estimators': 248, 'reg_alpha': 1.494479762646081, 'reg_lambda': 0.0005555463844711941, 'colsample_bytree': 0.34594707271172365, 'subsample': 0.04186295643623267, 'min_child_samples': 18, 'max_depth': 10, 'learning_rate': 0.06565540394406233, 'boosting_type': 'gbdt'}. Best is trial 7 with value: 0.25013555154044936.\u001b[0m\n",
      "\u001b[32m[I 2022-03-30 16:38:38,161]\u001b[0m Trial 15 finished with value: 0.17896709025741284 and parameters: {'subsample_freq': 0, 'n_estimators': 242, 'reg_alpha': 3.048641672774383e-10, 'reg_lambda': 5.478415530101512e-10, 'colsample_bytree': 0.6082184238901974, 'subsample': 0.28139073188033487, 'min_child_samples': 8, 'max_depth': 19, 'learning_rate': 0.1892138922026993, 'boosting_type': 'gbdt'}. Best is trial 7 with value: 0.25013555154044936.\u001b[0m\n",
      "\u001b[32m[I 2022-03-30 16:38:38,180]\u001b[0m Trial 23 finished with value: 0.2064764218745355 and parameters: {'subsample_freq': 0, 'n_estimators': 59, 'reg_alpha': 6.2694749748477435e-09, 'reg_lambda': 8.812552420742614e-05, 'colsample_bytree': 0.5416108949126996, 'subsample': 0.5823270899338446, 'min_child_samples': 8, 'max_depth': 16, 'learning_rate': 0.07495395652284112, 'boosting_type': 'gbdt'}. Best is trial 7 with value: 0.25013555154044936.\u001b[0m\n",
      "\u001b[32m[I 2022-03-30 16:38:38,873]\u001b[0m Trial 26 finished with value: 0.2466593965830607 and parameters: {'subsample_freq': 0, 'n_estimators': 244, 'reg_alpha': 1.758150498622351, 'reg_lambda': 0.00018768711445149523, 'colsample_bytree': 0.3864370157475831, 'subsample': 0.010474208218710035, 'min_child_samples': 10, 'max_depth': 9, 'learning_rate': 0.057664265872511083, 'boosting_type': 'gbdt'}. Best is trial 7 with value: 0.25013555154044936.\u001b[0m\n",
      "\u001b[32m[I 2022-03-30 16:38:38,975]\u001b[0m Trial 25 finished with value: 0.23861545547653715 and parameters: {'subsample_freq': 0, 'n_estimators': 246, 'reg_alpha': 1.9233470980103364, 'reg_lambda': 6.89324475757418e-05, 'colsample_bytree': 0.42674600540156915, 'subsample': 0.14731395355891103, 'min_child_samples': 6, 'max_depth': 10, 'learning_rate': 0.058370467171860264, 'boosting_type': 'gbdt'}. Best is trial 7 with value: 0.25013555154044936.\u001b[0m\n",
      "\u001b[32m[I 2022-03-30 16:38:40,333]\u001b[0m Trial 24 finished with value: 0.23365713724334414 and parameters: {'subsample_freq': 0, 'n_estimators': 252, 'reg_alpha': 0.8846590782229248, 'reg_lambda': 2.935398974540891e-05, 'colsample_bytree': 0.4555241404615331, 'subsample': 0.01744891071438226, 'min_child_samples': 8, 'max_depth': 10, 'learning_rate': 0.06257012307060886, 'boosting_type': 'gbdt'}. Best is trial 7 with value: 0.25013555154044936.\u001b[0m\n",
      "\u001b[32m[I 2022-03-30 16:39:08,300]\u001b[0m Trial 38 finished with value: 0.2034225200392865 and parameters: {'subsample_freq': 0, 'n_estimators': 192, 'reg_alpha': 3.4287898217734634e-06, 'reg_lambda': 7.098582565473995e-07, 'colsample_bytree': 0.24672893586513828, 'subsample': 0.031989347567400905, 'min_child_samples': 87, 'max_depth': 8, 'learning_rate': 0.08476348866369776, 'boosting_type': 'gbdt'}. Best is trial 7 with value: 0.25013555154044936.\u001b[0m\n",
      "\u001b[32m[I 2022-03-30 16:39:19,441]\u001b[0m Trial 34 finished with value: 0.21884110711696916 and parameters: {'subsample_freq': 0, 'n_estimators': 274, 'reg_alpha': 2.2552312863396423e-12, 'reg_lambda': 8.078839351510432e-07, 'colsample_bytree': 0.22025887264443617, 'subsample': 0.5494655971022109, 'min_child_samples': 83, 'max_depth': 7, 'learning_rate': 0.040655948551866, 'boosting_type': 'gbdt'}. Best is trial 7 with value: 0.25013555154044936.\u001b[0m\n",
      "\u001b[32m[I 2022-03-30 16:39:38,527]\u001b[0m Trial 35 finished with value: 0.22714932126696832 and parameters: {'subsample_freq': 0, 'n_estimators': 274, 'reg_alpha': 5.2400172610529826e-14, 'reg_lambda': 2.074900933260031e-06, 'colsample_bytree': 0.20980558071836863, 'subsample': 0.9827421381981887, 'min_child_samples': 59, 'max_depth': 7, 'learning_rate': 0.039883098564676506, 'boosting_type': 'gbdt'}. Best is trial 7 with value: 0.25013555154044936.\u001b[0m\n",
      "\u001b[32m[I 2022-03-30 16:39:41,461]\u001b[0m Trial 41 finished with value: 0.18149292887886861 and parameters: {'subsample_freq': 0, 'n_estimators': 230, 'reg_alpha': 0.0008512299926099315, 'reg_lambda': 0.01554591558774955, 'colsample_bytree': 0.4385504905988505, 'subsample': 0.21146276358230254, 'min_child_samples': 21, 'max_depth': 4, 'learning_rate': 0.0416369612840338, 'boosting_type': 'gbdt'}. Best is trial 7 with value: 0.25013555154044936.\u001b[0m\n",
      "\u001b[32m[I 2022-03-30 16:39:47,698]\u001b[0m Trial 39 finished with value: 0.21037611891270425 and parameters: {'subsample_freq': 0, 'n_estimators': 204, 'reg_alpha': 0.009011699490514696, 'reg_lambda': 7.503075189382905e-07, 'colsample_bytree': 0.22541138153828238, 'subsample': 0.24137646260838796, 'min_child_samples': 22, 'max_depth': 8, 'learning_rate': 0.005708765960268109, 'boosting_type': 'gbdt'}. Best is trial 7 with value: 0.25013555154044936.\u001b[0m\n",
      "\u001b[32m[I 2022-03-30 16:39:50,683]\u001b[0m Trial 33 finished with value: 0.23353547556724194 and parameters: {'subsample_freq': 0, 'n_estimators': 251, 'reg_alpha': 8.892721217673813e-15, 'reg_lambda': 9.9953304793817e-07, 'colsample_bytree': 0.19240100055942222, 'subsample': 0.016678013794099583, 'min_child_samples': 21, 'max_depth': 7, 'learning_rate': 0.06183671913539007, 'boosting_type': 'gbdt'}. Best is trial 7 with value: 0.25013555154044936.\u001b[0m\n",
      "\u001b[32m[I 2022-03-30 16:40:00,575]\u001b[0m Trial 40 finished with value: 0.23246041395406322 and parameters: {'subsample_freq': 0, 'n_estimators': 233, 'reg_alpha': 0.006386893577850652, 'reg_lambda': 0.00780545753797458, 'colsample_bytree': 0.45175676294115824, 'subsample': 0.21120175523161328, 'min_child_samples': 20, 'max_depth': 7, 'learning_rate': 0.045265943676533464, 'boosting_type': 'gbdt'}. Best is trial 7 with value: 0.25013555154044936.\u001b[0m\n"
     ]
    },
    {
     "name": "stderr",
     "output_type": "stream",
     "text": [
      "\u001b[32m[I 2022-03-30 16:40:08,630]\u001b[0m Trial 36 finished with value: 0.22604555775287483 and parameters: {'subsample_freq': 0, 'n_estimators': 287, 'reg_alpha': 3.312557430774106e-12, 'reg_lambda': 5.94208040565424e-07, 'colsample_bytree': 0.21329864114197145, 'subsample': 0.5849881691596059, 'min_child_samples': 23, 'max_depth': 7, 'learning_rate': 0.040017971593260156, 'boosting_type': 'gbdt'}. Best is trial 7 with value: 0.25013555154044936.\u001b[0m\n",
      "\u001b[32m[I 2022-03-30 16:40:15,986]\u001b[0m Trial 37 finished with value: 0.15165902222767644 and parameters: {'subsample_freq': 0, 'n_estimators': 223, 'reg_alpha': 1.2156607657439561e-05, 'reg_lambda': 1.2045602739659761e-06, 'colsample_bytree': 0.2274453444861055, 'subsample': 0.04386417082578329, 'min_child_samples': 22, 'max_depth': 8, 'learning_rate': 0.0043258620886567345, 'boosting_type': 'gbdt'}. Best is trial 7 with value: 0.25013555154044936.\u001b[0m\n",
      "\u001b[32m[I 2022-03-30 16:40:22,184]\u001b[0m Trial 31 finished with value: 0.22274734455185582 and parameters: {'subsample_freq': 0, 'n_estimators': 240, 'reg_alpha': 8.836137057625317e-12, 'reg_lambda': 1.497415872054149e-06, 'colsample_bytree': 0.20868501719659352, 'subsample': 0.9583099520507206, 'min_child_samples': 20, 'max_depth': 9, 'learning_rate': 0.057088497359500556, 'boosting_type': 'gbdt'}. Best is trial 7 with value: 0.25013555154044936.\u001b[0m\n",
      "\u001b[32m[I 2022-03-30 16:40:22,463]\u001b[0m Trial 30 finished with value: 0.21196933357932066 and parameters: {'subsample_freq': 0, 'n_estimators': 245, 'reg_alpha': 4.985123052144679e-12, 'reg_lambda': 3.15927838466293e-05, 'colsample_bytree': 0.1923577866706109, 'subsample': 0.9777938820103423, 'min_child_samples': 20, 'max_depth': 10, 'learning_rate': 0.05839426042126962, 'boosting_type': 'gbdt'}. Best is trial 7 with value: 0.25013555154044936.\u001b[0m\n",
      "\u001b[32m[I 2022-03-30 16:40:29,431]\u001b[0m Trial 32 finished with value: 0.1992383556293331 and parameters: {'subsample_freq': 0, 'n_estimators': 244, 'reg_alpha': 5.573351665205449e-12, 'reg_lambda': 7.579965715088201e-07, 'colsample_bytree': 0.2205696781656723, 'subsample': 0.5738908269281583, 'min_child_samples': 18, 'max_depth': 9, 'learning_rate': 0.057874530582056605, 'boosting_type': 'gbdt'}. Best is trial 7 with value: 0.25013555154044936.\u001b[0m\n",
      "\u001b[32m[I 2022-03-30 16:40:31,330]\u001b[0m Trial 43 finished with value: 0.0 and parameters: {'subsample_freq': 0, 'n_estimators': 161, 'reg_alpha': 0.02111469080145935, 'reg_lambda': 0.008692023822472913, 'colsample_bytree': 0.46555697683211456, 'subsample': 0.0959853662287192, 'min_child_samples': 27, 'max_depth': 9, 'learning_rate': 0.0035704162424288685, 'boosting_type': 'gbdt'}. Best is trial 7 with value: 0.25013555154044936.\u001b[0m\n",
      "\u001b[32m[I 2022-03-30 16:40:48,637]\u001b[0m Trial 42 finished with value: 0.2410739492409184 and parameters: {'subsample_freq': 0, 'n_estimators': 225, 'reg_alpha': 0.00645864879277593, 'reg_lambda': 0.00863884575063749, 'colsample_bytree': 0.46015866868994415, 'subsample': 0.2183325360765817, 'min_child_samples': 25, 'max_depth': 9, 'learning_rate': 0.008164181627784123, 'boosting_type': 'gbdt'}. Best is trial 7 with value: 0.25013555154044936.\u001b[0m\n",
      "\u001b[32m[I 2022-03-30 16:40:51,104]\u001b[0m Trial 48 finished with value: 0.2216035816035816 and parameters: {'subsample_freq': 0, 'n_estimators': 171, 'reg_alpha': 0.04174299637262539, 'reg_lambda': 0.049709881785944855, 'colsample_bytree': 0.3839826840733773, 'subsample': 0.0991747354225194, 'min_child_samples': 76, 'max_depth': 12, 'learning_rate': 0.08952130147218704, 'boosting_type': 'gbdt'}. Best is trial 7 with value: 0.25013555154044936.\u001b[0m\n",
      "\u001b[32m[I 2022-03-30 16:40:54,115]\u001b[0m Trial 50 finished with value: 0.1935852702915052 and parameters: {'subsample_freq': 0, 'n_estimators': 267, 'reg_alpha': 0.05958887820284997, 'reg_lambda': 0.19370985499178528, 'colsample_bytree': 0.3724003933386972, 'subsample': 0.10302400112574944, 'min_child_samples': 29, 'max_depth': 5, 'learning_rate': 0.023613706640453303, 'boosting_type': 'gbdt'}. Best is trial 7 with value: 0.25013555154044936.\u001b[0m\n",
      "\u001b[32m[I 2022-03-30 16:40:57,045]\u001b[0m Trial 51 finished with value: 0.20140260911051988 and parameters: {'subsample_freq': 0, 'n_estimators': 264, 'reg_alpha': 0.053076858364049115, 'reg_lambda': 0.061484424922737105, 'colsample_bytree': 0.3781486384278533, 'subsample': 0.10680737463431031, 'min_child_samples': 14, 'max_depth': 5, 'learning_rate': 0.021404924632832945, 'boosting_type': 'gbdt'}. Best is trial 7 with value: 0.25013555154044936.\u001b[0m\n",
      "\u001b[32m[I 2022-03-30 16:40:57,526]\u001b[0m Trial 44 finished with value: 0.23809048259455046 and parameters: {'subsample_freq': 0, 'n_estimators': 162, 'reg_alpha': 0.018125710220803577, 'reg_lambda': 0.012690630602056927, 'colsample_bytree': 0.14423022862460014, 'subsample': 0.07889244244145521, 'min_child_samples': 14, 'max_depth': 9, 'learning_rate': 0.08625939492991413, 'boosting_type': 'gbdt'}. Best is trial 7 with value: 0.25013555154044936.\u001b[0m\n",
      "\u001b[32m[I 2022-03-30 16:41:06,165]\u001b[0m Trial 49 finished with value: 0.20734238372290836 and parameters: {'subsample_freq': 0, 'n_estimators': 169, 'reg_alpha': 0.05829958013246844, 'reg_lambda': 0.05695418520597691, 'colsample_bytree': 0.37675002215815423, 'subsample': 0.10835037846816939, 'min_child_samples': 28, 'max_depth': 12, 'learning_rate': 0.13664343769294546, 'boosting_type': 'gbdt'}. Best is trial 7 with value: 0.25013555154044936.\u001b[0m\n",
      "\u001b[32m[I 2022-03-30 16:41:07,010]\u001b[0m Trial 47 finished with value: 0.1996169397744201 and parameters: {'subsample_freq': 0, 'n_estimators': 169, 'reg_alpha': 7.855284114274872e-06, 'reg_lambda': 0.03594115567940837, 'colsample_bytree': 0.1356316132604478, 'subsample': 0.10188645642897481, 'min_child_samples': 27, 'max_depth': 9, 'learning_rate': 0.08883122898002681, 'boosting_type': 'gbdt'}. Best is trial 7 with value: 0.25013555154044936.\u001b[0m\n",
      "\u001b[32m[I 2022-03-30 16:41:11,138]\u001b[0m Trial 52 finished with value: 0.20993280710324905 and parameters: {'subsample_freq': 0, 'n_estimators': 267, 'reg_alpha': 6.000321096192094e-05, 'reg_lambda': 0.1652430911466921, 'colsample_bytree': 0.38068589907319234, 'subsample': 0.8872462642205484, 'min_child_samples': 44, 'max_depth': 6, 'learning_rate': 0.023208080311671958, 'boosting_type': 'gbdt'}. Best is trial 7 with value: 0.25013555154044936.\u001b[0m\n",
      "\u001b[32m[I 2022-03-30 16:41:12,849]\u001b[0m Trial 46 finished with value: 0.22303916803304366 and parameters: {'subsample_freq': 0, 'n_estimators': 164, 'reg_alpha': 9.3949766894829e-06, 'reg_lambda': 1.1129022944692295e-11, 'colsample_bytree': 0.12938021275525752, 'subsample': 0.1056157745272365, 'min_child_samples': 27, 'max_depth': 9, 'learning_rate': 0.02155287584181138, 'boosting_type': 'gbdt'}. Best is trial 7 with value: 0.25013555154044936.\u001b[0m\n",
      "\u001b[32m[I 2022-03-30 16:41:15,964]\u001b[0m Trial 60 finished with value: 0.13496236117311403 and parameters: {'subsample_freq': 0, 'n_estimators': 112, 'reg_alpha': 0.0014221884984534912, 'reg_lambda': 0.001701238745100161, 'colsample_bytree': 0.013042830287864154, 'subsample': 0.37173325593816453, 'min_child_samples': 14, 'max_depth': 11, 'learning_rate': 0.10766814907137572, 'boosting_type': 'gbdt'}. Best is trial 7 with value: 0.25013555154044936.\u001b[0m\n",
      "\u001b[32m[I 2022-03-30 16:41:29,730]\u001b[0m Trial 45 finished with value: 0.19837383982201554 and parameters: {'subsample_freq': 0, 'n_estimators': 184, 'reg_alpha': 1.3562352499337497e-05, 'reg_lambda': 0.014575863475071144, 'colsample_bytree': 0.12173348099278042, 'subsample': 0.11069606312003896, 'min_child_samples': 14, 'max_depth': 9, 'learning_rate': 0.09185151310649042, 'boosting_type': 'gbdt'}. Best is trial 7 with value: 0.25013555154044936.\u001b[0m\n",
      "\u001b[32m[I 2022-03-30 16:42:11,355]\u001b[0m Trial 59 finished with value: 0.20211622344167723 and parameters: {'subsample_freq': 0, 'n_estimators': 188, 'reg_alpha': 0.0007541245077381995, 'reg_lambda': 1.5827801550493634e-11, 'colsample_bytree': 0.2953487276325306, 'subsample': 0.37226338781766655, 'min_child_samples': 43, 'max_depth': 15, 'learning_rate': 0.12115051269316587, 'boosting_type': 'gbdt'}. Best is trial 7 with value: 0.25013555154044936.\u001b[0m\n",
      "\u001b[32m[I 2022-03-30 16:42:28,707]\u001b[0m Trial 61 finished with value: 0.19635811771787814 and parameters: {'subsample_freq': 0, 'n_estimators': 122, 'reg_alpha': 0.0008345307306869126, 'reg_lambda': 0.0015951146404870062, 'colsample_bytree': 0.3022032465462555, 'subsample': 0.34582204837672, 'min_child_samples': 13, 'max_depth': 11, 'learning_rate': 0.11331208586381725, 'boosting_type': 'gbdt'}. Best is trial 7 with value: 0.25013555154044936.\u001b[0m\n"
     ]
    },
    {
     "name": "stderr",
     "output_type": "stream",
     "text": [
      "\u001b[32m[I 2022-03-30 16:42:42,455]\u001b[0m Trial 58 finished with value: 0.19479422974863703 and parameters: {'subsample_freq': 0, 'n_estimators': 295, 'reg_alpha': 0.0012508365971506876, 'reg_lambda': 4.3845648279411566e-11, 'colsample_bytree': 0.2831564079188711, 'subsample': 0.35438631206342197, 'min_child_samples': 47, 'max_depth': 11, 'learning_rate': 0.11383496569742965, 'boosting_type': 'gbdt'}. Best is trial 7 with value: 0.25013555154044936.\u001b[0m\n",
      "\u001b[32m[I 2022-03-30 16:42:42,565]\u001b[0m Trial 57 finished with value: 0.19137170675830473 and parameters: {'subsample_freq': 0, 'n_estimators': 298, 'reg_alpha': 0.0005175380087436846, 'reg_lambda': 8.036066496990616e-12, 'colsample_bytree': 0.2886694846851139, 'subsample': 0.36565237259818517, 'min_child_samples': 47, 'max_depth': 11, 'learning_rate': 0.11630391360174155, 'boosting_type': 'gbdt'}. Best is trial 7 with value: 0.25013555154044936.\u001b[0m\n",
      "\u001b[32m[I 2022-03-30 16:43:05,852]\u001b[0m Trial 55 finished with value: 0.17660490233014806 and parameters: {'subsample_freq': 0, 'n_estimators': 295, 'reg_alpha': 0.0016668525725853634, 'reg_lambda': 9.117748346847664e-12, 'colsample_bytree': 0.12544984710925022, 'subsample': 0.3698515885830693, 'min_child_samples': 13, 'max_depth': 11, 'learning_rate': 0.13684309563272623, 'boosting_type': 'gbdt'}. Best is trial 7 with value: 0.25013555154044936.\u001b[0m\n",
      "\u001b[32m[I 2022-03-30 16:43:06,152]\u001b[0m Trial 56 finished with value: 0.18277673741156886 and parameters: {'subsample_freq': 0, 'n_estimators': 295, 'reg_alpha': 0.0023292278177221327, 'reg_lambda': 4.3438429022780795e-12, 'colsample_bytree': 0.29463055559046597, 'subsample': 0.37300350370493973, 'min_child_samples': 13, 'max_depth': 11, 'learning_rate': 0.12888720668648465, 'boosting_type': 'gbdt'}. Best is trial 7 with value: 0.25013555154044936.\u001b[0m\n",
      "\u001b[32m[I 2022-03-30 16:43:06,405]\u001b[0m Trial 65 finished with value: 0.20904852723034542 and parameters: {'subsample_freq': 0, 'n_estimators': 89, 'reg_alpha': 0.305530745008553, 'reg_lambda': 3.502980766962505e-09, 'colsample_bytree': 0.48304334868540794, 'subsample': 0.28969258971722867, 'min_child_samples': 10, 'max_depth': 13, 'learning_rate': 0.15937156117085963, 'boosting_type': 'gbdt'}. Best is trial 7 with value: 0.25013555154044936.\u001b[0m\n",
      "\u001b[32m[I 2022-03-30 16:43:10,288]\u001b[0m Trial 66 finished with value: 0.20450397980974566 and parameters: {'subsample_freq': 0, 'n_estimators': 88, 'reg_alpha': 7.063154295310767e-07, 'reg_lambda': 1.463201350189482e-05, 'colsample_bytree': 0.5526594459532669, 'subsample': 0.29575810043146233, 'min_child_samples': 54, 'max_depth': 13, 'learning_rate': 0.16080819366356075, 'boosting_type': 'gbdt'}. Best is trial 7 with value: 0.25013555154044936.\u001b[0m\n",
      "\u001b[32m[I 2022-03-30 16:43:19,085]\u001b[0m Trial 71 finished with value: 0.16127588597015663 and parameters: {'subsample_freq': 0, 'n_estimators': 151, 'reg_alpha': 0.00010609855084419602, 'reg_lambda': 0.0009143209974265467, 'colsample_bytree': 0.4161231139764039, 'subsample': 0.1641106421350407, 'min_child_samples': 34, 'max_depth': 3, 'learning_rate': 0.07357061677415075, 'boosting_type': 'gbdt'}. Best is trial 7 with value: 0.25013555154044936.\u001b[0m\n",
      "\u001b[32m[I 2022-03-30 16:43:29,363]\u001b[0m Trial 63 finished with value: 0.17725844148302994 and parameters: {'subsample_freq': 0, 'n_estimators': 299, 'reg_alpha': 0.0016720871569190156, 'reg_lambda': 0.0015603835813482272, 'colsample_bytree': 0.2885330093720458, 'subsample': 0.24983309943352833, 'min_child_samples': 13, 'max_depth': 15, 'learning_rate': 0.12184854317031404, 'boosting_type': 'gbdt'}. Best is trial 7 with value: 0.25013555154044936.\u001b[0m\n",
      "\u001b[32m[I 2022-03-30 16:43:32,957]\u001b[0m Trial 67 finished with value: 0.2202813614694803 and parameters: {'subsample_freq': 0, 'n_estimators': 221, 'reg_alpha': 3.96195723741398e-07, 'reg_lambda': 3.841465437971775e-08, 'colsample_bytree': 0.48608104217143216, 'subsample': 0.2975819050925123, 'min_child_samples': 70, 'max_depth': 13, 'learning_rate': 0.1593503940374181, 'boosting_type': 'gbdt'}. Best is trial 7 with value: 0.25013555154044936.\u001b[0m\n",
      "\u001b[32m[I 2022-03-30 16:43:36,853]\u001b[0m Trial 53 finished with value: 0.20963836809212832 and parameters: {'subsample_freq': 0, 'n_estimators': 294, 'reg_alpha': 0.0012995012737732389, 'reg_lambda': 1.8340341991649437e-08, 'colsample_bytree': 0.4052524547500871, 'subsample': 0.3777786742674686, 'min_child_samples': 15, 'max_depth': 12, 'learning_rate': 0.025001248776856066, 'boosting_type': 'gbdt'}. Best is trial 7 with value: 0.25013555154044936.\u001b[0m\n",
      "\u001b[32m[I 2022-03-30 16:43:37,711]\u001b[0m Trial 62 finished with value: 0.18663584024661137 and parameters: {'subsample_freq': 0, 'n_estimators': 292, 'reg_alpha': 4.574937650701667e-07, 'reg_lambda': 0.0016575743969428358, 'colsample_bytree': 0.3263121302623108, 'subsample': 0.2744171255405512, 'min_child_samples': 10, 'max_depth': 11, 'learning_rate': 0.13044128426078666, 'boosting_type': 'gbdt'}. Best is trial 7 with value: 0.25013555154044936.\u001b[0m\n",
      "\u001b[32m[I 2022-03-30 16:43:45,009]\u001b[0m Trial 54 finished with value: 0.22479472167642434 and parameters: {'subsample_freq': 0, 'n_estimators': 298, 'reg_alpha': 0.0020572088241262647, 'reg_lambda': 6.9039158953595e-09, 'colsample_bytree': 0.10464779871484148, 'subsample': 0.3852288379728758, 'min_child_samples': 13, 'max_depth': 11, 'learning_rate': 0.021292591883791945, 'boosting_type': 'gbdt'}. Best is trial 7 with value: 0.25013555154044936.\u001b[0m\n",
      "\u001b[32m[I 2022-03-30 16:43:46,413]\u001b[0m Trial 70 finished with value: 0.2244792244792245 and parameters: {'subsample_freq': 0, 'n_estimators': 218, 'reg_alpha': 1.9064484184987295e-07, 'reg_lambda': 0.5244540429829172, 'colsample_bytree': 0.32743489334085624, 'subsample': 0.15450105553613638, 'min_child_samples': 5, 'max_depth': 6, 'learning_rate': 0.07425020160678011, 'boosting_type': 'gbdt'}. Best is trial 7 with value: 0.25013555154044936.\u001b[0m\n",
      "\u001b[32m[I 2022-03-30 16:43:47,876]\u001b[0m Trial 68 finished with value: 0.22336996336996337 and parameters: {'subsample_freq': 0, 'n_estimators': 89, 'reg_alpha': 3.2840770759385534e-07, 'reg_lambda': 5.640853848739364e-09, 'colsample_bytree': 0.4799807724488677, 'subsample': 0.27978158592043617, 'min_child_samples': 34, 'max_depth': 13, 'learning_rate': 0.16142853211107758, 'boosting_type': 'gbdt'}. Best is trial 7 with value: 0.25013555154044936.\u001b[0m\n",
      "\u001b[32m[I 2022-03-30 16:43:59,397]\u001b[0m Trial 69 finished with value: 0.21943872350163307 and parameters: {'subsample_freq': 0, 'n_estimators': 211, 'reg_alpha': 1.4075610453920339e-07, 'reg_lambda': 1.186911272292809e-08, 'colsample_bytree': 0.48661650548670526, 'subsample': 0.2971754151675258, 'min_child_samples': 70, 'max_depth': 13, 'learning_rate': 0.15809492721966673, 'boosting_type': 'gbdt'}. Best is trial 7 with value: 0.25013555154044936.\u001b[0m\n",
      "\u001b[32m[I 2022-03-30 16:44:08,410]\u001b[0m Trial 72 finished with value: 0.23844259471765672 and parameters: {'subsample_freq': 0, 'n_estimators': 216, 'reg_alpha': 4.521778085949338e-18, 'reg_lambda': 0.5206711455954354, 'colsample_bytree': 0.4176849252922534, 'subsample': 0.4347964379872718, 'min_child_samples': 68, 'max_depth': 10, 'learning_rate': 0.03139703262420353, 'boosting_type': 'gbdt'}. Best is trial 7 with value: 0.25013555154044936.\u001b[0m\n",
      "\u001b[32m[I 2022-03-30 16:44:18,440]\u001b[0m Trial 73 finished with value: 0.2258731183216309 and parameters: {'subsample_freq': 0, 'n_estimators': 280, 'reg_alpha': 9.294286102631969e-17, 'reg_lambda': 0.6584099913928217, 'colsample_bytree': 0.3379357741720264, 'subsample': 0.9293000082427488, 'min_child_samples': 5, 'max_depth': 6, 'learning_rate': 0.03269588033708318, 'boosting_type': 'gbdt'}. Best is trial 7 with value: 0.25013555154044936.\u001b[0m\n",
      "\u001b[32m[I 2022-03-30 16:44:20,181]\u001b[0m Trial 74 finished with value: 0.22952163468110118 and parameters: {'subsample_freq': 0, 'n_estimators': 256, 'reg_alpha': 0.2269804129908197, 'reg_lambda': 1.035876871742638, 'colsample_bytree': 0.3350116187598966, 'subsample': 0.4699459245527144, 'min_child_samples': 6, 'max_depth': 6, 'learning_rate': 0.04909573374252213, 'boosting_type': 'gbdt'}. Best is trial 7 with value: 0.25013555154044936.\u001b[0m\n",
      "\u001b[32m[I 2022-03-30 16:44:21,564]\u001b[0m Trial 76 finished with value: 0.18709409141045227 and parameters: {'subsample_freq': 0, 'n_estimators': 278, 'reg_alpha': 0.6174453691199682, 'reg_lambda': 0.7139819410306368, 'colsample_bytree': 0.061848988193627885, 'subsample': 0.05456321334670999, 'min_child_samples': 6, 'max_depth': 6, 'learning_rate': 0.04994323359343336, 'boosting_type': 'gbdt'}. Best is trial 7 with value: 0.25013555154044936.\u001b[0m\n"
     ]
    },
    {
     "name": "stderr",
     "output_type": "stream",
     "text": [
      "\u001b[32m[I 2022-03-30 16:44:24,409]\u001b[0m Trial 75 finished with value: 0.21468648516393074 and parameters: {'subsample_freq': 0, 'n_estimators': 259, 'reg_alpha': 1.0903338232738717e-18, 'reg_lambda': 0.47855499618949326, 'colsample_bytree': 0.3393563399079069, 'subsample': 0.4920804377661814, 'min_child_samples': 8, 'max_depth': 6, 'learning_rate': 0.07522541649615906, 'boosting_type': 'gbdt'}. Best is trial 7 with value: 0.25013555154044936.\u001b[0m\n",
      "\u001b[32m[I 2022-03-30 16:44:35,786]\u001b[0m Trial 77 finished with value: 0.2149501233470699 and parameters: {'subsample_freq': 0, 'n_estimators': 276, 'reg_alpha': 0.2995540842198168, 'reg_lambda': 0.447304211658286, 'colsample_bytree': 0.34084629033907426, 'subsample': 0.05630836641459319, 'min_child_samples': 6, 'max_depth': 6, 'learning_rate': 0.07584661626768385, 'boosting_type': 'gbdt'}. Best is trial 7 with value: 0.25013555154044936.\u001b[0m\n",
      "\u001b[32m[I 2022-03-30 16:45:10,676]\u001b[0m Trial 81 finished with value: 0.259382179434645 and parameters: {'subsample_freq': 0, 'n_estimators': 279, 'reg_alpha': 1.7865522492372493e-18, 'reg_lambda': 1.7875201897555726, 'colsample_bytree': 0.6244799265056983, 'subsample': 0.7353591493097681, 'min_child_samples': 66, 'max_depth': 10, 'learning_rate': 0.052511324226404754, 'boosting_type': 'gbdt'}. Best is trial 81 with value: 0.259382179434645.\u001b[0m\n",
      "\u001b[32m[I 2022-03-30 16:45:13,318]\u001b[0m Trial 64 finished with value: 0.2039457618404987 and parameters: {'subsample_freq': 0, 'n_estimators': 299, 'reg_alpha': 8.720671122655926e-05, 'reg_lambda': 1.8967932597275975e-08, 'colsample_bytree': 0.545527707407646, 'subsample': 0.2867670519699718, 'min_child_samples': 10, 'max_depth': 11, 'learning_rate': 0.07640762777363606, 'boosting_type': 'gbdt'}. Best is trial 81 with value: 0.259382179434645.\u001b[0m\n",
      "\u001b[32m[I 2022-03-30 16:45:24,846]\u001b[0m Trial 79 finished with value: 0.2278938731955887 and parameters: {'subsample_freq': 0, 'n_estimators': 279, 'reg_alpha': 1.230469357216202e-16, 'reg_lambda': 1.402872209531196, 'colsample_bytree': 0.5234429607495039, 'subsample': 0.4469992059327754, 'min_child_samples': 17, 'max_depth': 10, 'learning_rate': 0.04916067467953251, 'boosting_type': 'gbdt'}. Best is trial 81 with value: 0.259382179434645.\u001b[0m\n",
      "\u001b[32m[I 2022-03-30 16:45:25,946]\u001b[0m Trial 82 finished with value: 0.21773539539906675 and parameters: {'subsample_freq': 0, 'n_estimators': 238, 'reg_alpha': 1.53835057386306e-20, 'reg_lambda': 8.79571344477282e-06, 'colsample_bytree': 0.5122607922689805, 'subsample': 0.45100860048100705, 'min_child_samples': 63, 'max_depth': 10, 'learning_rate': 0.05031518465563141, 'boosting_type': 'gbdt'}. Best is trial 81 with value: 0.259382179434645.\u001b[0m\n",
      "\u001b[32m[I 2022-03-30 16:45:31,252]\u001b[0m Trial 85 finished with value: 0.2169601863507137 and parameters: {'subsample_freq': 0, 'n_estimators': 237, 'reg_alpha': 1.515876682307619e-20, 'reg_lambda': 0.007616883059347226, 'colsample_bytree': 0.6322735114194935, 'subsample': 0.8544876306887528, 'min_child_samples': 66, 'max_depth': 10, 'learning_rate': 0.01276182879334796, 'boosting_type': 'gbdt'}. Best is trial 81 with value: 0.259382179434645.\u001b[0m\n",
      "\u001b[32m[I 2022-03-30 16:45:31,738]\u001b[0m Trial 84 finished with value: 0.2055607518724062 and parameters: {'subsample_freq': 0, 'n_estimators': 235, 'reg_alpha': 1.0021122859749289e-18, 'reg_lambda': 0.00551861898612313, 'colsample_bytree': 0.4333225457375614, 'subsample': 0.8672416107676788, 'min_child_samples': 58, 'max_depth': 10, 'learning_rate': 0.011753656133158947, 'boosting_type': 'gbdt'}. Best is trial 81 with value: 0.259382179434645.\u001b[0m\n",
      "\u001b[32m[I 2022-03-30 16:45:35,760]\u001b[0m Trial 78 finished with value: 0.2340738275508223 and parameters: {'subsample_freq': 0, 'n_estimators': 278, 'reg_alpha': 4.303913607343231e-18, 'reg_lambda': 7.107211777117313e-06, 'colsample_bytree': 0.9356870098794183, 'subsample': 0.05862148321543181, 'min_child_samples': 32, 'max_depth': 10, 'learning_rate': 0.04823650270691717, 'boosting_type': 'gbdt'}. Best is trial 81 with value: 0.259382179434645.\u001b[0m\n",
      "\u001b[32m[I 2022-03-30 16:45:36,271]\u001b[0m Trial 83 finished with value: 0.20896358543417368 and parameters: {'subsample_freq': 0, 'n_estimators': 239, 'reg_alpha': 2.599183577341521e-18, 'reg_lambda': 7.384988292001788e-06, 'colsample_bytree': 0.43463467799567906, 'subsample': 0.07009672518967289, 'min_child_samples': 57, 'max_depth': 10, 'learning_rate': 0.012288737780352173, 'boosting_type': 'gbdt'}. Best is trial 81 with value: 0.259382179434645.\u001b[0m\n",
      "\u001b[32m[I 2022-03-30 16:45:37,388]\u001b[0m Trial 80 finished with value: 0.19304192219022054 and parameters: {'subsample_freq': 0, 'n_estimators': 258, 'reg_alpha': 0.21041495271717905, 'reg_lambda': 0.0002577781811767953, 'colsample_bytree': 0.43403886503212136, 'subsample': 0.06641141603195927, 'min_child_samples': 7, 'max_depth': 10, 'learning_rate': 0.05037744011445339, 'boosting_type': 'gbdt'}. Best is trial 81 with value: 0.259382179434645.\u001b[0m\n",
      "\u001b[32m[I 2022-03-30 16:45:50,736]\u001b[0m Trial 87 finished with value: 0.2411492929483349 and parameters: {'subsample_freq': 0, 'n_estimators': 201, 'reg_alpha': 1.0547240345790195e-20, 'reg_lambda': 1.035192849570425e-05, 'colsample_bytree': 0.6585921727118154, 'subsample': 0.19898622277495095, 'min_child_samples': 65, 'max_depth': 8, 'learning_rate': 0.03143728640693939, 'boosting_type': 'gbdt'}. Best is trial 81 with value: 0.259382179434645.\u001b[0m\n",
      "\u001b[32m[I 2022-03-30 16:46:10,983]\u001b[0m Trial 88 finished with value: 0.2421040972558048 and parameters: {'subsample_freq': 0, 'n_estimators': 239, 'reg_alpha': 1.9198205487445723e-20, 'reg_lambda': 0.00025952903766253557, 'colsample_bytree': 0.6334332907185569, 'subsample': 0.4174744151178174, 'min_child_samples': 66, 'max_depth': 10, 'learning_rate': 0.033270592705592975, 'boosting_type': 'gbdt'}. Best is trial 81 with value: 0.259382179434645.\u001b[0m\n",
      "\u001b[32m[I 2022-03-30 16:46:12,386]\u001b[0m Trial 90 finished with value: 0.22598162071846284 and parameters: {'subsample_freq': 0, 'n_estimators': 202, 'reg_alpha': 5.70014945374007e-20, 'reg_lambda': 0.0002929278198094203, 'colsample_bytree': 0.6949515176443875, 'subsample': 0.7190849620446345, 'min_child_samples': 67, 'max_depth': 8, 'learning_rate': 0.012572236542870967, 'boosting_type': 'gbdt'}. Best is trial 81 with value: 0.259382179434645.\u001b[0m\n",
      "\u001b[32m[I 2022-03-30 16:46:18,175]\u001b[0m Trial 95 finished with value: 0.219552781104253 and parameters: {'subsample_freq': 0, 'n_estimators': 205, 'reg_alpha': 7.600210250332378e-20, 'reg_lambda': 0.09064510605838728, 'colsample_bytree': 0.6984270130980254, 'subsample': 0.7146354807068689, 'min_child_samples': 80, 'max_depth': 8, 'learning_rate': 0.03143358151203418, 'boosting_type': 'gbdt'}. Best is trial 81 with value: 0.259382179434645.\u001b[0m\n",
      "\u001b[32m[I 2022-03-30 16:46:21,024]\u001b[0m Trial 89 finished with value: 0.2205295793531088 and parameters: {'subsample_freq': 0, 'n_estimators': 235, 'reg_alpha': 2.7796572387878294e-19, 'reg_lambda': 0.0003008682652434457, 'colsample_bytree': 0.6311633643790082, 'subsample': 0.19407735059398645, 'min_child_samples': 67, 'max_depth': 8, 'learning_rate': 0.01184303884847005, 'boosting_type': 'gbdt'}. Best is trial 81 with value: 0.259382179434645.\u001b[0m\n",
      "\u001b[32m[I 2022-03-30 16:46:22,009]\u001b[0m Trial 93 finished with value: 0.22378622396971024 and parameters: {'subsample_freq': 0, 'n_estimators': 201, 'reg_alpha': 6.7357651271169e-16, 'reg_lambda': 0.00022625702270706504, 'colsample_bytree': 0.7447109588017122, 'subsample': 0.7076756358559666, 'min_child_samples': 67, 'max_depth': 8, 'learning_rate': 0.25806835964084474, 'boosting_type': 'gbdt'}. Best is trial 81 with value: 0.259382179434645.\u001b[0m\n",
      "\u001b[32m[I 2022-03-30 16:46:25,051]\u001b[0m Trial 91 finished with value: 0.221657848324515 and parameters: {'subsample_freq': 0, 'n_estimators': 204, 'reg_alpha': 1.2986133570622526e-17, 'reg_lambda': 0.0004443492462900902, 'colsample_bytree': 0.4355366048327774, 'subsample': 0.7288216531446661, 'min_child_samples': 57, 'max_depth': 8, 'learning_rate': 0.03335391002980795, 'boosting_type': 'gbdt'}. Best is trial 81 with value: 0.259382179434645.\u001b[0m\n",
      "\u001b[32m[I 2022-03-30 16:46:25,516]\u001b[0m Trial 94 finished with value: 0.238926717490932 and parameters: {'subsample_freq': 0, 'n_estimators': 202, 'reg_alpha': 1.174184770957664e-19, 'reg_lambda': 0.00036053731192721027, 'colsample_bytree': 0.7049366844821594, 'subsample': 0.7445200789384624, 'min_child_samples': 73, 'max_depth': 8, 'learning_rate': 0.03153968631721044, 'boosting_type': 'gbdt'}. Best is trial 81 with value: 0.259382179434645.\u001b[0m\n"
     ]
    },
    {
     "name": "stderr",
     "output_type": "stream",
     "text": [
      "\u001b[32m[I 2022-03-30 16:46:27,437]\u001b[0m Trial 92 finished with value: 0.22671017364416823 and parameters: {'subsample_freq': 0, 'n_estimators': 245, 'reg_alpha': 9.19469508717781e-18, 'reg_lambda': 0.00037605023694895287, 'colsample_bytree': 0.9276114161446463, 'subsample': 0.7336706370987504, 'min_child_samples': 80, 'max_depth': 9, 'learning_rate': 0.032577392129876995, 'boosting_type': 'gbdt'}. Best is trial 81 with value: 0.259382179434645.\u001b[0m\n",
      "\u001b[32m[I 2022-03-30 16:46:29,301]\u001b[0m Trial 96 finished with value: 0.24229071161209628 and parameters: {'subsample_freq': 0, 'n_estimators': 197, 'reg_alpha': 9.972220938220113e-20, 'reg_lambda': 0.0003620461595691682, 'colsample_bytree': 0.7146884325844984, 'subsample': 0.7457893973610346, 'min_child_samples': 67, 'max_depth': 8, 'learning_rate': 0.03279934823712991, 'boosting_type': 'gbdt'}. Best is trial 81 with value: 0.259382179434645.\u001b[0m\n",
      "\u001b[32m[I 2022-03-30 16:46:30,168]\u001b[0m Trial 86 finished with value: 0.2629737580717973 and parameters: {'subsample_freq': 0, 'n_estimators': 235, 'reg_alpha': 4.517845153419324e-20, 'reg_lambda': 0.0003814408820850157, 'colsample_bytree': 0.43913094108760964, 'subsample': 0.7444318013887783, 'min_child_samples': 17, 'max_depth': 10, 'learning_rate': 0.01250188105888474, 'boosting_type': 'gbdt'}. Best is trial 86 with value: 0.2629737580717973.\u001b[0m\n",
      "\u001b[32m[I 2022-03-30 16:46:32,036]\u001b[0m Trial 97 finished with value: 0.2400881655587764 and parameters: {'subsample_freq': 0, 'n_estimators': 197, 'reg_alpha': 8.631993853648354e-20, 'reg_lambda': 1.7602038267448518e-07, 'colsample_bytree': 0.7235757441117016, 'subsample': 0.18971057300340718, 'min_child_samples': 74, 'max_depth': 8, 'learning_rate': 0.03277939916183192, 'boosting_type': 'gbdt'}. Best is trial 86 with value: 0.2629737580717973.\u001b[0m\n",
      "\u001b[32m[I 2022-03-30 16:46:32,371]\u001b[0m Trial 98 finished with value: 0.22864361984864556 and parameters: {'subsample_freq': 0, 'n_estimators': 199, 'reg_alpha': 2.0091607425776618e-19, 'reg_lambda': 1.3937916085558236e-07, 'colsample_bytree': 0.7192562072224976, 'subsample': 0.2110785641821214, 'min_child_samples': 74, 'max_depth': 9, 'learning_rate': 0.03229670204407575, 'boosting_type': 'gbdt'}. Best is trial 86 with value: 0.2629737580717973.\u001b[0m\n",
      "\u001b[32m[I 2022-03-30 16:46:34,417]\u001b[0m Trial 99 finished with value: 0.24889122997910518 and parameters: {'subsample_freq': 0, 'n_estimators': 230, 'reg_alpha': 1.9476321055897942e-19, 'reg_lambda': 6.132671467177855e-05, 'colsample_bytree': 0.6057021146163651, 'subsample': 0.5235957340010344, 'min_child_samples': 67, 'max_depth': 9, 'learning_rate': 0.03148238619507317, 'boosting_type': 'gbdt'}. Best is trial 86 with value: 0.2629737580717973.\u001b[0m\n"
     ]
    },
    {
     "name": "stdout",
     "output_type": "stream",
     "text": [
      "FrozenTrial(number=86, values=[0.2629737580717973], datetime_start=datetime.datetime(2022, 3, 30, 16, 44, 35, 788738), datetime_complete=datetime.datetime(2022, 3, 30, 16, 46, 30, 167944), params={'subsample_freq': 0, 'n_estimators': 235, 'reg_alpha': 4.517845153419324e-20, 'reg_lambda': 0.0003814408820850157, 'colsample_bytree': 0.43913094108760964, 'subsample': 0.7444318013887783, 'min_child_samples': 17, 'max_depth': 10, 'learning_rate': 0.01250188105888474, 'boosting_type': 'gbdt'}, distributions={'subsample_freq': IntUniformDistribution(high=0, low=0, step=1), 'n_estimators': IntUniformDistribution(high=300, low=50, step=1), 'reg_alpha': LogUniformDistribution(high=2.0, low=1e-20), 'reg_lambda': LogUniformDistribution(high=2.0, low=1e-20), 'colsample_bytree': UniformDistribution(high=1.0, low=0.01), 'subsample': UniformDistribution(high=1.0, low=0.01), 'min_child_samples': IntUniformDistribution(high=100, low=5, step=1), 'max_depth': IntUniformDistribution(high=20, low=3, step=1), 'learning_rate': UniformDistribution(high=0.3, low=0.001), 'boosting_type': CategoricalDistribution(choices=('gbdt',))}, user_attrs={}, system_attrs={}, intermediate_values={}, trial_id=86, state=TrialState.COMPLETE, value=None)\n"
     ]
    }
   ],
   "source": [
    "study = optuna.create_study(direction=\"maximize\")\n",
    "# study.enqueue_trial(best_params)\n",
    "study.optimize(objective, n_trials=100, n_jobs=10)\n",
    "print(study.best_trial)"
   ]
  },
  {
   "cell_type": "code",
   "execution_count": 60,
   "metadata": {},
   "outputs": [],
   "source": [
    "best_params = objective.add_params(study.best_params)"
   ]
  },
  {
   "cell_type": "code",
   "execution_count": 61,
   "metadata": {},
   "outputs": [
    {
     "name": "stdout",
     "output_type": "stream",
     "text": [
      "Best model test f1 score is 0.396\n"
     ]
    }
   ],
   "source": [
    "# adasyn = ADASYN(sampling_strategy=1,\n",
    "#                n_neighbors=2)\n",
    "# smote = SMOTEN(k_neighbors=5)\n",
    "final_model = lightgbm.LGBMClassifier(**best_params)\n",
    "best_params['subsample_freq'] = 0\n",
    "final_model.fit(train_fp, y_train)\n",
    "test_predictions = final_model.predict(test_fp)\n",
    "score = f1_score(y_test, test_predictions)\n",
    "print(f\"Best model test f1 score is {round(score, 3)}\")"
   ]
  },
  {
   "cell_type": "markdown",
   "metadata": {},
   "source": [
    "## pubchem fingerprint"
   ]
  },
  {
   "cell_type": "code",
   "execution_count": 18,
   "metadata": {},
   "outputs": [],
   "source": [
    "from PyFingerprint.fingerprint import get_fingerprint, get_fingerprints\n",
    "from tqdm.auto import tqdm"
   ]
  },
  {
   "cell_type": "code",
   "execution_count": 19,
   "metadata": {},
   "outputs": [
    {
     "name": "stderr",
     "output_type": "stream",
     "text": [
      "100%|██████████| 5557/5557 [00:36<00:00, 152.20it/s]\n"
     ]
    }
   ],
   "source": [
    "train_fp_pubchem  = [get_fingerprint(smile,\"pubchem\") for smile in tqdm(train_data.smiles.values)]\n",
    "train_fp_pubchem =np.stack([fp.to_numpy() for fp in train_fp_pubchem])"
   ]
  },
  {
   "cell_type": "code",
   "execution_count": 20,
   "metadata": {},
   "outputs": [
    {
     "name": "stderr",
     "output_type": "stream",
     "text": [
      "100%|██████████| 1614/1614 [00:09<00:00, 161.92it/s]\n"
     ]
    }
   ],
   "source": [
    "test_fp_pubchem  = [get_fingerprint(smile,\"pubchem\") for smile in tqdm(test_data.smiles.values)]\n",
    "test_fp_pubchem =np.stack([fp.to_numpy() for fp in test_fp_pubchem])"
   ]
  },
  {
   "cell_type": "code",
   "execution_count": 27,
   "metadata": {},
   "outputs": [
    {
     "data": {
      "text/plain": [
       "0       0\n",
       "1       0\n",
       "2       0\n",
       "3       0\n",
       "4       0\n",
       "       ..\n",
       "5552    0\n",
       "5553    0\n",
       "5554    0\n",
       "5555    0\n",
       "5556    0\n",
       "Name: Active, Length: 5557, dtype: int64"
      ]
     },
     "execution_count": 27,
     "metadata": {},
     "output_type": "execute_result"
    }
   ],
   "source": [
    "y_train"
   ]
  },
  {
   "cell_type": "code",
   "execution_count": 34,
   "metadata": {},
   "outputs": [
    {
     "data": {
      "text/plain": [
       "0       0\n",
       "1       0\n",
       "2       0\n",
       "3       0\n",
       "4       0\n",
       "       ..\n",
       "5552    0\n",
       "5553    0\n",
       "5554    0\n",
       "5555    0\n",
       "5556    0\n",
       "Name: Active, Length: 5557, dtype: int64"
      ]
     },
     "execution_count": 34,
     "metadata": {},
     "output_type": "execute_result"
    }
   ],
   "source": [
    "y_train"
   ]
  },
  {
   "cell_type": "code",
   "execution_count": 36,
   "metadata": {},
   "outputs": [
    {
     "name": "stderr",
     "output_type": "stream",
     "text": [
      "100%|██████████| 3/3 [00:00<00:00, 56.09it/s]\n"
     ]
    }
   ],
   "source": [
    "objective = Objective(train_fp_pubchem, y_train,cv=cv)\n"
   ]
  },
  {
   "cell_type": "code",
   "execution_count": 39,
   "metadata": {},
   "outputs": [
    {
     "name": "stderr",
     "output_type": "stream",
     "text": [
      "\u001b[32m[I 2022-03-30 16:55:28,165]\u001b[0m A new study created in memory with name: no-name-f98a19b4-2435-433c-84b8-59473b5cf736\u001b[0m\n",
      "/home/skuznetsov/.conda/envs/ml/lib/python3.7/site-packages/optuna/study/study.py:397: FutureWarning: `n_jobs` argument has been deprecated in v2.7.0. This feature will be removed in v4.0.0. See https://github.com/optuna/optuna/releases/tag/v2.7.0.\n",
      "  FutureWarning,\n",
      "\u001b[32m[I 2022-03-30 16:55:40,526]\u001b[0m Trial 5 finished with value: 0.23159729684552377 and parameters: {'subsample_freq': 0, 'n_estimators': 297, 'reg_alpha': 0.0005681711684213201, 'reg_lambda': 0.0006785226295028941, 'colsample_bytree': 0.4710510073513651, 'subsample': 0.8533862582822663, 'min_child_samples': 86, 'max_depth': 4, 'learning_rate': 0.21126740149945172, 'boosting_type': 'gbdt'}. Best is trial 5 with value: 0.23159729684552377.\u001b[0m\n",
      "\u001b[32m[I 2022-03-30 16:55:43,045]\u001b[0m Trial 6 finished with value: 0.20899066737380376 and parameters: {'subsample_freq': 0, 'n_estimators': 151, 'reg_alpha': 0.33703790633828656, 'reg_lambda': 6.1318906060051755e-09, 'colsample_bytree': 0.7501655600228566, 'subsample': 0.2700564162106386, 'min_child_samples': 9, 'max_depth': 6, 'learning_rate': 0.23705325959583873, 'boosting_type': 'gbdt'}. Best is trial 5 with value: 0.23159729684552377.\u001b[0m\n",
      "\u001b[32m[I 2022-03-30 16:55:43,439]\u001b[0m Trial 3 finished with value: 0.2446507410911384 and parameters: {'subsample_freq': 0, 'n_estimators': 135, 'reg_alpha': 0.0031609541417044382, 'reg_lambda': 4.307701183078013e-15, 'colsample_bytree': 0.5688535810332939, 'subsample': 0.08464079338858588, 'min_child_samples': 57, 'max_depth': 7, 'learning_rate': 0.078139915076958, 'boosting_type': 'gbdt'}. Best is trial 3 with value: 0.2446507410911384.\u001b[0m\n",
      "\u001b[32m[I 2022-03-30 16:55:43,805]\u001b[0m Trial 4 finished with value: 0.23144602642613954 and parameters: {'subsample_freq': 0, 'n_estimators': 191, 'reg_alpha': 4.083860214852164e-08, 'reg_lambda': 8.770223032166854e-07, 'colsample_bytree': 0.6811847310373472, 'subsample': 0.022116763659188465, 'min_child_samples': 83, 'max_depth': 7, 'learning_rate': 0.26691602196932807, 'boosting_type': 'gbdt'}. Best is trial 3 with value: 0.2446507410911384.\u001b[0m\n",
      "\u001b[32m[I 2022-03-30 16:55:51,144]\u001b[0m Trial 10 finished with value: 0.20404836295903284 and parameters: {'subsample_freq': 0, 'n_estimators': 125, 'reg_alpha': 9.025588359701717e-10, 'reg_lambda': 1.423645525574876e-14, 'colsample_bytree': 0.2562838002250082, 'subsample': 0.7967685357339983, 'min_child_samples': 75, 'max_depth': 4, 'learning_rate': 0.27035759312792057, 'boosting_type': 'gbdt'}. Best is trial 3 with value: 0.2446507410911384.\u001b[0m\n",
      "\u001b[32m[I 2022-03-30 16:55:56,526]\u001b[0m Trial 7 finished with value: 0.16127671588887416 and parameters: {'subsample_freq': 0, 'n_estimators': 187, 'reg_alpha': 0.17479304110502886, 'reg_lambda': 3.1031022348406125e-11, 'colsample_bytree': 0.09258792026477806, 'subsample': 0.891230537275696, 'min_child_samples': 20, 'max_depth': 14, 'learning_rate': 0.2440088737651539, 'boosting_type': 'gbdt'}. Best is trial 3 with value: 0.2446507410911384.\u001b[0m\n",
      "\u001b[32m[I 2022-03-30 16:56:01,163]\u001b[0m Trial 0 finished with value: 0.24941401065672908 and parameters: {'subsample_freq': 0, 'n_estimators': 285, 'reg_alpha': 8.83588761101549e-20, 'reg_lambda': 1.2960636333936946, 'colsample_bytree': 0.3562024041171845, 'subsample': 0.616183006412332, 'min_child_samples': 43, 'max_depth': 8, 'learning_rate': 0.2046172375227832, 'boosting_type': 'gbdt'}. Best is trial 0 with value: 0.24941401065672908.\u001b[0m\n",
      "\u001b[32m[I 2022-03-30 16:56:04,272]\u001b[0m Trial 13 finished with value: 0.19671000788022064 and parameters: {'subsample_freq': 0, 'n_estimators': 59, 'reg_alpha': 4.710093109947474e-15, 'reg_lambda': 4.68380450903993e-14, 'colsample_bytree': 0.43350071818479124, 'subsample': 0.7883774149924122, 'min_child_samples': 39, 'max_depth': 6, 'learning_rate': 0.21849502683365787, 'boosting_type': 'gbdt'}. Best is trial 0 with value: 0.24941401065672908.\u001b[0m\n",
      "\u001b[32m[I 2022-03-30 16:56:07,404]\u001b[0m Trial 9 finished with value: 0.2432156144058469 and parameters: {'subsample_freq': 0, 'n_estimators': 186, 'reg_alpha': 7.678843414694859e-17, 'reg_lambda': 0.35871709017877473, 'colsample_bytree': 0.06251044077983993, 'subsample': 0.2837345329396903, 'min_child_samples': 91, 'max_depth': 13, 'learning_rate': 0.2314623887204215, 'boosting_type': 'gbdt'}. Best is trial 0 with value: 0.24941401065672908.\u001b[0m\n",
      "\u001b[32m[I 2022-03-30 16:56:16,420]\u001b[0m Trial 14 finished with value: 0.20510468356872258 and parameters: {'subsample_freq': 0, 'n_estimators': 79, 'reg_alpha': 3.4723276327430574e-11, 'reg_lambda': 0.4355079389821907, 'colsample_bytree': 0.07833547490126604, 'subsample': 0.8614967624439205, 'min_child_samples': 53, 'max_depth': 11, 'learning_rate': 0.07213248969059877, 'boosting_type': 'gbdt'}. Best is trial 0 with value: 0.24941401065672908.\u001b[0m\n",
      "\u001b[32m[I 2022-03-30 16:56:22,628]\u001b[0m Trial 16 finished with value: 0.2206736353077816 and parameters: {'subsample_freq': 0, 'n_estimators': 170, 'reg_alpha': 2.5687171555245376e-20, 'reg_lambda': 6.297091420621883e-16, 'colsample_bytree': 0.4523100688278681, 'subsample': 0.6673070903736564, 'min_child_samples': 71, 'max_depth': 6, 'learning_rate': 0.19922404862110268, 'boosting_type': 'gbdt'}. Best is trial 0 with value: 0.24941401065672908.\u001b[0m\n"
     ]
    },
    {
     "ename": "KeyboardInterrupt",
     "evalue": "",
     "output_type": "error",
     "traceback": [
      "\u001b[0;31m---------------------------------------------------------------------------\u001b[0m",
      "\u001b[0;31mKeyboardInterrupt\u001b[0m                         Traceback (most recent call last)",
      "\u001b[0;32m~/.conda/envs/ml/lib/python3.7/site-packages/optuna/study/_optimize.py\u001b[0m in \u001b[0;36m_optimize\u001b[0;34m(study, func, n_trials, timeout, n_jobs, catch, callbacks, gc_after_trial, show_progress_bar)\u001b[0m\n\u001b[1;32m    102\u001b[0m                     \u001b[0;32mif\u001b[0m \u001b[0mlen\u001b[0m\u001b[0;34m(\u001b[0m\u001b[0mfutures\u001b[0m\u001b[0;34m)\u001b[0m \u001b[0;34m>=\u001b[0m \u001b[0mn_jobs\u001b[0m\u001b[0;34m:\u001b[0m\u001b[0;34m\u001b[0m\u001b[0;34m\u001b[0m\u001b[0m\n\u001b[0;32m--> 103\u001b[0;31m                         \u001b[0mcompleted\u001b[0m\u001b[0;34m,\u001b[0m \u001b[0mfutures\u001b[0m \u001b[0;34m=\u001b[0m \u001b[0mwait\u001b[0m\u001b[0;34m(\u001b[0m\u001b[0mfutures\u001b[0m\u001b[0;34m,\u001b[0m \u001b[0mreturn_when\u001b[0m\u001b[0;34m=\u001b[0m\u001b[0mFIRST_COMPLETED\u001b[0m\u001b[0;34m)\u001b[0m\u001b[0;34m\u001b[0m\u001b[0;34m\u001b[0m\u001b[0m\n\u001b[0m\u001b[1;32m    104\u001b[0m                         \u001b[0;31m# Raise if exception occurred in executing the completed futures.\u001b[0m\u001b[0;34m\u001b[0m\u001b[0;34m\u001b[0m\u001b[0;34m\u001b[0m\u001b[0m\n",
      "\u001b[0;32m~/.conda/envs/ml/lib/python3.7/concurrent/futures/_base.py\u001b[0m in \u001b[0;36mwait\u001b[0;34m(fs, timeout, return_when)\u001b[0m\n\u001b[1;32m    300\u001b[0m \u001b[0;34m\u001b[0m\u001b[0m\n\u001b[0;32m--> 301\u001b[0;31m     \u001b[0mwaiter\u001b[0m\u001b[0;34m.\u001b[0m\u001b[0mevent\u001b[0m\u001b[0;34m.\u001b[0m\u001b[0mwait\u001b[0m\u001b[0;34m(\u001b[0m\u001b[0mtimeout\u001b[0m\u001b[0;34m)\u001b[0m\u001b[0;34m\u001b[0m\u001b[0;34m\u001b[0m\u001b[0m\n\u001b[0m\u001b[1;32m    302\u001b[0m     \u001b[0;32mfor\u001b[0m \u001b[0mf\u001b[0m \u001b[0;32min\u001b[0m \u001b[0mfs\u001b[0m\u001b[0;34m:\u001b[0m\u001b[0;34m\u001b[0m\u001b[0;34m\u001b[0m\u001b[0m\n",
      "\u001b[0;32m~/.conda/envs/ml/lib/python3.7/threading.py\u001b[0m in \u001b[0;36mwait\u001b[0;34m(self, timeout)\u001b[0m\n\u001b[1;32m    551\u001b[0m             \u001b[0;32mif\u001b[0m \u001b[0;32mnot\u001b[0m \u001b[0msignaled\u001b[0m\u001b[0;34m:\u001b[0m\u001b[0;34m\u001b[0m\u001b[0;34m\u001b[0m\u001b[0m\n\u001b[0;32m--> 552\u001b[0;31m                 \u001b[0msignaled\u001b[0m \u001b[0;34m=\u001b[0m \u001b[0mself\u001b[0m\u001b[0;34m.\u001b[0m\u001b[0m_cond\u001b[0m\u001b[0;34m.\u001b[0m\u001b[0mwait\u001b[0m\u001b[0;34m(\u001b[0m\u001b[0mtimeout\u001b[0m\u001b[0;34m)\u001b[0m\u001b[0;34m\u001b[0m\u001b[0;34m\u001b[0m\u001b[0m\n\u001b[0m\u001b[1;32m    553\u001b[0m             \u001b[0;32mreturn\u001b[0m \u001b[0msignaled\u001b[0m\u001b[0;34m\u001b[0m\u001b[0;34m\u001b[0m\u001b[0m\n",
      "\u001b[0;32m~/.conda/envs/ml/lib/python3.7/threading.py\u001b[0m in \u001b[0;36mwait\u001b[0;34m(self, timeout)\u001b[0m\n\u001b[1;32m    295\u001b[0m             \u001b[0;32mif\u001b[0m \u001b[0mtimeout\u001b[0m \u001b[0;32mis\u001b[0m \u001b[0;32mNone\u001b[0m\u001b[0;34m:\u001b[0m\u001b[0;34m\u001b[0m\u001b[0;34m\u001b[0m\u001b[0m\n\u001b[0;32m--> 296\u001b[0;31m                 \u001b[0mwaiter\u001b[0m\u001b[0;34m.\u001b[0m\u001b[0macquire\u001b[0m\u001b[0;34m(\u001b[0m\u001b[0;34m)\u001b[0m\u001b[0;34m\u001b[0m\u001b[0;34m\u001b[0m\u001b[0m\n\u001b[0m\u001b[1;32m    297\u001b[0m                 \u001b[0mgotit\u001b[0m \u001b[0;34m=\u001b[0m \u001b[0;32mTrue\u001b[0m\u001b[0;34m\u001b[0m\u001b[0;34m\u001b[0m\u001b[0m\n",
      "\u001b[0;31mKeyboardInterrupt\u001b[0m: ",
      "\nDuring handling of the above exception, another exception occurred:\n",
      "\u001b[0;31mKeyboardInterrupt\u001b[0m                         Traceback (most recent call last)",
      "\u001b[0;32m/tmp/ipykernel_1036/3468762172.py\u001b[0m in \u001b[0;36m<module>\u001b[0;34m\u001b[0m\n\u001b[1;32m      1\u001b[0m \u001b[0mstudy\u001b[0m \u001b[0;34m=\u001b[0m \u001b[0moptuna\u001b[0m\u001b[0;34m.\u001b[0m\u001b[0mcreate_study\u001b[0m\u001b[0;34m(\u001b[0m\u001b[0mdirection\u001b[0m\u001b[0;34m=\u001b[0m\u001b[0;34m\"maximize\"\u001b[0m\u001b[0;34m)\u001b[0m\u001b[0;34m\u001b[0m\u001b[0;34m\u001b[0m\u001b[0m\n\u001b[1;32m      2\u001b[0m \u001b[0;31m# study.enqueue_trial(best_params)\u001b[0m\u001b[0;34m\u001b[0m\u001b[0;34m\u001b[0m\u001b[0;34m\u001b[0m\u001b[0m\n\u001b[0;32m----> 3\u001b[0;31m \u001b[0mstudy\u001b[0m\u001b[0;34m.\u001b[0m\u001b[0moptimize\u001b[0m\u001b[0;34m(\u001b[0m\u001b[0mobjective\u001b[0m\u001b[0;34m,\u001b[0m \u001b[0mn_trials\u001b[0m\u001b[0;34m=\u001b[0m\u001b[0;36m100\u001b[0m\u001b[0;34m,\u001b[0m \u001b[0mn_jobs\u001b[0m\u001b[0;34m=\u001b[0m\u001b[0;36m8\u001b[0m\u001b[0;34m)\u001b[0m\u001b[0;34m\u001b[0m\u001b[0;34m\u001b[0m\u001b[0m\n\u001b[0m\u001b[1;32m      4\u001b[0m \u001b[0mprint\u001b[0m\u001b[0;34m(\u001b[0m\u001b[0mstudy\u001b[0m\u001b[0;34m.\u001b[0m\u001b[0mbest_trial\u001b[0m\u001b[0;34m)\u001b[0m\u001b[0;34m\u001b[0m\u001b[0;34m\u001b[0m\u001b[0m\n",
      "\u001b[0;32m~/.conda/envs/ml/lib/python3.7/site-packages/optuna/study/study.py\u001b[0m in \u001b[0;36moptimize\u001b[0;34m(self, func, n_trials, timeout, n_jobs, catch, callbacks, gc_after_trial, show_progress_bar)\u001b[0m\n\u001b[1;32m    407\u001b[0m             \u001b[0mcallbacks\u001b[0m\u001b[0;34m=\u001b[0m\u001b[0mcallbacks\u001b[0m\u001b[0;34m,\u001b[0m\u001b[0;34m\u001b[0m\u001b[0;34m\u001b[0m\u001b[0m\n\u001b[1;32m    408\u001b[0m             \u001b[0mgc_after_trial\u001b[0m\u001b[0;34m=\u001b[0m\u001b[0mgc_after_trial\u001b[0m\u001b[0;34m,\u001b[0m\u001b[0;34m\u001b[0m\u001b[0;34m\u001b[0m\u001b[0m\n\u001b[0;32m--> 409\u001b[0;31m             \u001b[0mshow_progress_bar\u001b[0m\u001b[0;34m=\u001b[0m\u001b[0mshow_progress_bar\u001b[0m\u001b[0;34m,\u001b[0m\u001b[0;34m\u001b[0m\u001b[0;34m\u001b[0m\u001b[0m\n\u001b[0m\u001b[1;32m    410\u001b[0m         )\n\u001b[1;32m    411\u001b[0m \u001b[0;34m\u001b[0m\u001b[0m\n",
      "\u001b[0;32m~/.conda/envs/ml/lib/python3.7/site-packages/optuna/study/_optimize.py\u001b[0m in \u001b[0;36m_optimize\u001b[0;34m(study, func, n_trials, timeout, n_jobs, catch, callbacks, gc_after_trial, show_progress_bar)\u001b[0m\n\u001b[1;32m    118\u001b[0m                             \u001b[0;32mTrue\u001b[0m\u001b[0;34m,\u001b[0m\u001b[0;34m\u001b[0m\u001b[0;34m\u001b[0m\u001b[0m\n\u001b[1;32m    119\u001b[0m                             \u001b[0mtime_start\u001b[0m\u001b[0;34m,\u001b[0m\u001b[0;34m\u001b[0m\u001b[0;34m\u001b[0m\u001b[0m\n\u001b[0;32m--> 120\u001b[0;31m                             \u001b[0;32mNone\u001b[0m\u001b[0;34m,\u001b[0m\u001b[0;34m\u001b[0m\u001b[0;34m\u001b[0m\u001b[0m\n\u001b[0m\u001b[1;32m    121\u001b[0m                         )\n\u001b[1;32m    122\u001b[0m                     )\n",
      "\u001b[0;32m~/.conda/envs/ml/lib/python3.7/concurrent/futures/_base.py\u001b[0m in \u001b[0;36m__exit__\u001b[0;34m(self, exc_type, exc_val, exc_tb)\u001b[0m\n\u001b[1;32m    621\u001b[0m \u001b[0;34m\u001b[0m\u001b[0m\n\u001b[1;32m    622\u001b[0m     \u001b[0;32mdef\u001b[0m \u001b[0m__exit__\u001b[0m\u001b[0;34m(\u001b[0m\u001b[0mself\u001b[0m\u001b[0;34m,\u001b[0m \u001b[0mexc_type\u001b[0m\u001b[0;34m,\u001b[0m \u001b[0mexc_val\u001b[0m\u001b[0;34m,\u001b[0m \u001b[0mexc_tb\u001b[0m\u001b[0;34m)\u001b[0m\u001b[0;34m:\u001b[0m\u001b[0;34m\u001b[0m\u001b[0;34m\u001b[0m\u001b[0m\n\u001b[0;32m--> 623\u001b[0;31m         \u001b[0mself\u001b[0m\u001b[0;34m.\u001b[0m\u001b[0mshutdown\u001b[0m\u001b[0;34m(\u001b[0m\u001b[0mwait\u001b[0m\u001b[0;34m=\u001b[0m\u001b[0;32mTrue\u001b[0m\u001b[0;34m)\u001b[0m\u001b[0;34m\u001b[0m\u001b[0;34m\u001b[0m\u001b[0m\n\u001b[0m\u001b[1;32m    624\u001b[0m         \u001b[0;32mreturn\u001b[0m \u001b[0;32mFalse\u001b[0m\u001b[0;34m\u001b[0m\u001b[0;34m\u001b[0m\u001b[0m\n\u001b[1;32m    625\u001b[0m \u001b[0;34m\u001b[0m\u001b[0m\n",
      "\u001b[0;32m~/.conda/envs/ml/lib/python3.7/concurrent/futures/thread.py\u001b[0m in \u001b[0;36mshutdown\u001b[0;34m(self, wait)\u001b[0m\n\u001b[1;32m    214\u001b[0m         \u001b[0;32mif\u001b[0m \u001b[0mwait\u001b[0m\u001b[0;34m:\u001b[0m\u001b[0;34m\u001b[0m\u001b[0;34m\u001b[0m\u001b[0m\n\u001b[1;32m    215\u001b[0m             \u001b[0;32mfor\u001b[0m \u001b[0mt\u001b[0m \u001b[0;32min\u001b[0m \u001b[0mself\u001b[0m\u001b[0;34m.\u001b[0m\u001b[0m_threads\u001b[0m\u001b[0;34m:\u001b[0m\u001b[0;34m\u001b[0m\u001b[0;34m\u001b[0m\u001b[0m\n\u001b[0;32m--> 216\u001b[0;31m                 \u001b[0mt\u001b[0m\u001b[0;34m.\u001b[0m\u001b[0mjoin\u001b[0m\u001b[0;34m(\u001b[0m\u001b[0;34m)\u001b[0m\u001b[0;34m\u001b[0m\u001b[0;34m\u001b[0m\u001b[0m\n\u001b[0m\u001b[1;32m    217\u001b[0m     \u001b[0mshutdown\u001b[0m\u001b[0;34m.\u001b[0m\u001b[0m__doc__\u001b[0m \u001b[0;34m=\u001b[0m \u001b[0m_base\u001b[0m\u001b[0;34m.\u001b[0m\u001b[0mExecutor\u001b[0m\u001b[0;34m.\u001b[0m\u001b[0mshutdown\u001b[0m\u001b[0;34m.\u001b[0m\u001b[0m__doc__\u001b[0m\u001b[0;34m\u001b[0m\u001b[0;34m\u001b[0m\u001b[0m\n",
      "\u001b[0;32m~/.conda/envs/ml/lib/python3.7/threading.py\u001b[0m in \u001b[0;36mjoin\u001b[0;34m(self, timeout)\u001b[0m\n\u001b[1;32m   1042\u001b[0m \u001b[0;34m\u001b[0m\u001b[0m\n\u001b[1;32m   1043\u001b[0m         \u001b[0;32mif\u001b[0m \u001b[0mtimeout\u001b[0m \u001b[0;32mis\u001b[0m \u001b[0;32mNone\u001b[0m\u001b[0;34m:\u001b[0m\u001b[0;34m\u001b[0m\u001b[0;34m\u001b[0m\u001b[0m\n\u001b[0;32m-> 1044\u001b[0;31m             \u001b[0mself\u001b[0m\u001b[0;34m.\u001b[0m\u001b[0m_wait_for_tstate_lock\u001b[0m\u001b[0;34m(\u001b[0m\u001b[0;34m)\u001b[0m\u001b[0;34m\u001b[0m\u001b[0;34m\u001b[0m\u001b[0m\n\u001b[0m\u001b[1;32m   1045\u001b[0m         \u001b[0;32melse\u001b[0m\u001b[0;34m:\u001b[0m\u001b[0;34m\u001b[0m\u001b[0;34m\u001b[0m\u001b[0m\n\u001b[1;32m   1046\u001b[0m             \u001b[0;31m# the behavior of a negative timeout isn't documented, but\u001b[0m\u001b[0;34m\u001b[0m\u001b[0;34m\u001b[0m\u001b[0;34m\u001b[0m\u001b[0m\n",
      "\u001b[0;32m~/.conda/envs/ml/lib/python3.7/threading.py\u001b[0m in \u001b[0;36m_wait_for_tstate_lock\u001b[0;34m(self, block, timeout)\u001b[0m\n\u001b[1;32m   1058\u001b[0m         \u001b[0;32mif\u001b[0m \u001b[0mlock\u001b[0m \u001b[0;32mis\u001b[0m \u001b[0;32mNone\u001b[0m\u001b[0;34m:\u001b[0m  \u001b[0;31m# already determined that the C code is done\u001b[0m\u001b[0;34m\u001b[0m\u001b[0;34m\u001b[0m\u001b[0m\n\u001b[1;32m   1059\u001b[0m             \u001b[0;32massert\u001b[0m \u001b[0mself\u001b[0m\u001b[0;34m.\u001b[0m\u001b[0m_is_stopped\u001b[0m\u001b[0;34m\u001b[0m\u001b[0;34m\u001b[0m\u001b[0m\n\u001b[0;32m-> 1060\u001b[0;31m         \u001b[0;32melif\u001b[0m \u001b[0mlock\u001b[0m\u001b[0;34m.\u001b[0m\u001b[0macquire\u001b[0m\u001b[0;34m(\u001b[0m\u001b[0mblock\u001b[0m\u001b[0;34m,\u001b[0m \u001b[0mtimeout\u001b[0m\u001b[0;34m)\u001b[0m\u001b[0;34m:\u001b[0m\u001b[0;34m\u001b[0m\u001b[0;34m\u001b[0m\u001b[0m\n\u001b[0m\u001b[1;32m   1061\u001b[0m             \u001b[0mlock\u001b[0m\u001b[0;34m.\u001b[0m\u001b[0mrelease\u001b[0m\u001b[0;34m(\u001b[0m\u001b[0;34m)\u001b[0m\u001b[0;34m\u001b[0m\u001b[0;34m\u001b[0m\u001b[0m\n\u001b[1;32m   1062\u001b[0m             \u001b[0mself\u001b[0m\u001b[0;34m.\u001b[0m\u001b[0m_stop\u001b[0m\u001b[0;34m(\u001b[0m\u001b[0;34m)\u001b[0m\u001b[0;34m\u001b[0m\u001b[0;34m\u001b[0m\u001b[0m\n",
      "\u001b[0;31mKeyboardInterrupt\u001b[0m: "
     ]
    }
   ],
   "source": [
    "study = optuna.create_study(direction=\"maximize\")\n",
    "# study.enqueue_trial(best_params)\n",
    "study.optimize(objective, n_trials=100, n_jobs=8)\n",
    "print(study.best_trial)"
   ]
  },
  {
   "cell_type": "code",
   "execution_count": null,
   "metadata": {},
   "outputs": [
    {
     "name": "stderr",
     "output_type": "stream",
     "text": [
      "/home/skuznetsov/.conda/envs/ml/lib/python3.7/site-packages/optuna/study/study.py:397: FutureWarning: `n_jobs` argument has been deprecated in v2.7.0. This feature will be removed in v4.0.0. See https://github.com/optuna/optuna/releases/tag/v2.7.0.\n",
      "  FutureWarning,\n",
      "\u001b[32m[I 2022-03-30 17:13:53,150]\u001b[0m Trial 221 finished with value: 0.23579636543010574 and parameters: {'subsample_freq': 0, 'n_estimators': 159, 'reg_alpha': 8.196029498236362e-17, 'reg_lambda': 2.8080503161834836e-14, 'colsample_bytree': 0.09314374251942265, 'subsample': 0.9430172649536079, 'min_child_samples': 92, 'max_depth': 18, 'learning_rate': 0.09993998993248598, 'boosting_type': 'gbdt'}. Best is trial 148 with value: 0.28779342723004697.\u001b[0m\n",
      "\u001b[32m[I 2022-03-30 17:13:54,087]\u001b[0m Trial 217 finished with value: 0.2707209852108417 and parameters: {'subsample_freq': 0, 'n_estimators': 133, 'reg_alpha': 7.1101490315123465e-16, 'reg_lambda': 6.684121467040956e-08, 'colsample_bytree': 0.6830205922664551, 'subsample': 0.1403265279141977, 'min_child_samples': 92, 'max_depth': 18, 'learning_rate': 0.09309790999303785, 'boosting_type': 'gbdt'}. Best is trial 148 with value: 0.28779342723004697.\u001b[0m\n",
      "\u001b[32m[I 2022-03-30 17:13:56,541]\u001b[0m Trial 224 finished with value: 0.21800898864728654 and parameters: {'subsample_freq': 0, 'n_estimators': 158, 'reg_alpha': 1.20646360894802e-08, 'reg_lambda': 1.7738097799177396e-08, 'colsample_bytree': 0.07692088798004093, 'subsample': 0.14423809602241722, 'min_child_samples': 92, 'max_depth': 16, 'learning_rate': 0.09419392462319458, 'boosting_type': 'gbdt'}. Best is trial 148 with value: 0.28779342723004697.\u001b[0m\n",
      "\u001b[32m[I 2022-03-30 17:13:59,111]\u001b[0m Trial 225 finished with value: 0.2726440349494153 and parameters: {'subsample_freq': 0, 'n_estimators': 126, 'reg_alpha': 7.420248242014534e-07, 'reg_lambda': 2.830500058161468e-14, 'colsample_bytree': 0.7859095059089077, 'subsample': 0.1448282143992641, 'min_child_samples': 92, 'max_depth': 18, 'learning_rate': 0.09410289162841282, 'boosting_type': 'gbdt'}. Best is trial 148 with value: 0.28779342723004697.\u001b[0m\n",
      "\u001b[32m[I 2022-03-30 17:13:59,288]\u001b[0m Trial 226 finished with value: 0.18919409665307463 and parameters: {'subsample_freq': 0, 'n_estimators': 158, 'reg_alpha': 1.5623977402067245e-07, 'reg_lambda': 3.09854970049524e-08, 'colsample_bytree': 0.06446481650535807, 'subsample': 0.1370486017701642, 'min_child_samples': 92, 'max_depth': 18, 'learning_rate': 0.09412345611923549, 'boosting_type': 'gbdt'}. Best is trial 148 with value: 0.28779342723004697.\u001b[0m\n",
      "\u001b[32m[I 2022-03-30 17:14:00,183]\u001b[0m Trial 222 finished with value: 0.23066388417894876 and parameters: {'subsample_freq': 0, 'n_estimators': 127, 'reg_alpha': 7.998860291667267e-16, 'reg_lambda': 7.269009435147397e-13, 'colsample_bytree': 0.926486806979418, 'subsample': 0.14026258941091646, 'min_child_samples': 92, 'max_depth': 16, 'learning_rate': 0.09519987864993824, 'boosting_type': 'gbdt'}. Best is trial 148 with value: 0.28779342723004697.\u001b[0m\n",
      "\u001b[32m[I 2022-03-30 17:14:01,661]\u001b[0m Trial 218 finished with value: 0.26304667866866516 and parameters: {'subsample_freq': 0, 'n_estimators': 162, 'reg_alpha': 1.0348539161337545e-06, 'reg_lambda': 4.3833619919314486e-08, 'colsample_bytree': 0.966284968330512, 'subsample': 0.1433615722539192, 'min_child_samples': 92, 'max_depth': 18, 'learning_rate': 0.09776129428036517, 'boosting_type': 'gbdt'}. Best is trial 148 with value: 0.28779342723004697.\u001b[0m\n",
      "\u001b[32m[I 2022-03-30 17:14:06,179]\u001b[0m Trial 223 finished with value: 0.27914372452077374 and parameters: {'subsample_freq': 0, 'n_estimators': 154, 'reg_alpha': 6.299880364491607e-19, 'reg_lambda': 2.809980509298125e-14, 'colsample_bytree': 0.9678976915293939, 'subsample': 0.14790105732360725, 'min_child_samples': 92, 'max_depth': 18, 'learning_rate': 0.09541857225167466, 'boosting_type': 'gbdt'}. Best is trial 148 with value: 0.28779342723004697.\u001b[0m\n",
      "\u001b[32m[I 2022-03-30 17:14:07,086]\u001b[0m Trial 219 finished with value: 0.2703915698471053 and parameters: {'subsample_freq': 0, 'n_estimators': 160, 'reg_alpha': 9.054699184875465e-16, 'reg_lambda': 2.5546294944173694e-08, 'colsample_bytree': 0.9338402191665083, 'subsample': 0.14886157573299585, 'min_child_samples': 92, 'max_depth': 18, 'learning_rate': 0.10026222316279293, 'boosting_type': 'gbdt'}. Best is trial 148 with value: 0.28779342723004697.\u001b[0m\n",
      "\u001b[32m[I 2022-03-30 17:14:11,314]\u001b[0m Trial 220 finished with value: 0.2390793956011347 and parameters: {'subsample_freq': 0, 'n_estimators': 212, 'reg_alpha': 1.0084828157295136e-15, 'reg_lambda': 1.9413594993914834e-08, 'colsample_bytree': 0.8474761188824864, 'subsample': 0.14730119710739506, 'min_child_samples': 92, 'max_depth': 18, 'learning_rate': 0.09179020611031266, 'boosting_type': 'gbdt'}. Best is trial 148 with value: 0.28779342723004697.\u001b[0m\n",
      "\u001b[32m[I 2022-03-30 17:14:18,155]\u001b[0m Trial 230 finished with value: 0.2046376811594203 and parameters: {'subsample_freq': 0, 'n_estimators': 171, 'reg_alpha': 4.1837818907137e-19, 'reg_lambda': 8.259908290752031e-13, 'colsample_bytree': 0.7525565771968475, 'subsample': 0.12180569827158506, 'min_child_samples': 30, 'max_depth': 11, 'learning_rate': 0.06757682151186, 'boosting_type': 'gbdt'}. Best is trial 148 with value: 0.28779342723004697.\u001b[0m\n",
      "\u001b[32m[I 2022-03-30 17:14:37,153]\u001b[0m Trial 229 finished with value: 0.2530047230316376 and parameters: {'subsample_freq': 0, 'n_estimators': 171, 'reg_alpha': 1.0720036517570087e-09, 'reg_lambda': 2.892337635725504e-14, 'colsample_bytree': 0.8431366227529616, 'subsample': 0.09802993194961868, 'min_child_samples': 100, 'max_depth': 20, 'learning_rate': 0.06937936178246337, 'boosting_type': 'gbdt'}. Best is trial 148 with value: 0.28779342723004697.\u001b[0m\n",
      "\u001b[32m[I 2022-03-30 17:14:40,531]\u001b[0m Trial 227 finished with value: 0.24838912542687144 and parameters: {'subsample_freq': 0, 'n_estimators': 212, 'reg_alpha': 1.558030953450761e-06, 'reg_lambda': 2.492967967819217e-08, 'colsample_bytree': 0.685282358104283, 'subsample': 0.14400923144687935, 'min_child_samples': 92, 'max_depth': 20, 'learning_rate': 0.09401912965757869, 'boosting_type': 'gbdt'}. Best is trial 148 with value: 0.28779342723004697.\u001b[0m\n",
      "\u001b[32m[I 2022-03-30 17:14:46,582]\u001b[0m Trial 234 finished with value: 0.2835026400367309 and parameters: {'subsample_freq': 0, 'n_estimators': 152, 'reg_alpha': 2.7248364485996945e-18, 'reg_lambda': 4.485405435504313e-15, 'colsample_bytree': 0.9296283379030734, 'subsample': 0.11229018506601741, 'min_child_samples': 86, 'max_depth': 20, 'learning_rate': 0.06806536111126503, 'boosting_type': 'gbdt'}. Best is trial 148 with value: 0.28779342723004697.\u001b[0m\n",
      "\u001b[32m[I 2022-03-30 17:14:48,378]\u001b[0m Trial 231 finished with value: 0.2768973833610791 and parameters: {'subsample_freq': 0, 'n_estimators': 197, 'reg_alpha': 0.014676089950639713, 'reg_lambda': 1.0927316742702053e-12, 'colsample_bytree': 0.7517427583260525, 'subsample': 0.1734871946690508, 'min_child_samples': 85, 'max_depth': 20, 'learning_rate': 0.049382105008492716, 'boosting_type': 'gbdt'}. Best is trial 148 with value: 0.28779342723004697.\u001b[0m\n",
      "\u001b[32m[I 2022-03-30 17:14:50,612]\u001b[0m Trial 235 finished with value: 0.2725899423573842 and parameters: {'subsample_freq': 0, 'n_estimators': 154, 'reg_alpha': 4.834809727232673e-19, 'reg_lambda': 1.4492604713147603e-15, 'colsample_bytree': 0.9591289188145473, 'subsample': 0.11526955043441679, 'min_child_samples': 86, 'max_depth': 17, 'learning_rate': 0.06771529909461214, 'boosting_type': 'gbdt'}. Best is trial 148 with value: 0.28779342723004697.\u001b[0m\n",
      "\u001b[32m[I 2022-03-30 17:14:51,181]\u001b[0m Trial 232 finished with value: 0.27097560222615286 and parameters: {'subsample_freq': 0, 'n_estimators': 200, 'reg_alpha': 7.298994311962695e-17, 'reg_lambda': 4.846856658399714e-14, 'colsample_bytree': 0.7585184413888122, 'subsample': 0.17108912553892816, 'min_child_samples': 87, 'max_depth': 17, 'learning_rate': 0.0673130496376515, 'boosting_type': 'gbdt'}. Best is trial 148 with value: 0.28779342723004697.\u001b[0m\n",
      "\u001b[32m[I 2022-03-30 17:14:53,959]\u001b[0m Trial 233 finished with value: 0.24576603337665284 and parameters: {'subsample_freq': 0, 'n_estimators': 211, 'reg_alpha': 0.01200357757765577, 'reg_lambda': 4.795872794001084e-14, 'colsample_bytree': 0.7579640190033338, 'subsample': 0.1814302419419842, 'min_child_samples': 86, 'max_depth': 20, 'learning_rate': 0.06742652279600297, 'boosting_type': 'gbdt'}. Best is trial 148 with value: 0.28779342723004697.\u001b[0m\n"
     ]
    },
    {
     "name": "stderr",
     "output_type": "stream",
     "text": [
      "\u001b[32m[I 2022-03-30 17:15:00,446]\u001b[0m Trial 236 finished with value: 0.23803141034767572 and parameters: {'subsample_freq': 0, 'n_estimators': 240, 'reg_alpha': 1.0091230733045792e-18, 'reg_lambda': 8.469967010422418e-15, 'colsample_bytree': 0.7530801069458782, 'subsample': 0.110059299774615, 'min_child_samples': 86, 'max_depth': 17, 'learning_rate': 0.06809718378521944, 'boosting_type': 'gbdt'}. Best is trial 148 with value: 0.28779342723004697.\u001b[0m\n",
      "\u001b[32m[I 2022-03-30 17:15:02,260]\u001b[0m Trial 237 finished with value: 0.27044685696597165 and parameters: {'subsample_freq': 0, 'n_estimators': 177, 'reg_alpha': 2.6199131249182344e-18, 'reg_lambda': 5.616485960645729e-15, 'colsample_bytree': 0.6790478568121775, 'subsample': 0.10065689458574091, 'min_child_samples': 96, 'max_depth': 20, 'learning_rate': 0.049637421662212446, 'boosting_type': 'gbdt'}. Best is trial 148 with value: 0.28779342723004697.\u001b[0m\n",
      "\u001b[32m[I 2022-03-30 17:15:16,867]\u001b[0m Trial 239 finished with value: 0.2791997116077866 and parameters: {'subsample_freq': 0, 'n_estimators': 153, 'reg_alpha': 5.315671219461858e-20, 'reg_lambda': 6.223106667525996e-15, 'colsample_bytree': 0.9481719854928884, 'subsample': 0.5108396095945021, 'min_child_samples': 86, 'max_depth': 17, 'learning_rate': 0.04992739440139406, 'boosting_type': 'gbdt'}. Best is trial 148 with value: 0.28779342723004697.\u001b[0m\n",
      "\u001b[32m[I 2022-03-30 17:15:18,262]\u001b[0m Trial 238 finished with value: 0.27369195644581357 and parameters: {'subsample_freq': 0, 'n_estimators': 152, 'reg_alpha': 5.53079415214247e-19, 'reg_lambda': 1.6386402404798222e-15, 'colsample_bytree': 0.6792652886028574, 'subsample': 0.11385801066711747, 'min_child_samples': 86, 'max_depth': 17, 'learning_rate': 0.050502769488469684, 'boosting_type': 'gbdt'}. Best is trial 148 with value: 0.28779342723004697.\u001b[0m\n",
      "\u001b[32m[I 2022-03-30 17:15:26,001]\u001b[0m Trial 241 finished with value: 0.274375211485474 and parameters: {'subsample_freq': 0, 'n_estimators': 154, 'reg_alpha': 0.013163786524585974, 'reg_lambda': 5.611587332651008e-15, 'colsample_bytree': 0.9110604430431106, 'subsample': 0.17018866486538523, 'min_child_samples': 87, 'max_depth': 20, 'learning_rate': 0.05043826417542528, 'boosting_type': 'gbdt'}. Best is trial 148 with value: 0.28779342723004697.\u001b[0m\n",
      "\u001b[32m[I 2022-03-30 17:15:29,570]\u001b[0m Trial 242 finished with value: 0.25126984126984125 and parameters: {'subsample_freq': 0, 'n_estimators': 152, 'reg_alpha': 0.38568940682057756, 'reg_lambda': 5.264802076765175e-15, 'colsample_bytree': 0.9659212029871537, 'subsample': 0.17188014991185455, 'min_child_samples': 86, 'max_depth': 20, 'learning_rate': 0.04965408650291275, 'boosting_type': 'gbdt'}. Best is trial 148 with value: 0.28779342723004697.\u001b[0m\n",
      "\u001b[32m[I 2022-03-30 17:15:30,544]\u001b[0m Trial 243 finished with value: 0.2786065329770439 and parameters: {'subsample_freq': 0, 'n_estimators': 147, 'reg_alpha': 0.007368174405357758, 'reg_lambda': 7.788820100309622e-15, 'colsample_bytree': 0.9687876373544008, 'subsample': 0.17242781720932457, 'min_child_samples': 86, 'max_depth': 20, 'learning_rate': 0.05036863434488837, 'boosting_type': 'gbdt'}. Best is trial 148 with value: 0.28779342723004697.\u001b[0m\n",
      "\u001b[32m[I 2022-03-30 17:15:35,065]\u001b[0m Trial 228 finished with value: 0.18262987012987011 and parameters: {'subsample_freq': 0, 'n_estimators': 212, 'reg_alpha': 5.589053676969745e-19, 'reg_lambda': 9.50786755574097e-13, 'colsample_bytree': 0.785869488692105, 'subsample': 0.13658597523094865, 'min_child_samples': 27, 'max_depth': 17, 'learning_rate': 0.06765045864485, 'boosting_type': 'gbdt'}. Best is trial 148 with value: 0.28779342723004697.\u001b[0m\n",
      "\u001b[32m[I 2022-03-30 17:15:35,651]\u001b[0m Trial 240 finished with value: 0.2714509549150178 and parameters: {'subsample_freq': 0, 'n_estimators': 199, 'reg_alpha': 5.876904788781532e-19, 'reg_lambda': 9.57252201224759e-15, 'colsample_bytree': 0.9562557586154974, 'subsample': 0.17241322100422612, 'min_child_samples': 96, 'max_depth': 17, 'learning_rate': 0.050298812966026916, 'boosting_type': 'gbdt'}. Best is trial 148 with value: 0.28779342723004697.\u001b[0m\n",
      "\u001b[32m[I 2022-03-30 17:15:36,158]\u001b[0m Trial 244 finished with value: 0.2585127291009644 and parameters: {'subsample_freq': 0, 'n_estimators': 165, 'reg_alpha': 2.0005648950188184e-18, 'reg_lambda': 6.584423238699847e-15, 'colsample_bytree': 0.6937445446384438, 'subsample': 0.33162385085533563, 'min_child_samples': 88, 'max_depth': 20, 'learning_rate': 0.050332063919890174, 'boosting_type': 'gbdt'}. Best is trial 148 with value: 0.28779342723004697.\u001b[0m\n",
      "\u001b[32m[I 2022-03-30 17:15:44,762]\u001b[0m Trial 246 finished with value: 0.2757527831358841 and parameters: {'subsample_freq': 0, 'n_estimators': 152, 'reg_alpha': 0.04967050193367264, 'reg_lambda': 1.7408677544571042e-14, 'colsample_bytree': 0.9264425123445722, 'subsample': 0.17004613727896423, 'min_child_samples': 80, 'max_depth': 20, 'learning_rate': 0.04977243341759497, 'boosting_type': 'gbdt'}. Best is trial 148 with value: 0.28779342723004697.\u001b[0m\n",
      "\u001b[32m[I 2022-03-30 17:15:51,325]\u001b[0m Trial 247 finished with value: 0.2453824135777519 and parameters: {'subsample_freq': 0, 'n_estimators': 142, 'reg_alpha': 2.3483091200680122e-20, 'reg_lambda': 1.8359080044905164e-15, 'colsample_bytree': 0.9779462828340917, 'subsample': 0.5329384750841637, 'min_child_samples': 88, 'max_depth': 20, 'learning_rate': 0.04948487016145184, 'boosting_type': 'gbdt'}. Best is trial 148 with value: 0.28779342723004697.\u001b[0m\n",
      "\u001b[32m[I 2022-03-30 17:15:57,519]\u001b[0m Trial 245 finished with value: 0.2853475765957832 and parameters: {'subsample_freq': 0, 'n_estimators': 270, 'reg_alpha': 7.635650013867906e-20, 'reg_lambda': 9.231432866149363e-15, 'colsample_bytree': 0.9096904259322314, 'subsample': 0.17001889657238398, 'min_child_samples': 88, 'max_depth': 20, 'learning_rate': 0.049946810056657125, 'boosting_type': 'gbdt'}. Best is trial 148 with value: 0.28779342723004697.\u001b[0m\n",
      "\u001b[32m[I 2022-03-30 17:15:57,553]\u001b[0m Trial 248 finished with value: 0.2693578986485165 and parameters: {'subsample_freq': 0, 'n_estimators': 143, 'reg_alpha': 1.5179892961642492e-20, 'reg_lambda': 1.2421131937915538e-14, 'colsample_bytree': 0.9714391790865818, 'subsample': 0.3317241439348951, 'min_child_samples': 89, 'max_depth': 20, 'learning_rate': 0.05772409504659718, 'boosting_type': 'gbdt'}. Best is trial 148 with value: 0.28779342723004697.\u001b[0m\n",
      "\u001b[32m[I 2022-03-30 17:16:07,164]\u001b[0m Trial 249 finished with value: 0.267137579669549 and parameters: {'subsample_freq': 0, 'n_estimators': 146, 'reg_alpha': 1.2536705574190318e-20, 'reg_lambda': 2.325804306969721e-16, 'colsample_bytree': 0.9392378877575416, 'subsample': 0.56278038244986, 'min_child_samples': 81, 'max_depth': 19, 'learning_rate': 0.04019509244717916, 'boosting_type': 'gbdt'}. Best is trial 148 with value: 0.28779342723004697.\u001b[0m\n",
      "\u001b[32m[I 2022-03-30 17:16:09,072]\u001b[0m Trial 253 finished with value: 0.2656729113127075 and parameters: {'subsample_freq': 0, 'n_estimators': 146, 'reg_alpha': 5.3488262602246963e-20, 'reg_lambda': 2.576316572909938e-19, 'colsample_bytree': 0.9406947697600041, 'subsample': 0.3249104132165649, 'min_child_samples': 83, 'max_depth': 19, 'learning_rate': 0.05776401852320586, 'boosting_type': 'gbdt'}. Best is trial 148 with value: 0.28779342723004697.\u001b[0m\n",
      "\u001b[32m[I 2022-03-30 17:16:12,097]\u001b[0m Trial 250 finished with value: 0.2841646146170312 and parameters: {'subsample_freq': 0, 'n_estimators': 144, 'reg_alpha': 4.52091115877014e-20, 'reg_lambda': 1.4879342729048046e-14, 'colsample_bytree': 0.9433109245030349, 'subsample': 0.5083302264458869, 'min_child_samples': 89, 'max_depth': 19, 'learning_rate': 0.05891599691056873, 'boosting_type': 'gbdt'}. Best is trial 148 with value: 0.28779342723004697.\u001b[0m\n",
      "\u001b[32m[I 2022-03-30 17:16:17,148]\u001b[0m Trial 252 finished with value: 0.28031106834127045 and parameters: {'subsample_freq': 0, 'n_estimators': 146, 'reg_alpha': 0.033922087976464725, 'reg_lambda': 1.1111298238882486e-14, 'colsample_bytree': 0.9792198262628978, 'subsample': 0.5602125149279064, 'min_child_samples': 80, 'max_depth': 19, 'learning_rate': 0.04183936111024715, 'boosting_type': 'gbdt'}. Best is trial 148 with value: 0.28779342723004697.\u001b[0m\n",
      "\u001b[32m[I 2022-03-30 17:16:17,170]\u001b[0m Trial 251 finished with value: 0.27489055470401236 and parameters: {'subsample_freq': 0, 'n_estimators': 141, 'reg_alpha': 6.367179144270318e-20, 'reg_lambda': 1.9687823426041419e-16, 'colsample_bytree': 0.9910159093956811, 'subsample': 0.4370313688618186, 'min_child_samples': 81, 'max_depth': 19, 'learning_rate': 0.04124342970808439, 'boosting_type': 'gbdt'}. Best is trial 148 with value: 0.28779342723004697.\u001b[0m\n"
     ]
    },
    {
     "name": "stderr",
     "output_type": "stream",
     "text": [
      "\u001b[32m[I 2022-03-30 17:16:20,544]\u001b[0m Trial 254 finished with value: 0.2862517485196949 and parameters: {'subsample_freq': 0, 'n_estimators': 143, 'reg_alpha': 6.506772167361188e-20, 'reg_lambda': 1.996807533700553e-16, 'colsample_bytree': 0.9756550130640169, 'subsample': 0.5127864284269412, 'min_child_samples': 81, 'max_depth': 19, 'learning_rate': 0.05732098496473026, 'boosting_type': 'gbdt'}. Best is trial 148 with value: 0.28779342723004697.\u001b[0m\n",
      "\u001b[32m[I 2022-03-30 17:16:31,756]\u001b[0m Trial 256 finished with value: 0.2812082894274675 and parameters: {'subsample_freq': 0, 'n_estimators': 138, 'reg_alpha': 1.3459869531216716e-19, 'reg_lambda': 3.522517097071946e-14, 'colsample_bytree': 0.9397647093767834, 'subsample': 0.5824971735706715, 'min_child_samples': 82, 'max_depth': 19, 'learning_rate': 0.05772942987983273, 'boosting_type': 'gbdt'}. Best is trial 148 with value: 0.28779342723004697.\u001b[0m\n",
      "\u001b[32m[I 2022-03-30 17:16:34,993]\u001b[0m Trial 255 finished with value: 0.28462491090165537 and parameters: {'subsample_freq': 0, 'n_estimators': 140, 'reg_alpha': 1.4444362313031626e-20, 'reg_lambda': 1.8714128703536686e-14, 'colsample_bytree': 0.9379557158433525, 'subsample': 0.5321981646213172, 'min_child_samples': 82, 'max_depth': 19, 'learning_rate': 0.05705504790167041, 'boosting_type': 'gbdt'}. Best is trial 148 with value: 0.28779342723004697.\u001b[0m\n",
      "\u001b[32m[I 2022-03-30 17:16:50,712]\u001b[0m Trial 260 finished with value: 0.2680603183753017 and parameters: {'subsample_freq': 0, 'n_estimators': 155, 'reg_alpha': 0.060635684031745796, 'reg_lambda': 2.14796179943614e-14, 'colsample_bytree': 0.9090569223819147, 'subsample': 0.5014354269700425, 'min_child_samples': 80, 'max_depth': 20, 'learning_rate': 0.04194840411928269, 'boosting_type': 'gbdt'}. Best is trial 148 with value: 0.28779342723004697.\u001b[0m\n",
      "\u001b[32m[I 2022-03-30 17:16:55,461]\u001b[0m Trial 258 finished with value: 0.25607308801812745 and parameters: {'subsample_freq': 0, 'n_estimators': 155, 'reg_alpha': 0.0025328784182578937, 'reg_lambda': 1.6107820602801844e-16, 'colsample_bytree': 0.932661094854503, 'subsample': 0.18836478765131712, 'min_child_samples': 81, 'max_depth': 19, 'learning_rate': 0.044170939651499486, 'boosting_type': 'gbdt'}. Best is trial 148 with value: 0.28779342723004697.\u001b[0m\n",
      "\u001b[32m[I 2022-03-30 17:16:56,962]\u001b[0m Trial 261 finished with value: 0.2609418801431358 and parameters: {'subsample_freq': 0, 'n_estimators': 136, 'reg_alpha': 1.101247383011292e-19, 'reg_lambda': 1.901308438120468e-14, 'colsample_bytree': 0.8999214924973651, 'subsample': 0.18765491949838747, 'min_child_samples': 81, 'max_depth': 20, 'learning_rate': 0.05905859276386952, 'boosting_type': 'gbdt'}. Best is trial 148 with value: 0.28779342723004697.\u001b[0m\n",
      "\u001b[32m[I 2022-03-30 17:16:59,001]\u001b[0m Trial 259 finished with value: 0.27991504956849234 and parameters: {'subsample_freq': 0, 'n_estimators': 157, 'reg_alpha': 9.941355300177759e-20, 'reg_lambda': 1.9188233354526073e-14, 'colsample_bytree': 0.9210195919917542, 'subsample': 0.19872350410231437, 'min_child_samples': 84, 'max_depth': 19, 'learning_rate': 0.058263159391301424, 'boosting_type': 'gbdt'}. Best is trial 148 with value: 0.28779342723004697.\u001b[0m\n",
      "\u001b[32m[I 2022-03-30 17:17:15,191]\u001b[0m Trial 262 finished with value: 0.260695468914647 and parameters: {'subsample_freq': 0, 'n_estimators': 140, 'reg_alpha': 0.021160065710900646, 'reg_lambda': 1.977552659452133e-14, 'colsample_bytree': 0.907630878774144, 'subsample': 0.6323750492861466, 'min_child_samples': 79, 'max_depth': 20, 'learning_rate': 0.05811754666335876, 'boosting_type': 'gbdt'}. Best is trial 148 with value: 0.28779342723004697.\u001b[0m\n",
      "\u001b[32m[I 2022-03-30 17:17:21,048]\u001b[0m Trial 264 finished with value: 0.2635995855295761 and parameters: {'subsample_freq': 0, 'n_estimators': 135, 'reg_alpha': 0.06675597393531277, 'reg_lambda': 3.824207063588762e-15, 'colsample_bytree': 0.918195764752173, 'subsample': 0.5285863678029469, 'min_child_samples': 79, 'max_depth': 20, 'learning_rate': 0.05502033174198614, 'boosting_type': 'gbdt'}. Best is trial 148 with value: 0.28779342723004697.\u001b[0m\n",
      "\u001b[32m[I 2022-03-30 17:17:21,238]\u001b[0m Trial 263 finished with value: 0.27809959653043415 and parameters: {'subsample_freq': 0, 'n_estimators': 150, 'reg_alpha': 0.08304477419631971, 'reg_lambda': 2.280369047999428e-15, 'colsample_bytree': 0.9127084578932749, 'subsample': 0.5963597723859816, 'min_child_samples': 79, 'max_depth': 20, 'learning_rate': 0.05751213926957677, 'boosting_type': 'gbdt'}. Best is trial 148 with value: 0.28779342723004697.\u001b[0m\n",
      "\u001b[32m[I 2022-03-30 17:17:25,395]\u001b[0m Trial 257 finished with value: 0.27588129603231165 and parameters: {'subsample_freq': 0, 'n_estimators': 283, 'reg_alpha': 8.62080622065366e-20, 'reg_lambda': 1.4532850323173966e-14, 'colsample_bytree': 0.9286432395503506, 'subsample': 0.5034801963267559, 'min_child_samples': 83, 'max_depth': 19, 'learning_rate': 0.04178435449204614, 'boosting_type': 'gbdt'}. Best is trial 148 with value: 0.28779342723004697.\u001b[0m\n"
     ]
    }
   ],
   "source": [
    "study.optimize(objective, n_trials=100, n_jobs=10)\n"
   ]
  },
  {
   "cell_type": "code",
   "execution_count": 48,
   "metadata": {},
   "outputs": [],
   "source": [
    "best_params = objective.add_params(study.best_params)"
   ]
  },
  {
   "cell_type": "code",
   "execution_count": 49,
   "metadata": {},
   "outputs": [
    {
     "name": "stdout",
     "output_type": "stream",
     "text": [
      "Best model test f1 score is 0.397\n"
     ]
    }
   ],
   "source": [
    "# adasyn = ADASYN(sampling_strategy=1,\n",
    "#                n_neighbors=2)\n",
    "# smote = SMOTEN(k_neighbors=5)\n",
    "final_model = lightgbm.LGBMClassifier(**best_params)\n",
    "best_params['subsample_freq'] = 0\n",
    "final_model.fit(train_fp_pubchem, y_train)\n",
    "test_predictions = final_model.predict(test_fp_pubchem)\n",
    "score = f1_score(y_test, test_predictions)\n",
    "print(f\"Best model test f1 score is {round(score, 3)}\")"
   ]
  },
  {
   "cell_type": "code",
   "execution_count": null,
   "metadata": {},
   "outputs": [],
   "source": []
  }
 ],
 "metadata": {
  "colab": {
   "collapsed_sections": [],
   "include_colab_link": true,
   "name": "IB_Practice_COVID.ipynb",
   "provenance": []
  },
  "kernelspec": {
   "display_name": "ml",
   "language": "python",
   "name": "ml"
  },
  "language_info": {
   "codemirror_mode": {
    "name": "ipython",
    "version": 3
   },
   "file_extension": ".py",
   "mimetype": "text/x-python",
   "name": "python",
   "nbconvert_exporter": "python",
   "pygments_lexer": "ipython3",
   "version": "3.7.11"
  },
  "nav_menu": {
   "height": "279px",
   "width": "309px"
  },
  "toc": {
   "nav_menu": {},
   "number_sections": true,
   "sideBar": true,
   "skip_h1_title": false,
   "toc_cell": false,
   "toc_position": {},
   "toc_section_display": "block",
   "toc_window_display": false
  }
 },
 "nbformat": 4,
 "nbformat_minor": 1
}
